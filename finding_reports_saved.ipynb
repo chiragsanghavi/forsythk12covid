{
 "cells": [
  {
   "cell_type": "code",
   "execution_count": 1,
   "metadata": {},
   "outputs": [],
   "source": [
    "# Third-party libraries\n",
    "from bs4 import BeautifulSoup\n",
    "import bs4 as bs\n",
    "import urllib.request\n",
    "import requests\n",
    "import pandas as pd\n",
    "import numpy as np\n",
    "import json\n",
    "from functools import reduce"
   ]
  },
  {
   "cell_type": "code",
   "execution_count": 2,
   "metadata": {
    "pycharm": {
     "name": "#%%\n"
    }
   },
   "outputs": [],
   "source": [
    "url = \"https://www.forsyth.k12.ga.us/Page/52982\""
   ]
  },
  {
   "cell_type": "code",
   "execution_count": 3,
   "metadata": {
    "pycharm": {
     "name": "#%%\n"
    }
   },
   "outputs": [],
   "source": [
    "# Make a GET request to fetch the raw HTML content\n",
    "html_content = requests.get(url).text"
   ]
  },
  {
   "cell_type": "code",
   "execution_count": 4,
   "metadata": {
    "pycharm": {
     "name": "#%%\n"
    }
   },
   "outputs": [],
   "source": [
    "# Parse the html content\n",
    "soup = BeautifulSoup(html_content, \"html.parser\")\n",
    "# print(soup.prettify()) # print the parsed data of html"
   ]
  },
  {
   "cell_type": "code",
   "execution_count": 5,
   "metadata": {
    "pycharm": {
     "name": "#%%\n"
    }
   },
   "outputs": [
    {
     "name": "stdout",
     "output_type": "stream",
     "text": [
      "{'Week 1': 'http://www.forsyth.k12.ga.us/Page/53161', 'Week 2': 'http://www.forsyth.k12.ga.us/Page/53166', 'Week 3': 'http://www.forsyth.k12.ga.us/Page/53167'}\n"
     ]
    }
   ],
   "source": [
    "covid_links = {}\n",
    "for link in soup.find_all(\"a\"):\n",
    "    if str(link.text).lower().find('week ') != -1:\n",
    "        covid_links[str(link.text)] = str(link['href']).replace('s','',1)\n",
    "    else:\n",
    "        pass\n",
    "\n",
    "print(covid_links)"
   ]
  },
  {
   "cell_type": "code",
   "execution_count": 6,
   "metadata": {
    "pycharm": {
     "name": "#%%\n"
    }
   },
   "outputs": [
    {
     "data": {
      "text/plain": [
       "'http://www.forsyth.k12.ga.us/Page/53166'"
      ]
     },
     "execution_count": 6,
     "metadata": {},
     "output_type": "execute_result"
    }
   ],
   "source": [
    "covid_url = covid_links['Week 2']\n",
    "covid_url"
   ]
  },
  {
   "cell_type": "code",
   "execution_count": 7,
   "metadata": {},
   "outputs": [],
   "source": [
    "source = requests.get('http://www.forsyth.k12.ga.us/Page/53166').text\n",
    "soup_wk1 = bs.BeautifulSoup(source,'html.parser')"
   ]
  },
  {
   "cell_type": "code",
   "execution_count": 8,
   "metadata": {},
   "outputs": [],
   "source": [
    "token = soup_wk1.find_all('input', id=lambda x: x and x.startswith('hidData'))"
   ]
  },
  {
   "cell_type": "code",
   "execution_count": 9,
   "metadata": {},
   "outputs": [],
   "source": [
    "info = [x.get('value') for x in token][0]"
   ]
  },
  {
   "cell_type": "code",
   "execution_count": 10,
   "metadata": {},
   "outputs": [
    {
     "name": "stdout",
     "output_type": "stream",
     "text": [
      "[[\"School Name\",\"Total Staff & Student\",\"8/17/20\",\"8/18/20\",\"8/19/20\",\"8/20/20\",\"8/21/20\"],[\"ELEMENTARY\",null,null,null,null,null,null],[\"Big Creek ES\",\"706\",\"0\",\"0\",\"0\",\"0\",\"0\"],[\"Brandywine ES\",\"1,357\",\"0\",\"0\",\"0\",\"0\",\"1\"],[\"Brookwood ES\",\"1,078\",\"0\",\"0\",\"0\",\"0\",\"0\"],[\"Chattahoochee ES\",\"850\",\"0\",\"2\",\"0\",\"0\",\"0\"],[\"Chestatee ES\",\"1,381\",\"0\",\"0\",\"1\",\"0\",\"0\"],[\"Coal Mountain ES\",\"821\",\"0\",\"0\",\"2\",\"0\",\"0\"],[\"Cumming ES\",\"1,055\",\"0\",\"0\",\"0\",\"0\",\"0\"],[\"Daves Creek ES\",\"1,285\",\"0\",\"0\",\"0\",\"0\",\"0\"],[\"Haw Creek ES\",\"1,131\",\"0\",\"0\",\"0\",\"0\",\"0\"],[\"Johns Creek ES\",\"1,103\",\"0\",\"0\",\"0\",\"0\",\"0\"],[\"Kelly Mill ES\",\"1,257\",\"0\",\"0\",\"0\",\"0\",\"0\"],[\"Mashburn ES\",\"781\",\"0\",\"0\",\"0\",\"0\",\"0\"],[\"Matt ES\",\"1,125\",\"0\",\"0\",\"0\",\"0\",\"0\"],[\"Midway ES\",\"961\",\"0\",\"0\",\"0\",\"0\",\"0\"],[\"Poole's Mill ES\",\"807\",\"0\",\"0\",\"0\",\"1\",\"0\"],[\"Sawnee ES\",\"1,459\",\"0\",\"0\",\"0\",\"0\",\"0\"],[\"Settles Bridge ES\",\"1,099\",\"0\",\"0\",\"0\",\"0\",\"0\"],[\"Sharon ES\",\"999\",\"0\",\"0\",\"0\",\"0\",\"0\"],[\"Shiloh Point ES\",\"1,452\",\"0\",\"0\",\"0\",\"0\",\"1\"],[\"Silver City ES\",\"1,152\",\"0\",\"0\",\"0\",\"0\",\"0\"],[\"Vickery Creek ES\",\"1,394\",\"0\",\"0\",\"0\",\"0\",\"0\"],[\"Whitlow ES\",\"1,464\",\"0\",\"0\",\"0\",\"0\",\"0\"],[\"MIDDLE\",null,null,null,null,null,null],[\"DeSana MS\",\"1,162\",\"0\",\"0\",\"0\",\"0\",\"0\"],[\"Lakeside MS\",\"1,335\",\"1\",\"0\",\"0\",\"1\",\"0\"],[\"Liberty MS \",\"1,340\",\"0\",\"0\",\"0\",\"0\",\"0\"],[\"Little Mill MS\",\"1,032\",\"1\",\"0\",\"0\",\"1\",\"0\"],[\"North Forsyth MS\",\"1,359\",\"0\",\"0\",\"0\",\"1\",\"1\"],[\"Otwell MS\",\"1,649\",\"0\",\"0\",\"0\",\"0\",\"0\"],[\"Piney Grove MS\",\"1,111\",\"0\",\"0\",\"0\",\"0\",\"0\"],[\"Riverwatch MS\",\"1,663\",\"0\",\"0\",\"0\",\"0\",\"0\"],[\"South Forsyth MS\",\"1,497\",\"0\",\"0\",\"0\",\"0\",\"0\"],[\"Vickery Creek MS\",\"1,306\",\"1\",\"0\",\"0\",\"1\",\"1\"],[\"HIGH\",null,null,null,null,null,null],[\"Alliance Academy for Innovation\",\"1,234\",\"0\",\"0\",\"0\",\"0\",\"0\"],[\"Denmark HS\",\"2,432\",\"0\",\"0\",\"0\",\"0\",\"1\"],[\"Forsyth Central HS\",\"2,754\",\"2\",\"1\",\"0\",\"0\",\"1\"],[\"Lambert HS\",\"3,150\",\"1\",\"0\",\"1\",\"0\",\"0\"],[\"North Forsyth HS\",\"2,785\",\"0\",\"0\",\"2\",\"0\",\"1\"],[\"South Forsyth HS\",\"2,437\",\"0\",\"0\",\"0\",\"0\",\"0\"],[\"West Forsyth HS\",\"2,637\",\"1\",\"1\",\"0\",\"1\",\"0\"],[\"TOTAL\",\"55,600\",\"7\",\"4\",\"6\",\"6\",\"7\"]]\n"
     ]
    }
   ],
   "source": [
    "replace_list = ['<p>','</p>','<p class=\\\\\"\\\\', '>']\n",
    "for t in replace_list:\n",
    "    info = info.replace(t, '')\n",
    "info = info.replace('\"\"', '\"')\n",
    "print(info)"
   ]
  },
  {
   "cell_type": "code",
   "execution_count": 11,
   "metadata": {},
   "outputs": [],
   "source": [
    "info_json = json.loads(info)"
   ]
  },
  {
   "cell_type": "code",
   "execution_count": 12,
   "metadata": {},
   "outputs": [
    {
     "data": {
      "text/html": [
       "<div>\n",
       "<style scoped>\n",
       "    .dataframe tbody tr th:only-of-type {\n",
       "        vertical-align: middle;\n",
       "    }\n",
       "\n",
       "    .dataframe tbody tr th {\n",
       "        vertical-align: top;\n",
       "    }\n",
       "\n",
       "    .dataframe thead th {\n",
       "        text-align: right;\n",
       "    }\n",
       "</style>\n",
       "<table border=\"1\" class=\"dataframe\">\n",
       "  <thead>\n",
       "    <tr style=\"text-align: right;\">\n",
       "      <th></th>\n",
       "      <th>School Name</th>\n",
       "      <th>Total Staff &amp; Student</th>\n",
       "      <th>8/17/20</th>\n",
       "      <th>8/18/20</th>\n",
       "      <th>8/19/20</th>\n",
       "      <th>8/20/20</th>\n",
       "      <th>8/21/20</th>\n",
       "    </tr>\n",
       "  </thead>\n",
       "  <tbody>\n",
       "    <tr>\n",
       "      <th>0</th>\n",
       "      <td>ELEMENTARY</td>\n",
       "      <td>None</td>\n",
       "      <td>None</td>\n",
       "      <td>None</td>\n",
       "      <td>None</td>\n",
       "      <td>None</td>\n",
       "      <td>None</td>\n",
       "    </tr>\n",
       "    <tr>\n",
       "      <th>1</th>\n",
       "      <td>Big Creek ES</td>\n",
       "      <td>706</td>\n",
       "      <td>0</td>\n",
       "      <td>0</td>\n",
       "      <td>0</td>\n",
       "      <td>0</td>\n",
       "      <td>0</td>\n",
       "    </tr>\n",
       "    <tr>\n",
       "      <th>2</th>\n",
       "      <td>Brandywine ES</td>\n",
       "      <td>1,357</td>\n",
       "      <td>0</td>\n",
       "      <td>0</td>\n",
       "      <td>0</td>\n",
       "      <td>0</td>\n",
       "      <td>1</td>\n",
       "    </tr>\n",
       "    <tr>\n",
       "      <th>3</th>\n",
       "      <td>Brookwood ES</td>\n",
       "      <td>1,078</td>\n",
       "      <td>0</td>\n",
       "      <td>0</td>\n",
       "      <td>0</td>\n",
       "      <td>0</td>\n",
       "      <td>0</td>\n",
       "    </tr>\n",
       "    <tr>\n",
       "      <th>4</th>\n",
       "      <td>Chattahoochee ES</td>\n",
       "      <td>850</td>\n",
       "      <td>0</td>\n",
       "      <td>2</td>\n",
       "      <td>0</td>\n",
       "      <td>0</td>\n",
       "      <td>0</td>\n",
       "    </tr>\n",
       "  </tbody>\n",
       "</table>\n",
       "</div>"
      ],
      "text/plain": [
       "        School Name Total Staff & Student 8/17/20 8/18/20 8/19/20 8/20/20  \\\n",
       "0        ELEMENTARY                  None    None    None    None    None   \n",
       "1      Big Creek ES                   706       0       0       0       0   \n",
       "2     Brandywine ES                 1,357       0       0       0       0   \n",
       "3      Brookwood ES                 1,078       0       0       0       0   \n",
       "4  Chattahoochee ES                   850       0       2       0       0   \n",
       "\n",
       "  8/21/20  \n",
       "0    None  \n",
       "1       0  \n",
       "2       1  \n",
       "3       0  \n",
       "4       0  "
      ]
     },
     "execution_count": 12,
     "metadata": {},
     "output_type": "execute_result"
    }
   ],
   "source": [
    "headers = info_json.pop(0)\n",
    "df = pd.DataFrame(info_json, columns=headers)\n",
    "df.head()"
   ]
  },
  {
   "cell_type": "code",
   "execution_count": 13,
   "metadata": {},
   "outputs": [
    {
     "data": {
      "text/plain": [
       "Index(['School Name', 'Total Staff & Student', '8/17/20', '8/18/20', '8/19/20',\n",
       "       '8/20/20', '8/21/20'],\n",
       "      dtype='object')"
      ]
     },
     "execution_count": 13,
     "metadata": {},
     "output_type": "execute_result"
    }
   ],
   "source": [
    "columns = df.columns\n",
    "columns"
   ]
  },
  {
   "cell_type": "code",
   "execution_count": 14,
   "metadata": {},
   "outputs": [],
   "source": [
    "for col in columns[1:]:\n",
    "    df[col] = pd.to_numeric(df[col].str.replace(',',''), errors='coerce')"
   ]
  },
  {
   "cell_type": "code",
   "execution_count": 15,
   "metadata": {},
   "outputs": [
    {
     "data": {
      "text/html": [
       "<div>\n",
       "<style scoped>\n",
       "    .dataframe tbody tr th:only-of-type {\n",
       "        vertical-align: middle;\n",
       "    }\n",
       "\n",
       "    .dataframe tbody tr th {\n",
       "        vertical-align: top;\n",
       "    }\n",
       "\n",
       "    .dataframe thead th {\n",
       "        text-align: right;\n",
       "    }\n",
       "</style>\n",
       "<table border=\"1\" class=\"dataframe\">\n",
       "  <thead>\n",
       "    <tr style=\"text-align: right;\">\n",
       "      <th></th>\n",
       "      <th>School Name</th>\n",
       "      <th>Total Staff &amp; Student</th>\n",
       "      <th>8/17/20</th>\n",
       "      <th>8/18/20</th>\n",
       "      <th>8/19/20</th>\n",
       "      <th>8/20/20</th>\n",
       "      <th>8/21/20</th>\n",
       "    </tr>\n",
       "  </thead>\n",
       "  <tbody>\n",
       "    <tr>\n",
       "      <th>0</th>\n",
       "      <td>ELEMENTARY</td>\n",
       "      <td>NaN</td>\n",
       "      <td>NaN</td>\n",
       "      <td>NaN</td>\n",
       "      <td>NaN</td>\n",
       "      <td>NaN</td>\n",
       "      <td>NaN</td>\n",
       "    </tr>\n",
       "    <tr>\n",
       "      <th>1</th>\n",
       "      <td>Big Creek ES</td>\n",
       "      <td>706.0</td>\n",
       "      <td>0.0</td>\n",
       "      <td>0.0</td>\n",
       "      <td>0.0</td>\n",
       "      <td>0.0</td>\n",
       "      <td>0.0</td>\n",
       "    </tr>\n",
       "    <tr>\n",
       "      <th>2</th>\n",
       "      <td>Brandywine ES</td>\n",
       "      <td>1357.0</td>\n",
       "      <td>0.0</td>\n",
       "      <td>0.0</td>\n",
       "      <td>0.0</td>\n",
       "      <td>0.0</td>\n",
       "      <td>1.0</td>\n",
       "    </tr>\n",
       "    <tr>\n",
       "      <th>3</th>\n",
       "      <td>Brookwood ES</td>\n",
       "      <td>1078.0</td>\n",
       "      <td>0.0</td>\n",
       "      <td>0.0</td>\n",
       "      <td>0.0</td>\n",
       "      <td>0.0</td>\n",
       "      <td>0.0</td>\n",
       "    </tr>\n",
       "    <tr>\n",
       "      <th>4</th>\n",
       "      <td>Chattahoochee ES</td>\n",
       "      <td>850.0</td>\n",
       "      <td>0.0</td>\n",
       "      <td>2.0</td>\n",
       "      <td>0.0</td>\n",
       "      <td>0.0</td>\n",
       "      <td>0.0</td>\n",
       "    </tr>\n",
       "  </tbody>\n",
       "</table>\n",
       "</div>"
      ],
      "text/plain": [
       "        School Name  Total Staff & Student  8/17/20  8/18/20  8/19/20  \\\n",
       "0        ELEMENTARY                    NaN      NaN      NaN      NaN   \n",
       "1      Big Creek ES                  706.0      0.0      0.0      0.0   \n",
       "2     Brandywine ES                 1357.0      0.0      0.0      0.0   \n",
       "3      Brookwood ES                 1078.0      0.0      0.0      0.0   \n",
       "4  Chattahoochee ES                  850.0      0.0      2.0      0.0   \n",
       "\n",
       "   8/20/20  8/21/20  \n",
       "0      NaN      NaN  \n",
       "1      0.0      0.0  \n",
       "2      0.0      1.0  \n",
       "3      0.0      0.0  \n",
       "4      0.0      0.0  "
      ]
     },
     "execution_count": 15,
     "metadata": {},
     "output_type": "execute_result"
    }
   ],
   "source": [
    "df.head()"
   ]
  },
  {
   "cell_type": "code",
   "execution_count": 16,
   "metadata": {},
   "outputs": [],
   "source": [
    "df.replace(to_replace=['None'], value=np.nan, inplace=True)\n",
    "df.replace(to_replace=[','], value=[''], inplace=True)\n",
    "df.dropna(subset=['Total Staff & Student'], inplace=True)"
   ]
  },
  {
   "cell_type": "code",
   "execution_count": 17,
   "metadata": {},
   "outputs": [
    {
     "data": {
      "text/html": [
       "<div>\n",
       "<style scoped>\n",
       "    .dataframe tbody tr th:only-of-type {\n",
       "        vertical-align: middle;\n",
       "    }\n",
       "\n",
       "    .dataframe tbody tr th {\n",
       "        vertical-align: top;\n",
       "    }\n",
       "\n",
       "    .dataframe thead th {\n",
       "        text-align: right;\n",
       "    }\n",
       "</style>\n",
       "<table border=\"1\" class=\"dataframe\">\n",
       "  <thead>\n",
       "    <tr style=\"text-align: right;\">\n",
       "      <th></th>\n",
       "      <th>School Name</th>\n",
       "      <th>Total Staff &amp; Student</th>\n",
       "      <th>8/17/20</th>\n",
       "      <th>8/18/20</th>\n",
       "      <th>8/19/20</th>\n",
       "      <th>8/20/20</th>\n",
       "      <th>8/21/20</th>\n",
       "    </tr>\n",
       "  </thead>\n",
       "  <tbody>\n",
       "    <tr>\n",
       "      <th>1</th>\n",
       "      <td>Big Creek ES</td>\n",
       "      <td>706.0</td>\n",
       "      <td>0.0</td>\n",
       "      <td>0.0</td>\n",
       "      <td>0.0</td>\n",
       "      <td>0.0</td>\n",
       "      <td>0.0</td>\n",
       "    </tr>\n",
       "    <tr>\n",
       "      <th>2</th>\n",
       "      <td>Brandywine ES</td>\n",
       "      <td>1357.0</td>\n",
       "      <td>0.0</td>\n",
       "      <td>0.0</td>\n",
       "      <td>0.0</td>\n",
       "      <td>0.0</td>\n",
       "      <td>1.0</td>\n",
       "    </tr>\n",
       "    <tr>\n",
       "      <th>3</th>\n",
       "      <td>Brookwood ES</td>\n",
       "      <td>1078.0</td>\n",
       "      <td>0.0</td>\n",
       "      <td>0.0</td>\n",
       "      <td>0.0</td>\n",
       "      <td>0.0</td>\n",
       "      <td>0.0</td>\n",
       "    </tr>\n",
       "    <tr>\n",
       "      <th>4</th>\n",
       "      <td>Chattahoochee ES</td>\n",
       "      <td>850.0</td>\n",
       "      <td>0.0</td>\n",
       "      <td>2.0</td>\n",
       "      <td>0.0</td>\n",
       "      <td>0.0</td>\n",
       "      <td>0.0</td>\n",
       "    </tr>\n",
       "    <tr>\n",
       "      <th>5</th>\n",
       "      <td>Chestatee ES</td>\n",
       "      <td>1381.0</td>\n",
       "      <td>0.0</td>\n",
       "      <td>0.0</td>\n",
       "      <td>1.0</td>\n",
       "      <td>0.0</td>\n",
       "      <td>0.0</td>\n",
       "    </tr>\n",
       "  </tbody>\n",
       "</table>\n",
       "</div>"
      ],
      "text/plain": [
       "        School Name  Total Staff & Student  8/17/20  8/18/20  8/19/20  \\\n",
       "1      Big Creek ES                  706.0      0.0      0.0      0.0   \n",
       "2     Brandywine ES                 1357.0      0.0      0.0      0.0   \n",
       "3      Brookwood ES                 1078.0      0.0      0.0      0.0   \n",
       "4  Chattahoochee ES                  850.0      0.0      2.0      0.0   \n",
       "5      Chestatee ES                 1381.0      0.0      0.0      1.0   \n",
       "\n",
       "   8/20/20  8/21/20  \n",
       "1      0.0      0.0  \n",
       "2      0.0      1.0  \n",
       "3      0.0      0.0  \n",
       "4      0.0      0.0  \n",
       "5      0.0      0.0  "
      ]
     },
     "execution_count": 17,
     "metadata": {},
     "output_type": "execute_result"
    }
   ],
   "source": [
    "df.head()"
   ]
  },
  {
   "cell_type": "code",
   "execution_count": 18,
   "metadata": {},
   "outputs": [],
   "source": [
    "split_names = df['School Name'].str.rsplit(' ', 1, expand=True)"
   ]
  },
  {
   "cell_type": "code",
   "execution_count": 19,
   "metadata": {},
   "outputs": [
    {
     "data": {
      "text/html": [
       "<div>\n",
       "<style scoped>\n",
       "    .dataframe tbody tr th:only-of-type {\n",
       "        vertical-align: middle;\n",
       "    }\n",
       "\n",
       "    .dataframe tbody tr th {\n",
       "        vertical-align: top;\n",
       "    }\n",
       "\n",
       "    .dataframe thead th {\n",
       "        text-align: right;\n",
       "    }\n",
       "</style>\n",
       "<table border=\"1\" class=\"dataframe\">\n",
       "  <thead>\n",
       "    <tr style=\"text-align: right;\">\n",
       "      <th></th>\n",
       "      <th>0</th>\n",
       "      <th>1</th>\n",
       "    </tr>\n",
       "  </thead>\n",
       "  <tbody>\n",
       "    <tr>\n",
       "      <th>1</th>\n",
       "      <td>Big Creek</td>\n",
       "      <td>ES</td>\n",
       "    </tr>\n",
       "    <tr>\n",
       "      <th>2</th>\n",
       "      <td>Brandywine</td>\n",
       "      <td>ES</td>\n",
       "    </tr>\n",
       "    <tr>\n",
       "      <th>3</th>\n",
       "      <td>Brookwood</td>\n",
       "      <td>ES</td>\n",
       "    </tr>\n",
       "    <tr>\n",
       "      <th>4</th>\n",
       "      <td>Chattahoochee</td>\n",
       "      <td>ES</td>\n",
       "    </tr>\n",
       "    <tr>\n",
       "      <th>5</th>\n",
       "      <td>Chestatee</td>\n",
       "      <td>ES</td>\n",
       "    </tr>\n",
       "    <tr>\n",
       "      <th>6</th>\n",
       "      <td>Coal Mountain</td>\n",
       "      <td>ES</td>\n",
       "    </tr>\n",
       "    <tr>\n",
       "      <th>7</th>\n",
       "      <td>Cumming</td>\n",
       "      <td>ES</td>\n",
       "    </tr>\n",
       "    <tr>\n",
       "      <th>8</th>\n",
       "      <td>Daves Creek</td>\n",
       "      <td>ES</td>\n",
       "    </tr>\n",
       "    <tr>\n",
       "      <th>9</th>\n",
       "      <td>Haw Creek</td>\n",
       "      <td>ES</td>\n",
       "    </tr>\n",
       "    <tr>\n",
       "      <th>10</th>\n",
       "      <td>Johns Creek</td>\n",
       "      <td>ES</td>\n",
       "    </tr>\n",
       "    <tr>\n",
       "      <th>11</th>\n",
       "      <td>Kelly Mill</td>\n",
       "      <td>ES</td>\n",
       "    </tr>\n",
       "    <tr>\n",
       "      <th>12</th>\n",
       "      <td>Mashburn</td>\n",
       "      <td>ES</td>\n",
       "    </tr>\n",
       "    <tr>\n",
       "      <th>13</th>\n",
       "      <td>Matt</td>\n",
       "      <td>ES</td>\n",
       "    </tr>\n",
       "    <tr>\n",
       "      <th>14</th>\n",
       "      <td>Midway</td>\n",
       "      <td>ES</td>\n",
       "    </tr>\n",
       "    <tr>\n",
       "      <th>15</th>\n",
       "      <td>Poole's Mill</td>\n",
       "      <td>ES</td>\n",
       "    </tr>\n",
       "    <tr>\n",
       "      <th>16</th>\n",
       "      <td>Sawnee</td>\n",
       "      <td>ES</td>\n",
       "    </tr>\n",
       "    <tr>\n",
       "      <th>17</th>\n",
       "      <td>Settles Bridge</td>\n",
       "      <td>ES</td>\n",
       "    </tr>\n",
       "    <tr>\n",
       "      <th>18</th>\n",
       "      <td>Sharon</td>\n",
       "      <td>ES</td>\n",
       "    </tr>\n",
       "    <tr>\n",
       "      <th>19</th>\n",
       "      <td>Shiloh Point</td>\n",
       "      <td>ES</td>\n",
       "    </tr>\n",
       "    <tr>\n",
       "      <th>20</th>\n",
       "      <td>Silver City</td>\n",
       "      <td>ES</td>\n",
       "    </tr>\n",
       "    <tr>\n",
       "      <th>21</th>\n",
       "      <td>Vickery Creek</td>\n",
       "      <td>ES</td>\n",
       "    </tr>\n",
       "    <tr>\n",
       "      <th>22</th>\n",
       "      <td>Whitlow</td>\n",
       "      <td>ES</td>\n",
       "    </tr>\n",
       "    <tr>\n",
       "      <th>24</th>\n",
       "      <td>DeSana</td>\n",
       "      <td>MS</td>\n",
       "    </tr>\n",
       "    <tr>\n",
       "      <th>25</th>\n",
       "      <td>Lakeside</td>\n",
       "      <td>MS</td>\n",
       "    </tr>\n",
       "    <tr>\n",
       "      <th>26</th>\n",
       "      <td>Liberty</td>\n",
       "      <td>MS</td>\n",
       "    </tr>\n",
       "    <tr>\n",
       "      <th>27</th>\n",
       "      <td>Little Mill</td>\n",
       "      <td>MS</td>\n",
       "    </tr>\n",
       "    <tr>\n",
       "      <th>28</th>\n",
       "      <td>North Forsyth</td>\n",
       "      <td>MS</td>\n",
       "    </tr>\n",
       "    <tr>\n",
       "      <th>29</th>\n",
       "      <td>Otwell</td>\n",
       "      <td>MS</td>\n",
       "    </tr>\n",
       "    <tr>\n",
       "      <th>30</th>\n",
       "      <td>Piney Grove</td>\n",
       "      <td>MS</td>\n",
       "    </tr>\n",
       "    <tr>\n",
       "      <th>31</th>\n",
       "      <td>Riverwatch</td>\n",
       "      <td>MS</td>\n",
       "    </tr>\n",
       "    <tr>\n",
       "      <th>32</th>\n",
       "      <td>South Forsyth</td>\n",
       "      <td>MS</td>\n",
       "    </tr>\n",
       "    <tr>\n",
       "      <th>33</th>\n",
       "      <td>Vickery Creek</td>\n",
       "      <td>MS</td>\n",
       "    </tr>\n",
       "    <tr>\n",
       "      <th>35</th>\n",
       "      <td>Alliance Academy for</td>\n",
       "      <td>Innovation</td>\n",
       "    </tr>\n",
       "    <tr>\n",
       "      <th>36</th>\n",
       "      <td>Denmark</td>\n",
       "      <td>HS</td>\n",
       "    </tr>\n",
       "    <tr>\n",
       "      <th>37</th>\n",
       "      <td>Forsyth Central</td>\n",
       "      <td>HS</td>\n",
       "    </tr>\n",
       "    <tr>\n",
       "      <th>38</th>\n",
       "      <td>Lambert</td>\n",
       "      <td>HS</td>\n",
       "    </tr>\n",
       "    <tr>\n",
       "      <th>39</th>\n",
       "      <td>North Forsyth</td>\n",
       "      <td>HS</td>\n",
       "    </tr>\n",
       "    <tr>\n",
       "      <th>40</th>\n",
       "      <td>South Forsyth</td>\n",
       "      <td>HS</td>\n",
       "    </tr>\n",
       "    <tr>\n",
       "      <th>41</th>\n",
       "      <td>West Forsyth</td>\n",
       "      <td>HS</td>\n",
       "    </tr>\n",
       "    <tr>\n",
       "      <th>42</th>\n",
       "      <td>TOTAL</td>\n",
       "      <td>None</td>\n",
       "    </tr>\n",
       "  </tbody>\n",
       "</table>\n",
       "</div>"
      ],
      "text/plain": [
       "                       0           1\n",
       "1              Big Creek          ES\n",
       "2             Brandywine          ES\n",
       "3              Brookwood          ES\n",
       "4          Chattahoochee          ES\n",
       "5              Chestatee          ES\n",
       "6          Coal Mountain          ES\n",
       "7                Cumming          ES\n",
       "8            Daves Creek          ES\n",
       "9              Haw Creek          ES\n",
       "10           Johns Creek          ES\n",
       "11            Kelly Mill          ES\n",
       "12              Mashburn          ES\n",
       "13                  Matt          ES\n",
       "14                Midway          ES\n",
       "15          Poole's Mill          ES\n",
       "16                Sawnee          ES\n",
       "17        Settles Bridge          ES\n",
       "18                Sharon          ES\n",
       "19          Shiloh Point          ES\n",
       "20           Silver City          ES\n",
       "21         Vickery Creek          ES\n",
       "22               Whitlow          ES\n",
       "24                DeSana          MS\n",
       "25              Lakeside          MS\n",
       "26               Liberty         MS \n",
       "27           Little Mill          MS\n",
       "28         North Forsyth          MS\n",
       "29                Otwell          MS\n",
       "30           Piney Grove          MS\n",
       "31            Riverwatch          MS\n",
       "32         South Forsyth          MS\n",
       "33         Vickery Creek          MS\n",
       "35  Alliance Academy for  Innovation\n",
       "36               Denmark          HS\n",
       "37       Forsyth Central          HS\n",
       "38               Lambert          HS\n",
       "39         North Forsyth          HS\n",
       "40         South Forsyth          HS\n",
       "41          West Forsyth          HS\n",
       "42                 TOTAL        None"
      ]
     },
     "execution_count": 19,
     "metadata": {},
     "output_type": "execute_result"
    }
   ],
   "source": [
    "split_names"
   ]
  },
  {
   "cell_type": "code",
   "execution_count": 20,
   "metadata": {},
   "outputs": [],
   "source": [
    "df['school'] = split_names[0]\n",
    "df['type'] = split_names[1]"
   ]
  },
  {
   "cell_type": "code",
   "execution_count": 21,
   "metadata": {},
   "outputs": [
    {
     "data": {
      "text/html": [
       "<div>\n",
       "<style scoped>\n",
       "    .dataframe tbody tr th:only-of-type {\n",
       "        vertical-align: middle;\n",
       "    }\n",
       "\n",
       "    .dataframe tbody tr th {\n",
       "        vertical-align: top;\n",
       "    }\n",
       "\n",
       "    .dataframe thead th {\n",
       "        text-align: right;\n",
       "    }\n",
       "</style>\n",
       "<table border=\"1\" class=\"dataframe\">\n",
       "  <thead>\n",
       "    <tr style=\"text-align: right;\">\n",
       "      <th></th>\n",
       "      <th>school</th>\n",
       "      <th>type</th>\n",
       "      <th>Total Staff &amp; Student</th>\n",
       "      <th>8/17/20</th>\n",
       "      <th>8/18/20</th>\n",
       "      <th>8/19/20</th>\n",
       "      <th>8/20/20</th>\n",
       "      <th>8/21/20</th>\n",
       "    </tr>\n",
       "  </thead>\n",
       "  <tbody>\n",
       "    <tr>\n",
       "      <th>1</th>\n",
       "      <td>Big Creek</td>\n",
       "      <td>ES</td>\n",
       "      <td>706.0</td>\n",
       "      <td>0.0</td>\n",
       "      <td>0.0</td>\n",
       "      <td>0.0</td>\n",
       "      <td>0.0</td>\n",
       "      <td>0.0</td>\n",
       "    </tr>\n",
       "    <tr>\n",
       "      <th>2</th>\n",
       "      <td>Brandywine</td>\n",
       "      <td>ES</td>\n",
       "      <td>1357.0</td>\n",
       "      <td>0.0</td>\n",
       "      <td>0.0</td>\n",
       "      <td>0.0</td>\n",
       "      <td>0.0</td>\n",
       "      <td>1.0</td>\n",
       "    </tr>\n",
       "    <tr>\n",
       "      <th>3</th>\n",
       "      <td>Brookwood</td>\n",
       "      <td>ES</td>\n",
       "      <td>1078.0</td>\n",
       "      <td>0.0</td>\n",
       "      <td>0.0</td>\n",
       "      <td>0.0</td>\n",
       "      <td>0.0</td>\n",
       "      <td>0.0</td>\n",
       "    </tr>\n",
       "    <tr>\n",
       "      <th>4</th>\n",
       "      <td>Chattahoochee</td>\n",
       "      <td>ES</td>\n",
       "      <td>850.0</td>\n",
       "      <td>0.0</td>\n",
       "      <td>2.0</td>\n",
       "      <td>0.0</td>\n",
       "      <td>0.0</td>\n",
       "      <td>0.0</td>\n",
       "    </tr>\n",
       "    <tr>\n",
       "      <th>5</th>\n",
       "      <td>Chestatee</td>\n",
       "      <td>ES</td>\n",
       "      <td>1381.0</td>\n",
       "      <td>0.0</td>\n",
       "      <td>0.0</td>\n",
       "      <td>1.0</td>\n",
       "      <td>0.0</td>\n",
       "      <td>0.0</td>\n",
       "    </tr>\n",
       "  </tbody>\n",
       "</table>\n",
       "</div>"
      ],
      "text/plain": [
       "          school type  Total Staff & Student  8/17/20  8/18/20  8/19/20  \\\n",
       "1      Big Creek   ES                  706.0      0.0      0.0      0.0   \n",
       "2     Brandywine   ES                 1357.0      0.0      0.0      0.0   \n",
       "3      Brookwood   ES                 1078.0      0.0      0.0      0.0   \n",
       "4  Chattahoochee   ES                  850.0      0.0      2.0      0.0   \n",
       "5      Chestatee   ES                 1381.0      0.0      0.0      1.0   \n",
       "\n",
       "   8/20/20  8/21/20  \n",
       "1      0.0      0.0  \n",
       "2      0.0      1.0  \n",
       "3      0.0      0.0  \n",
       "4      0.0      0.0  \n",
       "5      0.0      0.0  "
      ]
     },
     "execution_count": 21,
     "metadata": {},
     "output_type": "execute_result"
    }
   ],
   "source": [
    "df.drop(['School Name'], axis=1, inplace=True)\n",
    "cols = df.columns.tolist()\n",
    "cols = cols[-2:] + cols[:-2]\n",
    "df = df[cols]\n",
    "df.head()"
   ]
  },
  {
   "cell_type": "code",
   "execution_count": 22,
   "metadata": {},
   "outputs": [],
   "source": [
    "def get_urls(url):\n",
    "    # Make a GET request to fetch the raw HTML content\n",
    "    html_content = requests.get(url).text\n",
    "    # Parse the html content\n",
    "    soup = BeautifulSoup(html_content, \"html.parser\")\n",
    "    \n",
    "    # Getting weekly number lists\n",
    "    covid_links = []\n",
    "    for link in soup.find_all(\"a\"):\n",
    "        if str(link.text).lower().find('week ') != -1:\n",
    "            # replacing https with http and getting link url\n",
    "            covid_links.append(str(link['href']).replace('s','',1))\n",
    "        else:\n",
    "            pass\n",
    "    \n",
    "    return covid_links"
   ]
  },
  {
   "cell_type": "code",
   "execution_count": 23,
   "metadata": {},
   "outputs": [],
   "source": [
    "def get_weekly_info(url):   \n",
    "    source = requests.get(url).text\n",
    "    soup = bs.BeautifulSoup(source,'html.parser')\n",
    "    \n",
    "    # finding hidData element\n",
    "    token = soup.find_all('input', id=lambda x: x and x.startswith('hidData'))\n",
    "    # getting 'value' from inside tag\n",
    "    info = [x.get('value') for x in token][0]\n",
    "    \n",
    "    return info"
   ]
  },
  {
   "cell_type": "code",
   "execution_count": 24,
   "metadata": {},
   "outputs": [],
   "source": [
    "info = get_weekly_info(\"http://www.forsyth.k12.ga.us/Page/53161\")"
   ]
  },
  {
   "cell_type": "code",
   "execution_count": 25,
   "metadata": {},
   "outputs": [],
   "source": [
    "def info_dataframe(info):\n",
    "    \n",
    "    # Removing html characters\n",
    "    replace_list = ['<p>','</p>','<p class=\\\\\"\\\\', '>']\n",
    "    for t in replace_list:\n",
    "        info = info.replace(t, '')\n",
    "        \n",
    "    # Removing extra \"\"\n",
    "    info = info.replace('\"\"', '\"')\n",
    "    \n",
    "    # Replacing data for Alliance Academy\n",
    "    info = info.replace('Innovation', 'Innovation HS')\n",
    "    \n",
    "    # Reading info as json string\n",
    "    info_json = json.loads(info)\n",
    "    \n",
    "    # Removing headers\n",
    "    headers = info_json.pop(0)\n",
    "    \n",
    "    # Reading into dataframe\n",
    "    df = pd.DataFrame(info_json, columns=headers)\n",
    "    \n",
    "    return df"
   ]
  },
  {
   "cell_type": "code",
   "execution_count": 26,
   "metadata": {},
   "outputs": [],
   "source": [
    "def clean_df(df):\n",
    "    # Removing , fron numbers and converting to numeric values\n",
    "    columns = df.columns\n",
    "    for col in columns[1:]:\n",
    "        df[col] = pd.to_numeric(df[col].str.replace(',',''), errors='coerce')\n",
    "    \n",
    "    # Replacing none values with nulls\n",
    "    df.replace(to_replace=['None'], value=np.nan, inplace=True)\n",
    "    # Dropping rows with nulls\n",
    "    df.dropna(subset=['Total Staff & Student'], inplace=True)\n",
    "    \n",
    "    # Splitting school name into name and category\n",
    "    split_names = df['School Name'].str.rsplit(' ', 1, expand=True)\n",
    "    # Creating columns for name and category\n",
    "    df['school'] = split_names[0]\n",
    "    df['type'] = split_names[1]\n",
    "    \n",
    "    # Final cleaning and ordering of columns\n",
    "    df.drop(['School Name'], axis=1, inplace=True)\n",
    "    cols = df.columns.tolist()\n",
    "    cols = cols[-2:] + cols[:-2]\n",
    "    df = df[cols]\n",
    "    \n",
    "    return df"
   ]
  },
  {
   "cell_type": "code",
   "execution_count": 27,
   "metadata": {},
   "outputs": [],
   "source": [
    "def get_weekly_dataframes(master_url):\n",
    "    \n",
    "    # Getting weekly links\n",
    "    url_links = get_urls(master_url)\n",
    "    \n",
    "    # Getting dataframe for each week\n",
    "    df_list = []\n",
    "    for url in url_links:\n",
    "        info = get_weekly_info(url)\n",
    "        df = info_dataframe(info)\n",
    "        df = clean_df(df)\n",
    "        df_list.append(df)\n",
    "        \n",
    "    return df_list"
   ]
  },
  {
   "cell_type": "code",
   "execution_count": 28,
   "metadata": {},
   "outputs": [],
   "source": [
    "def merge_dataframes(df_list):\n",
    "    df_final = reduce(lambda x, y: pd.merge(x, y, on = ['school', 'type', 'Total Staff & Student']), df_list)\n",
    "    print(df_final.head())\n",
    "    print(df_final.shape)\n",
    "    \n",
    "    return df_final"
   ]
  },
  {
   "cell_type": "code",
   "execution_count": 29,
   "metadata": {},
   "outputs": [],
   "source": [
    "def get_covid_data(url):\n",
    "    df_list = get_weekly_dataframes(url)\n",
    "    df_final = merge_dataframes(df_list)\n",
    "    \n",
    "    # Columns to sum\n",
    "    df_columns = df_final.columns\n",
    "    df_columns = df_columns[3:]\n",
    "    \n",
    "    # Adding sum column\n",
    "    df_final['total_positive'] = df_final[df_columns].sum(axis=1)\n",
    "    df_final['percent_positive'] = (df_final['total_positive'] / df_final['Total Staff & Student']) * 100\n",
    "    \n",
    "    # Cleaning type data\n",
    "    df_final['type'] = df_final['type'].str.strip()\n",
    "    \n",
    "    # Dropping TOTAL row\n",
    "    df_final = df_final[df_final['school'] != 'TOTAL']\n",
    "    \n",
    "    return df_final"
   ]
  },
  {
   "cell_type": "code",
   "execution_count": 30,
   "metadata": {},
   "outputs": [
    {
     "ename": "KeyError",
     "evalue": "['Total Staff & Student']",
     "output_type": "error",
     "traceback": [
      "\u001b[0;31m---------------------------------------------------------------------------\u001b[0m",
      "\u001b[0;31mKeyError\u001b[0m                                  Traceback (most recent call last)",
      "\u001b[0;32m<ipython-input-30-321213440833>\u001b[0m in \u001b[0;36m<module>\u001b[0;34m\u001b[0m\n\u001b[0;32m----> 1\u001b[0;31m \u001b[0mdf_final\u001b[0m \u001b[0;34m=\u001b[0m \u001b[0mget_covid_data\u001b[0m\u001b[0;34m(\u001b[0m\u001b[0;34m\"https://www.forsyth.k12.ga.us/Page/52982\"\u001b[0m\u001b[0;34m)\u001b[0m\u001b[0;34m\u001b[0m\u001b[0;34m\u001b[0m\u001b[0m\n\u001b[0m",
      "\u001b[0;32m<ipython-input-29-7ba2d9b7c80b>\u001b[0m in \u001b[0;36mget_covid_data\u001b[0;34m(url)\u001b[0m\n\u001b[1;32m      1\u001b[0m \u001b[0;32mdef\u001b[0m \u001b[0mget_covid_data\u001b[0m\u001b[0;34m(\u001b[0m\u001b[0murl\u001b[0m\u001b[0;34m)\u001b[0m\u001b[0;34m:\u001b[0m\u001b[0;34m\u001b[0m\u001b[0;34m\u001b[0m\u001b[0m\n\u001b[0;32m----> 2\u001b[0;31m     \u001b[0mdf_list\u001b[0m \u001b[0;34m=\u001b[0m \u001b[0mget_weekly_dataframes\u001b[0m\u001b[0;34m(\u001b[0m\u001b[0murl\u001b[0m\u001b[0;34m)\u001b[0m\u001b[0;34m\u001b[0m\u001b[0;34m\u001b[0m\u001b[0m\n\u001b[0m\u001b[1;32m      3\u001b[0m     \u001b[0mdf_final\u001b[0m \u001b[0;34m=\u001b[0m \u001b[0mmerge_dataframes\u001b[0m\u001b[0;34m(\u001b[0m\u001b[0mdf_list\u001b[0m\u001b[0;34m)\u001b[0m\u001b[0;34m\u001b[0m\u001b[0;34m\u001b[0m\u001b[0m\n\u001b[1;32m      4\u001b[0m \u001b[0;34m\u001b[0m\u001b[0m\n\u001b[1;32m      5\u001b[0m     \u001b[0;31m# Columns to sum\u001b[0m\u001b[0;34m\u001b[0m\u001b[0;34m\u001b[0m\u001b[0;34m\u001b[0m\u001b[0m\n",
      "\u001b[0;32m<ipython-input-27-ec7f21d89381>\u001b[0m in \u001b[0;36mget_weekly_dataframes\u001b[0;34m(master_url)\u001b[0m\n\u001b[1;32m      9\u001b[0m         \u001b[0minfo\u001b[0m \u001b[0;34m=\u001b[0m \u001b[0mget_weekly_info\u001b[0m\u001b[0;34m(\u001b[0m\u001b[0murl\u001b[0m\u001b[0;34m)\u001b[0m\u001b[0;34m\u001b[0m\u001b[0;34m\u001b[0m\u001b[0m\n\u001b[1;32m     10\u001b[0m         \u001b[0mdf\u001b[0m \u001b[0;34m=\u001b[0m \u001b[0minfo_dataframe\u001b[0m\u001b[0;34m(\u001b[0m\u001b[0minfo\u001b[0m\u001b[0;34m)\u001b[0m\u001b[0;34m\u001b[0m\u001b[0;34m\u001b[0m\u001b[0m\n\u001b[0;32m---> 11\u001b[0;31m         \u001b[0mdf\u001b[0m \u001b[0;34m=\u001b[0m \u001b[0mclean_df\u001b[0m\u001b[0;34m(\u001b[0m\u001b[0mdf\u001b[0m\u001b[0;34m)\u001b[0m\u001b[0;34m\u001b[0m\u001b[0;34m\u001b[0m\u001b[0m\n\u001b[0m\u001b[1;32m     12\u001b[0m         \u001b[0mdf_list\u001b[0m\u001b[0;34m.\u001b[0m\u001b[0mappend\u001b[0m\u001b[0;34m(\u001b[0m\u001b[0mdf\u001b[0m\u001b[0;34m)\u001b[0m\u001b[0;34m\u001b[0m\u001b[0;34m\u001b[0m\u001b[0m\n\u001b[1;32m     13\u001b[0m \u001b[0;34m\u001b[0m\u001b[0m\n",
      "\u001b[0;32m<ipython-input-26-c3020e7846d5>\u001b[0m in \u001b[0;36mclean_df\u001b[0;34m(df)\u001b[0m\n\u001b[1;32m      8\u001b[0m     \u001b[0mdf\u001b[0m\u001b[0;34m.\u001b[0m\u001b[0mreplace\u001b[0m\u001b[0;34m(\u001b[0m\u001b[0mto_replace\u001b[0m\u001b[0;34m=\u001b[0m\u001b[0;34m[\u001b[0m\u001b[0;34m'None'\u001b[0m\u001b[0;34m]\u001b[0m\u001b[0;34m,\u001b[0m \u001b[0mvalue\u001b[0m\u001b[0;34m=\u001b[0m\u001b[0mnp\u001b[0m\u001b[0;34m.\u001b[0m\u001b[0mnan\u001b[0m\u001b[0;34m,\u001b[0m \u001b[0minplace\u001b[0m\u001b[0;34m=\u001b[0m\u001b[0;32mTrue\u001b[0m\u001b[0;34m)\u001b[0m\u001b[0;34m\u001b[0m\u001b[0;34m\u001b[0m\u001b[0m\n\u001b[1;32m      9\u001b[0m     \u001b[0;31m# Dropping rows with nulls\u001b[0m\u001b[0;34m\u001b[0m\u001b[0;34m\u001b[0m\u001b[0;34m\u001b[0m\u001b[0m\n\u001b[0;32m---> 10\u001b[0;31m     \u001b[0mdf\u001b[0m\u001b[0;34m.\u001b[0m\u001b[0mdropna\u001b[0m\u001b[0;34m(\u001b[0m\u001b[0msubset\u001b[0m\u001b[0;34m=\u001b[0m\u001b[0;34m[\u001b[0m\u001b[0;34m'Total Staff & Student'\u001b[0m\u001b[0;34m]\u001b[0m\u001b[0;34m,\u001b[0m \u001b[0minplace\u001b[0m\u001b[0;34m=\u001b[0m\u001b[0;32mTrue\u001b[0m\u001b[0;34m)\u001b[0m\u001b[0;34m\u001b[0m\u001b[0;34m\u001b[0m\u001b[0m\n\u001b[0m\u001b[1;32m     11\u001b[0m \u001b[0;34m\u001b[0m\u001b[0m\n\u001b[1;32m     12\u001b[0m     \u001b[0;31m# Splitting school name into name and category\u001b[0m\u001b[0;34m\u001b[0m\u001b[0;34m\u001b[0m\u001b[0;34m\u001b[0m\u001b[0m\n",
      "\u001b[0;32m/opt/anaconda3/envs/emac/lib/python3.8/site-packages/pandas/core/frame.py\u001b[0m in \u001b[0;36mdropna\u001b[0;34m(self, axis, how, thresh, subset, inplace)\u001b[0m\n\u001b[1;32m   4995\u001b[0m             \u001b[0mcheck\u001b[0m \u001b[0;34m=\u001b[0m \u001b[0mindices\u001b[0m \u001b[0;34m==\u001b[0m \u001b[0;34m-\u001b[0m\u001b[0;36m1\u001b[0m\u001b[0;34m\u001b[0m\u001b[0;34m\u001b[0m\u001b[0m\n\u001b[1;32m   4996\u001b[0m             \u001b[0;32mif\u001b[0m \u001b[0mcheck\u001b[0m\u001b[0;34m.\u001b[0m\u001b[0many\u001b[0m\u001b[0;34m(\u001b[0m\u001b[0;34m)\u001b[0m\u001b[0;34m:\u001b[0m\u001b[0;34m\u001b[0m\u001b[0;34m\u001b[0m\u001b[0m\n\u001b[0;32m-> 4997\u001b[0;31m                 \u001b[0;32mraise\u001b[0m \u001b[0mKeyError\u001b[0m\u001b[0;34m(\u001b[0m\u001b[0mlist\u001b[0m\u001b[0;34m(\u001b[0m\u001b[0mnp\u001b[0m\u001b[0;34m.\u001b[0m\u001b[0mcompress\u001b[0m\u001b[0;34m(\u001b[0m\u001b[0mcheck\u001b[0m\u001b[0;34m,\u001b[0m \u001b[0msubset\u001b[0m\u001b[0;34m)\u001b[0m\u001b[0;34m)\u001b[0m\u001b[0;34m)\u001b[0m\u001b[0;34m\u001b[0m\u001b[0;34m\u001b[0m\u001b[0m\n\u001b[0m\u001b[1;32m   4998\u001b[0m             \u001b[0magg_obj\u001b[0m \u001b[0;34m=\u001b[0m \u001b[0mself\u001b[0m\u001b[0;34m.\u001b[0m\u001b[0mtake\u001b[0m\u001b[0;34m(\u001b[0m\u001b[0mindices\u001b[0m\u001b[0;34m,\u001b[0m \u001b[0maxis\u001b[0m\u001b[0;34m=\u001b[0m\u001b[0magg_axis\u001b[0m\u001b[0;34m)\u001b[0m\u001b[0;34m\u001b[0m\u001b[0;34m\u001b[0m\u001b[0m\n\u001b[1;32m   4999\u001b[0m \u001b[0;34m\u001b[0m\u001b[0m\n",
      "\u001b[0;31mKeyError\u001b[0m: ['Total Staff & Student']"
     ]
    }
   ],
   "source": [
    "df_final = get_covid_data(\"https://www.forsyth.k12.ga.us/Page/52982\")"
   ]
  },
  {
   "cell_type": "code",
   "execution_count": 31,
   "metadata": {},
   "outputs": [
    {
     "ename": "NameError",
     "evalue": "name 'df_final' is not defined",
     "output_type": "error",
     "traceback": [
      "\u001b[0;31m---------------------------------------------------------------------------\u001b[0m",
      "\u001b[0;31mNameError\u001b[0m                                 Traceback (most recent call last)",
      "\u001b[0;32m<ipython-input-31-57b49b1c5499>\u001b[0m in \u001b[0;36m<module>\u001b[0;34m\u001b[0m\n\u001b[0;32m----> 1\u001b[0;31m \u001b[0mdf_final\u001b[0m\u001b[0;34m.\u001b[0m\u001b[0mhead\u001b[0m\u001b[0;34m(\u001b[0m\u001b[0;36m50\u001b[0m\u001b[0;34m)\u001b[0m\u001b[0;34m\u001b[0m\u001b[0;34m\u001b[0m\u001b[0m\n\u001b[0m",
      "\u001b[0;31mNameError\u001b[0m: name 'df_final' is not defined"
     ]
    }
   ],
   "source": [
    "df_final.head(50)"
   ]
  },
  {
   "cell_type": "code",
   "execution_count": null,
   "metadata": {},
   "outputs": [],
   "source": [
    "total_positive = df_final['total_positive'].sum()\n",
    "total_positive"
   ]
  },
  {
   "cell_type": "code",
   "execution_count": null,
   "metadata": {},
   "outputs": [],
   "source": [
    "columns = df_final.columns\n",
    "daily_columns = columns[3:-3]\n",
    "\n",
    "daily_results = df_final[daily_columns]\n",
    "daily_results\n",
    "\n",
    "daily_totals = daily_results.sum()\n",
    "daily_totals"
   ]
  },
  {
   "cell_type": "code",
   "execution_count": null,
   "metadata": {},
   "outputs": [],
   "source": [
    "daily_totals.index[-1]"
   ]
  },
  {
   "cell_type": "code",
   "execution_count": null,
   "metadata": {},
   "outputs": [],
   "source": [
    "import plotly.graph_objects as go\n",
    "\n",
    "fig_indicator = go.Figure()\n",
    "\n",
    "fig_indicator.add_trace(go.Indicator(\n",
    "    mode = \"number+delta\",\n",
    "    value = int(daily_totals[-1]),\n",
    "    title = {\"text\": f\"Daily Cases ({daily_totals.index[-1]})<br><span style='font-size:0.8em;color:gray'>Increase from {daily_totals.index[-2]}</span>\"},\n",
    "    delta = {'reference': int(daily_totals[-1]), 'relative': True, 'position' : \"bottom\"}))\n",
    "\n",
    "fig_indicator.show()"
   ]
  },
  {
   "cell_type": "code",
   "execution_count": null,
   "metadata": {},
   "outputs": [],
   "source": [
    "import plotly.graph_objects as go\n",
    "\n",
    "fig = go.Figure()\n",
    "\n",
    "fig.add_trace(go.Indicator(\n",
    "    mode = \"number+delta\",\n",
    "    value = int(daily_totals.sum()),\n",
    "    title = {\"text\": f\"Total Cases ({daily_totals.index[-1]})<br><span style='font-size:0.8em;color:gray'>Increase from {daily_totals.index[-2]}</span>\"},\n",
    "    delta = {'reference': int(daily_totals[:-1].sum()), 'relative': True, 'position' : \"bottom\"}))\n",
    "\n",
    "fig.show()"
   ]
  },
  {
   "cell_type": "code",
   "execution_count": null,
   "metadata": {},
   "outputs": [],
   "source": [
    "df_final['type'] = df_final['type'].str.strip()\n",
    "df_grouped = df_final.groupby('type')"
   ]
  },
  {
   "cell_type": "code",
   "execution_count": null,
   "metadata": {},
   "outputs": [],
   "source": [
    "df_grouped_cols = df_grouped[daily_columns].sum()\n",
    "df_grouped_cols\n",
    "df_grouped_yesterday = df_grouped_cols.iloc[:,:-1]\n",
    "df_grouped_yesterday\n",
    "# df_grouped_cols"
   ]
  },
  {
   "cell_type": "code",
   "execution_count": null,
   "metadata": {},
   "outputs": [],
   "source": [
    "type_grouped = df_grouped_cols.sum(axis=1)\n",
    "type_grouped\n",
    "type_grouped_yesterday = df_grouped_yesterday.sum(axis=1)\n",
    "type_grouped_yesterday"
   ]
  },
  {
   "cell_type": "code",
   "execution_count": null,
   "metadata": {},
   "outputs": [],
   "source": []
  },
  {
   "cell_type": "code",
   "execution_count": null,
   "metadata": {},
   "outputs": [],
   "source": [
    "import plotly.graph_objects as go\n",
    "\n",
    "fig = go.Figure()\n",
    "\n",
    "fig.add_trace(go.Indicator(\n",
    "    mode = \"number+delta\",\n",
    "    value = int(type_grouped[0]),\n",
    "#     title = {\"text\": f\"Elementary School Total\"},\n",
    "    domain = {'x': [0, 0.4], 'y': [0, 0.25]},\n",
    "    align = \"center\",\n",
    "    delta = {'reference': int(type_grouped_yesterday[0]), 'relative': True, 'position' : \"right\"}))\n",
    "\n",
    "fig.add_trace(go.Indicator(\n",
    "    mode = \"number+delta\",\n",
    "    value = int(type_grouped[2]),\n",
    "#     title = {\"text\": f\"Middle School Total\"},\n",
    "    domain = {'x': [0, 0.4], 'y': [0.36, 0.62]},\n",
    "    align = \"center\",\n",
    "    delta = {'reference': int(type_grouped_yesterday[2]), 'relative': True, 'position' : \"right\"}))\n",
    "\n",
    "fig.add_trace(go.Indicator(\n",
    "    mode = \"number+delta\",\n",
    "    value = int(type_grouped[1]),\n",
    "#     title = {\"text\": f\"High School Total\"},\n",
    "    domain = {'x': [0, 0.4], 'y': [0.75, 1]},\n",
    "    align = \"center\",\n",
    "    delta = {'reference': int(type_grouped_yesterday[1]), 'relative': True, 'position' : \"right\"}))\n",
    "\n",
    "fig.update_layout(\n",
    "    title={\"text\": \"<span style='font-size:4em;color:black'>Total Cases</span>\", \n",
    "           \"yanchor\":\"middle\",\n",
    "           \"xanchor\":\"center\",\n",
    "           \"x\":0.4,\n",
    "           \"y\":0.85})\n",
    "\n",
    "fig.update_layout(\n",
    "    annotations=[\n",
    "        dict(text=\"<span style='font-size:4em;color:black'>High School</span>\",\n",
    "             align=\"left\",\n",
    "            showarrow=False,\n",
    "            x=0.72,\n",
    "            y=0.95,),\n",
    "        dict(text=\"<span style='font-size:4em;color:black'>Middle School</span>\",\n",
    "             align=\"left\",\n",
    "            showarrow=False,\n",
    "            x=0.75,\n",
    "            y=0.48,),\n",
    "        dict(text=\"<span style='font-size:4em;color:black'>Elementary</span>\",\n",
    "             align=\"left\",\n",
    "            showarrow=False,\n",
    "            x=0.7,\n",
    "            y=0.05,)])\n",
    "\n",
    "fig.show()"
   ]
  },
  {
   "cell_type": "code",
   "execution_count": null,
   "metadata": {},
   "outputs": [],
   "source": [
    "df_sums = df_final[daily_columns].sum()\n",
    "df_aggregated = df_sums.cumsum()"
   ]
  },
  {
   "cell_type": "code",
   "execution_count": null,
   "metadata": {},
   "outputs": [],
   "source": [
    "df_aggregated"
   ]
  },
  {
   "cell_type": "code",
   "execution_count": null,
   "metadata": {},
   "outputs": [],
   "source": [
    "import plotly.graph_objects as go\n",
    "import numpy as np\n",
    "\n",
    "title = 'Total Cases by Date'\n",
    "colors = ['rgb(83,190,171)']\n",
    "\n",
    "mode_size = [8]\n",
    "line_size = [2]\n",
    "\n",
    "fig = go.Figure()\n",
    "\n",
    "fig.add_trace(go.Scatter(x=df_aggregated.index, y=df_aggregated, mode='lines',\n",
    "    name=labels[0],\n",
    "    line=dict(color=colors[0], width=2),\n",
    "    connectgaps=True,\n",
    "))\n",
    "\n",
    "# endpoints\n",
    "fig.add_trace(go.Scatter(\n",
    "    x=[df_aggregated.index[-1]],\n",
    "    y=[df_aggregated[-1]],\n",
    "    mode='markers',\n",
    "    marker=dict(color=colors[0], size=6)\n",
    "))\n",
    "\n",
    "fig.update_layout(\n",
    "    xaxis=dict(\n",
    "        showline=True,\n",
    "        showgrid=False,\n",
    "        showticklabels=True,\n",
    "        linecolor='rgb(204, 204, 204)',\n",
    "        linewidth=2,\n",
    "        ticks='outside',\n",
    "        tickfont=dict(\n",
    "            family='Arial',\n",
    "            size=12,\n",
    "            color='rgb(82, 82, 82)',\n",
    "        ),\n",
    "    ),\n",
    "    yaxis=dict(\n",
    "        showgrid=False,\n",
    "        zeroline=False,\n",
    "        showline=True,\n",
    "        showticklabels=True,\n",
    "        tickfont=dict(\n",
    "        family='Arial',\n",
    "            size=12,\n",
    "            color='rgb(82, 82, 82)')\n",
    "    ),\n",
    "    autosize=False,\n",
    "    margin=dict(\n",
    "        autoexpand=False,\n",
    "        l=100,\n",
    "        r=20,\n",
    "        t=20,\n",
    "    ),\n",
    "    showlegend=False,\n",
    "    plot_bgcolor='white'\n",
    ")\n",
    "\n",
    "fig.update_layout(annotations=[dict(xref='paper', yref='paper', x=0.5, y=0.9,\n",
    "                              xanchor='center', yanchor='bottom',\n",
    "                              text=title,\n",
    "                              font=dict(size=26,\n",
    "                                        color='rgb(82, 82, 82)'),\n",
    "                              showarrow=False)])\n",
    "\n",
    "\n",
    "fig.show()"
   ]
  },
  {
   "cell_type": "code",
   "execution_count": null,
   "metadata": {},
   "outputs": [],
   "source": [
    "school_groups = df_final.groupby('school')\n",
    "school_sums = school_groups['total_positive'].sum()\n",
    "school_sums = school_sums.sort_values(ascending=False)\n",
    "top_schools = school_sums[:10].sort_values(ascending=True)\n",
    "top_schools"
   ]
  },
  {
   "cell_type": "code",
   "execution_count": null,
   "metadata": {},
   "outputs": [],
   "source": [
    "import plotly.graph_objects as go\n",
    "\n",
    "title = \"Schools With Most Confirmed Cases\"\n",
    "\n",
    "fig = go.Figure(go.Bar(\n",
    "            x=top_schools,\n",
    "            y=top_schools.index,\n",
    "            orientation='h',\n",
    "            marker=dict(\n",
    "                color='rgb(83,190,171)')))\n",
    "\n",
    "fig.update_layout(\n",
    "    xaxis=dict(\n",
    "        showline=True,\n",
    "        showgrid=False,\n",
    "        showticklabels=True,\n",
    "        linecolor='rgb(204, 204, 204)',\n",
    "        linewidth=2,\n",
    "        ticks='outside',\n",
    "        tickfont=dict(\n",
    "            family='Arial',\n",
    "            size=12,\n",
    "            color='rgb(82, 82, 82)',\n",
    "        ),\n",
    "    ),\n",
    "    yaxis=dict(\n",
    "        showgrid=False,\n",
    "        zeroline=False,\n",
    "        showline=True,\n",
    "        showticklabels=True,\n",
    "        tickfont=dict(\n",
    "        family='Arial',\n",
    "            size=12,\n",
    "            color='rgb(82, 82, 82)')\n",
    "    ),\n",
    "    autosize=False,\n",
    "    margin=dict(\n",
    "        autoexpand=False,\n",
    "        l=100,\n",
    "        r=20,\n",
    "        t=100,\n",
    "    ),\n",
    "    showlegend=False,\n",
    "    plot_bgcolor='white'\n",
    ")\n",
    "\n",
    "fig.update_layout(annotations=[dict(xref='paper', yref='paper', x=0.5, y=1,\n",
    "                              xanchor='center', yanchor='bottom',\n",
    "                              text=title,\n",
    "                              font=dict(size=26,\n",
    "                                        color='rgb(82, 82, 82)'),\n",
    "                              showarrow=False)])\n",
    "\n",
    "fig.show()"
   ]
  },
  {
   "cell_type": "code",
   "execution_count": null,
   "metadata": {},
   "outputs": [],
   "source": []
  },
  {
   "cell_type": "markdown",
   "metadata": {},
   "source": [
    "# Plotly Bubble Map"
   ]
  },
  {
   "cell_type": "code",
   "execution_count": null,
   "metadata": {},
   "outputs": [],
   "source": []
  },
  {
   "cell_type": "code",
   "execution_count": 119,
   "metadata": {},
   "outputs": [
    {
     "data": {
      "text/html": [
       "<div>\n",
       "<style scoped>\n",
       "    .dataframe tbody tr th:only-of-type {\n",
       "        vertical-align: middle;\n",
       "    }\n",
       "\n",
       "    .dataframe tbody tr th {\n",
       "        vertical-align: top;\n",
       "    }\n",
       "\n",
       "    .dataframe thead th {\n",
       "        text-align: right;\n",
       "    }\n",
       "</style>\n",
       "<table border=\"1\" class=\"dataframe\">\n",
       "  <thead>\n",
       "    <tr style=\"text-align: right;\">\n",
       "      <th></th>\n",
       "      <th>school</th>\n",
       "      <th>type</th>\n",
       "      <th>Total Staff &amp; Student</th>\n",
       "      <th>8/13/20</th>\n",
       "      <th>8/14/20</th>\n",
       "      <th>8/17/20</th>\n",
       "      <th>8/18/20</th>\n",
       "      <th>8/19/20</th>\n",
       "      <th>8/20/20</th>\n",
       "      <th>8/21/20</th>\n",
       "      <th>total_positive</th>\n",
       "      <th>percent_positive</th>\n",
       "    </tr>\n",
       "  </thead>\n",
       "  <tbody>\n",
       "    <tr>\n",
       "      <th>0</th>\n",
       "      <td>Big Creek</td>\n",
       "      <td>ES</td>\n",
       "      <td>706.0</td>\n",
       "      <td>0.0</td>\n",
       "      <td>0.0</td>\n",
       "      <td>0.0</td>\n",
       "      <td>0.0</td>\n",
       "      <td>0.0</td>\n",
       "      <td>0.0</td>\n",
       "      <td>0.0</td>\n",
       "      <td>0.0</td>\n",
       "      <td>0.000000</td>\n",
       "    </tr>\n",
       "    <tr>\n",
       "      <th>1</th>\n",
       "      <td>Brandywine</td>\n",
       "      <td>ES</td>\n",
       "      <td>1357.0</td>\n",
       "      <td>0.0</td>\n",
       "      <td>0.0</td>\n",
       "      <td>0.0</td>\n",
       "      <td>0.0</td>\n",
       "      <td>0.0</td>\n",
       "      <td>0.0</td>\n",
       "      <td>0.0</td>\n",
       "      <td>0.0</td>\n",
       "      <td>0.000000</td>\n",
       "    </tr>\n",
       "    <tr>\n",
       "      <th>2</th>\n",
       "      <td>Brookwood</td>\n",
       "      <td>ES</td>\n",
       "      <td>1078.0</td>\n",
       "      <td>0.0</td>\n",
       "      <td>0.0</td>\n",
       "      <td>0.0</td>\n",
       "      <td>0.0</td>\n",
       "      <td>0.0</td>\n",
       "      <td>0.0</td>\n",
       "      <td>0.0</td>\n",
       "      <td>0.0</td>\n",
       "      <td>0.000000</td>\n",
       "    </tr>\n",
       "    <tr>\n",
       "      <th>3</th>\n",
       "      <td>Chattahoochee</td>\n",
       "      <td>ES</td>\n",
       "      <td>850.0</td>\n",
       "      <td>0.0</td>\n",
       "      <td>0.0</td>\n",
       "      <td>0.0</td>\n",
       "      <td>2.0</td>\n",
       "      <td>0.0</td>\n",
       "      <td>0.0</td>\n",
       "      <td>0.0</td>\n",
       "      <td>2.0</td>\n",
       "      <td>0.235294</td>\n",
       "    </tr>\n",
       "    <tr>\n",
       "      <th>4</th>\n",
       "      <td>Chestatee</td>\n",
       "      <td>ES</td>\n",
       "      <td>1381.0</td>\n",
       "      <td>0.0</td>\n",
       "      <td>0.0</td>\n",
       "      <td>0.0</td>\n",
       "      <td>0.0</td>\n",
       "      <td>1.0</td>\n",
       "      <td>0.0</td>\n",
       "      <td>0.0</td>\n",
       "      <td>1.0</td>\n",
       "      <td>0.072411</td>\n",
       "    </tr>\n",
       "  </tbody>\n",
       "</table>\n",
       "</div>"
      ],
      "text/plain": [
       "          school type  Total Staff & Student  8/13/20  8/14/20  8/17/20  \\\n",
       "0      Big Creek   ES                  706.0      0.0      0.0      0.0   \n",
       "1     Brandywine   ES                 1357.0      0.0      0.0      0.0   \n",
       "2      Brookwood   ES                 1078.0      0.0      0.0      0.0   \n",
       "3  Chattahoochee   ES                  850.0      0.0      0.0      0.0   \n",
       "4      Chestatee   ES                 1381.0      0.0      0.0      0.0   \n",
       "\n",
       "   8/18/20  8/19/20  8/20/20  8/21/20  total_positive  percent_positive  \n",
       "0      0.0      0.0      0.0      0.0             0.0          0.000000  \n",
       "1      0.0      0.0      0.0      0.0             0.0          0.000000  \n",
       "2      0.0      0.0      0.0      0.0             0.0          0.000000  \n",
       "3      2.0      0.0      0.0      0.0             2.0          0.235294  \n",
       "4      0.0      1.0      0.0      0.0             1.0          0.072411  "
      ]
     },
     "execution_count": 119,
     "metadata": {},
     "output_type": "execute_result"
    }
   ],
   "source": [
    "df_final.head()"
   ]
  },
  {
   "cell_type": "code",
   "execution_count": 120,
   "metadata": {},
   "outputs": [],
   "source": [
    "columns = df_final.columns\n",
    "daily_columns = columns[3:-2]\n",
    "info_columns = columns[0:3]\n",
    "df_cumulative = pd.merge(left=df_final[info_columns], right=df_final[daily_columns].cumsum(axis=1), left_index=True, right_index=True)"
   ]
  },
  {
   "cell_type": "code",
   "execution_count": 121,
   "metadata": {},
   "outputs": [
    {
     "data": {
      "text/html": [
       "<div>\n",
       "<style scoped>\n",
       "    .dataframe tbody tr th:only-of-type {\n",
       "        vertical-align: middle;\n",
       "    }\n",
       "\n",
       "    .dataframe tbody tr th {\n",
       "        vertical-align: top;\n",
       "    }\n",
       "\n",
       "    .dataframe thead th {\n",
       "        text-align: right;\n",
       "    }\n",
       "</style>\n",
       "<table border=\"1\" class=\"dataframe\">\n",
       "  <thead>\n",
       "    <tr style=\"text-align: right;\">\n",
       "      <th></th>\n",
       "      <th>school</th>\n",
       "      <th>type</th>\n",
       "      <th>Total Staff &amp; Student</th>\n",
       "      <th>8/13/20</th>\n",
       "      <th>8/14/20</th>\n",
       "      <th>8/17/20</th>\n",
       "      <th>8/18/20</th>\n",
       "      <th>8/19/20</th>\n",
       "      <th>8/20/20</th>\n",
       "      <th>8/21/20</th>\n",
       "    </tr>\n",
       "  </thead>\n",
       "  <tbody>\n",
       "    <tr>\n",
       "      <th>0</th>\n",
       "      <td>Big Creek</td>\n",
       "      <td>ES</td>\n",
       "      <td>706.0</td>\n",
       "      <td>0.0</td>\n",
       "      <td>0.0</td>\n",
       "      <td>0.0</td>\n",
       "      <td>0.0</td>\n",
       "      <td>0.0</td>\n",
       "      <td>0.0</td>\n",
       "      <td>0.0</td>\n",
       "    </tr>\n",
       "    <tr>\n",
       "      <th>1</th>\n",
       "      <td>Brandywine</td>\n",
       "      <td>ES</td>\n",
       "      <td>1357.0</td>\n",
       "      <td>0.0</td>\n",
       "      <td>0.0</td>\n",
       "      <td>0.0</td>\n",
       "      <td>0.0</td>\n",
       "      <td>0.0</td>\n",
       "      <td>0.0</td>\n",
       "      <td>0.0</td>\n",
       "    </tr>\n",
       "    <tr>\n",
       "      <th>2</th>\n",
       "      <td>Brookwood</td>\n",
       "      <td>ES</td>\n",
       "      <td>1078.0</td>\n",
       "      <td>0.0</td>\n",
       "      <td>0.0</td>\n",
       "      <td>0.0</td>\n",
       "      <td>0.0</td>\n",
       "      <td>0.0</td>\n",
       "      <td>0.0</td>\n",
       "      <td>0.0</td>\n",
       "    </tr>\n",
       "    <tr>\n",
       "      <th>3</th>\n",
       "      <td>Chattahoochee</td>\n",
       "      <td>ES</td>\n",
       "      <td>850.0</td>\n",
       "      <td>0.0</td>\n",
       "      <td>0.0</td>\n",
       "      <td>0.0</td>\n",
       "      <td>2.0</td>\n",
       "      <td>2.0</td>\n",
       "      <td>2.0</td>\n",
       "      <td>2.0</td>\n",
       "    </tr>\n",
       "    <tr>\n",
       "      <th>4</th>\n",
       "      <td>Chestatee</td>\n",
       "      <td>ES</td>\n",
       "      <td>1381.0</td>\n",
       "      <td>0.0</td>\n",
       "      <td>0.0</td>\n",
       "      <td>0.0</td>\n",
       "      <td>0.0</td>\n",
       "      <td>1.0</td>\n",
       "      <td>1.0</td>\n",
       "      <td>1.0</td>\n",
       "    </tr>\n",
       "  </tbody>\n",
       "</table>\n",
       "</div>"
      ],
      "text/plain": [
       "          school type  Total Staff & Student  8/13/20  8/14/20  8/17/20  \\\n",
       "0      Big Creek   ES                  706.0      0.0      0.0      0.0   \n",
       "1     Brandywine   ES                 1357.0      0.0      0.0      0.0   \n",
       "2      Brookwood   ES                 1078.0      0.0      0.0      0.0   \n",
       "3  Chattahoochee   ES                  850.0      0.0      0.0      0.0   \n",
       "4      Chestatee   ES                 1381.0      0.0      0.0      0.0   \n",
       "\n",
       "   8/18/20  8/19/20  8/20/20  8/21/20  \n",
       "0      0.0      0.0      0.0      0.0  \n",
       "1      0.0      0.0      0.0      0.0  \n",
       "2      0.0      0.0      0.0      0.0  \n",
       "3      2.0      2.0      2.0      2.0  \n",
       "4      0.0      1.0      1.0      1.0  "
      ]
     },
     "execution_count": 121,
     "metadata": {},
     "output_type": "execute_result"
    }
   ],
   "source": [
    "df_cumulative.head()"
   ]
  },
  {
   "cell_type": "code",
   "execution_count": 122,
   "metadata": {},
   "outputs": [],
   "source": [
    "df_melted = pd.melt(df_cumulative, id_vars=df_cumulative.columns[0:3], value_vars=df_cumulative.columns[3:])\n",
    "df_melted.rename(columns={'variable':'date', 'value':'total'}, inplace=True)"
   ]
  },
  {
   "cell_type": "code",
   "execution_count": 123,
   "metadata": {},
   "outputs": [
    {
     "data": {
      "text/html": [
       "<div>\n",
       "<style scoped>\n",
       "    .dataframe tbody tr th:only-of-type {\n",
       "        vertical-align: middle;\n",
       "    }\n",
       "\n",
       "    .dataframe tbody tr th {\n",
       "        vertical-align: top;\n",
       "    }\n",
       "\n",
       "    .dataframe thead th {\n",
       "        text-align: right;\n",
       "    }\n",
       "</style>\n",
       "<table border=\"1\" class=\"dataframe\">\n",
       "  <thead>\n",
       "    <tr style=\"text-align: right;\">\n",
       "      <th></th>\n",
       "      <th>school</th>\n",
       "      <th>type</th>\n",
       "      <th>Total Staff &amp; Student</th>\n",
       "      <th>date</th>\n",
       "      <th>total</th>\n",
       "    </tr>\n",
       "  </thead>\n",
       "  <tbody>\n",
       "    <tr>\n",
       "      <th>233</th>\n",
       "      <td>West Forsyth</td>\n",
       "      <td>HS</td>\n",
       "      <td>2637.0</td>\n",
       "      <td>8/20/20</td>\n",
       "      <td>4.0</td>\n",
       "    </tr>\n",
       "    <tr>\n",
       "      <th>234</th>\n",
       "      <td>Big Creek</td>\n",
       "      <td>ES</td>\n",
       "      <td>706.0</td>\n",
       "      <td>8/21/20</td>\n",
       "      <td>0.0</td>\n",
       "    </tr>\n",
       "    <tr>\n",
       "      <th>235</th>\n",
       "      <td>Brandywine</td>\n",
       "      <td>ES</td>\n",
       "      <td>1357.0</td>\n",
       "      <td>8/21/20</td>\n",
       "      <td>0.0</td>\n",
       "    </tr>\n",
       "    <tr>\n",
       "      <th>236</th>\n",
       "      <td>Brookwood</td>\n",
       "      <td>ES</td>\n",
       "      <td>1078.0</td>\n",
       "      <td>8/21/20</td>\n",
       "      <td>0.0</td>\n",
       "    </tr>\n",
       "    <tr>\n",
       "      <th>237</th>\n",
       "      <td>Chattahoochee</td>\n",
       "      <td>ES</td>\n",
       "      <td>850.0</td>\n",
       "      <td>8/21/20</td>\n",
       "      <td>2.0</td>\n",
       "    </tr>\n",
       "    <tr>\n",
       "      <th>238</th>\n",
       "      <td>Chestatee</td>\n",
       "      <td>ES</td>\n",
       "      <td>1381.0</td>\n",
       "      <td>8/21/20</td>\n",
       "      <td>1.0</td>\n",
       "    </tr>\n",
       "    <tr>\n",
       "      <th>239</th>\n",
       "      <td>Coal Mountain</td>\n",
       "      <td>ES</td>\n",
       "      <td>821.0</td>\n",
       "      <td>8/21/20</td>\n",
       "      <td>2.0</td>\n",
       "    </tr>\n",
       "    <tr>\n",
       "      <th>240</th>\n",
       "      <td>Cumming</td>\n",
       "      <td>ES</td>\n",
       "      <td>1055.0</td>\n",
       "      <td>8/21/20</td>\n",
       "      <td>0.0</td>\n",
       "    </tr>\n",
       "    <tr>\n",
       "      <th>241</th>\n",
       "      <td>Daves Creek</td>\n",
       "      <td>ES</td>\n",
       "      <td>1285.0</td>\n",
       "      <td>8/21/20</td>\n",
       "      <td>0.0</td>\n",
       "    </tr>\n",
       "    <tr>\n",
       "      <th>242</th>\n",
       "      <td>Haw Creek</td>\n",
       "      <td>ES</td>\n",
       "      <td>1131.0</td>\n",
       "      <td>8/21/20</td>\n",
       "      <td>0.0</td>\n",
       "    </tr>\n",
       "    <tr>\n",
       "      <th>243</th>\n",
       "      <td>Johns Creek</td>\n",
       "      <td>ES</td>\n",
       "      <td>1103.0</td>\n",
       "      <td>8/21/20</td>\n",
       "      <td>0.0</td>\n",
       "    </tr>\n",
       "    <tr>\n",
       "      <th>244</th>\n",
       "      <td>Kelly Mill</td>\n",
       "      <td>ES</td>\n",
       "      <td>1257.0</td>\n",
       "      <td>8/21/20</td>\n",
       "      <td>0.0</td>\n",
       "    </tr>\n",
       "    <tr>\n",
       "      <th>245</th>\n",
       "      <td>Mashburn</td>\n",
       "      <td>ES</td>\n",
       "      <td>781.0</td>\n",
       "      <td>8/21/20</td>\n",
       "      <td>0.0</td>\n",
       "    </tr>\n",
       "    <tr>\n",
       "      <th>246</th>\n",
       "      <td>Matt</td>\n",
       "      <td>ES</td>\n",
       "      <td>1125.0</td>\n",
       "      <td>8/21/20</td>\n",
       "      <td>0.0</td>\n",
       "    </tr>\n",
       "    <tr>\n",
       "      <th>247</th>\n",
       "      <td>Midway</td>\n",
       "      <td>ES</td>\n",
       "      <td>961.0</td>\n",
       "      <td>8/21/20</td>\n",
       "      <td>0.0</td>\n",
       "    </tr>\n",
       "    <tr>\n",
       "      <th>248</th>\n",
       "      <td>Poole's Mill</td>\n",
       "      <td>ES</td>\n",
       "      <td>807.0</td>\n",
       "      <td>8/21/20</td>\n",
       "      <td>1.0</td>\n",
       "    </tr>\n",
       "    <tr>\n",
       "      <th>249</th>\n",
       "      <td>Sawnee</td>\n",
       "      <td>ES</td>\n",
       "      <td>1459.0</td>\n",
       "      <td>8/21/20</td>\n",
       "      <td>0.0</td>\n",
       "    </tr>\n",
       "    <tr>\n",
       "      <th>250</th>\n",
       "      <td>Settles Bridge</td>\n",
       "      <td>ES</td>\n",
       "      <td>1099.0</td>\n",
       "      <td>8/21/20</td>\n",
       "      <td>0.0</td>\n",
       "    </tr>\n",
       "    <tr>\n",
       "      <th>251</th>\n",
       "      <td>Sharon</td>\n",
       "      <td>ES</td>\n",
       "      <td>999.0</td>\n",
       "      <td>8/21/20</td>\n",
       "      <td>0.0</td>\n",
       "    </tr>\n",
       "    <tr>\n",
       "      <th>252</th>\n",
       "      <td>Shiloh Point</td>\n",
       "      <td>ES</td>\n",
       "      <td>1452.0</td>\n",
       "      <td>8/21/20</td>\n",
       "      <td>1.0</td>\n",
       "    </tr>\n",
       "    <tr>\n",
       "      <th>253</th>\n",
       "      <td>Silver City</td>\n",
       "      <td>ES</td>\n",
       "      <td>1152.0</td>\n",
       "      <td>8/21/20</td>\n",
       "      <td>0.0</td>\n",
       "    </tr>\n",
       "    <tr>\n",
       "      <th>254</th>\n",
       "      <td>Vickery Creek</td>\n",
       "      <td>ES</td>\n",
       "      <td>1394.0</td>\n",
       "      <td>8/21/20</td>\n",
       "      <td>0.0</td>\n",
       "    </tr>\n",
       "    <tr>\n",
       "      <th>255</th>\n",
       "      <td>Whitlow</td>\n",
       "      <td>ES</td>\n",
       "      <td>1464.0</td>\n",
       "      <td>8/21/20</td>\n",
       "      <td>0.0</td>\n",
       "    </tr>\n",
       "    <tr>\n",
       "      <th>256</th>\n",
       "      <td>DeSana</td>\n",
       "      <td>MS</td>\n",
       "      <td>1162.0</td>\n",
       "      <td>8/21/20</td>\n",
       "      <td>0.0</td>\n",
       "    </tr>\n",
       "    <tr>\n",
       "      <th>257</th>\n",
       "      <td>Lakeside</td>\n",
       "      <td>MS</td>\n",
       "      <td>1335.0</td>\n",
       "      <td>8/21/20</td>\n",
       "      <td>2.0</td>\n",
       "    </tr>\n",
       "    <tr>\n",
       "      <th>258</th>\n",
       "      <td>Liberty</td>\n",
       "      <td>MS</td>\n",
       "      <td>1340.0</td>\n",
       "      <td>8/21/20</td>\n",
       "      <td>0.0</td>\n",
       "    </tr>\n",
       "    <tr>\n",
       "      <th>259</th>\n",
       "      <td>Little Mill</td>\n",
       "      <td>MS</td>\n",
       "      <td>1032.0</td>\n",
       "      <td>8/21/20</td>\n",
       "      <td>2.0</td>\n",
       "    </tr>\n",
       "    <tr>\n",
       "      <th>260</th>\n",
       "      <td>North Forsyth</td>\n",
       "      <td>MS</td>\n",
       "      <td>1359.0</td>\n",
       "      <td>8/21/20</td>\n",
       "      <td>2.0</td>\n",
       "    </tr>\n",
       "    <tr>\n",
       "      <th>261</th>\n",
       "      <td>Otwell</td>\n",
       "      <td>MS</td>\n",
       "      <td>1649.0</td>\n",
       "      <td>8/21/20</td>\n",
       "      <td>0.0</td>\n",
       "    </tr>\n",
       "    <tr>\n",
       "      <th>262</th>\n",
       "      <td>Piney Grove</td>\n",
       "      <td>MS</td>\n",
       "      <td>1111.0</td>\n",
       "      <td>8/21/20</td>\n",
       "      <td>0.0</td>\n",
       "    </tr>\n",
       "    <tr>\n",
       "      <th>263</th>\n",
       "      <td>Riverwatch</td>\n",
       "      <td>MS</td>\n",
       "      <td>1663.0</td>\n",
       "      <td>8/21/20</td>\n",
       "      <td>0.0</td>\n",
       "    </tr>\n",
       "    <tr>\n",
       "      <th>264</th>\n",
       "      <td>South Forsyth</td>\n",
       "      <td>MS</td>\n",
       "      <td>1497.0</td>\n",
       "      <td>8/21/20</td>\n",
       "      <td>0.0</td>\n",
       "    </tr>\n",
       "    <tr>\n",
       "      <th>265</th>\n",
       "      <td>Vickery Creek</td>\n",
       "      <td>MS</td>\n",
       "      <td>1306.0</td>\n",
       "      <td>8/21/20</td>\n",
       "      <td>3.0</td>\n",
       "    </tr>\n",
       "    <tr>\n",
       "      <th>266</th>\n",
       "      <td>Alliance Academy for Innovation</td>\n",
       "      <td>HS</td>\n",
       "      <td>1234.0</td>\n",
       "      <td>8/21/20</td>\n",
       "      <td>0.0</td>\n",
       "    </tr>\n",
       "    <tr>\n",
       "      <th>267</th>\n",
       "      <td>Denmark</td>\n",
       "      <td>HS</td>\n",
       "      <td>2432.0</td>\n",
       "      <td>8/21/20</td>\n",
       "      <td>2.0</td>\n",
       "    </tr>\n",
       "    <tr>\n",
       "      <th>268</th>\n",
       "      <td>Forsyth Central</td>\n",
       "      <td>HS</td>\n",
       "      <td>2754.0</td>\n",
       "      <td>8/21/20</td>\n",
       "      <td>4.0</td>\n",
       "    </tr>\n",
       "    <tr>\n",
       "      <th>269</th>\n",
       "      <td>Lambert</td>\n",
       "      <td>HS</td>\n",
       "      <td>3150.0</td>\n",
       "      <td>8/21/20</td>\n",
       "      <td>3.0</td>\n",
       "    </tr>\n",
       "    <tr>\n",
       "      <th>270</th>\n",
       "      <td>North Forsyth</td>\n",
       "      <td>HS</td>\n",
       "      <td>2785.0</td>\n",
       "      <td>8/21/20</td>\n",
       "      <td>3.0</td>\n",
       "    </tr>\n",
       "    <tr>\n",
       "      <th>271</th>\n",
       "      <td>South Forsyth</td>\n",
       "      <td>HS</td>\n",
       "      <td>2437.0</td>\n",
       "      <td>8/21/20</td>\n",
       "      <td>0.0</td>\n",
       "    </tr>\n",
       "    <tr>\n",
       "      <th>272</th>\n",
       "      <td>West Forsyth</td>\n",
       "      <td>HS</td>\n",
       "      <td>2637.0</td>\n",
       "      <td>8/21/20</td>\n",
       "      <td>4.0</td>\n",
       "    </tr>\n",
       "  </tbody>\n",
       "</table>\n",
       "</div>"
      ],
      "text/plain": [
       "                              school type  Total Staff & Student     date  \\\n",
       "233                     West Forsyth   HS                 2637.0  8/20/20   \n",
       "234                        Big Creek   ES                  706.0  8/21/20   \n",
       "235                       Brandywine   ES                 1357.0  8/21/20   \n",
       "236                        Brookwood   ES                 1078.0  8/21/20   \n",
       "237                    Chattahoochee   ES                  850.0  8/21/20   \n",
       "238                        Chestatee   ES                 1381.0  8/21/20   \n",
       "239                    Coal Mountain   ES                  821.0  8/21/20   \n",
       "240                          Cumming   ES                 1055.0  8/21/20   \n",
       "241                      Daves Creek   ES                 1285.0  8/21/20   \n",
       "242                        Haw Creek   ES                 1131.0  8/21/20   \n",
       "243                      Johns Creek   ES                 1103.0  8/21/20   \n",
       "244                       Kelly Mill   ES                 1257.0  8/21/20   \n",
       "245                         Mashburn   ES                  781.0  8/21/20   \n",
       "246                             Matt   ES                 1125.0  8/21/20   \n",
       "247                           Midway   ES                  961.0  8/21/20   \n",
       "248                     Poole's Mill   ES                  807.0  8/21/20   \n",
       "249                           Sawnee   ES                 1459.0  8/21/20   \n",
       "250                   Settles Bridge   ES                 1099.0  8/21/20   \n",
       "251                           Sharon   ES                  999.0  8/21/20   \n",
       "252                     Shiloh Point   ES                 1452.0  8/21/20   \n",
       "253                      Silver City   ES                 1152.0  8/21/20   \n",
       "254                    Vickery Creek   ES                 1394.0  8/21/20   \n",
       "255                          Whitlow   ES                 1464.0  8/21/20   \n",
       "256                           DeSana   MS                 1162.0  8/21/20   \n",
       "257                         Lakeside   MS                 1335.0  8/21/20   \n",
       "258                          Liberty   MS                 1340.0  8/21/20   \n",
       "259                      Little Mill   MS                 1032.0  8/21/20   \n",
       "260                    North Forsyth   MS                 1359.0  8/21/20   \n",
       "261                           Otwell   MS                 1649.0  8/21/20   \n",
       "262                      Piney Grove   MS                 1111.0  8/21/20   \n",
       "263                       Riverwatch   MS                 1663.0  8/21/20   \n",
       "264                    South Forsyth   MS                 1497.0  8/21/20   \n",
       "265                    Vickery Creek   MS                 1306.0  8/21/20   \n",
       "266  Alliance Academy for Innovation   HS                 1234.0  8/21/20   \n",
       "267                          Denmark   HS                 2432.0  8/21/20   \n",
       "268                  Forsyth Central   HS                 2754.0  8/21/20   \n",
       "269                          Lambert   HS                 3150.0  8/21/20   \n",
       "270                    North Forsyth   HS                 2785.0  8/21/20   \n",
       "271                    South Forsyth   HS                 2437.0  8/21/20   \n",
       "272                     West Forsyth   HS                 2637.0  8/21/20   \n",
       "\n",
       "     total  \n",
       "233    4.0  \n",
       "234    0.0  \n",
       "235    0.0  \n",
       "236    0.0  \n",
       "237    2.0  \n",
       "238    1.0  \n",
       "239    2.0  \n",
       "240    0.0  \n",
       "241    0.0  \n",
       "242    0.0  \n",
       "243    0.0  \n",
       "244    0.0  \n",
       "245    0.0  \n",
       "246    0.0  \n",
       "247    0.0  \n",
       "248    1.0  \n",
       "249    0.0  \n",
       "250    0.0  \n",
       "251    0.0  \n",
       "252    1.0  \n",
       "253    0.0  \n",
       "254    0.0  \n",
       "255    0.0  \n",
       "256    0.0  \n",
       "257    2.0  \n",
       "258    0.0  \n",
       "259    2.0  \n",
       "260    2.0  \n",
       "261    0.0  \n",
       "262    0.0  \n",
       "263    0.0  \n",
       "264    0.0  \n",
       "265    3.0  \n",
       "266    0.0  \n",
       "267    2.0  \n",
       "268    4.0  \n",
       "269    3.0  \n",
       "270    3.0  \n",
       "271    0.0  \n",
       "272    4.0  "
      ]
     },
     "execution_count": 123,
     "metadata": {},
     "output_type": "execute_result"
    }
   ],
   "source": [
    "df_melted.tail(40)"
   ]
  },
  {
   "cell_type": "code",
   "execution_count": 124,
   "metadata": {},
   "outputs": [],
   "source": [
    "df_locations = pd.read_csv('school_locations.csv')"
   ]
  },
  {
   "cell_type": "code",
   "execution_count": 125,
   "metadata": {},
   "outputs": [
    {
     "data": {
      "text/html": [
       "<div>\n",
       "<style scoped>\n",
       "    .dataframe tbody tr th:only-of-type {\n",
       "        vertical-align: middle;\n",
       "    }\n",
       "\n",
       "    .dataframe tbody tr th {\n",
       "        vertical-align: top;\n",
       "    }\n",
       "\n",
       "    .dataframe thead th {\n",
       "        text-align: right;\n",
       "    }\n",
       "</style>\n",
       "<table border=\"1\" class=\"dataframe\">\n",
       "  <thead>\n",
       "    <tr style=\"text-align: right;\">\n",
       "      <th></th>\n",
       "      <th>school</th>\n",
       "      <th>type</th>\n",
       "      <th>Total Staff &amp; Student</th>\n",
       "      <th>latitude</th>\n",
       "      <th>longitude</th>\n",
       "    </tr>\n",
       "  </thead>\n",
       "  <tbody>\n",
       "    <tr>\n",
       "      <th>0</th>\n",
       "      <td>Big Creek</td>\n",
       "      <td>ES</td>\n",
       "      <td>706</td>\n",
       "      <td>34.113906</td>\n",
       "      <td>-84.177824</td>\n",
       "    </tr>\n",
       "    <tr>\n",
       "      <th>1</th>\n",
       "      <td>Brandywine</td>\n",
       "      <td>ES</td>\n",
       "      <td>1357</td>\n",
       "      <td>34.133500</td>\n",
       "      <td>-84.247383</td>\n",
       "    </tr>\n",
       "    <tr>\n",
       "      <th>2</th>\n",
       "      <td>Brookwood</td>\n",
       "      <td>ES</td>\n",
       "      <td>1078</td>\n",
       "      <td>34.101762</td>\n",
       "      <td>-84.184680</td>\n",
       "    </tr>\n",
       "    <tr>\n",
       "      <th>3</th>\n",
       "      <td>Chattahoochee</td>\n",
       "      <td>ES</td>\n",
       "      <td>850</td>\n",
       "      <td>34.239073</td>\n",
       "      <td>-84.086230</td>\n",
       "    </tr>\n",
       "    <tr>\n",
       "      <th>4</th>\n",
       "      <td>Chestatee</td>\n",
       "      <td>ES</td>\n",
       "      <td>1381</td>\n",
       "      <td>34.297109</td>\n",
       "      <td>-83.996014</td>\n",
       "    </tr>\n",
       "  </tbody>\n",
       "</table>\n",
       "</div>"
      ],
      "text/plain": [
       "          school type  Total Staff & Student   latitude  longitude\n",
       "0      Big Creek   ES                    706  34.113906 -84.177824\n",
       "1     Brandywine   ES                   1357  34.133500 -84.247383\n",
       "2      Brookwood   ES                   1078  34.101762 -84.184680\n",
       "3  Chattahoochee   ES                    850  34.239073 -84.086230\n",
       "4      Chestatee   ES                   1381  34.297109 -83.996014"
      ]
     },
     "execution_count": 125,
     "metadata": {},
     "output_type": "execute_result"
    }
   ],
   "source": [
    "df_locations.drop(columns=df_locations.columns[0], inplace=True)\n",
    "df_locations['latitude'] = pd.to_numeric(df_locations['geo'].str.split(', ', expand=True)[0])\n",
    "df_locations['longitude'] = pd.to_numeric(df_locations['geo'].str.split(', ', expand=True)[1])\n",
    "df_locations = df_locations.drop(columns='geo')\n",
    "df_locations.head()"
   ]
  },
  {
   "cell_type": "code",
   "execution_count": 195,
   "metadata": {},
   "outputs": [],
   "source": [
    "df_geo = pd.merge(left=df_melted, right=df_locations, on=['school', 'type', 'Total Staff & Student'])"
   ]
  },
  {
   "cell_type": "code",
   "execution_count": 198,
   "metadata": {},
   "outputs": [],
   "source": [
    "df_geo['Category'] = df_geo['type'].str.replace('ES', 'Elementary').replace('MS', 'Middle').replace('HS', 'High')"
   ]
  },
  {
   "cell_type": "code",
   "execution_count": 90,
   "metadata": {},
   "outputs": [],
   "source": [
    "def create_hovertext(df):\n",
    "    text_list = []\n",
    "    for row in df.iterrows():\n",
    "        text = f\"<b>{row.school}</b><br><br>Total Cases: {row.total}<br>Total Staff & Student: {row['Total Staff & Student']}<br><extra></extra>\"\n",
    "        text_list.append(text)\n",
    "    return text_list"
   ]
  },
  {
   "cell_type": "code",
   "execution_count": 91,
   "metadata": {},
   "outputs": [],
   "source": [
    "df_geo['text'] = str(\"<b>\" + str(df_geo['school']) + \"</b><br><br>Total Cases: \" + str(df_geo['total']) + \"<br>Total Staff & Student: \" + str(df_geo['Total Staff & Student']) + \"<br><extra></extra>\")"
   ]
  },
  {
   "cell_type": "code",
   "execution_count": 128,
   "metadata": {},
   "outputs": [
    {
     "data": {
      "text/html": [
       "<div>\n",
       "<style scoped>\n",
       "    .dataframe tbody tr th:only-of-type {\n",
       "        vertical-align: middle;\n",
       "    }\n",
       "\n",
       "    .dataframe tbody tr th {\n",
       "        vertical-align: top;\n",
       "    }\n",
       "\n",
       "    .dataframe thead th {\n",
       "        text-align: right;\n",
       "    }\n",
       "</style>\n",
       "<table border=\"1\" class=\"dataframe\">\n",
       "  <thead>\n",
       "    <tr style=\"text-align: right;\">\n",
       "      <th></th>\n",
       "      <th>school</th>\n",
       "      <th>type</th>\n",
       "      <th>Total Staff &amp; Student</th>\n",
       "      <th>date</th>\n",
       "      <th>total</th>\n",
       "      <th>latitude</th>\n",
       "      <th>longitude</th>\n",
       "    </tr>\n",
       "  </thead>\n",
       "  <tbody>\n",
       "    <tr>\n",
       "      <th>268</th>\n",
       "      <td>West Forsyth</td>\n",
       "      <td>HS</td>\n",
       "      <td>2637.0</td>\n",
       "      <td>8/17/20</td>\n",
       "      <td>2.0</td>\n",
       "      <td>34.211249</td>\n",
       "      <td>-84.214213</td>\n",
       "    </tr>\n",
       "    <tr>\n",
       "      <th>269</th>\n",
       "      <td>West Forsyth</td>\n",
       "      <td>HS</td>\n",
       "      <td>2637.0</td>\n",
       "      <td>8/18/20</td>\n",
       "      <td>3.0</td>\n",
       "      <td>34.211249</td>\n",
       "      <td>-84.214213</td>\n",
       "    </tr>\n",
       "    <tr>\n",
       "      <th>270</th>\n",
       "      <td>West Forsyth</td>\n",
       "      <td>HS</td>\n",
       "      <td>2637.0</td>\n",
       "      <td>8/19/20</td>\n",
       "      <td>3.0</td>\n",
       "      <td>34.211249</td>\n",
       "      <td>-84.214213</td>\n",
       "    </tr>\n",
       "    <tr>\n",
       "      <th>271</th>\n",
       "      <td>West Forsyth</td>\n",
       "      <td>HS</td>\n",
       "      <td>2637.0</td>\n",
       "      <td>8/20/20</td>\n",
       "      <td>4.0</td>\n",
       "      <td>34.211249</td>\n",
       "      <td>-84.214213</td>\n",
       "    </tr>\n",
       "    <tr>\n",
       "      <th>272</th>\n",
       "      <td>West Forsyth</td>\n",
       "      <td>HS</td>\n",
       "      <td>2637.0</td>\n",
       "      <td>8/21/20</td>\n",
       "      <td>4.0</td>\n",
       "      <td>34.211249</td>\n",
       "      <td>-84.214213</td>\n",
       "    </tr>\n",
       "  </tbody>\n",
       "</table>\n",
       "</div>"
      ],
      "text/plain": [
       "           school type  Total Staff & Student     date  total   latitude  \\\n",
       "268  West Forsyth   HS                 2637.0  8/17/20    2.0  34.211249   \n",
       "269  West Forsyth   HS                 2637.0  8/18/20    3.0  34.211249   \n",
       "270  West Forsyth   HS                 2637.0  8/19/20    3.0  34.211249   \n",
       "271  West Forsyth   HS                 2637.0  8/20/20    4.0  34.211249   \n",
       "272  West Forsyth   HS                 2637.0  8/21/20    4.0  34.211249   \n",
       "\n",
       "     longitude  \n",
       "268 -84.214213  \n",
       "269 -84.214213  \n",
       "270 -84.214213  \n",
       "271 -84.214213  \n",
       "272 -84.214213  "
      ]
     },
     "execution_count": 128,
     "metadata": {},
     "output_type": "execute_result"
    }
   ],
   "source": [
    "df_geo.tail()"
   ]
  },
  {
   "cell_type": "code",
   "execution_count": 129,
   "metadata": {},
   "outputs": [
    {
     "data": {
      "application/vnd.plotly.v1+json": {
       "config": {
        "plotlyServerURL": "https://plot.ly"
       },
       "data": [
        {
         "hovertemplate": "<b>%{hovertext}</b><br><br>size=%{marker.size}<br>school=%{text}<br>latitude=%{lat}<br>longitude=%{lon}<br>total=%{marker.color}<extra></extra>",
         "hovertext": [
          "Big Creek",
          "Big Creek",
          "Big Creek",
          "Big Creek",
          "Big Creek",
          "Big Creek",
          "Big Creek",
          "Brandywine",
          "Brandywine",
          "Brandywine",
          "Brandywine",
          "Brandywine",
          "Brandywine",
          "Brandywine",
          "Brookwood",
          "Brookwood",
          "Brookwood",
          "Brookwood",
          "Brookwood",
          "Brookwood",
          "Brookwood",
          "Chattahoochee",
          "Chattahoochee",
          "Chattahoochee",
          "Chattahoochee",
          "Chattahoochee",
          "Chattahoochee",
          "Chattahoochee",
          "Chestatee",
          "Chestatee",
          "Chestatee",
          "Chestatee",
          "Chestatee",
          "Chestatee",
          "Chestatee",
          "Coal Mountain",
          "Coal Mountain",
          "Coal Mountain",
          "Coal Mountain",
          "Coal Mountain",
          "Coal Mountain",
          "Coal Mountain",
          "Cumming",
          "Cumming",
          "Cumming",
          "Cumming",
          "Cumming",
          "Cumming",
          "Cumming",
          "Daves Creek",
          "Daves Creek",
          "Daves Creek",
          "Daves Creek",
          "Daves Creek",
          "Daves Creek",
          "Daves Creek",
          "Haw Creek",
          "Haw Creek",
          "Haw Creek",
          "Haw Creek",
          "Haw Creek",
          "Haw Creek",
          "Haw Creek",
          "Johns Creek",
          "Johns Creek",
          "Johns Creek",
          "Johns Creek",
          "Johns Creek",
          "Johns Creek",
          "Johns Creek",
          "Kelly Mill",
          "Kelly Mill",
          "Kelly Mill",
          "Kelly Mill",
          "Kelly Mill",
          "Kelly Mill",
          "Kelly Mill",
          "Mashburn",
          "Mashburn",
          "Mashburn",
          "Mashburn",
          "Mashburn",
          "Mashburn",
          "Mashburn",
          "Matt",
          "Matt",
          "Matt",
          "Matt",
          "Matt",
          "Matt",
          "Matt",
          "Midway",
          "Midway",
          "Midway",
          "Midway",
          "Midway",
          "Midway",
          "Midway",
          "Poole's Mill",
          "Poole's Mill",
          "Poole's Mill",
          "Poole's Mill",
          "Poole's Mill",
          "Poole's Mill",
          "Poole's Mill",
          "Sawnee",
          "Sawnee",
          "Sawnee",
          "Sawnee",
          "Sawnee",
          "Sawnee",
          "Sawnee",
          "Settles Bridge",
          "Settles Bridge",
          "Settles Bridge",
          "Settles Bridge",
          "Settles Bridge",
          "Settles Bridge",
          "Settles Bridge",
          "Sharon",
          "Sharon",
          "Sharon",
          "Sharon",
          "Sharon",
          "Sharon",
          "Sharon",
          "Shiloh Point",
          "Shiloh Point",
          "Shiloh Point",
          "Shiloh Point",
          "Shiloh Point",
          "Shiloh Point",
          "Shiloh Point",
          "Silver City",
          "Silver City",
          "Silver City",
          "Silver City",
          "Silver City",
          "Silver City",
          "Silver City",
          "Vickery Creek",
          "Vickery Creek",
          "Vickery Creek",
          "Vickery Creek",
          "Vickery Creek",
          "Vickery Creek",
          "Vickery Creek",
          "Whitlow",
          "Whitlow",
          "Whitlow",
          "Whitlow",
          "Whitlow",
          "Whitlow",
          "Whitlow",
          "DeSana",
          "DeSana",
          "DeSana",
          "DeSana",
          "DeSana",
          "DeSana",
          "DeSana",
          "Lakeside",
          "Lakeside",
          "Lakeside",
          "Lakeside",
          "Lakeside",
          "Lakeside",
          "Lakeside",
          "Liberty",
          "Liberty",
          "Liberty",
          "Liberty",
          "Liberty",
          "Liberty",
          "Liberty",
          "Little Mill",
          "Little Mill",
          "Little Mill",
          "Little Mill",
          "Little Mill",
          "Little Mill",
          "Little Mill",
          "North Forsyth",
          "North Forsyth",
          "North Forsyth",
          "North Forsyth",
          "North Forsyth",
          "North Forsyth",
          "North Forsyth",
          "Otwell",
          "Otwell",
          "Otwell",
          "Otwell",
          "Otwell",
          "Otwell",
          "Otwell",
          "Piney Grove",
          "Piney Grove",
          "Piney Grove",
          "Piney Grove",
          "Piney Grove",
          "Piney Grove",
          "Piney Grove",
          "Riverwatch",
          "Riverwatch",
          "Riverwatch",
          "Riverwatch",
          "Riverwatch",
          "Riverwatch",
          "Riverwatch",
          "South Forsyth",
          "South Forsyth",
          "South Forsyth",
          "South Forsyth",
          "South Forsyth",
          "South Forsyth",
          "South Forsyth",
          "Vickery Creek",
          "Vickery Creek",
          "Vickery Creek",
          "Vickery Creek",
          "Vickery Creek",
          "Vickery Creek",
          "Vickery Creek",
          "Alliance Academy for Innovation",
          "Alliance Academy for Innovation",
          "Alliance Academy for Innovation",
          "Alliance Academy for Innovation",
          "Alliance Academy for Innovation",
          "Alliance Academy for Innovation",
          "Alliance Academy for Innovation",
          "Denmark",
          "Denmark",
          "Denmark",
          "Denmark",
          "Denmark",
          "Denmark",
          "Denmark",
          "Forsyth Central",
          "Forsyth Central",
          "Forsyth Central",
          "Forsyth Central",
          "Forsyth Central",
          "Forsyth Central",
          "Forsyth Central",
          "Lambert",
          "Lambert",
          "Lambert",
          "Lambert",
          "Lambert",
          "Lambert",
          "Lambert",
          "North Forsyth",
          "North Forsyth",
          "North Forsyth",
          "North Forsyth",
          "North Forsyth",
          "North Forsyth",
          "North Forsyth",
          "South Forsyth",
          "South Forsyth",
          "South Forsyth",
          "South Forsyth",
          "South Forsyth",
          "South Forsyth",
          "South Forsyth",
          "West Forsyth",
          "West Forsyth",
          "West Forsyth",
          "West Forsyth",
          "West Forsyth",
          "West Forsyth",
          "West Forsyth"
         ],
         "lat": [
          34.113906,
          34.113906,
          34.113906,
          34.113906,
          34.113906,
          34.113906,
          34.113906,
          34.1335,
          34.1335,
          34.1335,
          34.1335,
          34.1335,
          34.1335,
          34.1335,
          34.101762,
          34.101762,
          34.101762,
          34.101762,
          34.101762,
          34.101762,
          34.101762,
          34.239073,
          34.239073,
          34.239073,
          34.239073,
          34.239073,
          34.239073,
          34.239073,
          34.297109000000006,
          34.297109000000006,
          34.297109000000006,
          34.297109000000006,
          34.297109000000006,
          34.297109000000006,
          34.297109000000006,
          34.274361999999996,
          34.274361999999996,
          34.274361999999996,
          34.274361999999996,
          34.274361999999996,
          34.274361999999996,
          34.274361999999996,
          34.22145,
          34.22145,
          34.22145,
          34.22145,
          34.22145,
          34.22145,
          34.22145,
          34.137060999999996,
          34.137060999999996,
          34.137060999999996,
          34.137060999999996,
          34.137060999999996,
          34.137060999999996,
          34.137060999999996,
          34.164334999999994,
          34.164334999999994,
          34.164334999999994,
          34.164334999999994,
          34.164334999999994,
          34.164334999999994,
          34.164334999999994,
          34.065647999999996,
          34.065647999999996,
          34.065647999999996,
          34.065647999999996,
          34.065647999999996,
          34.065647999999996,
          34.065647999999996,
          34.208588,
          34.208588,
          34.208588,
          34.208588,
          34.208588,
          34.208588,
          34.208588,
          34.168931,
          34.168931,
          34.168931,
          34.168931,
          34.168931,
          34.168931,
          34.168931,
          34.290784,
          34.290784,
          34.290784,
          34.290784,
          34.290784,
          34.290784,
          34.290784,
          34.159086,
          34.159086,
          34.159086,
          34.159086,
          34.159086,
          34.159086,
          34.159086,
          34.279810999999995,
          34.279810999999995,
          34.279810999999995,
          34.279810999999995,
          34.279810999999995,
          34.279810999999995,
          34.279810999999995,
          34.242191999999996,
          34.242191999999996,
          34.242191999999996,
          34.242191999999996,
          34.242191999999996,
          34.242191999999996,
          34.242191999999996,
          34.124171999999994,
          34.124171999999994,
          34.124171999999994,
          34.124171999999994,
          34.124171999999994,
          34.124171999999994,
          34.124171999999994,
          34.104277,
          34.104277,
          34.104277,
          34.104277,
          34.104277,
          34.104277,
          34.104277,
          34.144505,
          34.144505,
          34.144505,
          34.144505,
          34.144505,
          34.144505,
          34.144505,
          34.328631,
          34.328631,
          34.328631,
          34.328631,
          34.328631,
          34.328631,
          34.328631,
          34.176995,
          34.176995,
          34.176995,
          34.176995,
          34.176995,
          34.176995,
          34.176995,
          34.187329,
          34.187329,
          34.187329,
          34.187329,
          34.187329,
          34.187329,
          34.187329,
          34.130072,
          34.130072,
          34.130072,
          34.130072,
          34.130072,
          34.130072,
          34.130072,
          34.165711,
          34.165711,
          34.165711,
          34.165711,
          34.165711,
          34.165711,
          34.165711,
          34.288540000000005,
          34.288540000000005,
          34.288540000000005,
          34.288540000000005,
          34.288540000000005,
          34.288540000000005,
          34.288540000000005,
          34.249992,
          34.249992,
          34.249992,
          34.249992,
          34.249992,
          34.249992,
          34.249992,
          34.278569,
          34.278569,
          34.278569,
          34.278569,
          34.278569,
          34.278569,
          34.278569,
          34.219535,
          34.219535,
          34.219535,
          34.219535,
          34.219535,
          34.219535,
          34.219535,
          34.14509,
          34.14509,
          34.14509,
          34.14509,
          34.14509,
          34.14509,
          34.14509,
          34.125074,
          34.125074,
          34.125074,
          34.125074,
          34.125074,
          34.125074,
          34.125074,
          34.116796,
          34.116796,
          34.116796,
          34.116796,
          34.116796,
          34.116796,
          34.116796,
          34.179534999999994,
          34.179534999999994,
          34.179534999999994,
          34.179534999999994,
          34.179534999999994,
          34.179534999999994,
          34.179534999999994,
          34.219237,
          34.219237,
          34.219237,
          34.219237,
          34.219237,
          34.219237,
          34.219237,
          34.147999,
          34.147999,
          34.147999,
          34.147999,
          34.147999,
          34.147999,
          34.147999,
          34.217102000000004,
          34.217102000000004,
          34.217102000000004,
          34.217102000000004,
          34.217102000000004,
          34.217102000000004,
          34.217102000000004,
          34.106989,
          34.106989,
          34.106989,
          34.106989,
          34.106989,
          34.106989,
          34.106989,
          34.27811,
          34.27811,
          34.27811,
          34.27811,
          34.27811,
          34.27811,
          34.27811,
          34.148412,
          34.148412,
          34.148412,
          34.148412,
          34.148412,
          34.148412,
          34.148412,
          34.211249,
          34.211249,
          34.211249,
          34.211249,
          34.211249,
          34.211249,
          34.211249
         ],
         "legendgroup": "",
         "lon": [
          -84.177824,
          -84.177824,
          -84.177824,
          -84.177824,
          -84.177824,
          -84.177824,
          -84.177824,
          -84.247383,
          -84.247383,
          -84.247383,
          -84.247383,
          -84.247383,
          -84.247383,
          -84.247383,
          -84.18468,
          -84.18468,
          -84.18468,
          -84.18468,
          -84.18468,
          -84.18468,
          -84.18468,
          -84.08623,
          -84.08623,
          -84.08623,
          -84.08623,
          -84.08623,
          -84.08623,
          -84.08623,
          -83.996014,
          -83.996014,
          -83.996014,
          -83.996014,
          -83.996014,
          -83.996014,
          -83.996014,
          -84.106103,
          -84.106103,
          -84.106103,
          -84.106103,
          -84.106103,
          -84.106103,
          -84.106103,
          -84.135623,
          -84.135623,
          -84.135623,
          -84.135623,
          -84.135623,
          -84.135623,
          -84.135623,
          -84.14256400000001,
          -84.14256400000001,
          -84.14256400000001,
          -84.14256400000001,
          -84.14256400000001,
          -84.14256400000001,
          -84.14256400000001,
          -84.09925799999999,
          -84.09925799999999,
          -84.09925799999999,
          -84.09925799999999,
          -84.09925799999999,
          -84.09925799999999,
          -84.09925799999999,
          -84.12756,
          -84.12756,
          -84.12756,
          -84.12756,
          -84.12756,
          -84.12756,
          -84.12756,
          -84.16658699999999,
          -84.16658699999999,
          -84.16658699999999,
          -84.16658699999999,
          -84.16658699999999,
          -84.16658699999999,
          -84.16658699999999,
          -84.105777,
          -84.105777,
          -84.105777,
          -84.105777,
          -84.105777,
          -84.105777,
          -84.105777,
          -84.204504,
          -84.204504,
          -84.204504,
          -84.204504,
          -84.204504,
          -84.204504,
          -84.204504,
          -84.234437,
          -84.234437,
          -84.234437,
          -84.234437,
          -84.234437,
          -84.234437,
          -84.234437,
          -84.233814,
          -84.233814,
          -84.233814,
          -84.233814,
          -84.233814,
          -84.233814,
          -84.233814,
          -84.17603199999999,
          -84.17603199999999,
          -84.17603199999999,
          -84.17603199999999,
          -84.17603199999999,
          -84.17603199999999,
          -84.17603199999999,
          -84.106235,
          -84.106235,
          -84.106235,
          -84.106235,
          -84.106235,
          -84.106235,
          -84.106235,
          -84.13597299999999,
          -84.13597299999999,
          -84.13597299999999,
          -84.13597299999999,
          -84.13597299999999,
          -84.13597299999999,
          -84.13597299999999,
          -84.176538,
          -84.176538,
          -84.176538,
          -84.176538,
          -84.176538,
          -84.176538,
          -84.176538,
          -84.102699,
          -84.102699,
          -84.102699,
          -84.102699,
          -84.102699,
          -84.102699,
          -84.102699,
          -84.224946,
          -84.224946,
          -84.224946,
          -84.224946,
          -84.224946,
          -84.224946,
          -84.224946,
          -84.162151,
          -84.162151,
          -84.162151,
          -84.162151,
          -84.162151,
          -84.162151,
          -84.162151,
          -84.23837900000001,
          -84.23837900000001,
          -84.23837900000001,
          -84.23837900000001,
          -84.23837900000001,
          -84.23837900000001,
          -84.23837900000001,
          -84.097944,
          -84.097944,
          -84.097944,
          -84.097944,
          -84.097944,
          -84.097944,
          -84.097944,
          -84.20521600000001,
          -84.20521600000001,
          -84.20521600000001,
          -84.20521600000001,
          -84.20521600000001,
          -84.20521600000001,
          -84.20521600000001,
          -84.020986,
          -84.020986,
          -84.020986,
          -84.020986,
          -84.020986,
          -84.020986,
          -84.020986,
          -84.103623,
          -84.103623,
          -84.103623,
          -84.103623,
          -84.103623,
          -84.103623,
          -84.103623,
          -84.13730600000001,
          -84.13730600000001,
          -84.13730600000001,
          -84.13730600000001,
          -84.13730600000001,
          -84.13730600000001,
          -84.13730600000001,
          -84.178782,
          -84.178782,
          -84.178782,
          -84.178782,
          -84.178782,
          -84.178782,
          -84.178782,
          -84.10967600000001,
          -84.10967600000001,
          -84.10967600000001,
          -84.10967600000001,
          -84.10967600000001,
          -84.10967600000001,
          -84.10967600000001,
          -84.152999,
          -84.152999,
          -84.152999,
          -84.152999,
          -84.152999,
          -84.152999,
          -84.152999,
          -84.22327299999999,
          -84.22327299999999,
          -84.22327299999999,
          -84.22327299999999,
          -84.22327299999999,
          -84.22327299999999,
          -84.22327299999999,
          -84.115669,
          -84.115669,
          -84.115669,
          -84.115669,
          -84.115669,
          -84.115669,
          -84.115669,
          -84.22931700000001,
          -84.22931700000001,
          -84.22931700000001,
          -84.22931700000001,
          -84.22931700000001,
          -84.22931700000001,
          -84.22931700000001,
          -84.141643,
          -84.141643,
          -84.141643,
          -84.141643,
          -84.141643,
          -84.141643,
          -84.141643,
          -84.13884499999999,
          -84.13884499999999,
          -84.13884499999999,
          -84.13884499999999,
          -84.13884499999999,
          -84.13884499999999,
          -84.13884499999999,
          -84.10639,
          -84.10639,
          -84.10639,
          -84.10639,
          -84.10639,
          -84.10639,
          -84.10639,
          -84.170303,
          -84.170303,
          -84.170303,
          -84.170303,
          -84.170303,
          -84.170303,
          -84.170303,
          -84.214213,
          -84.214213,
          -84.214213,
          -84.214213,
          -84.214213,
          -84.214213,
          -84.214213
         ],
         "marker": {
          "color": [
           0,
           0,
           0,
           0,
           0,
           0,
           0,
           0,
           0,
           0,
           0,
           0,
           0,
           0,
           0,
           0,
           0,
           0,
           0,
           0,
           0,
           0,
           0,
           0,
           2,
           2,
           2,
           2,
           0,
           0,
           0,
           0,
           1,
           1,
           1,
           0,
           0,
           0,
           0,
           2,
           2,
           2,
           0,
           0,
           0,
           0,
           0,
           0,
           0,
           0,
           0,
           0,
           0,
           0,
           0,
           0,
           0,
           0,
           0,
           0,
           0,
           0,
           0,
           0,
           0,
           0,
           0,
           0,
           0,
           0,
           0,
           0,
           0,
           0,
           0,
           0,
           0,
           0,
           0,
           0,
           0,
           0,
           0,
           0,
           0,
           0,
           0,
           0,
           0,
           0,
           0,
           0,
           0,
           0,
           0,
           0,
           0,
           0,
           0,
           0,
           0,
           0,
           0,
           1,
           1,
           0,
           0,
           0,
           0,
           0,
           0,
           0,
           0,
           0,
           0,
           0,
           0,
           0,
           0,
           0,
           0,
           0,
           0,
           0,
           0,
           0,
           0,
           0,
           0,
           0,
           0,
           0,
           1,
           0,
           0,
           0,
           0,
           0,
           0,
           0,
           0,
           0,
           0,
           0,
           0,
           0,
           0,
           0,
           0,
           0,
           0,
           0,
           0,
           0,
           0,
           0,
           0,
           0,
           0,
           0,
           0,
           0,
           0,
           1,
           1,
           1,
           2,
           2,
           0,
           0,
           0,
           0,
           0,
           0,
           0,
           0,
           0,
           1,
           1,
           1,
           2,
           2,
           0,
           0,
           0,
           0,
           0,
           1,
           2,
           0,
           0,
           0,
           0,
           0,
           0,
           0,
           0,
           0,
           0,
           0,
           0,
           0,
           0,
           0,
           0,
           0,
           0,
           0,
           0,
           0,
           0,
           0,
           0,
           0,
           0,
           0,
           0,
           0,
           0,
           1,
           1,
           1,
           2,
           3,
           0,
           0,
           0,
           0,
           0,
           0,
           0,
           0,
           1,
           1,
           1,
           1,
           1,
           2,
           0,
           0,
           2,
           3,
           3,
           3,
           4,
           1,
           1,
           2,
           2,
           3,
           3,
           3,
           0,
           0,
           0,
           0,
           2,
           2,
           3,
           0,
           0,
           0,
           0,
           0,
           0,
           0,
           0,
           1,
           2,
           3,
           3,
           4,
           4
          ],
          "coloraxis": "coloraxis",
          "size": [
           0,
           0,
           0,
           0,
           0,
           0,
           0,
           0,
           0,
           0,
           0,
           0,
           0,
           0,
           0,
           0,
           0,
           0,
           0,
           0,
           0,
           0,
           0,
           0,
           2,
           2,
           2,
           2,
           0,
           0,
           0,
           0,
           1,
           1,
           1,
           0,
           0,
           0,
           0,
           2,
           2,
           2,
           0,
           0,
           0,
           0,
           0,
           0,
           0,
           0,
           0,
           0,
           0,
           0,
           0,
           0,
           0,
           0,
           0,
           0,
           0,
           0,
           0,
           0,
           0,
           0,
           0,
           0,
           0,
           0,
           0,
           0,
           0,
           0,
           0,
           0,
           0,
           0,
           0,
           0,
           0,
           0,
           0,
           0,
           0,
           0,
           0,
           0,
           0,
           0,
           0,
           0,
           0,
           0,
           0,
           0,
           0,
           0,
           0,
           0,
           0,
           0,
           0,
           1,
           1,
           0,
           0,
           0,
           0,
           0,
           0,
           0,
           0,
           0,
           0,
           0,
           0,
           0,
           0,
           0,
           0,
           0,
           0,
           0,
           0,
           0,
           0,
           0,
           0,
           0,
           0,
           0,
           1,
           0,
           0,
           0,
           0,
           0,
           0,
           0,
           0,
           0,
           0,
           0,
           0,
           0,
           0,
           0,
           0,
           0,
           0,
           0,
           0,
           0,
           0,
           0,
           0,
           0,
           0,
           0,
           0,
           0,
           0,
           1,
           1,
           1,
           2,
           2,
           0,
           0,
           0,
           0,
           0,
           0,
           0,
           0,
           0,
           1,
           1,
           1,
           2,
           2,
           0,
           0,
           0,
           0,
           0,
           1,
           2,
           0,
           0,
           0,
           0,
           0,
           0,
           0,
           0,
           0,
           0,
           0,
           0,
           0,
           0,
           0,
           0,
           0,
           0,
           0,
           0,
           0,
           0,
           0,
           0,
           0,
           0,
           0,
           0,
           0,
           0,
           1,
           1,
           1,
           2,
           3,
           0,
           0,
           0,
           0,
           0,
           0,
           0,
           0,
           1,
           1,
           1,
           1,
           1,
           2,
           0,
           0,
           2,
           3,
           3,
           3,
           4,
           1,
           1,
           2,
           2,
           3,
           3,
           3,
           0,
           0,
           0,
           0,
           2,
           2,
           3,
           0,
           0,
           0,
           0,
           0,
           0,
           0,
           0,
           1,
           2,
           3,
           3,
           4,
           4
          ],
          "sizemode": "area",
          "sizeref": 0.01
         },
         "mode": "markers+text",
         "name": "",
         "showlegend": false,
         "subplot": "mapbox",
         "text": [
          "Big Creek",
          "Big Creek",
          "Big Creek",
          "Big Creek",
          "Big Creek",
          "Big Creek",
          "Big Creek",
          "Brandywine",
          "Brandywine",
          "Brandywine",
          "Brandywine",
          "Brandywine",
          "Brandywine",
          "Brandywine",
          "Brookwood",
          "Brookwood",
          "Brookwood",
          "Brookwood",
          "Brookwood",
          "Brookwood",
          "Brookwood",
          "Chattahoochee",
          "Chattahoochee",
          "Chattahoochee",
          "Chattahoochee",
          "Chattahoochee",
          "Chattahoochee",
          "Chattahoochee",
          "Chestatee",
          "Chestatee",
          "Chestatee",
          "Chestatee",
          "Chestatee",
          "Chestatee",
          "Chestatee",
          "Coal Mountain",
          "Coal Mountain",
          "Coal Mountain",
          "Coal Mountain",
          "Coal Mountain",
          "Coal Mountain",
          "Coal Mountain",
          "Cumming",
          "Cumming",
          "Cumming",
          "Cumming",
          "Cumming",
          "Cumming",
          "Cumming",
          "Daves Creek",
          "Daves Creek",
          "Daves Creek",
          "Daves Creek",
          "Daves Creek",
          "Daves Creek",
          "Daves Creek",
          "Haw Creek",
          "Haw Creek",
          "Haw Creek",
          "Haw Creek",
          "Haw Creek",
          "Haw Creek",
          "Haw Creek",
          "Johns Creek",
          "Johns Creek",
          "Johns Creek",
          "Johns Creek",
          "Johns Creek",
          "Johns Creek",
          "Johns Creek",
          "Kelly Mill",
          "Kelly Mill",
          "Kelly Mill",
          "Kelly Mill",
          "Kelly Mill",
          "Kelly Mill",
          "Kelly Mill",
          "Mashburn",
          "Mashburn",
          "Mashburn",
          "Mashburn",
          "Mashburn",
          "Mashburn",
          "Mashburn",
          "Matt",
          "Matt",
          "Matt",
          "Matt",
          "Matt",
          "Matt",
          "Matt",
          "Midway",
          "Midway",
          "Midway",
          "Midway",
          "Midway",
          "Midway",
          "Midway",
          "Poole's Mill",
          "Poole's Mill",
          "Poole's Mill",
          "Poole's Mill",
          "Poole's Mill",
          "Poole's Mill",
          "Poole's Mill",
          "Sawnee",
          "Sawnee",
          "Sawnee",
          "Sawnee",
          "Sawnee",
          "Sawnee",
          "Sawnee",
          "Settles Bridge",
          "Settles Bridge",
          "Settles Bridge",
          "Settles Bridge",
          "Settles Bridge",
          "Settles Bridge",
          "Settles Bridge",
          "Sharon",
          "Sharon",
          "Sharon",
          "Sharon",
          "Sharon",
          "Sharon",
          "Sharon",
          "Shiloh Point",
          "Shiloh Point",
          "Shiloh Point",
          "Shiloh Point",
          "Shiloh Point",
          "Shiloh Point",
          "Shiloh Point",
          "Silver City",
          "Silver City",
          "Silver City",
          "Silver City",
          "Silver City",
          "Silver City",
          "Silver City",
          "Vickery Creek",
          "Vickery Creek",
          "Vickery Creek",
          "Vickery Creek",
          "Vickery Creek",
          "Vickery Creek",
          "Vickery Creek",
          "Whitlow",
          "Whitlow",
          "Whitlow",
          "Whitlow",
          "Whitlow",
          "Whitlow",
          "Whitlow",
          "DeSana",
          "DeSana",
          "DeSana",
          "DeSana",
          "DeSana",
          "DeSana",
          "DeSana",
          "Lakeside",
          "Lakeside",
          "Lakeside",
          "Lakeside",
          "Lakeside",
          "Lakeside",
          "Lakeside",
          "Liberty",
          "Liberty",
          "Liberty",
          "Liberty",
          "Liberty",
          "Liberty",
          "Liberty",
          "Little Mill",
          "Little Mill",
          "Little Mill",
          "Little Mill",
          "Little Mill",
          "Little Mill",
          "Little Mill",
          "North Forsyth",
          "North Forsyth",
          "North Forsyth",
          "North Forsyth",
          "North Forsyth",
          "North Forsyth",
          "North Forsyth",
          "Otwell",
          "Otwell",
          "Otwell",
          "Otwell",
          "Otwell",
          "Otwell",
          "Otwell",
          "Piney Grove",
          "Piney Grove",
          "Piney Grove",
          "Piney Grove",
          "Piney Grove",
          "Piney Grove",
          "Piney Grove",
          "Riverwatch",
          "Riverwatch",
          "Riverwatch",
          "Riverwatch",
          "Riverwatch",
          "Riverwatch",
          "Riverwatch",
          "South Forsyth",
          "South Forsyth",
          "South Forsyth",
          "South Forsyth",
          "South Forsyth",
          "South Forsyth",
          "South Forsyth",
          "Vickery Creek",
          "Vickery Creek",
          "Vickery Creek",
          "Vickery Creek",
          "Vickery Creek",
          "Vickery Creek",
          "Vickery Creek",
          "Alliance Academy for Innovation",
          "Alliance Academy for Innovation",
          "Alliance Academy for Innovation",
          "Alliance Academy for Innovation",
          "Alliance Academy for Innovation",
          "Alliance Academy for Innovation",
          "Alliance Academy for Innovation",
          "Denmark",
          "Denmark",
          "Denmark",
          "Denmark",
          "Denmark",
          "Denmark",
          "Denmark",
          "Forsyth Central",
          "Forsyth Central",
          "Forsyth Central",
          "Forsyth Central",
          "Forsyth Central",
          "Forsyth Central",
          "Forsyth Central",
          "Lambert",
          "Lambert",
          "Lambert",
          "Lambert",
          "Lambert",
          "Lambert",
          "Lambert",
          "North Forsyth",
          "North Forsyth",
          "North Forsyth",
          "North Forsyth",
          "North Forsyth",
          "North Forsyth",
          "North Forsyth",
          "South Forsyth",
          "South Forsyth",
          "South Forsyth",
          "South Forsyth",
          "South Forsyth",
          "South Forsyth",
          "South Forsyth",
          "West Forsyth",
          "West Forsyth",
          "West Forsyth",
          "West Forsyth",
          "West Forsyth",
          "West Forsyth",
          "West Forsyth"
         ],
         "type": "scattermapbox"
        }
       ],
       "layout": {
        "coloraxis": {
         "colorbar": {
          "title": {
           "text": "total"
          }
         },
         "colorscale": [
          [
           0,
           "rgb(196, 230, 195)"
          ],
          [
           0.16666666666666666,
           "rgb(150, 210, 164)"
          ],
          [
           0.3333333333333333,
           "rgb(109, 188, 144)"
          ],
          [
           0.5,
           "rgb(77, 162, 132)"
          ],
          [
           0.6666666666666666,
           "rgb(54, 135, 122)"
          ],
          [
           0.8333333333333334,
           "rgb(38, 107, 110)"
          ],
          [
           1,
           "rgb(29, 79, 96)"
          ]
         ]
        },
        "height": 300,
        "legend": {
         "itemsizing": "constant",
         "tracegroupgap": 0
        },
        "mapbox": {
         "center": {
          "lat": 34.221749,
          "lon": -84.135526
         },
         "domain": {
          "x": [
           0,
           1
          ],
          "y": [
           0,
           1
          ]
         },
         "style": "open-street-map",
         "zoom": 9
        },
        "margin": {
         "b": 0,
         "l": 200,
         "r": 200,
         "t": 0
        },
        "template": {
         "data": {
          "bar": [
           {
            "error_x": {
             "color": "#2a3f5f"
            },
            "error_y": {
             "color": "#2a3f5f"
            },
            "marker": {
             "line": {
              "color": "#E5ECF6",
              "width": 0.5
             }
            },
            "type": "bar"
           }
          ],
          "barpolar": [
           {
            "marker": {
             "line": {
              "color": "#E5ECF6",
              "width": 0.5
             }
            },
            "type": "barpolar"
           }
          ],
          "carpet": [
           {
            "aaxis": {
             "endlinecolor": "#2a3f5f",
             "gridcolor": "white",
             "linecolor": "white",
             "minorgridcolor": "white",
             "startlinecolor": "#2a3f5f"
            },
            "baxis": {
             "endlinecolor": "#2a3f5f",
             "gridcolor": "white",
             "linecolor": "white",
             "minorgridcolor": "white",
             "startlinecolor": "#2a3f5f"
            },
            "type": "carpet"
           }
          ],
          "choropleth": [
           {
            "colorbar": {
             "outlinewidth": 0,
             "ticks": ""
            },
            "type": "choropleth"
           }
          ],
          "contour": [
           {
            "colorbar": {
             "outlinewidth": 0,
             "ticks": ""
            },
            "colorscale": [
             [
              0,
              "#0d0887"
             ],
             [
              0.1111111111111111,
              "#46039f"
             ],
             [
              0.2222222222222222,
              "#7201a8"
             ],
             [
              0.3333333333333333,
              "#9c179e"
             ],
             [
              0.4444444444444444,
              "#bd3786"
             ],
             [
              0.5555555555555556,
              "#d8576b"
             ],
             [
              0.6666666666666666,
              "#ed7953"
             ],
             [
              0.7777777777777778,
              "#fb9f3a"
             ],
             [
              0.8888888888888888,
              "#fdca26"
             ],
             [
              1,
              "#f0f921"
             ]
            ],
            "type": "contour"
           }
          ],
          "contourcarpet": [
           {
            "colorbar": {
             "outlinewidth": 0,
             "ticks": ""
            },
            "type": "contourcarpet"
           }
          ],
          "heatmap": [
           {
            "colorbar": {
             "outlinewidth": 0,
             "ticks": ""
            },
            "colorscale": [
             [
              0,
              "#0d0887"
             ],
             [
              0.1111111111111111,
              "#46039f"
             ],
             [
              0.2222222222222222,
              "#7201a8"
             ],
             [
              0.3333333333333333,
              "#9c179e"
             ],
             [
              0.4444444444444444,
              "#bd3786"
             ],
             [
              0.5555555555555556,
              "#d8576b"
             ],
             [
              0.6666666666666666,
              "#ed7953"
             ],
             [
              0.7777777777777778,
              "#fb9f3a"
             ],
             [
              0.8888888888888888,
              "#fdca26"
             ],
             [
              1,
              "#f0f921"
             ]
            ],
            "type": "heatmap"
           }
          ],
          "heatmapgl": [
           {
            "colorbar": {
             "outlinewidth": 0,
             "ticks": ""
            },
            "colorscale": [
             [
              0,
              "#0d0887"
             ],
             [
              0.1111111111111111,
              "#46039f"
             ],
             [
              0.2222222222222222,
              "#7201a8"
             ],
             [
              0.3333333333333333,
              "#9c179e"
             ],
             [
              0.4444444444444444,
              "#bd3786"
             ],
             [
              0.5555555555555556,
              "#d8576b"
             ],
             [
              0.6666666666666666,
              "#ed7953"
             ],
             [
              0.7777777777777778,
              "#fb9f3a"
             ],
             [
              0.8888888888888888,
              "#fdca26"
             ],
             [
              1,
              "#f0f921"
             ]
            ],
            "type": "heatmapgl"
           }
          ],
          "histogram": [
           {
            "marker": {
             "colorbar": {
              "outlinewidth": 0,
              "ticks": ""
             }
            },
            "type": "histogram"
           }
          ],
          "histogram2d": [
           {
            "colorbar": {
             "outlinewidth": 0,
             "ticks": ""
            },
            "colorscale": [
             [
              0,
              "#0d0887"
             ],
             [
              0.1111111111111111,
              "#46039f"
             ],
             [
              0.2222222222222222,
              "#7201a8"
             ],
             [
              0.3333333333333333,
              "#9c179e"
             ],
             [
              0.4444444444444444,
              "#bd3786"
             ],
             [
              0.5555555555555556,
              "#d8576b"
             ],
             [
              0.6666666666666666,
              "#ed7953"
             ],
             [
              0.7777777777777778,
              "#fb9f3a"
             ],
             [
              0.8888888888888888,
              "#fdca26"
             ],
             [
              1,
              "#f0f921"
             ]
            ],
            "type": "histogram2d"
           }
          ],
          "histogram2dcontour": [
           {
            "colorbar": {
             "outlinewidth": 0,
             "ticks": ""
            },
            "colorscale": [
             [
              0,
              "#0d0887"
             ],
             [
              0.1111111111111111,
              "#46039f"
             ],
             [
              0.2222222222222222,
              "#7201a8"
             ],
             [
              0.3333333333333333,
              "#9c179e"
             ],
             [
              0.4444444444444444,
              "#bd3786"
             ],
             [
              0.5555555555555556,
              "#d8576b"
             ],
             [
              0.6666666666666666,
              "#ed7953"
             ],
             [
              0.7777777777777778,
              "#fb9f3a"
             ],
             [
              0.8888888888888888,
              "#fdca26"
             ],
             [
              1,
              "#f0f921"
             ]
            ],
            "type": "histogram2dcontour"
           }
          ],
          "mesh3d": [
           {
            "colorbar": {
             "outlinewidth": 0,
             "ticks": ""
            },
            "type": "mesh3d"
           }
          ],
          "parcoords": [
           {
            "line": {
             "colorbar": {
              "outlinewidth": 0,
              "ticks": ""
             }
            },
            "type": "parcoords"
           }
          ],
          "pie": [
           {
            "automargin": true,
            "type": "pie"
           }
          ],
          "scatter": [
           {
            "marker": {
             "colorbar": {
              "outlinewidth": 0,
              "ticks": ""
             }
            },
            "type": "scatter"
           }
          ],
          "scatter3d": [
           {
            "line": {
             "colorbar": {
              "outlinewidth": 0,
              "ticks": ""
             }
            },
            "marker": {
             "colorbar": {
              "outlinewidth": 0,
              "ticks": ""
             }
            },
            "type": "scatter3d"
           }
          ],
          "scattercarpet": [
           {
            "marker": {
             "colorbar": {
              "outlinewidth": 0,
              "ticks": ""
             }
            },
            "type": "scattercarpet"
           }
          ],
          "scattergeo": [
           {
            "marker": {
             "colorbar": {
              "outlinewidth": 0,
              "ticks": ""
             }
            },
            "type": "scattergeo"
           }
          ],
          "scattergl": [
           {
            "marker": {
             "colorbar": {
              "outlinewidth": 0,
              "ticks": ""
             }
            },
            "type": "scattergl"
           }
          ],
          "scattermapbox": [
           {
            "marker": {
             "colorbar": {
              "outlinewidth": 0,
              "ticks": ""
             }
            },
            "type": "scattermapbox"
           }
          ],
          "scatterpolar": [
           {
            "marker": {
             "colorbar": {
              "outlinewidth": 0,
              "ticks": ""
             }
            },
            "type": "scatterpolar"
           }
          ],
          "scatterpolargl": [
           {
            "marker": {
             "colorbar": {
              "outlinewidth": 0,
              "ticks": ""
             }
            },
            "type": "scatterpolargl"
           }
          ],
          "scatterternary": [
           {
            "marker": {
             "colorbar": {
              "outlinewidth": 0,
              "ticks": ""
             }
            },
            "type": "scatterternary"
           }
          ],
          "surface": [
           {
            "colorbar": {
             "outlinewidth": 0,
             "ticks": ""
            },
            "colorscale": [
             [
              0,
              "#0d0887"
             ],
             [
              0.1111111111111111,
              "#46039f"
             ],
             [
              0.2222222222222222,
              "#7201a8"
             ],
             [
              0.3333333333333333,
              "#9c179e"
             ],
             [
              0.4444444444444444,
              "#bd3786"
             ],
             [
              0.5555555555555556,
              "#d8576b"
             ],
             [
              0.6666666666666666,
              "#ed7953"
             ],
             [
              0.7777777777777778,
              "#fb9f3a"
             ],
             [
              0.8888888888888888,
              "#fdca26"
             ],
             [
              1,
              "#f0f921"
             ]
            ],
            "type": "surface"
           }
          ],
          "table": [
           {
            "cells": {
             "fill": {
              "color": "#EBF0F8"
             },
             "line": {
              "color": "white"
             }
            },
            "header": {
             "fill": {
              "color": "#C8D4E3"
             },
             "line": {
              "color": "white"
             }
            },
            "type": "table"
           }
          ]
         },
         "layout": {
          "annotationdefaults": {
           "arrowcolor": "#2a3f5f",
           "arrowhead": 0,
           "arrowwidth": 1
          },
          "coloraxis": {
           "colorbar": {
            "outlinewidth": 0,
            "ticks": ""
           }
          },
          "colorscale": {
           "diverging": [
            [
             0,
             "#8e0152"
            ],
            [
             0.1,
             "#c51b7d"
            ],
            [
             0.2,
             "#de77ae"
            ],
            [
             0.3,
             "#f1b6da"
            ],
            [
             0.4,
             "#fde0ef"
            ],
            [
             0.5,
             "#f7f7f7"
            ],
            [
             0.6,
             "#e6f5d0"
            ],
            [
             0.7,
             "#b8e186"
            ],
            [
             0.8,
             "#7fbc41"
            ],
            [
             0.9,
             "#4d9221"
            ],
            [
             1,
             "#276419"
            ]
           ],
           "sequential": [
            [
             0,
             "#0d0887"
            ],
            [
             0.1111111111111111,
             "#46039f"
            ],
            [
             0.2222222222222222,
             "#7201a8"
            ],
            [
             0.3333333333333333,
             "#9c179e"
            ],
            [
             0.4444444444444444,
             "#bd3786"
            ],
            [
             0.5555555555555556,
             "#d8576b"
            ],
            [
             0.6666666666666666,
             "#ed7953"
            ],
            [
             0.7777777777777778,
             "#fb9f3a"
            ],
            [
             0.8888888888888888,
             "#fdca26"
            ],
            [
             1,
             "#f0f921"
            ]
           ],
           "sequentialminus": [
            [
             0,
             "#0d0887"
            ],
            [
             0.1111111111111111,
             "#46039f"
            ],
            [
             0.2222222222222222,
             "#7201a8"
            ],
            [
             0.3333333333333333,
             "#9c179e"
            ],
            [
             0.4444444444444444,
             "#bd3786"
            ],
            [
             0.5555555555555556,
             "#d8576b"
            ],
            [
             0.6666666666666666,
             "#ed7953"
            ],
            [
             0.7777777777777778,
             "#fb9f3a"
            ],
            [
             0.8888888888888888,
             "#fdca26"
            ],
            [
             1,
             "#f0f921"
            ]
           ]
          },
          "colorway": [
           "#636efa",
           "#EF553B",
           "#00cc96",
           "#ab63fa",
           "#FFA15A",
           "#19d3f3",
           "#FF6692",
           "#B6E880",
           "#FF97FF",
           "#FECB52"
          ],
          "font": {
           "color": "#2a3f5f"
          },
          "geo": {
           "bgcolor": "white",
           "lakecolor": "white",
           "landcolor": "#E5ECF6",
           "showlakes": true,
           "showland": true,
           "subunitcolor": "white"
          },
          "hoverlabel": {
           "align": "left"
          },
          "hovermode": "closest",
          "mapbox": {
           "style": "light"
          },
          "paper_bgcolor": "white",
          "plot_bgcolor": "#E5ECF6",
          "polar": {
           "angularaxis": {
            "gridcolor": "white",
            "linecolor": "white",
            "ticks": ""
           },
           "bgcolor": "#E5ECF6",
           "radialaxis": {
            "gridcolor": "white",
            "linecolor": "white",
            "ticks": ""
           }
          },
          "scene": {
           "xaxis": {
            "backgroundcolor": "#E5ECF6",
            "gridcolor": "white",
            "gridwidth": 2,
            "linecolor": "white",
            "showbackground": true,
            "ticks": "",
            "zerolinecolor": "white"
           },
           "yaxis": {
            "backgroundcolor": "#E5ECF6",
            "gridcolor": "white",
            "gridwidth": 2,
            "linecolor": "white",
            "showbackground": true,
            "ticks": "",
            "zerolinecolor": "white"
           },
           "zaxis": {
            "backgroundcolor": "#E5ECF6",
            "gridcolor": "white",
            "gridwidth": 2,
            "linecolor": "white",
            "showbackground": true,
            "ticks": "",
            "zerolinecolor": "white"
           }
          },
          "shapedefaults": {
           "line": {
            "color": "#2a3f5f"
           }
          },
          "ternary": {
           "aaxis": {
            "gridcolor": "white",
            "linecolor": "white",
            "ticks": ""
           },
           "baxis": {
            "gridcolor": "white",
            "linecolor": "white",
            "ticks": ""
           },
           "bgcolor": "#E5ECF6",
           "caxis": {
            "gridcolor": "white",
            "linecolor": "white",
            "ticks": ""
           }
          },
          "title": {
           "x": 0.05
          },
          "xaxis": {
           "automargin": true,
           "gridcolor": "white",
           "linecolor": "white",
           "ticks": "",
           "title": {
            "standoff": 15
           },
           "zerolinecolor": "white",
           "zerolinewidth": 2
          },
          "yaxis": {
           "automargin": true,
           "gridcolor": "white",
           "linecolor": "white",
           "ticks": "",
           "title": {
            "standoff": 15
           },
           "zerolinecolor": "white",
           "zerolinewidth": 2
          }
         }
        }
       }
      },
      "text/html": [
       "<div>\n",
       "        \n",
       "        \n",
       "            <div id=\"c6cc0445-7c4b-4461-89bc-c4c1b6e48ba3\" class=\"plotly-graph-div\" style=\"height:300px; width:100%;\"></div>\n",
       "            <script type=\"text/javascript\">\n",
       "                require([\"plotly\"], function(Plotly) {\n",
       "                    window.PLOTLYENV=window.PLOTLYENV || {};\n",
       "                    \n",
       "                if (document.getElementById(\"c6cc0445-7c4b-4461-89bc-c4c1b6e48ba3\")) {\n",
       "                    Plotly.newPlot(\n",
       "                        'c6cc0445-7c4b-4461-89bc-c4c1b6e48ba3',\n",
       "                        [{\"hovertemplate\": \"<b>%{hovertext}</b><br><br>size=%{marker.size}<br>school=%{text}<br>latitude=%{lat}<br>longitude=%{lon}<br>total=%{marker.color}<extra></extra>\", \"hovertext\": [\"Big Creek\", \"Big Creek\", \"Big Creek\", \"Big Creek\", \"Big Creek\", \"Big Creek\", \"Big Creek\", \"Brandywine\", \"Brandywine\", \"Brandywine\", \"Brandywine\", \"Brandywine\", \"Brandywine\", \"Brandywine\", \"Brookwood\", \"Brookwood\", \"Brookwood\", \"Brookwood\", \"Brookwood\", \"Brookwood\", \"Brookwood\", \"Chattahoochee\", \"Chattahoochee\", \"Chattahoochee\", \"Chattahoochee\", \"Chattahoochee\", \"Chattahoochee\", \"Chattahoochee\", \"Chestatee\", \"Chestatee\", \"Chestatee\", \"Chestatee\", \"Chestatee\", \"Chestatee\", \"Chestatee\", \"Coal Mountain\", \"Coal Mountain\", \"Coal Mountain\", \"Coal Mountain\", \"Coal Mountain\", \"Coal Mountain\", \"Coal Mountain\", \"Cumming\", \"Cumming\", \"Cumming\", \"Cumming\", \"Cumming\", \"Cumming\", \"Cumming\", \"Daves Creek\", \"Daves Creek\", \"Daves Creek\", \"Daves Creek\", \"Daves Creek\", \"Daves Creek\", \"Daves Creek\", \"Haw Creek\", \"Haw Creek\", \"Haw Creek\", \"Haw Creek\", \"Haw Creek\", \"Haw Creek\", \"Haw Creek\", \"Johns Creek\", \"Johns Creek\", \"Johns Creek\", \"Johns Creek\", \"Johns Creek\", \"Johns Creek\", \"Johns Creek\", \"Kelly Mill\", \"Kelly Mill\", \"Kelly Mill\", \"Kelly Mill\", \"Kelly Mill\", \"Kelly Mill\", \"Kelly Mill\", \"Mashburn\", \"Mashburn\", \"Mashburn\", \"Mashburn\", \"Mashburn\", \"Mashburn\", \"Mashburn\", \"Matt\", \"Matt\", \"Matt\", \"Matt\", \"Matt\", \"Matt\", \"Matt\", \"Midway\", \"Midway\", \"Midway\", \"Midway\", \"Midway\", \"Midway\", \"Midway\", \"Poole's Mill\", \"Poole's Mill\", \"Poole's Mill\", \"Poole's Mill\", \"Poole's Mill\", \"Poole's Mill\", \"Poole's Mill\", \"Sawnee\", \"Sawnee\", \"Sawnee\", \"Sawnee\", \"Sawnee\", \"Sawnee\", \"Sawnee\", \"Settles Bridge\", \"Settles Bridge\", \"Settles Bridge\", \"Settles Bridge\", \"Settles Bridge\", \"Settles Bridge\", \"Settles Bridge\", \"Sharon\", \"Sharon\", \"Sharon\", \"Sharon\", \"Sharon\", \"Sharon\", \"Sharon\", \"Shiloh Point\", \"Shiloh Point\", \"Shiloh Point\", \"Shiloh Point\", \"Shiloh Point\", \"Shiloh Point\", \"Shiloh Point\", \"Silver City\", \"Silver City\", \"Silver City\", \"Silver City\", \"Silver City\", \"Silver City\", \"Silver City\", \"Vickery Creek\", \"Vickery Creek\", \"Vickery Creek\", \"Vickery Creek\", \"Vickery Creek\", \"Vickery Creek\", \"Vickery Creek\", \"Whitlow\", \"Whitlow\", \"Whitlow\", \"Whitlow\", \"Whitlow\", \"Whitlow\", \"Whitlow\", \"DeSana\", \"DeSana\", \"DeSana\", \"DeSana\", \"DeSana\", \"DeSana\", \"DeSana\", \"Lakeside\", \"Lakeside\", \"Lakeside\", \"Lakeside\", \"Lakeside\", \"Lakeside\", \"Lakeside\", \"Liberty\", \"Liberty\", \"Liberty\", \"Liberty\", \"Liberty\", \"Liberty\", \"Liberty\", \"Little Mill\", \"Little Mill\", \"Little Mill\", \"Little Mill\", \"Little Mill\", \"Little Mill\", \"Little Mill\", \"North Forsyth\", \"North Forsyth\", \"North Forsyth\", \"North Forsyth\", \"North Forsyth\", \"North Forsyth\", \"North Forsyth\", \"Otwell\", \"Otwell\", \"Otwell\", \"Otwell\", \"Otwell\", \"Otwell\", \"Otwell\", \"Piney Grove\", \"Piney Grove\", \"Piney Grove\", \"Piney Grove\", \"Piney Grove\", \"Piney Grove\", \"Piney Grove\", \"Riverwatch\", \"Riverwatch\", \"Riverwatch\", \"Riverwatch\", \"Riverwatch\", \"Riverwatch\", \"Riverwatch\", \"South Forsyth\", \"South Forsyth\", \"South Forsyth\", \"South Forsyth\", \"South Forsyth\", \"South Forsyth\", \"South Forsyth\", \"Vickery Creek\", \"Vickery Creek\", \"Vickery Creek\", \"Vickery Creek\", \"Vickery Creek\", \"Vickery Creek\", \"Vickery Creek\", \"Alliance Academy for Innovation\", \"Alliance Academy for Innovation\", \"Alliance Academy for Innovation\", \"Alliance Academy for Innovation\", \"Alliance Academy for Innovation\", \"Alliance Academy for Innovation\", \"Alliance Academy for Innovation\", \"Denmark\", \"Denmark\", \"Denmark\", \"Denmark\", \"Denmark\", \"Denmark\", \"Denmark\", \"Forsyth Central\", \"Forsyth Central\", \"Forsyth Central\", \"Forsyth Central\", \"Forsyth Central\", \"Forsyth Central\", \"Forsyth Central\", \"Lambert\", \"Lambert\", \"Lambert\", \"Lambert\", \"Lambert\", \"Lambert\", \"Lambert\", \"North Forsyth\", \"North Forsyth\", \"North Forsyth\", \"North Forsyth\", \"North Forsyth\", \"North Forsyth\", \"North Forsyth\", \"South Forsyth\", \"South Forsyth\", \"South Forsyth\", \"South Forsyth\", \"South Forsyth\", \"South Forsyth\", \"South Forsyth\", \"West Forsyth\", \"West Forsyth\", \"West Forsyth\", \"West Forsyth\", \"West Forsyth\", \"West Forsyth\", \"West Forsyth\"], \"lat\": [34.113906, 34.113906, 34.113906, 34.113906, 34.113906, 34.113906, 34.113906, 34.1335, 34.1335, 34.1335, 34.1335, 34.1335, 34.1335, 34.1335, 34.101762, 34.101762, 34.101762, 34.101762, 34.101762, 34.101762, 34.101762, 34.239073, 34.239073, 34.239073, 34.239073, 34.239073, 34.239073, 34.239073, 34.297109000000006, 34.297109000000006, 34.297109000000006, 34.297109000000006, 34.297109000000006, 34.297109000000006, 34.297109000000006, 34.274361999999996, 34.274361999999996, 34.274361999999996, 34.274361999999996, 34.274361999999996, 34.274361999999996, 34.274361999999996, 34.22145, 34.22145, 34.22145, 34.22145, 34.22145, 34.22145, 34.22145, 34.137060999999996, 34.137060999999996, 34.137060999999996, 34.137060999999996, 34.137060999999996, 34.137060999999996, 34.137060999999996, 34.164334999999994, 34.164334999999994, 34.164334999999994, 34.164334999999994, 34.164334999999994, 34.164334999999994, 34.164334999999994, 34.065647999999996, 34.065647999999996, 34.065647999999996, 34.065647999999996, 34.065647999999996, 34.065647999999996, 34.065647999999996, 34.208588, 34.208588, 34.208588, 34.208588, 34.208588, 34.208588, 34.208588, 34.168931, 34.168931, 34.168931, 34.168931, 34.168931, 34.168931, 34.168931, 34.290784, 34.290784, 34.290784, 34.290784, 34.290784, 34.290784, 34.290784, 34.159086, 34.159086, 34.159086, 34.159086, 34.159086, 34.159086, 34.159086, 34.279810999999995, 34.279810999999995, 34.279810999999995, 34.279810999999995, 34.279810999999995, 34.279810999999995, 34.279810999999995, 34.242191999999996, 34.242191999999996, 34.242191999999996, 34.242191999999996, 34.242191999999996, 34.242191999999996, 34.242191999999996, 34.124171999999994, 34.124171999999994, 34.124171999999994, 34.124171999999994, 34.124171999999994, 34.124171999999994, 34.124171999999994, 34.104277, 34.104277, 34.104277, 34.104277, 34.104277, 34.104277, 34.104277, 34.144505, 34.144505, 34.144505, 34.144505, 34.144505, 34.144505, 34.144505, 34.328631, 34.328631, 34.328631, 34.328631, 34.328631, 34.328631, 34.328631, 34.176995, 34.176995, 34.176995, 34.176995, 34.176995, 34.176995, 34.176995, 34.187329, 34.187329, 34.187329, 34.187329, 34.187329, 34.187329, 34.187329, 34.130072, 34.130072, 34.130072, 34.130072, 34.130072, 34.130072, 34.130072, 34.165711, 34.165711, 34.165711, 34.165711, 34.165711, 34.165711, 34.165711, 34.288540000000005, 34.288540000000005, 34.288540000000005, 34.288540000000005, 34.288540000000005, 34.288540000000005, 34.288540000000005, 34.249992, 34.249992, 34.249992, 34.249992, 34.249992, 34.249992, 34.249992, 34.278569, 34.278569, 34.278569, 34.278569, 34.278569, 34.278569, 34.278569, 34.219535, 34.219535, 34.219535, 34.219535, 34.219535, 34.219535, 34.219535, 34.14509, 34.14509, 34.14509, 34.14509, 34.14509, 34.14509, 34.14509, 34.125074, 34.125074, 34.125074, 34.125074, 34.125074, 34.125074, 34.125074, 34.116796, 34.116796, 34.116796, 34.116796, 34.116796, 34.116796, 34.116796, 34.179534999999994, 34.179534999999994, 34.179534999999994, 34.179534999999994, 34.179534999999994, 34.179534999999994, 34.179534999999994, 34.219237, 34.219237, 34.219237, 34.219237, 34.219237, 34.219237, 34.219237, 34.147999, 34.147999, 34.147999, 34.147999, 34.147999, 34.147999, 34.147999, 34.217102000000004, 34.217102000000004, 34.217102000000004, 34.217102000000004, 34.217102000000004, 34.217102000000004, 34.217102000000004, 34.106989, 34.106989, 34.106989, 34.106989, 34.106989, 34.106989, 34.106989, 34.27811, 34.27811, 34.27811, 34.27811, 34.27811, 34.27811, 34.27811, 34.148412, 34.148412, 34.148412, 34.148412, 34.148412, 34.148412, 34.148412, 34.211249, 34.211249, 34.211249, 34.211249, 34.211249, 34.211249, 34.211249], \"legendgroup\": \"\", \"lon\": [-84.177824, -84.177824, -84.177824, -84.177824, -84.177824, -84.177824, -84.177824, -84.247383, -84.247383, -84.247383, -84.247383, -84.247383, -84.247383, -84.247383, -84.18468, -84.18468, -84.18468, -84.18468, -84.18468, -84.18468, -84.18468, -84.08623, -84.08623, -84.08623, -84.08623, -84.08623, -84.08623, -84.08623, -83.996014, -83.996014, -83.996014, -83.996014, -83.996014, -83.996014, -83.996014, -84.106103, -84.106103, -84.106103, -84.106103, -84.106103, -84.106103, -84.106103, -84.135623, -84.135623, -84.135623, -84.135623, -84.135623, -84.135623, -84.135623, -84.14256400000001, -84.14256400000001, -84.14256400000001, -84.14256400000001, -84.14256400000001, -84.14256400000001, -84.14256400000001, -84.09925799999999, -84.09925799999999, -84.09925799999999, -84.09925799999999, -84.09925799999999, -84.09925799999999, -84.09925799999999, -84.12756, -84.12756, -84.12756, -84.12756, -84.12756, -84.12756, -84.12756, -84.16658699999999, -84.16658699999999, -84.16658699999999, -84.16658699999999, -84.16658699999999, -84.16658699999999, -84.16658699999999, -84.105777, -84.105777, -84.105777, -84.105777, -84.105777, -84.105777, -84.105777, -84.204504, -84.204504, -84.204504, -84.204504, -84.204504, -84.204504, -84.204504, -84.234437, -84.234437, -84.234437, -84.234437, -84.234437, -84.234437, -84.234437, -84.233814, -84.233814, -84.233814, -84.233814, -84.233814, -84.233814, -84.233814, -84.17603199999999, -84.17603199999999, -84.17603199999999, -84.17603199999999, -84.17603199999999, -84.17603199999999, -84.17603199999999, -84.106235, -84.106235, -84.106235, -84.106235, -84.106235, -84.106235, -84.106235, -84.13597299999999, -84.13597299999999, -84.13597299999999, -84.13597299999999, -84.13597299999999, -84.13597299999999, -84.13597299999999, -84.176538, -84.176538, -84.176538, -84.176538, -84.176538, -84.176538, -84.176538, -84.102699, -84.102699, -84.102699, -84.102699, -84.102699, -84.102699, -84.102699, -84.224946, -84.224946, -84.224946, -84.224946, -84.224946, -84.224946, -84.224946, -84.162151, -84.162151, -84.162151, -84.162151, -84.162151, -84.162151, -84.162151, -84.23837900000001, -84.23837900000001, -84.23837900000001, -84.23837900000001, -84.23837900000001, -84.23837900000001, -84.23837900000001, -84.097944, -84.097944, -84.097944, -84.097944, -84.097944, -84.097944, -84.097944, -84.20521600000001, -84.20521600000001, -84.20521600000001, -84.20521600000001, -84.20521600000001, -84.20521600000001, -84.20521600000001, -84.020986, -84.020986, -84.020986, -84.020986, -84.020986, -84.020986, -84.020986, -84.103623, -84.103623, -84.103623, -84.103623, -84.103623, -84.103623, -84.103623, -84.13730600000001, -84.13730600000001, -84.13730600000001, -84.13730600000001, -84.13730600000001, -84.13730600000001, -84.13730600000001, -84.178782, -84.178782, -84.178782, -84.178782, -84.178782, -84.178782, -84.178782, -84.10967600000001, -84.10967600000001, -84.10967600000001, -84.10967600000001, -84.10967600000001, -84.10967600000001, -84.10967600000001, -84.152999, -84.152999, -84.152999, -84.152999, -84.152999, -84.152999, -84.152999, -84.22327299999999, -84.22327299999999, -84.22327299999999, -84.22327299999999, -84.22327299999999, -84.22327299999999, -84.22327299999999, -84.115669, -84.115669, -84.115669, -84.115669, -84.115669, -84.115669, -84.115669, -84.22931700000001, -84.22931700000001, -84.22931700000001, -84.22931700000001, -84.22931700000001, -84.22931700000001, -84.22931700000001, -84.141643, -84.141643, -84.141643, -84.141643, -84.141643, -84.141643, -84.141643, -84.13884499999999, -84.13884499999999, -84.13884499999999, -84.13884499999999, -84.13884499999999, -84.13884499999999, -84.13884499999999, -84.10639, -84.10639, -84.10639, -84.10639, -84.10639, -84.10639, -84.10639, -84.170303, -84.170303, -84.170303, -84.170303, -84.170303, -84.170303, -84.170303, -84.214213, -84.214213, -84.214213, -84.214213, -84.214213, -84.214213, -84.214213], \"marker\": {\"color\": [0.0, 0.0, 0.0, 0.0, 0.0, 0.0, 0.0, 0.0, 0.0, 0.0, 0.0, 0.0, 0.0, 0.0, 0.0, 0.0, 0.0, 0.0, 0.0, 0.0, 0.0, 0.0, 0.0, 0.0, 2.0, 2.0, 2.0, 2.0, 0.0, 0.0, 0.0, 0.0, 1.0, 1.0, 1.0, 0.0, 0.0, 0.0, 0.0, 2.0, 2.0, 2.0, 0.0, 0.0, 0.0, 0.0, 0.0, 0.0, 0.0, 0.0, 0.0, 0.0, 0.0, 0.0, 0.0, 0.0, 0.0, 0.0, 0.0, 0.0, 0.0, 0.0, 0.0, 0.0, 0.0, 0.0, 0.0, 0.0, 0.0, 0.0, 0.0, 0.0, 0.0, 0.0, 0.0, 0.0, 0.0, 0.0, 0.0, 0.0, 0.0, 0.0, 0.0, 0.0, 0.0, 0.0, 0.0, 0.0, 0.0, 0.0, 0.0, 0.0, 0.0, 0.0, 0.0, 0.0, 0.0, 0.0, 0.0, 0.0, 0.0, 0.0, 0.0, 1.0, 1.0, 0.0, 0.0, 0.0, 0.0, 0.0, 0.0, 0.0, 0.0, 0.0, 0.0, 0.0, 0.0, 0.0, 0.0, 0.0, 0.0, 0.0, 0.0, 0.0, 0.0, 0.0, 0.0, 0.0, 0.0, 0.0, 0.0, 0.0, 1.0, 0.0, 0.0, 0.0, 0.0, 0.0, 0.0, 0.0, 0.0, 0.0, 0.0, 0.0, 0.0, 0.0, 0.0, 0.0, 0.0, 0.0, 0.0, 0.0, 0.0, 0.0, 0.0, 0.0, 0.0, 0.0, 0.0, 0.0, 0.0, 0.0, 0.0, 1.0, 1.0, 1.0, 2.0, 2.0, 0.0, 0.0, 0.0, 0.0, 0.0, 0.0, 0.0, 0.0, 0.0, 1.0, 1.0, 1.0, 2.0, 2.0, 0.0, 0.0, 0.0, 0.0, 0.0, 1.0, 2.0, 0.0, 0.0, 0.0, 0.0, 0.0, 0.0, 0.0, 0.0, 0.0, 0.0, 0.0, 0.0, 0.0, 0.0, 0.0, 0.0, 0.0, 0.0, 0.0, 0.0, 0.0, 0.0, 0.0, 0.0, 0.0, 0.0, 0.0, 0.0, 0.0, 0.0, 1.0, 1.0, 1.0, 2.0, 3.0, 0.0, 0.0, 0.0, 0.0, 0.0, 0.0, 0.0, 0.0, 1.0, 1.0, 1.0, 1.0, 1.0, 2.0, 0.0, 0.0, 2.0, 3.0, 3.0, 3.0, 4.0, 1.0, 1.0, 2.0, 2.0, 3.0, 3.0, 3.0, 0.0, 0.0, 0.0, 0.0, 2.0, 2.0, 3.0, 0.0, 0.0, 0.0, 0.0, 0.0, 0.0, 0.0, 0.0, 1.0, 2.0, 3.0, 3.0, 4.0, 4.0], \"coloraxis\": \"coloraxis\", \"size\": [0.0, 0.0, 0.0, 0.0, 0.0, 0.0, 0.0, 0.0, 0.0, 0.0, 0.0, 0.0, 0.0, 0.0, 0.0, 0.0, 0.0, 0.0, 0.0, 0.0, 0.0, 0.0, 0.0, 0.0, 2.0, 2.0, 2.0, 2.0, 0.0, 0.0, 0.0, 0.0, 1.0, 1.0, 1.0, 0.0, 0.0, 0.0, 0.0, 2.0, 2.0, 2.0, 0.0, 0.0, 0.0, 0.0, 0.0, 0.0, 0.0, 0.0, 0.0, 0.0, 0.0, 0.0, 0.0, 0.0, 0.0, 0.0, 0.0, 0.0, 0.0, 0.0, 0.0, 0.0, 0.0, 0.0, 0.0, 0.0, 0.0, 0.0, 0.0, 0.0, 0.0, 0.0, 0.0, 0.0, 0.0, 0.0, 0.0, 0.0, 0.0, 0.0, 0.0, 0.0, 0.0, 0.0, 0.0, 0.0, 0.0, 0.0, 0.0, 0.0, 0.0, 0.0, 0.0, 0.0, 0.0, 0.0, 0.0, 0.0, 0.0, 0.0, 0.0, 1.0, 1.0, 0.0, 0.0, 0.0, 0.0, 0.0, 0.0, 0.0, 0.0, 0.0, 0.0, 0.0, 0.0, 0.0, 0.0, 0.0, 0.0, 0.0, 0.0, 0.0, 0.0, 0.0, 0.0, 0.0, 0.0, 0.0, 0.0, 0.0, 1.0, 0.0, 0.0, 0.0, 0.0, 0.0, 0.0, 0.0, 0.0, 0.0, 0.0, 0.0, 0.0, 0.0, 0.0, 0.0, 0.0, 0.0, 0.0, 0.0, 0.0, 0.0, 0.0, 0.0, 0.0, 0.0, 0.0, 0.0, 0.0, 0.0, 0.0, 1.0, 1.0, 1.0, 2.0, 2.0, 0.0, 0.0, 0.0, 0.0, 0.0, 0.0, 0.0, 0.0, 0.0, 1.0, 1.0, 1.0, 2.0, 2.0, 0.0, 0.0, 0.0, 0.0, 0.0, 1.0, 2.0, 0.0, 0.0, 0.0, 0.0, 0.0, 0.0, 0.0, 0.0, 0.0, 0.0, 0.0, 0.0, 0.0, 0.0, 0.0, 0.0, 0.0, 0.0, 0.0, 0.0, 0.0, 0.0, 0.0, 0.0, 0.0, 0.0, 0.0, 0.0, 0.0, 0.0, 1.0, 1.0, 1.0, 2.0, 3.0, 0.0, 0.0, 0.0, 0.0, 0.0, 0.0, 0.0, 0.0, 1.0, 1.0, 1.0, 1.0, 1.0, 2.0, 0.0, 0.0, 2.0, 3.0, 3.0, 3.0, 4.0, 1.0, 1.0, 2.0, 2.0, 3.0, 3.0, 3.0, 0.0, 0.0, 0.0, 0.0, 2.0, 2.0, 3.0, 0.0, 0.0, 0.0, 0.0, 0.0, 0.0, 0.0, 0.0, 1.0, 2.0, 3.0, 3.0, 4.0, 4.0], \"sizemode\": \"area\", \"sizeref\": 0.01}, \"mode\": \"markers+text\", \"name\": \"\", \"showlegend\": false, \"subplot\": \"mapbox\", \"text\": [\"Big Creek\", \"Big Creek\", \"Big Creek\", \"Big Creek\", \"Big Creek\", \"Big Creek\", \"Big Creek\", \"Brandywine\", \"Brandywine\", \"Brandywine\", \"Brandywine\", \"Brandywine\", \"Brandywine\", \"Brandywine\", \"Brookwood\", \"Brookwood\", \"Brookwood\", \"Brookwood\", \"Brookwood\", \"Brookwood\", \"Brookwood\", \"Chattahoochee\", \"Chattahoochee\", \"Chattahoochee\", \"Chattahoochee\", \"Chattahoochee\", \"Chattahoochee\", \"Chattahoochee\", \"Chestatee\", \"Chestatee\", \"Chestatee\", \"Chestatee\", \"Chestatee\", \"Chestatee\", \"Chestatee\", \"Coal Mountain\", \"Coal Mountain\", \"Coal Mountain\", \"Coal Mountain\", \"Coal Mountain\", \"Coal Mountain\", \"Coal Mountain\", \"Cumming\", \"Cumming\", \"Cumming\", \"Cumming\", \"Cumming\", \"Cumming\", \"Cumming\", \"Daves Creek\", \"Daves Creek\", \"Daves Creek\", \"Daves Creek\", \"Daves Creek\", \"Daves Creek\", \"Daves Creek\", \"Haw Creek\", \"Haw Creek\", \"Haw Creek\", \"Haw Creek\", \"Haw Creek\", \"Haw Creek\", \"Haw Creek\", \"Johns Creek\", \"Johns Creek\", \"Johns Creek\", \"Johns Creek\", \"Johns Creek\", \"Johns Creek\", \"Johns Creek\", \"Kelly Mill\", \"Kelly Mill\", \"Kelly Mill\", \"Kelly Mill\", \"Kelly Mill\", \"Kelly Mill\", \"Kelly Mill\", \"Mashburn\", \"Mashburn\", \"Mashburn\", \"Mashburn\", \"Mashburn\", \"Mashburn\", \"Mashburn\", \"Matt\", \"Matt\", \"Matt\", \"Matt\", \"Matt\", \"Matt\", \"Matt\", \"Midway\", \"Midway\", \"Midway\", \"Midway\", \"Midway\", \"Midway\", \"Midway\", \"Poole's Mill\", \"Poole's Mill\", \"Poole's Mill\", \"Poole's Mill\", \"Poole's Mill\", \"Poole's Mill\", \"Poole's Mill\", \"Sawnee\", \"Sawnee\", \"Sawnee\", \"Sawnee\", \"Sawnee\", \"Sawnee\", \"Sawnee\", \"Settles Bridge\", \"Settles Bridge\", \"Settles Bridge\", \"Settles Bridge\", \"Settles Bridge\", \"Settles Bridge\", \"Settles Bridge\", \"Sharon\", \"Sharon\", \"Sharon\", \"Sharon\", \"Sharon\", \"Sharon\", \"Sharon\", \"Shiloh Point\", \"Shiloh Point\", \"Shiloh Point\", \"Shiloh Point\", \"Shiloh Point\", \"Shiloh Point\", \"Shiloh Point\", \"Silver City\", \"Silver City\", \"Silver City\", \"Silver City\", \"Silver City\", \"Silver City\", \"Silver City\", \"Vickery Creek\", \"Vickery Creek\", \"Vickery Creek\", \"Vickery Creek\", \"Vickery Creek\", \"Vickery Creek\", \"Vickery Creek\", \"Whitlow\", \"Whitlow\", \"Whitlow\", \"Whitlow\", \"Whitlow\", \"Whitlow\", \"Whitlow\", \"DeSana\", \"DeSana\", \"DeSana\", \"DeSana\", \"DeSana\", \"DeSana\", \"DeSana\", \"Lakeside\", \"Lakeside\", \"Lakeside\", \"Lakeside\", \"Lakeside\", \"Lakeside\", \"Lakeside\", \"Liberty\", \"Liberty\", \"Liberty\", \"Liberty\", \"Liberty\", \"Liberty\", \"Liberty\", \"Little Mill\", \"Little Mill\", \"Little Mill\", \"Little Mill\", \"Little Mill\", \"Little Mill\", \"Little Mill\", \"North Forsyth\", \"North Forsyth\", \"North Forsyth\", \"North Forsyth\", \"North Forsyth\", \"North Forsyth\", \"North Forsyth\", \"Otwell\", \"Otwell\", \"Otwell\", \"Otwell\", \"Otwell\", \"Otwell\", \"Otwell\", \"Piney Grove\", \"Piney Grove\", \"Piney Grove\", \"Piney Grove\", \"Piney Grove\", \"Piney Grove\", \"Piney Grove\", \"Riverwatch\", \"Riverwatch\", \"Riverwatch\", \"Riverwatch\", \"Riverwatch\", \"Riverwatch\", \"Riverwatch\", \"South Forsyth\", \"South Forsyth\", \"South Forsyth\", \"South Forsyth\", \"South Forsyth\", \"South Forsyth\", \"South Forsyth\", \"Vickery Creek\", \"Vickery Creek\", \"Vickery Creek\", \"Vickery Creek\", \"Vickery Creek\", \"Vickery Creek\", \"Vickery Creek\", \"Alliance Academy for Innovation\", \"Alliance Academy for Innovation\", \"Alliance Academy for Innovation\", \"Alliance Academy for Innovation\", \"Alliance Academy for Innovation\", \"Alliance Academy for Innovation\", \"Alliance Academy for Innovation\", \"Denmark\", \"Denmark\", \"Denmark\", \"Denmark\", \"Denmark\", \"Denmark\", \"Denmark\", \"Forsyth Central\", \"Forsyth Central\", \"Forsyth Central\", \"Forsyth Central\", \"Forsyth Central\", \"Forsyth Central\", \"Forsyth Central\", \"Lambert\", \"Lambert\", \"Lambert\", \"Lambert\", \"Lambert\", \"Lambert\", \"Lambert\", \"North Forsyth\", \"North Forsyth\", \"North Forsyth\", \"North Forsyth\", \"North Forsyth\", \"North Forsyth\", \"North Forsyth\", \"South Forsyth\", \"South Forsyth\", \"South Forsyth\", \"South Forsyth\", \"South Forsyth\", \"South Forsyth\", \"South Forsyth\", \"West Forsyth\", \"West Forsyth\", \"West Forsyth\", \"West Forsyth\", \"West Forsyth\", \"West Forsyth\", \"West Forsyth\"], \"type\": \"scattermapbox\"}],\n",
       "                        {\"coloraxis\": {\"colorbar\": {\"title\": {\"text\": \"total\"}}, \"colorscale\": [[0.0, \"rgb(196, 230, 195)\"], [0.16666666666666666, \"rgb(150, 210, 164)\"], [0.3333333333333333, \"rgb(109, 188, 144)\"], [0.5, \"rgb(77, 162, 132)\"], [0.6666666666666666, \"rgb(54, 135, 122)\"], [0.8333333333333334, \"rgb(38, 107, 110)\"], [1.0, \"rgb(29, 79, 96)\"]]}, \"height\": 300, \"legend\": {\"itemsizing\": \"constant\", \"tracegroupgap\": 0}, \"mapbox\": {\"center\": {\"lat\": 34.221749, \"lon\": -84.135526}, \"domain\": {\"x\": [0.0, 1.0], \"y\": [0.0, 1.0]}, \"style\": \"open-street-map\", \"zoom\": 9}, \"margin\": {\"b\": 0, \"l\": 200, \"r\": 200, \"t\": 0}, \"template\": {\"data\": {\"bar\": [{\"error_x\": {\"color\": \"#2a3f5f\"}, \"error_y\": {\"color\": \"#2a3f5f\"}, \"marker\": {\"line\": {\"color\": \"#E5ECF6\", \"width\": 0.5}}, \"type\": \"bar\"}], \"barpolar\": [{\"marker\": {\"line\": {\"color\": \"#E5ECF6\", \"width\": 0.5}}, \"type\": \"barpolar\"}], \"carpet\": [{\"aaxis\": {\"endlinecolor\": \"#2a3f5f\", \"gridcolor\": \"white\", \"linecolor\": \"white\", \"minorgridcolor\": \"white\", \"startlinecolor\": \"#2a3f5f\"}, \"baxis\": {\"endlinecolor\": \"#2a3f5f\", \"gridcolor\": \"white\", \"linecolor\": \"white\", \"minorgridcolor\": \"white\", \"startlinecolor\": \"#2a3f5f\"}, \"type\": \"carpet\"}], \"choropleth\": [{\"colorbar\": {\"outlinewidth\": 0, \"ticks\": \"\"}, \"type\": \"choropleth\"}], \"contour\": [{\"colorbar\": {\"outlinewidth\": 0, \"ticks\": \"\"}, \"colorscale\": [[0.0, \"#0d0887\"], [0.1111111111111111, \"#46039f\"], [0.2222222222222222, \"#7201a8\"], [0.3333333333333333, \"#9c179e\"], [0.4444444444444444, \"#bd3786\"], [0.5555555555555556, \"#d8576b\"], [0.6666666666666666, \"#ed7953\"], [0.7777777777777778, \"#fb9f3a\"], [0.8888888888888888, \"#fdca26\"], [1.0, \"#f0f921\"]], \"type\": \"contour\"}], \"contourcarpet\": [{\"colorbar\": {\"outlinewidth\": 0, \"ticks\": \"\"}, \"type\": \"contourcarpet\"}], \"heatmap\": [{\"colorbar\": {\"outlinewidth\": 0, \"ticks\": \"\"}, \"colorscale\": [[0.0, \"#0d0887\"], [0.1111111111111111, \"#46039f\"], [0.2222222222222222, \"#7201a8\"], [0.3333333333333333, \"#9c179e\"], [0.4444444444444444, \"#bd3786\"], [0.5555555555555556, \"#d8576b\"], [0.6666666666666666, \"#ed7953\"], [0.7777777777777778, \"#fb9f3a\"], [0.8888888888888888, \"#fdca26\"], [1.0, \"#f0f921\"]], \"type\": \"heatmap\"}], \"heatmapgl\": [{\"colorbar\": {\"outlinewidth\": 0, \"ticks\": \"\"}, \"colorscale\": [[0.0, \"#0d0887\"], [0.1111111111111111, \"#46039f\"], [0.2222222222222222, \"#7201a8\"], [0.3333333333333333, \"#9c179e\"], [0.4444444444444444, \"#bd3786\"], [0.5555555555555556, \"#d8576b\"], [0.6666666666666666, \"#ed7953\"], [0.7777777777777778, \"#fb9f3a\"], [0.8888888888888888, \"#fdca26\"], [1.0, \"#f0f921\"]], \"type\": \"heatmapgl\"}], \"histogram\": [{\"marker\": {\"colorbar\": {\"outlinewidth\": 0, \"ticks\": \"\"}}, \"type\": \"histogram\"}], \"histogram2d\": [{\"colorbar\": {\"outlinewidth\": 0, \"ticks\": \"\"}, \"colorscale\": [[0.0, \"#0d0887\"], [0.1111111111111111, \"#46039f\"], [0.2222222222222222, \"#7201a8\"], [0.3333333333333333, \"#9c179e\"], [0.4444444444444444, \"#bd3786\"], [0.5555555555555556, \"#d8576b\"], [0.6666666666666666, \"#ed7953\"], [0.7777777777777778, \"#fb9f3a\"], [0.8888888888888888, \"#fdca26\"], [1.0, \"#f0f921\"]], \"type\": \"histogram2d\"}], \"histogram2dcontour\": [{\"colorbar\": {\"outlinewidth\": 0, \"ticks\": \"\"}, \"colorscale\": [[0.0, \"#0d0887\"], [0.1111111111111111, \"#46039f\"], [0.2222222222222222, \"#7201a8\"], [0.3333333333333333, \"#9c179e\"], [0.4444444444444444, \"#bd3786\"], [0.5555555555555556, \"#d8576b\"], [0.6666666666666666, \"#ed7953\"], [0.7777777777777778, \"#fb9f3a\"], [0.8888888888888888, \"#fdca26\"], [1.0, \"#f0f921\"]], \"type\": \"histogram2dcontour\"}], \"mesh3d\": [{\"colorbar\": {\"outlinewidth\": 0, \"ticks\": \"\"}, \"type\": \"mesh3d\"}], \"parcoords\": [{\"line\": {\"colorbar\": {\"outlinewidth\": 0, \"ticks\": \"\"}}, \"type\": \"parcoords\"}], \"pie\": [{\"automargin\": true, \"type\": \"pie\"}], \"scatter\": [{\"marker\": {\"colorbar\": {\"outlinewidth\": 0, \"ticks\": \"\"}}, \"type\": \"scatter\"}], \"scatter3d\": [{\"line\": {\"colorbar\": {\"outlinewidth\": 0, \"ticks\": \"\"}}, \"marker\": {\"colorbar\": {\"outlinewidth\": 0, \"ticks\": \"\"}}, \"type\": \"scatter3d\"}], \"scattercarpet\": [{\"marker\": {\"colorbar\": {\"outlinewidth\": 0, \"ticks\": \"\"}}, \"type\": \"scattercarpet\"}], \"scattergeo\": [{\"marker\": {\"colorbar\": {\"outlinewidth\": 0, \"ticks\": \"\"}}, \"type\": \"scattergeo\"}], \"scattergl\": [{\"marker\": {\"colorbar\": {\"outlinewidth\": 0, \"ticks\": \"\"}}, \"type\": \"scattergl\"}], \"scattermapbox\": [{\"marker\": {\"colorbar\": {\"outlinewidth\": 0, \"ticks\": \"\"}}, \"type\": \"scattermapbox\"}], \"scatterpolar\": [{\"marker\": {\"colorbar\": {\"outlinewidth\": 0, \"ticks\": \"\"}}, \"type\": \"scatterpolar\"}], \"scatterpolargl\": [{\"marker\": {\"colorbar\": {\"outlinewidth\": 0, \"ticks\": \"\"}}, \"type\": \"scatterpolargl\"}], \"scatterternary\": [{\"marker\": {\"colorbar\": {\"outlinewidth\": 0, \"ticks\": \"\"}}, \"type\": \"scatterternary\"}], \"surface\": [{\"colorbar\": {\"outlinewidth\": 0, \"ticks\": \"\"}, \"colorscale\": [[0.0, \"#0d0887\"], [0.1111111111111111, \"#46039f\"], [0.2222222222222222, \"#7201a8\"], [0.3333333333333333, \"#9c179e\"], [0.4444444444444444, \"#bd3786\"], [0.5555555555555556, \"#d8576b\"], [0.6666666666666666, \"#ed7953\"], [0.7777777777777778, \"#fb9f3a\"], [0.8888888888888888, \"#fdca26\"], [1.0, \"#f0f921\"]], \"type\": \"surface\"}], \"table\": [{\"cells\": {\"fill\": {\"color\": \"#EBF0F8\"}, \"line\": {\"color\": \"white\"}}, \"header\": {\"fill\": {\"color\": \"#C8D4E3\"}, \"line\": {\"color\": \"white\"}}, \"type\": \"table\"}]}, \"layout\": {\"annotationdefaults\": {\"arrowcolor\": \"#2a3f5f\", \"arrowhead\": 0, \"arrowwidth\": 1}, \"coloraxis\": {\"colorbar\": {\"outlinewidth\": 0, \"ticks\": \"\"}}, \"colorscale\": {\"diverging\": [[0, \"#8e0152\"], [0.1, \"#c51b7d\"], [0.2, \"#de77ae\"], [0.3, \"#f1b6da\"], [0.4, \"#fde0ef\"], [0.5, \"#f7f7f7\"], [0.6, \"#e6f5d0\"], [0.7, \"#b8e186\"], [0.8, \"#7fbc41\"], [0.9, \"#4d9221\"], [1, \"#276419\"]], \"sequential\": [[0.0, \"#0d0887\"], [0.1111111111111111, \"#46039f\"], [0.2222222222222222, \"#7201a8\"], [0.3333333333333333, \"#9c179e\"], [0.4444444444444444, \"#bd3786\"], [0.5555555555555556, \"#d8576b\"], [0.6666666666666666, \"#ed7953\"], [0.7777777777777778, \"#fb9f3a\"], [0.8888888888888888, \"#fdca26\"], [1.0, \"#f0f921\"]], \"sequentialminus\": [[0.0, \"#0d0887\"], [0.1111111111111111, \"#46039f\"], [0.2222222222222222, \"#7201a8\"], [0.3333333333333333, \"#9c179e\"], [0.4444444444444444, \"#bd3786\"], [0.5555555555555556, \"#d8576b\"], [0.6666666666666666, \"#ed7953\"], [0.7777777777777778, \"#fb9f3a\"], [0.8888888888888888, \"#fdca26\"], [1.0, \"#f0f921\"]]}, \"colorway\": [\"#636efa\", \"#EF553B\", \"#00cc96\", \"#ab63fa\", \"#FFA15A\", \"#19d3f3\", \"#FF6692\", \"#B6E880\", \"#FF97FF\", \"#FECB52\"], \"font\": {\"color\": \"#2a3f5f\"}, \"geo\": {\"bgcolor\": \"white\", \"lakecolor\": \"white\", \"landcolor\": \"#E5ECF6\", \"showlakes\": true, \"showland\": true, \"subunitcolor\": \"white\"}, \"hoverlabel\": {\"align\": \"left\"}, \"hovermode\": \"closest\", \"mapbox\": {\"style\": \"light\"}, \"paper_bgcolor\": \"white\", \"plot_bgcolor\": \"#E5ECF6\", \"polar\": {\"angularaxis\": {\"gridcolor\": \"white\", \"linecolor\": \"white\", \"ticks\": \"\"}, \"bgcolor\": \"#E5ECF6\", \"radialaxis\": {\"gridcolor\": \"white\", \"linecolor\": \"white\", \"ticks\": \"\"}}, \"scene\": {\"xaxis\": {\"backgroundcolor\": \"#E5ECF6\", \"gridcolor\": \"white\", \"gridwidth\": 2, \"linecolor\": \"white\", \"showbackground\": true, \"ticks\": \"\", \"zerolinecolor\": \"white\"}, \"yaxis\": {\"backgroundcolor\": \"#E5ECF6\", \"gridcolor\": \"white\", \"gridwidth\": 2, \"linecolor\": \"white\", \"showbackground\": true, \"ticks\": \"\", \"zerolinecolor\": \"white\"}, \"zaxis\": {\"backgroundcolor\": \"#E5ECF6\", \"gridcolor\": \"white\", \"gridwidth\": 2, \"linecolor\": \"white\", \"showbackground\": true, \"ticks\": \"\", \"zerolinecolor\": \"white\"}}, \"shapedefaults\": {\"line\": {\"color\": \"#2a3f5f\"}}, \"ternary\": {\"aaxis\": {\"gridcolor\": \"white\", \"linecolor\": \"white\", \"ticks\": \"\"}, \"baxis\": {\"gridcolor\": \"white\", \"linecolor\": \"white\", \"ticks\": \"\"}, \"bgcolor\": \"#E5ECF6\", \"caxis\": {\"gridcolor\": \"white\", \"linecolor\": \"white\", \"ticks\": \"\"}}, \"title\": {\"x\": 0.05}, \"xaxis\": {\"automargin\": true, \"gridcolor\": \"white\", \"linecolor\": \"white\", \"ticks\": \"\", \"title\": {\"standoff\": 15}, \"zerolinecolor\": \"white\", \"zerolinewidth\": 2}, \"yaxis\": {\"automargin\": true, \"gridcolor\": \"white\", \"linecolor\": \"white\", \"ticks\": \"\", \"title\": {\"standoff\": 15}, \"zerolinecolor\": \"white\", \"zerolinewidth\": 2}}}},\n",
       "                        {\"responsive\": true}\n",
       "                    ).then(function(){\n",
       "                            \n",
       "var gd = document.getElementById('c6cc0445-7c4b-4461-89bc-c4c1b6e48ba3');\n",
       "var x = new MutationObserver(function (mutations, observer) {{\n",
       "        var display = window.getComputedStyle(gd).display;\n",
       "        if (!display || display === 'none') {{\n",
       "            console.log([gd, 'removed!']);\n",
       "            Plotly.purge(gd);\n",
       "            observer.disconnect();\n",
       "        }}\n",
       "}});\n",
       "\n",
       "// Listen for the removal of the full notebook cells\n",
       "var notebookContainer = gd.closest('#notebook-container');\n",
       "if (notebookContainer) {{\n",
       "    x.observe(notebookContainer, {childList: true});\n",
       "}}\n",
       "\n",
       "// Listen for the clearing of the current output cell\n",
       "var outputEl = gd.closest('.output');\n",
       "if (outputEl) {{\n",
       "    x.observe(outputEl, {childList: true});\n",
       "}}\n",
       "\n",
       "                        })\n",
       "                };\n",
       "                });\n",
       "            </script>\n",
       "        </div>"
      ]
     },
     "metadata": {},
     "output_type": "display_data"
    }
   ],
   "source": [
    "fig = px.scatter_mapbox(df_geo, \n",
    "                        lat=\"latitude\", \n",
    "                        lon=\"longitude\", \n",
    "                        size=(df_geo.total + 0), \n",
    "                        hover_name=df_geo.school, \n",
    "                        text= df_geo.school,\n",
    "                        color=df_geo.total,\n",
    "                        color_continuous_scale=px.colors.sequential.Blugrn,\n",
    "                        center={\"lat\":34.221749,\n",
    "                                \"lon\":-84.135526},\n",
    "                        zoom=9, \n",
    "                        height=300)\n",
    "fig.update_layout(mapbox_style=\"open-street-map\")\n",
    "fig.update_layout(margin={\"r\":200,\"t\":0,\"l\":200,\"b\":0})\n",
    "fig.show()"
   ]
  },
  {
   "cell_type": "code",
   "execution_count": 139,
   "metadata": {},
   "outputs": [
    {
     "data": {
      "text/html": [
       "<div>\n",
       "<style scoped>\n",
       "    .dataframe tbody tr th:only-of-type {\n",
       "        vertical-align: middle;\n",
       "    }\n",
       "\n",
       "    .dataframe tbody tr th {\n",
       "        vertical-align: top;\n",
       "    }\n",
       "\n",
       "    .dataframe thead th {\n",
       "        text-align: right;\n",
       "    }\n",
       "</style>\n",
       "<table border=\"1\" class=\"dataframe\">\n",
       "  <thead>\n",
       "    <tr style=\"text-align: right;\">\n",
       "      <th></th>\n",
       "      <th>school</th>\n",
       "      <th>type</th>\n",
       "      <th>Total Staff &amp; Student</th>\n",
       "      <th>date</th>\n",
       "      <th>total</th>\n",
       "      <th>latitude</th>\n",
       "      <th>longitude</th>\n",
       "    </tr>\n",
       "  </thead>\n",
       "  <tbody>\n",
       "    <tr>\n",
       "      <th>263</th>\n",
       "      <td>South Forsyth</td>\n",
       "      <td>HS</td>\n",
       "      <td>2437.0</td>\n",
       "      <td>8/19/20</td>\n",
       "      <td>0.0</td>\n",
       "      <td>34.148412</td>\n",
       "      <td>-84.170303</td>\n",
       "    </tr>\n",
       "    <tr>\n",
       "      <th>264</th>\n",
       "      <td>South Forsyth</td>\n",
       "      <td>HS</td>\n",
       "      <td>2437.0</td>\n",
       "      <td>8/20/20</td>\n",
       "      <td>0.0</td>\n",
       "      <td>34.148412</td>\n",
       "      <td>-84.170303</td>\n",
       "    </tr>\n",
       "    <tr>\n",
       "      <th>265</th>\n",
       "      <td>South Forsyth</td>\n",
       "      <td>HS</td>\n",
       "      <td>2437.0</td>\n",
       "      <td>8/21/20</td>\n",
       "      <td>0.0</td>\n",
       "      <td>34.148412</td>\n",
       "      <td>-84.170303</td>\n",
       "    </tr>\n",
       "    <tr>\n",
       "      <th>266</th>\n",
       "      <td>West Forsyth</td>\n",
       "      <td>HS</td>\n",
       "      <td>2637.0</td>\n",
       "      <td>8/13/20</td>\n",
       "      <td>0.0</td>\n",
       "      <td>34.211249</td>\n",
       "      <td>-84.214213</td>\n",
       "    </tr>\n",
       "    <tr>\n",
       "      <th>267</th>\n",
       "      <td>West Forsyth</td>\n",
       "      <td>HS</td>\n",
       "      <td>2637.0</td>\n",
       "      <td>8/14/20</td>\n",
       "      <td>1.0</td>\n",
       "      <td>34.211249</td>\n",
       "      <td>-84.214213</td>\n",
       "    </tr>\n",
       "    <tr>\n",
       "      <th>268</th>\n",
       "      <td>West Forsyth</td>\n",
       "      <td>HS</td>\n",
       "      <td>2637.0</td>\n",
       "      <td>8/17/20</td>\n",
       "      <td>2.0</td>\n",
       "      <td>34.211249</td>\n",
       "      <td>-84.214213</td>\n",
       "    </tr>\n",
       "    <tr>\n",
       "      <th>269</th>\n",
       "      <td>West Forsyth</td>\n",
       "      <td>HS</td>\n",
       "      <td>2637.0</td>\n",
       "      <td>8/18/20</td>\n",
       "      <td>3.0</td>\n",
       "      <td>34.211249</td>\n",
       "      <td>-84.214213</td>\n",
       "    </tr>\n",
       "    <tr>\n",
       "      <th>270</th>\n",
       "      <td>West Forsyth</td>\n",
       "      <td>HS</td>\n",
       "      <td>2637.0</td>\n",
       "      <td>8/19/20</td>\n",
       "      <td>3.0</td>\n",
       "      <td>34.211249</td>\n",
       "      <td>-84.214213</td>\n",
       "    </tr>\n",
       "    <tr>\n",
       "      <th>271</th>\n",
       "      <td>West Forsyth</td>\n",
       "      <td>HS</td>\n",
       "      <td>2637.0</td>\n",
       "      <td>8/20/20</td>\n",
       "      <td>4.0</td>\n",
       "      <td>34.211249</td>\n",
       "      <td>-84.214213</td>\n",
       "    </tr>\n",
       "    <tr>\n",
       "      <th>272</th>\n",
       "      <td>West Forsyth</td>\n",
       "      <td>HS</td>\n",
       "      <td>2637.0</td>\n",
       "      <td>8/21/20</td>\n",
       "      <td>4.0</td>\n",
       "      <td>34.211249</td>\n",
       "      <td>-84.214213</td>\n",
       "    </tr>\n",
       "  </tbody>\n",
       "</table>\n",
       "</div>"
      ],
      "text/plain": [
       "            school type  Total Staff & Student     date  total   latitude  \\\n",
       "263  South Forsyth   HS                 2437.0  8/19/20    0.0  34.148412   \n",
       "264  South Forsyth   HS                 2437.0  8/20/20    0.0  34.148412   \n",
       "265  South Forsyth   HS                 2437.0  8/21/20    0.0  34.148412   \n",
       "266   West Forsyth   HS                 2637.0  8/13/20    0.0  34.211249   \n",
       "267   West Forsyth   HS                 2637.0  8/14/20    1.0  34.211249   \n",
       "268   West Forsyth   HS                 2637.0  8/17/20    2.0  34.211249   \n",
       "269   West Forsyth   HS                 2637.0  8/18/20    3.0  34.211249   \n",
       "270   West Forsyth   HS                 2637.0  8/19/20    3.0  34.211249   \n",
       "271   West Forsyth   HS                 2637.0  8/20/20    4.0  34.211249   \n",
       "272   West Forsyth   HS                 2637.0  8/21/20    4.0  34.211249   \n",
       "\n",
       "     longitude  \n",
       "263 -84.170303  \n",
       "264 -84.170303  \n",
       "265 -84.170303  \n",
       "266 -84.214213  \n",
       "267 -84.214213  \n",
       "268 -84.214213  \n",
       "269 -84.214213  \n",
       "270 -84.214213  \n",
       "271 -84.214213  \n",
       "272 -84.214213  "
      ]
     },
     "execution_count": 139,
     "metadata": {},
     "output_type": "execute_result"
    }
   ],
   "source": [
    "df_geo.tail(10)"
   ]
  },
  {
   "cell_type": "code",
   "execution_count": 138,
   "metadata": {},
   "outputs": [
    {
     "data": {
      "text/plain": [
       "(273, 7)"
      ]
     },
     "execution_count": 138,
     "metadata": {},
     "output_type": "execute_result"
    }
   ],
   "source": [
    "df_geo.shape"
   ]
  },
  {
   "cell_type": "code",
   "execution_count": 137,
   "metadata": {},
   "outputs": [
    {
     "data": {
      "application/vnd.plotly.v1+json": {
       "config": {
        "plotlyServerURL": "https://plot.ly"
       },
       "data": [
        {
         "hovertemplate": "<b>%{hovertext}</b><br><br>date=8/13/20<br>total=%{marker.color}<br>school=%{text}<br>latitude=%{lat}<br>longitude=%{lon}<extra></extra>",
         "hovertext": [
          "Big Creek",
          "Brandywine",
          "Brookwood",
          "Chattahoochee",
          "Chestatee",
          "Coal Mountain",
          "Cumming",
          "Daves Creek",
          "Haw Creek",
          "Johns Creek",
          "Kelly Mill",
          "Mashburn",
          "Matt",
          "Midway",
          "Poole's Mill",
          "Sawnee",
          "Settles Bridge",
          "Sharon",
          "Shiloh Point",
          "Silver City",
          "Vickery Creek",
          "Whitlow",
          "DeSana",
          "Lakeside",
          "Liberty",
          "Little Mill",
          "North Forsyth",
          "Otwell",
          "Piney Grove",
          "Riverwatch",
          "South Forsyth",
          "Vickery Creek",
          "Alliance Academy for Innovation",
          "Denmark",
          "Forsyth Central",
          "Lambert",
          "North Forsyth",
          "South Forsyth",
          "West Forsyth"
         ],
         "ids": [
          "Big Creek",
          "Brandywine",
          "Brookwood",
          "Chattahoochee",
          "Chestatee",
          "Coal Mountain",
          "Cumming",
          "Daves Creek",
          "Haw Creek",
          "Johns Creek",
          "Kelly Mill",
          "Mashburn",
          "Matt",
          "Midway",
          "Poole's Mill",
          "Sawnee",
          "Settles Bridge",
          "Sharon",
          "Shiloh Point",
          "Silver City",
          "Vickery Creek",
          "Whitlow",
          "DeSana",
          "Lakeside",
          "Liberty",
          "Little Mill",
          "North Forsyth",
          "Otwell",
          "Piney Grove",
          "Riverwatch",
          "South Forsyth",
          "Vickery Creek",
          "Alliance Academy for Innovation",
          "Denmark",
          "Forsyth Central",
          "Lambert",
          "North Forsyth",
          "South Forsyth",
          "West Forsyth"
         ],
         "lat": [
          34.113906,
          34.1335,
          34.101762,
          34.239073,
          34.297109000000006,
          34.274361999999996,
          34.22145,
          34.137060999999996,
          34.164334999999994,
          34.065647999999996,
          34.208588,
          34.168931,
          34.290784,
          34.159086,
          34.279810999999995,
          34.242191999999996,
          34.124171999999994,
          34.104277,
          34.144505,
          34.328631,
          34.176995,
          34.187329,
          34.130072,
          34.165711,
          34.288540000000005,
          34.249992,
          34.278569,
          34.219535,
          34.14509,
          34.125074,
          34.116796,
          34.179534999999994,
          34.219237,
          34.147999,
          34.217102000000004,
          34.106989,
          34.27811,
          34.148412,
          34.211249
         ],
         "legendgroup": "",
         "lon": [
          -84.177824,
          -84.247383,
          -84.18468,
          -84.08623,
          -83.996014,
          -84.106103,
          -84.135623,
          -84.14256400000001,
          -84.09925799999999,
          -84.12756,
          -84.16658699999999,
          -84.105777,
          -84.204504,
          -84.234437,
          -84.233814,
          -84.17603199999999,
          -84.106235,
          -84.13597299999999,
          -84.176538,
          -84.102699,
          -84.224946,
          -84.162151,
          -84.23837900000001,
          -84.097944,
          -84.20521600000001,
          -84.020986,
          -84.103623,
          -84.13730600000001,
          -84.178782,
          -84.10967600000001,
          -84.152999,
          -84.22327299999999,
          -84.115669,
          -84.22931700000001,
          -84.141643,
          -84.13884499999999,
          -84.10639,
          -84.170303,
          -84.214213
         ],
         "marker": {
          "color": [
           0,
           0,
           0,
           0,
           0,
           0,
           0,
           0,
           0,
           0,
           0,
           0,
           0,
           0,
           0,
           0,
           0,
           0,
           0,
           0,
           0,
           0,
           0,
           0,
           0,
           0,
           0,
           0,
           0,
           0,
           0,
           0,
           0,
           0,
           0,
           1,
           0,
           0,
           0
          ],
          "coloraxis": "coloraxis",
          "size": [
           0,
           0,
           0,
           0,
           0,
           0,
           0,
           0,
           0,
           0,
           0,
           0,
           0,
           0,
           0,
           0,
           0,
           0,
           0,
           0,
           0,
           0,
           0,
           0,
           0,
           0,
           0,
           0,
           0,
           0,
           0,
           0,
           0,
           0,
           0,
           1,
           0,
           0,
           0
          ],
          "sizemode": "area",
          "sizeref": 0.01
         },
         "mode": "markers+text",
         "name": "",
         "showlegend": false,
         "subplot": "mapbox",
         "text": [
          "Big Creek",
          "Brandywine",
          "Brookwood",
          "Chattahoochee",
          "Chestatee",
          "Coal Mountain",
          "Cumming",
          "Daves Creek",
          "Haw Creek",
          "Johns Creek",
          "Kelly Mill",
          "Mashburn",
          "Matt",
          "Midway",
          "Poole's Mill",
          "Sawnee",
          "Settles Bridge",
          "Sharon",
          "Shiloh Point",
          "Silver City",
          "Vickery Creek",
          "Whitlow",
          "DeSana",
          "Lakeside",
          "Liberty",
          "Little Mill",
          "North Forsyth",
          "Otwell",
          "Piney Grove",
          "Riverwatch",
          "South Forsyth",
          "Vickery Creek",
          "Alliance Academy for Innovation",
          "Denmark",
          "Forsyth Central",
          "Lambert",
          "North Forsyth",
          "South Forsyth",
          "West Forsyth"
         ],
         "type": "scattermapbox"
        }
       ],
       "frames": [
        {
         "data": [
          {
           "hovertemplate": "<b>%{hovertext}</b><br><br>date=8/13/20<br>total=%{marker.color}<br>school=%{text}<br>latitude=%{lat}<br>longitude=%{lon}<extra></extra>",
           "hovertext": [
            "Big Creek",
            "Brandywine",
            "Brookwood",
            "Chattahoochee",
            "Chestatee",
            "Coal Mountain",
            "Cumming",
            "Daves Creek",
            "Haw Creek",
            "Johns Creek",
            "Kelly Mill",
            "Mashburn",
            "Matt",
            "Midway",
            "Poole's Mill",
            "Sawnee",
            "Settles Bridge",
            "Sharon",
            "Shiloh Point",
            "Silver City",
            "Vickery Creek",
            "Whitlow",
            "DeSana",
            "Lakeside",
            "Liberty",
            "Little Mill",
            "North Forsyth",
            "Otwell",
            "Piney Grove",
            "Riverwatch",
            "South Forsyth",
            "Vickery Creek",
            "Alliance Academy for Innovation",
            "Denmark",
            "Forsyth Central",
            "Lambert",
            "North Forsyth",
            "South Forsyth",
            "West Forsyth"
           ],
           "ids": [
            "Big Creek",
            "Brandywine",
            "Brookwood",
            "Chattahoochee",
            "Chestatee",
            "Coal Mountain",
            "Cumming",
            "Daves Creek",
            "Haw Creek",
            "Johns Creek",
            "Kelly Mill",
            "Mashburn",
            "Matt",
            "Midway",
            "Poole's Mill",
            "Sawnee",
            "Settles Bridge",
            "Sharon",
            "Shiloh Point",
            "Silver City",
            "Vickery Creek",
            "Whitlow",
            "DeSana",
            "Lakeside",
            "Liberty",
            "Little Mill",
            "North Forsyth",
            "Otwell",
            "Piney Grove",
            "Riverwatch",
            "South Forsyth",
            "Vickery Creek",
            "Alliance Academy for Innovation",
            "Denmark",
            "Forsyth Central",
            "Lambert",
            "North Forsyth",
            "South Forsyth",
            "West Forsyth"
           ],
           "lat": [
            34.113906,
            34.1335,
            34.101762,
            34.239073,
            34.297109000000006,
            34.274361999999996,
            34.22145,
            34.137060999999996,
            34.164334999999994,
            34.065647999999996,
            34.208588,
            34.168931,
            34.290784,
            34.159086,
            34.279810999999995,
            34.242191999999996,
            34.124171999999994,
            34.104277,
            34.144505,
            34.328631,
            34.176995,
            34.187329,
            34.130072,
            34.165711,
            34.288540000000005,
            34.249992,
            34.278569,
            34.219535,
            34.14509,
            34.125074,
            34.116796,
            34.179534999999994,
            34.219237,
            34.147999,
            34.217102000000004,
            34.106989,
            34.27811,
            34.148412,
            34.211249
           ],
           "legendgroup": "",
           "lon": [
            -84.177824,
            -84.247383,
            -84.18468,
            -84.08623,
            -83.996014,
            -84.106103,
            -84.135623,
            -84.14256400000001,
            -84.09925799999999,
            -84.12756,
            -84.16658699999999,
            -84.105777,
            -84.204504,
            -84.234437,
            -84.233814,
            -84.17603199999999,
            -84.106235,
            -84.13597299999999,
            -84.176538,
            -84.102699,
            -84.224946,
            -84.162151,
            -84.23837900000001,
            -84.097944,
            -84.20521600000001,
            -84.020986,
            -84.103623,
            -84.13730600000001,
            -84.178782,
            -84.10967600000001,
            -84.152999,
            -84.22327299999999,
            -84.115669,
            -84.22931700000001,
            -84.141643,
            -84.13884499999999,
            -84.10639,
            -84.170303,
            -84.214213
           ],
           "marker": {
            "color": [
             0,
             0,
             0,
             0,
             0,
             0,
             0,
             0,
             0,
             0,
             0,
             0,
             0,
             0,
             0,
             0,
             0,
             0,
             0,
             0,
             0,
             0,
             0,
             0,
             0,
             0,
             0,
             0,
             0,
             0,
             0,
             0,
             0,
             0,
             0,
             1,
             0,
             0,
             0
            ],
            "coloraxis": "coloraxis",
            "size": [
             0,
             0,
             0,
             0,
             0,
             0,
             0,
             0,
             0,
             0,
             0,
             0,
             0,
             0,
             0,
             0,
             0,
             0,
             0,
             0,
             0,
             0,
             0,
             0,
             0,
             0,
             0,
             0,
             0,
             0,
             0,
             0,
             0,
             0,
             0,
             1,
             0,
             0,
             0
            ],
            "sizemode": "area",
            "sizeref": 0.01
           },
           "mode": "markers+text",
           "name": "",
           "showlegend": false,
           "subplot": "mapbox",
           "text": [
            "Big Creek",
            "Brandywine",
            "Brookwood",
            "Chattahoochee",
            "Chestatee",
            "Coal Mountain",
            "Cumming",
            "Daves Creek",
            "Haw Creek",
            "Johns Creek",
            "Kelly Mill",
            "Mashburn",
            "Matt",
            "Midway",
            "Poole's Mill",
            "Sawnee",
            "Settles Bridge",
            "Sharon",
            "Shiloh Point",
            "Silver City",
            "Vickery Creek",
            "Whitlow",
            "DeSana",
            "Lakeside",
            "Liberty",
            "Little Mill",
            "North Forsyth",
            "Otwell",
            "Piney Grove",
            "Riverwatch",
            "South Forsyth",
            "Vickery Creek",
            "Alliance Academy for Innovation",
            "Denmark",
            "Forsyth Central",
            "Lambert",
            "North Forsyth",
            "South Forsyth",
            "West Forsyth"
           ],
           "type": "scattermapbox"
          }
         ],
         "name": "8/13/20"
        },
        {
         "data": [
          {
           "hovertemplate": "<b>%{hovertext}</b><br><br>date=8/14/20<br>total=%{marker.color}<br>school=%{text}<br>latitude=%{lat}<br>longitude=%{lon}<extra></extra>",
           "hovertext": [
            "Big Creek",
            "Brandywine",
            "Brookwood",
            "Chattahoochee",
            "Chestatee",
            "Coal Mountain",
            "Cumming",
            "Daves Creek",
            "Haw Creek",
            "Johns Creek",
            "Kelly Mill",
            "Mashburn",
            "Matt",
            "Midway",
            "Poole's Mill",
            "Sawnee",
            "Settles Bridge",
            "Sharon",
            "Shiloh Point",
            "Silver City",
            "Vickery Creek",
            "Whitlow",
            "DeSana",
            "Lakeside",
            "Liberty",
            "Little Mill",
            "North Forsyth",
            "Otwell",
            "Piney Grove",
            "Riverwatch",
            "South Forsyth",
            "Vickery Creek",
            "Alliance Academy for Innovation",
            "Denmark",
            "Forsyth Central",
            "Lambert",
            "North Forsyth",
            "South Forsyth",
            "West Forsyth"
           ],
           "ids": [
            "Big Creek",
            "Brandywine",
            "Brookwood",
            "Chattahoochee",
            "Chestatee",
            "Coal Mountain",
            "Cumming",
            "Daves Creek",
            "Haw Creek",
            "Johns Creek",
            "Kelly Mill",
            "Mashburn",
            "Matt",
            "Midway",
            "Poole's Mill",
            "Sawnee",
            "Settles Bridge",
            "Sharon",
            "Shiloh Point",
            "Silver City",
            "Vickery Creek",
            "Whitlow",
            "DeSana",
            "Lakeside",
            "Liberty",
            "Little Mill",
            "North Forsyth",
            "Otwell",
            "Piney Grove",
            "Riverwatch",
            "South Forsyth",
            "Vickery Creek",
            "Alliance Academy for Innovation",
            "Denmark",
            "Forsyth Central",
            "Lambert",
            "North Forsyth",
            "South Forsyth",
            "West Forsyth"
           ],
           "lat": [
            34.113906,
            34.1335,
            34.101762,
            34.239073,
            34.297109000000006,
            34.274361999999996,
            34.22145,
            34.137060999999996,
            34.164334999999994,
            34.065647999999996,
            34.208588,
            34.168931,
            34.290784,
            34.159086,
            34.279810999999995,
            34.242191999999996,
            34.124171999999994,
            34.104277,
            34.144505,
            34.328631,
            34.176995,
            34.187329,
            34.130072,
            34.165711,
            34.288540000000005,
            34.249992,
            34.278569,
            34.219535,
            34.14509,
            34.125074,
            34.116796,
            34.179534999999994,
            34.219237,
            34.147999,
            34.217102000000004,
            34.106989,
            34.27811,
            34.148412,
            34.211249
           ],
           "legendgroup": "",
           "lon": [
            -84.177824,
            -84.247383,
            -84.18468,
            -84.08623,
            -83.996014,
            -84.106103,
            -84.135623,
            -84.14256400000001,
            -84.09925799999999,
            -84.12756,
            -84.16658699999999,
            -84.105777,
            -84.204504,
            -84.234437,
            -84.233814,
            -84.17603199999999,
            -84.106235,
            -84.13597299999999,
            -84.176538,
            -84.102699,
            -84.224946,
            -84.162151,
            -84.23837900000001,
            -84.097944,
            -84.20521600000001,
            -84.020986,
            -84.103623,
            -84.13730600000001,
            -84.178782,
            -84.10967600000001,
            -84.152999,
            -84.22327299999999,
            -84.115669,
            -84.22931700000001,
            -84.141643,
            -84.13884499999999,
            -84.10639,
            -84.170303,
            -84.214213
           ],
           "marker": {
            "color": [
             0,
             0,
             0,
             0,
             0,
             0,
             0,
             0,
             0,
             0,
             0,
             0,
             0,
             0,
             0,
             0,
             0,
             0,
             0,
             0,
             0,
             0,
             0,
             0,
             0,
             0,
             0,
             0,
             0,
             0,
             0,
             0,
             0,
             1,
             0,
             1,
             0,
             0,
             1
            ],
            "coloraxis": "coloraxis",
            "size": [
             0,
             0,
             0,
             0,
             0,
             0,
             0,
             0,
             0,
             0,
             0,
             0,
             0,
             0,
             0,
             0,
             0,
             0,
             0,
             0,
             0,
             0,
             0,
             0,
             0,
             0,
             0,
             0,
             0,
             0,
             0,
             0,
             0,
             1,
             0,
             1,
             0,
             0,
             1
            ],
            "sizemode": "area",
            "sizeref": 0.01
           },
           "mode": "markers+text",
           "name": "",
           "showlegend": false,
           "subplot": "mapbox",
           "text": [
            "Big Creek",
            "Brandywine",
            "Brookwood",
            "Chattahoochee",
            "Chestatee",
            "Coal Mountain",
            "Cumming",
            "Daves Creek",
            "Haw Creek",
            "Johns Creek",
            "Kelly Mill",
            "Mashburn",
            "Matt",
            "Midway",
            "Poole's Mill",
            "Sawnee",
            "Settles Bridge",
            "Sharon",
            "Shiloh Point",
            "Silver City",
            "Vickery Creek",
            "Whitlow",
            "DeSana",
            "Lakeside",
            "Liberty",
            "Little Mill",
            "North Forsyth",
            "Otwell",
            "Piney Grove",
            "Riverwatch",
            "South Forsyth",
            "Vickery Creek",
            "Alliance Academy for Innovation",
            "Denmark",
            "Forsyth Central",
            "Lambert",
            "North Forsyth",
            "South Forsyth",
            "West Forsyth"
           ],
           "type": "scattermapbox"
          }
         ],
         "name": "8/14/20"
        },
        {
         "data": [
          {
           "hovertemplate": "<b>%{hovertext}</b><br><br>date=8/17/20<br>total=%{marker.color}<br>school=%{text}<br>latitude=%{lat}<br>longitude=%{lon}<extra></extra>",
           "hovertext": [
            "Big Creek",
            "Brandywine",
            "Brookwood",
            "Chattahoochee",
            "Chestatee",
            "Coal Mountain",
            "Cumming",
            "Daves Creek",
            "Haw Creek",
            "Johns Creek",
            "Kelly Mill",
            "Mashburn",
            "Matt",
            "Midway",
            "Poole's Mill",
            "Sawnee",
            "Settles Bridge",
            "Sharon",
            "Shiloh Point",
            "Silver City",
            "Vickery Creek",
            "Whitlow",
            "DeSana",
            "Lakeside",
            "Liberty",
            "Little Mill",
            "North Forsyth",
            "Otwell",
            "Piney Grove",
            "Riverwatch",
            "South Forsyth",
            "Vickery Creek",
            "Alliance Academy for Innovation",
            "Denmark",
            "Forsyth Central",
            "Lambert",
            "North Forsyth",
            "South Forsyth",
            "West Forsyth"
           ],
           "ids": [
            "Big Creek",
            "Brandywine",
            "Brookwood",
            "Chattahoochee",
            "Chestatee",
            "Coal Mountain",
            "Cumming",
            "Daves Creek",
            "Haw Creek",
            "Johns Creek",
            "Kelly Mill",
            "Mashburn",
            "Matt",
            "Midway",
            "Poole's Mill",
            "Sawnee",
            "Settles Bridge",
            "Sharon",
            "Shiloh Point",
            "Silver City",
            "Vickery Creek",
            "Whitlow",
            "DeSana",
            "Lakeside",
            "Liberty",
            "Little Mill",
            "North Forsyth",
            "Otwell",
            "Piney Grove",
            "Riverwatch",
            "South Forsyth",
            "Vickery Creek",
            "Alliance Academy for Innovation",
            "Denmark",
            "Forsyth Central",
            "Lambert",
            "North Forsyth",
            "South Forsyth",
            "West Forsyth"
           ],
           "lat": [
            34.113906,
            34.1335,
            34.101762,
            34.239073,
            34.297109000000006,
            34.274361999999996,
            34.22145,
            34.137060999999996,
            34.164334999999994,
            34.065647999999996,
            34.208588,
            34.168931,
            34.290784,
            34.159086,
            34.279810999999995,
            34.242191999999996,
            34.124171999999994,
            34.104277,
            34.144505,
            34.328631,
            34.176995,
            34.187329,
            34.130072,
            34.165711,
            34.288540000000005,
            34.249992,
            34.278569,
            34.219535,
            34.14509,
            34.125074,
            34.116796,
            34.179534999999994,
            34.219237,
            34.147999,
            34.217102000000004,
            34.106989,
            34.27811,
            34.148412,
            34.211249
           ],
           "legendgroup": "",
           "lon": [
            -84.177824,
            -84.247383,
            -84.18468,
            -84.08623,
            -83.996014,
            -84.106103,
            -84.135623,
            -84.14256400000001,
            -84.09925799999999,
            -84.12756,
            -84.16658699999999,
            -84.105777,
            -84.204504,
            -84.234437,
            -84.233814,
            -84.17603199999999,
            -84.106235,
            -84.13597299999999,
            -84.176538,
            -84.102699,
            -84.224946,
            -84.162151,
            -84.23837900000001,
            -84.097944,
            -84.20521600000001,
            -84.020986,
            -84.103623,
            -84.13730600000001,
            -84.178782,
            -84.10967600000001,
            -84.152999,
            -84.22327299999999,
            -84.115669,
            -84.22931700000001,
            -84.141643,
            -84.13884499999999,
            -84.10639,
            -84.170303,
            -84.214213
           ],
           "marker": {
            "color": [
             0,
             0,
             0,
             0,
             0,
             0,
             0,
             0,
             0,
             0,
             0,
             0,
             0,
             0,
             0,
             0,
             0,
             0,
             0,
             0,
             0,
             0,
             0,
             1,
             0,
             1,
             0,
             0,
             0,
             0,
             0,
             1,
             0,
             1,
             2,
             2,
             0,
             0,
             2
            ],
            "coloraxis": "coloraxis",
            "size": [
             0,
             0,
             0,
             0,
             0,
             0,
             0,
             0,
             0,
             0,
             0,
             0,
             0,
             0,
             0,
             0,
             0,
             0,
             0,
             0,
             0,
             0,
             0,
             1,
             0,
             1,
             0,
             0,
             0,
             0,
             0,
             1,
             0,
             1,
             2,
             2,
             0,
             0,
             2
            ],
            "sizemode": "area",
            "sizeref": 0.01
           },
           "mode": "markers+text",
           "name": "",
           "showlegend": false,
           "subplot": "mapbox",
           "text": [
            "Big Creek",
            "Brandywine",
            "Brookwood",
            "Chattahoochee",
            "Chestatee",
            "Coal Mountain",
            "Cumming",
            "Daves Creek",
            "Haw Creek",
            "Johns Creek",
            "Kelly Mill",
            "Mashburn",
            "Matt",
            "Midway",
            "Poole's Mill",
            "Sawnee",
            "Settles Bridge",
            "Sharon",
            "Shiloh Point",
            "Silver City",
            "Vickery Creek",
            "Whitlow",
            "DeSana",
            "Lakeside",
            "Liberty",
            "Little Mill",
            "North Forsyth",
            "Otwell",
            "Piney Grove",
            "Riverwatch",
            "South Forsyth",
            "Vickery Creek",
            "Alliance Academy for Innovation",
            "Denmark",
            "Forsyth Central",
            "Lambert",
            "North Forsyth",
            "South Forsyth",
            "West Forsyth"
           ],
           "type": "scattermapbox"
          }
         ],
         "name": "8/17/20"
        },
        {
         "data": [
          {
           "hovertemplate": "<b>%{hovertext}</b><br><br>date=8/18/20<br>total=%{marker.color}<br>school=%{text}<br>latitude=%{lat}<br>longitude=%{lon}<extra></extra>",
           "hovertext": [
            "Big Creek",
            "Brandywine",
            "Brookwood",
            "Chattahoochee",
            "Chestatee",
            "Coal Mountain",
            "Cumming",
            "Daves Creek",
            "Haw Creek",
            "Johns Creek",
            "Kelly Mill",
            "Mashburn",
            "Matt",
            "Midway",
            "Poole's Mill",
            "Sawnee",
            "Settles Bridge",
            "Sharon",
            "Shiloh Point",
            "Silver City",
            "Vickery Creek",
            "Whitlow",
            "DeSana",
            "Lakeside",
            "Liberty",
            "Little Mill",
            "North Forsyth",
            "Otwell",
            "Piney Grove",
            "Riverwatch",
            "South Forsyth",
            "Vickery Creek",
            "Alliance Academy for Innovation",
            "Denmark",
            "Forsyth Central",
            "Lambert",
            "North Forsyth",
            "South Forsyth",
            "West Forsyth"
           ],
           "ids": [
            "Big Creek",
            "Brandywine",
            "Brookwood",
            "Chattahoochee",
            "Chestatee",
            "Coal Mountain",
            "Cumming",
            "Daves Creek",
            "Haw Creek",
            "Johns Creek",
            "Kelly Mill",
            "Mashburn",
            "Matt",
            "Midway",
            "Poole's Mill",
            "Sawnee",
            "Settles Bridge",
            "Sharon",
            "Shiloh Point",
            "Silver City",
            "Vickery Creek",
            "Whitlow",
            "DeSana",
            "Lakeside",
            "Liberty",
            "Little Mill",
            "North Forsyth",
            "Otwell",
            "Piney Grove",
            "Riverwatch",
            "South Forsyth",
            "Vickery Creek",
            "Alliance Academy for Innovation",
            "Denmark",
            "Forsyth Central",
            "Lambert",
            "North Forsyth",
            "South Forsyth",
            "West Forsyth"
           ],
           "lat": [
            34.113906,
            34.1335,
            34.101762,
            34.239073,
            34.297109000000006,
            34.274361999999996,
            34.22145,
            34.137060999999996,
            34.164334999999994,
            34.065647999999996,
            34.208588,
            34.168931,
            34.290784,
            34.159086,
            34.279810999999995,
            34.242191999999996,
            34.124171999999994,
            34.104277,
            34.144505,
            34.328631,
            34.176995,
            34.187329,
            34.130072,
            34.165711,
            34.288540000000005,
            34.249992,
            34.278569,
            34.219535,
            34.14509,
            34.125074,
            34.116796,
            34.179534999999994,
            34.219237,
            34.147999,
            34.217102000000004,
            34.106989,
            34.27811,
            34.148412,
            34.211249
           ],
           "legendgroup": "",
           "lon": [
            -84.177824,
            -84.247383,
            -84.18468,
            -84.08623,
            -83.996014,
            -84.106103,
            -84.135623,
            -84.14256400000001,
            -84.09925799999999,
            -84.12756,
            -84.16658699999999,
            -84.105777,
            -84.204504,
            -84.234437,
            -84.233814,
            -84.17603199999999,
            -84.106235,
            -84.13597299999999,
            -84.176538,
            -84.102699,
            -84.224946,
            -84.162151,
            -84.23837900000001,
            -84.097944,
            -84.20521600000001,
            -84.020986,
            -84.103623,
            -84.13730600000001,
            -84.178782,
            -84.10967600000001,
            -84.152999,
            -84.22327299999999,
            -84.115669,
            -84.22931700000001,
            -84.141643,
            -84.13884499999999,
            -84.10639,
            -84.170303,
            -84.214213
           ],
           "marker": {
            "color": [
             0,
             0,
             0,
             2,
             0,
             0,
             0,
             0,
             0,
             0,
             0,
             0,
             0,
             0,
             0,
             0,
             0,
             0,
             0,
             0,
             0,
             0,
             0,
             1,
             0,
             1,
             0,
             0,
             0,
             0,
             0,
             1,
             0,
             1,
             3,
             2,
             0,
             0,
             3
            ],
            "coloraxis": "coloraxis",
            "size": [
             0,
             0,
             0,
             2,
             0,
             0,
             0,
             0,
             0,
             0,
             0,
             0,
             0,
             0,
             0,
             0,
             0,
             0,
             0,
             0,
             0,
             0,
             0,
             1,
             0,
             1,
             0,
             0,
             0,
             0,
             0,
             1,
             0,
             1,
             3,
             2,
             0,
             0,
             3
            ],
            "sizemode": "area",
            "sizeref": 0.01
           },
           "mode": "markers+text",
           "name": "",
           "showlegend": false,
           "subplot": "mapbox",
           "text": [
            "Big Creek",
            "Brandywine",
            "Brookwood",
            "Chattahoochee",
            "Chestatee",
            "Coal Mountain",
            "Cumming",
            "Daves Creek",
            "Haw Creek",
            "Johns Creek",
            "Kelly Mill",
            "Mashburn",
            "Matt",
            "Midway",
            "Poole's Mill",
            "Sawnee",
            "Settles Bridge",
            "Sharon",
            "Shiloh Point",
            "Silver City",
            "Vickery Creek",
            "Whitlow",
            "DeSana",
            "Lakeside",
            "Liberty",
            "Little Mill",
            "North Forsyth",
            "Otwell",
            "Piney Grove",
            "Riverwatch",
            "South Forsyth",
            "Vickery Creek",
            "Alliance Academy for Innovation",
            "Denmark",
            "Forsyth Central",
            "Lambert",
            "North Forsyth",
            "South Forsyth",
            "West Forsyth"
           ],
           "type": "scattermapbox"
          }
         ],
         "name": "8/18/20"
        },
        {
         "data": [
          {
           "hovertemplate": "<b>%{hovertext}</b><br><br>date=8/19/20<br>total=%{marker.color}<br>school=%{text}<br>latitude=%{lat}<br>longitude=%{lon}<extra></extra>",
           "hovertext": [
            "Big Creek",
            "Brandywine",
            "Brookwood",
            "Chattahoochee",
            "Chestatee",
            "Coal Mountain",
            "Cumming",
            "Daves Creek",
            "Haw Creek",
            "Johns Creek",
            "Kelly Mill",
            "Mashburn",
            "Matt",
            "Midway",
            "Poole's Mill",
            "Sawnee",
            "Settles Bridge",
            "Sharon",
            "Shiloh Point",
            "Silver City",
            "Vickery Creek",
            "Whitlow",
            "DeSana",
            "Lakeside",
            "Liberty",
            "Little Mill",
            "North Forsyth",
            "Otwell",
            "Piney Grove",
            "Riverwatch",
            "South Forsyth",
            "Vickery Creek",
            "Alliance Academy for Innovation",
            "Denmark",
            "Forsyth Central",
            "Lambert",
            "North Forsyth",
            "South Forsyth",
            "West Forsyth"
           ],
           "ids": [
            "Big Creek",
            "Brandywine",
            "Brookwood",
            "Chattahoochee",
            "Chestatee",
            "Coal Mountain",
            "Cumming",
            "Daves Creek",
            "Haw Creek",
            "Johns Creek",
            "Kelly Mill",
            "Mashburn",
            "Matt",
            "Midway",
            "Poole's Mill",
            "Sawnee",
            "Settles Bridge",
            "Sharon",
            "Shiloh Point",
            "Silver City",
            "Vickery Creek",
            "Whitlow",
            "DeSana",
            "Lakeside",
            "Liberty",
            "Little Mill",
            "North Forsyth",
            "Otwell",
            "Piney Grove",
            "Riverwatch",
            "South Forsyth",
            "Vickery Creek",
            "Alliance Academy for Innovation",
            "Denmark",
            "Forsyth Central",
            "Lambert",
            "North Forsyth",
            "South Forsyth",
            "West Forsyth"
           ],
           "lat": [
            34.113906,
            34.1335,
            34.101762,
            34.239073,
            34.297109000000006,
            34.274361999999996,
            34.22145,
            34.137060999999996,
            34.164334999999994,
            34.065647999999996,
            34.208588,
            34.168931,
            34.290784,
            34.159086,
            34.279810999999995,
            34.242191999999996,
            34.124171999999994,
            34.104277,
            34.144505,
            34.328631,
            34.176995,
            34.187329,
            34.130072,
            34.165711,
            34.288540000000005,
            34.249992,
            34.278569,
            34.219535,
            34.14509,
            34.125074,
            34.116796,
            34.179534999999994,
            34.219237,
            34.147999,
            34.217102000000004,
            34.106989,
            34.27811,
            34.148412,
            34.211249
           ],
           "legendgroup": "",
           "lon": [
            -84.177824,
            -84.247383,
            -84.18468,
            -84.08623,
            -83.996014,
            -84.106103,
            -84.135623,
            -84.14256400000001,
            -84.09925799999999,
            -84.12756,
            -84.16658699999999,
            -84.105777,
            -84.204504,
            -84.234437,
            -84.233814,
            -84.17603199999999,
            -84.106235,
            -84.13597299999999,
            -84.176538,
            -84.102699,
            -84.224946,
            -84.162151,
            -84.23837900000001,
            -84.097944,
            -84.20521600000001,
            -84.020986,
            -84.103623,
            -84.13730600000001,
            -84.178782,
            -84.10967600000001,
            -84.152999,
            -84.22327299999999,
            -84.115669,
            -84.22931700000001,
            -84.141643,
            -84.13884499999999,
            -84.10639,
            -84.170303,
            -84.214213
           ],
           "marker": {
            "color": [
             0,
             0,
             0,
             2,
             1,
             2,
             0,
             0,
             0,
             0,
             0,
             0,
             0,
             0,
             0,
             0,
             0,
             0,
             0,
             0,
             0,
             0,
             0,
             1,
             0,
             1,
             0,
             0,
             0,
             0,
             0,
             1,
             0,
             1,
             3,
             3,
             2,
             0,
             3
            ],
            "coloraxis": "coloraxis",
            "size": [
             0,
             0,
             0,
             2,
             1,
             2,
             0,
             0,
             0,
             0,
             0,
             0,
             0,
             0,
             0,
             0,
             0,
             0,
             0,
             0,
             0,
             0,
             0,
             1,
             0,
             1,
             0,
             0,
             0,
             0,
             0,
             1,
             0,
             1,
             3,
             3,
             2,
             0,
             3
            ],
            "sizemode": "area",
            "sizeref": 0.01
           },
           "mode": "markers+text",
           "name": "",
           "showlegend": false,
           "subplot": "mapbox",
           "text": [
            "Big Creek",
            "Brandywine",
            "Brookwood",
            "Chattahoochee",
            "Chestatee",
            "Coal Mountain",
            "Cumming",
            "Daves Creek",
            "Haw Creek",
            "Johns Creek",
            "Kelly Mill",
            "Mashburn",
            "Matt",
            "Midway",
            "Poole's Mill",
            "Sawnee",
            "Settles Bridge",
            "Sharon",
            "Shiloh Point",
            "Silver City",
            "Vickery Creek",
            "Whitlow",
            "DeSana",
            "Lakeside",
            "Liberty",
            "Little Mill",
            "North Forsyth",
            "Otwell",
            "Piney Grove",
            "Riverwatch",
            "South Forsyth",
            "Vickery Creek",
            "Alliance Academy for Innovation",
            "Denmark",
            "Forsyth Central",
            "Lambert",
            "North Forsyth",
            "South Forsyth",
            "West Forsyth"
           ],
           "type": "scattermapbox"
          }
         ],
         "name": "8/19/20"
        },
        {
         "data": [
          {
           "hovertemplate": "<b>%{hovertext}</b><br><br>date=8/20/20<br>total=%{marker.color}<br>school=%{text}<br>latitude=%{lat}<br>longitude=%{lon}<extra></extra>",
           "hovertext": [
            "Big Creek",
            "Brandywine",
            "Brookwood",
            "Chattahoochee",
            "Chestatee",
            "Coal Mountain",
            "Cumming",
            "Daves Creek",
            "Haw Creek",
            "Johns Creek",
            "Kelly Mill",
            "Mashburn",
            "Matt",
            "Midway",
            "Poole's Mill",
            "Sawnee",
            "Settles Bridge",
            "Sharon",
            "Shiloh Point",
            "Silver City",
            "Vickery Creek",
            "Whitlow",
            "DeSana",
            "Lakeside",
            "Liberty",
            "Little Mill",
            "North Forsyth",
            "Otwell",
            "Piney Grove",
            "Riverwatch",
            "South Forsyth",
            "Vickery Creek",
            "Alliance Academy for Innovation",
            "Denmark",
            "Forsyth Central",
            "Lambert",
            "North Forsyth",
            "South Forsyth",
            "West Forsyth"
           ],
           "ids": [
            "Big Creek",
            "Brandywine",
            "Brookwood",
            "Chattahoochee",
            "Chestatee",
            "Coal Mountain",
            "Cumming",
            "Daves Creek",
            "Haw Creek",
            "Johns Creek",
            "Kelly Mill",
            "Mashburn",
            "Matt",
            "Midway",
            "Poole's Mill",
            "Sawnee",
            "Settles Bridge",
            "Sharon",
            "Shiloh Point",
            "Silver City",
            "Vickery Creek",
            "Whitlow",
            "DeSana",
            "Lakeside",
            "Liberty",
            "Little Mill",
            "North Forsyth",
            "Otwell",
            "Piney Grove",
            "Riverwatch",
            "South Forsyth",
            "Vickery Creek",
            "Alliance Academy for Innovation",
            "Denmark",
            "Forsyth Central",
            "Lambert",
            "North Forsyth",
            "South Forsyth",
            "West Forsyth"
           ],
           "lat": [
            34.113906,
            34.1335,
            34.101762,
            34.239073,
            34.297109000000006,
            34.274361999999996,
            34.22145,
            34.137060999999996,
            34.164334999999994,
            34.065647999999996,
            34.208588,
            34.168931,
            34.290784,
            34.159086,
            34.279810999999995,
            34.242191999999996,
            34.124171999999994,
            34.104277,
            34.144505,
            34.328631,
            34.176995,
            34.187329,
            34.130072,
            34.165711,
            34.288540000000005,
            34.249992,
            34.278569,
            34.219535,
            34.14509,
            34.125074,
            34.116796,
            34.179534999999994,
            34.219237,
            34.147999,
            34.217102000000004,
            34.106989,
            34.27811,
            34.148412,
            34.211249
           ],
           "legendgroup": "",
           "lon": [
            -84.177824,
            -84.247383,
            -84.18468,
            -84.08623,
            -83.996014,
            -84.106103,
            -84.135623,
            -84.14256400000001,
            -84.09925799999999,
            -84.12756,
            -84.16658699999999,
            -84.105777,
            -84.204504,
            -84.234437,
            -84.233814,
            -84.17603199999999,
            -84.106235,
            -84.13597299999999,
            -84.176538,
            -84.102699,
            -84.224946,
            -84.162151,
            -84.23837900000001,
            -84.097944,
            -84.20521600000001,
            -84.020986,
            -84.103623,
            -84.13730600000001,
            -84.178782,
            -84.10967600000001,
            -84.152999,
            -84.22327299999999,
            -84.115669,
            -84.22931700000001,
            -84.141643,
            -84.13884499999999,
            -84.10639,
            -84.170303,
            -84.214213
           ],
           "marker": {
            "color": [
             0,
             0,
             0,
             2,
             1,
             2,
             0,
             0,
             0,
             0,
             0,
             0,
             0,
             0,
             1,
             0,
             0,
             0,
             0,
             0,
             0,
             0,
             0,
             2,
             0,
             2,
             1,
             0,
             0,
             0,
             0,
             2,
             0,
             1,
             3,
             3,
             2,
             0,
             4
            ],
            "coloraxis": "coloraxis",
            "size": [
             0,
             0,
             0,
             2,
             1,
             2,
             0,
             0,
             0,
             0,
             0,
             0,
             0,
             0,
             1,
             0,
             0,
             0,
             0,
             0,
             0,
             0,
             0,
             2,
             0,
             2,
             1,
             0,
             0,
             0,
             0,
             2,
             0,
             1,
             3,
             3,
             2,
             0,
             4
            ],
            "sizemode": "area",
            "sizeref": 0.01
           },
           "mode": "markers+text",
           "name": "",
           "showlegend": false,
           "subplot": "mapbox",
           "text": [
            "Big Creek",
            "Brandywine",
            "Brookwood",
            "Chattahoochee",
            "Chestatee",
            "Coal Mountain",
            "Cumming",
            "Daves Creek",
            "Haw Creek",
            "Johns Creek",
            "Kelly Mill",
            "Mashburn",
            "Matt",
            "Midway",
            "Poole's Mill",
            "Sawnee",
            "Settles Bridge",
            "Sharon",
            "Shiloh Point",
            "Silver City",
            "Vickery Creek",
            "Whitlow",
            "DeSana",
            "Lakeside",
            "Liberty",
            "Little Mill",
            "North Forsyth",
            "Otwell",
            "Piney Grove",
            "Riverwatch",
            "South Forsyth",
            "Vickery Creek",
            "Alliance Academy for Innovation",
            "Denmark",
            "Forsyth Central",
            "Lambert",
            "North Forsyth",
            "South Forsyth",
            "West Forsyth"
           ],
           "type": "scattermapbox"
          }
         ],
         "name": "8/20/20"
        },
        {
         "data": [
          {
           "hovertemplate": "<b>%{hovertext}</b><br><br>date=8/21/20<br>total=%{marker.color}<br>school=%{text}<br>latitude=%{lat}<br>longitude=%{lon}<extra></extra>",
           "hovertext": [
            "Big Creek",
            "Brandywine",
            "Brookwood",
            "Chattahoochee",
            "Chestatee",
            "Coal Mountain",
            "Cumming",
            "Daves Creek",
            "Haw Creek",
            "Johns Creek",
            "Kelly Mill",
            "Mashburn",
            "Matt",
            "Midway",
            "Poole's Mill",
            "Sawnee",
            "Settles Bridge",
            "Sharon",
            "Shiloh Point",
            "Silver City",
            "Vickery Creek",
            "Whitlow",
            "DeSana",
            "Lakeside",
            "Liberty",
            "Little Mill",
            "North Forsyth",
            "Otwell",
            "Piney Grove",
            "Riverwatch",
            "South Forsyth",
            "Vickery Creek",
            "Alliance Academy for Innovation",
            "Denmark",
            "Forsyth Central",
            "Lambert",
            "North Forsyth",
            "South Forsyth",
            "West Forsyth"
           ],
           "ids": [
            "Big Creek",
            "Brandywine",
            "Brookwood",
            "Chattahoochee",
            "Chestatee",
            "Coal Mountain",
            "Cumming",
            "Daves Creek",
            "Haw Creek",
            "Johns Creek",
            "Kelly Mill",
            "Mashburn",
            "Matt",
            "Midway",
            "Poole's Mill",
            "Sawnee",
            "Settles Bridge",
            "Sharon",
            "Shiloh Point",
            "Silver City",
            "Vickery Creek",
            "Whitlow",
            "DeSana",
            "Lakeside",
            "Liberty",
            "Little Mill",
            "North Forsyth",
            "Otwell",
            "Piney Grove",
            "Riverwatch",
            "South Forsyth",
            "Vickery Creek",
            "Alliance Academy for Innovation",
            "Denmark",
            "Forsyth Central",
            "Lambert",
            "North Forsyth",
            "South Forsyth",
            "West Forsyth"
           ],
           "lat": [
            34.113906,
            34.1335,
            34.101762,
            34.239073,
            34.297109000000006,
            34.274361999999996,
            34.22145,
            34.137060999999996,
            34.164334999999994,
            34.065647999999996,
            34.208588,
            34.168931,
            34.290784,
            34.159086,
            34.279810999999995,
            34.242191999999996,
            34.124171999999994,
            34.104277,
            34.144505,
            34.328631,
            34.176995,
            34.187329,
            34.130072,
            34.165711,
            34.288540000000005,
            34.249992,
            34.278569,
            34.219535,
            34.14509,
            34.125074,
            34.116796,
            34.179534999999994,
            34.219237,
            34.147999,
            34.217102000000004,
            34.106989,
            34.27811,
            34.148412,
            34.211249
           ],
           "legendgroup": "",
           "lon": [
            -84.177824,
            -84.247383,
            -84.18468,
            -84.08623,
            -83.996014,
            -84.106103,
            -84.135623,
            -84.14256400000001,
            -84.09925799999999,
            -84.12756,
            -84.16658699999999,
            -84.105777,
            -84.204504,
            -84.234437,
            -84.233814,
            -84.17603199999999,
            -84.106235,
            -84.13597299999999,
            -84.176538,
            -84.102699,
            -84.224946,
            -84.162151,
            -84.23837900000001,
            -84.097944,
            -84.20521600000001,
            -84.020986,
            -84.103623,
            -84.13730600000001,
            -84.178782,
            -84.10967600000001,
            -84.152999,
            -84.22327299999999,
            -84.115669,
            -84.22931700000001,
            -84.141643,
            -84.13884499999999,
            -84.10639,
            -84.170303,
            -84.214213
           ],
           "marker": {
            "color": [
             0,
             0,
             0,
             2,
             1,
             2,
             0,
             0,
             0,
             0,
             0,
             0,
             0,
             0,
             1,
             0,
             0,
             0,
             1,
             0,
             0,
             0,
             0,
             2,
             0,
             2,
             2,
             0,
             0,
             0,
             0,
             3,
             0,
             2,
             4,
             3,
             3,
             0,
             4
            ],
            "coloraxis": "coloraxis",
            "size": [
             0,
             0,
             0,
             2,
             1,
             2,
             0,
             0,
             0,
             0,
             0,
             0,
             0,
             0,
             1,
             0,
             0,
             0,
             1,
             0,
             0,
             0,
             0,
             2,
             0,
             2,
             2,
             0,
             0,
             0,
             0,
             3,
             0,
             2,
             4,
             3,
             3,
             0,
             4
            ],
            "sizemode": "area",
            "sizeref": 0.01
           },
           "mode": "markers+text",
           "name": "",
           "showlegend": false,
           "subplot": "mapbox",
           "text": [
            "Big Creek",
            "Brandywine",
            "Brookwood",
            "Chattahoochee",
            "Chestatee",
            "Coal Mountain",
            "Cumming",
            "Daves Creek",
            "Haw Creek",
            "Johns Creek",
            "Kelly Mill",
            "Mashburn",
            "Matt",
            "Midway",
            "Poole's Mill",
            "Sawnee",
            "Settles Bridge",
            "Sharon",
            "Shiloh Point",
            "Silver City",
            "Vickery Creek",
            "Whitlow",
            "DeSana",
            "Lakeside",
            "Liberty",
            "Little Mill",
            "North Forsyth",
            "Otwell",
            "Piney Grove",
            "Riverwatch",
            "South Forsyth",
            "Vickery Creek",
            "Alliance Academy for Innovation",
            "Denmark",
            "Forsyth Central",
            "Lambert",
            "North Forsyth",
            "South Forsyth",
            "West Forsyth"
           ],
           "type": "scattermapbox"
          }
         ],
         "name": "8/21/20"
        }
       ],
       "layout": {
        "coloraxis": {
         "colorbar": {
          "title": {
           "text": "total"
          }
         },
         "colorscale": [
          [
           0,
           "rgb(196, 230, 195)"
          ],
          [
           0.16666666666666666,
           "rgb(150, 210, 164)"
          ],
          [
           0.3333333333333333,
           "rgb(109, 188, 144)"
          ],
          [
           0.5,
           "rgb(77, 162, 132)"
          ],
          [
           0.6666666666666666,
           "rgb(54, 135, 122)"
          ],
          [
           0.8333333333333334,
           "rgb(38, 107, 110)"
          ],
          [
           1,
           "rgb(29, 79, 96)"
          ]
         ]
        },
        "height": 600,
        "legend": {
         "itemsizing": "constant",
         "tracegroupgap": 0
        },
        "mapbox": {
         "center": {
          "lat": 34.221749,
          "lon": -84.135526
         },
         "domain": {
          "x": [
           0,
           1
          ],
          "y": [
           0,
           1
          ]
         },
         "style": "open-street-map",
         "zoom": 9.8
        },
        "margin": {
         "b": 0,
         "l": 200,
         "r": 200,
         "t": 0
        },
        "sliders": [
         {
          "active": 0,
          "currentvalue": {
           "prefix": "date="
          },
          "len": 0.9,
          "pad": {
           "b": 10,
           "t": 60
          },
          "steps": [
           {
            "args": [
             [
              "8/13/20"
             ],
             {
              "frame": {
               "duration": 0,
               "redraw": true
              },
              "fromcurrent": true,
              "mode": "immediate",
              "transition": {
               "duration": 0,
               "easing": "linear"
              }
             }
            ],
            "label": "8/13/20",
            "method": "animate"
           },
           {
            "args": [
             [
              "8/14/20"
             ],
             {
              "frame": {
               "duration": 0,
               "redraw": true
              },
              "fromcurrent": true,
              "mode": "immediate",
              "transition": {
               "duration": 0,
               "easing": "linear"
              }
             }
            ],
            "label": "8/14/20",
            "method": "animate"
           },
           {
            "args": [
             [
              "8/17/20"
             ],
             {
              "frame": {
               "duration": 0,
               "redraw": true
              },
              "fromcurrent": true,
              "mode": "immediate",
              "transition": {
               "duration": 0,
               "easing": "linear"
              }
             }
            ],
            "label": "8/17/20",
            "method": "animate"
           },
           {
            "args": [
             [
              "8/18/20"
             ],
             {
              "frame": {
               "duration": 0,
               "redraw": true
              },
              "fromcurrent": true,
              "mode": "immediate",
              "transition": {
               "duration": 0,
               "easing": "linear"
              }
             }
            ],
            "label": "8/18/20",
            "method": "animate"
           },
           {
            "args": [
             [
              "8/19/20"
             ],
             {
              "frame": {
               "duration": 0,
               "redraw": true
              },
              "fromcurrent": true,
              "mode": "immediate",
              "transition": {
               "duration": 0,
               "easing": "linear"
              }
             }
            ],
            "label": "8/19/20",
            "method": "animate"
           },
           {
            "args": [
             [
              "8/20/20"
             ],
             {
              "frame": {
               "duration": 0,
               "redraw": true
              },
              "fromcurrent": true,
              "mode": "immediate",
              "transition": {
               "duration": 0,
               "easing": "linear"
              }
             }
            ],
            "label": "8/20/20",
            "method": "animate"
           },
           {
            "args": [
             [
              "8/21/20"
             ],
             {
              "frame": {
               "duration": 0,
               "redraw": true
              },
              "fromcurrent": true,
              "mode": "immediate",
              "transition": {
               "duration": 0,
               "easing": "linear"
              }
             }
            ],
            "label": "8/21/20",
            "method": "animate"
           }
          ],
          "x": 0.1,
          "xanchor": "left",
          "y": 0,
          "yanchor": "top"
         }
        ],
        "template": {
         "data": {
          "bar": [
           {
            "error_x": {
             "color": "#2a3f5f"
            },
            "error_y": {
             "color": "#2a3f5f"
            },
            "marker": {
             "line": {
              "color": "#E5ECF6",
              "width": 0.5
             }
            },
            "type": "bar"
           }
          ],
          "barpolar": [
           {
            "marker": {
             "line": {
              "color": "#E5ECF6",
              "width": 0.5
             }
            },
            "type": "barpolar"
           }
          ],
          "carpet": [
           {
            "aaxis": {
             "endlinecolor": "#2a3f5f",
             "gridcolor": "white",
             "linecolor": "white",
             "minorgridcolor": "white",
             "startlinecolor": "#2a3f5f"
            },
            "baxis": {
             "endlinecolor": "#2a3f5f",
             "gridcolor": "white",
             "linecolor": "white",
             "minorgridcolor": "white",
             "startlinecolor": "#2a3f5f"
            },
            "type": "carpet"
           }
          ],
          "choropleth": [
           {
            "colorbar": {
             "outlinewidth": 0,
             "ticks": ""
            },
            "type": "choropleth"
           }
          ],
          "contour": [
           {
            "colorbar": {
             "outlinewidth": 0,
             "ticks": ""
            },
            "colorscale": [
             [
              0,
              "#0d0887"
             ],
             [
              0.1111111111111111,
              "#46039f"
             ],
             [
              0.2222222222222222,
              "#7201a8"
             ],
             [
              0.3333333333333333,
              "#9c179e"
             ],
             [
              0.4444444444444444,
              "#bd3786"
             ],
             [
              0.5555555555555556,
              "#d8576b"
             ],
             [
              0.6666666666666666,
              "#ed7953"
             ],
             [
              0.7777777777777778,
              "#fb9f3a"
             ],
             [
              0.8888888888888888,
              "#fdca26"
             ],
             [
              1,
              "#f0f921"
             ]
            ],
            "type": "contour"
           }
          ],
          "contourcarpet": [
           {
            "colorbar": {
             "outlinewidth": 0,
             "ticks": ""
            },
            "type": "contourcarpet"
           }
          ],
          "heatmap": [
           {
            "colorbar": {
             "outlinewidth": 0,
             "ticks": ""
            },
            "colorscale": [
             [
              0,
              "#0d0887"
             ],
             [
              0.1111111111111111,
              "#46039f"
             ],
             [
              0.2222222222222222,
              "#7201a8"
             ],
             [
              0.3333333333333333,
              "#9c179e"
             ],
             [
              0.4444444444444444,
              "#bd3786"
             ],
             [
              0.5555555555555556,
              "#d8576b"
             ],
             [
              0.6666666666666666,
              "#ed7953"
             ],
             [
              0.7777777777777778,
              "#fb9f3a"
             ],
             [
              0.8888888888888888,
              "#fdca26"
             ],
             [
              1,
              "#f0f921"
             ]
            ],
            "type": "heatmap"
           }
          ],
          "heatmapgl": [
           {
            "colorbar": {
             "outlinewidth": 0,
             "ticks": ""
            },
            "colorscale": [
             [
              0,
              "#0d0887"
             ],
             [
              0.1111111111111111,
              "#46039f"
             ],
             [
              0.2222222222222222,
              "#7201a8"
             ],
             [
              0.3333333333333333,
              "#9c179e"
             ],
             [
              0.4444444444444444,
              "#bd3786"
             ],
             [
              0.5555555555555556,
              "#d8576b"
             ],
             [
              0.6666666666666666,
              "#ed7953"
             ],
             [
              0.7777777777777778,
              "#fb9f3a"
             ],
             [
              0.8888888888888888,
              "#fdca26"
             ],
             [
              1,
              "#f0f921"
             ]
            ],
            "type": "heatmapgl"
           }
          ],
          "histogram": [
           {
            "marker": {
             "colorbar": {
              "outlinewidth": 0,
              "ticks": ""
             }
            },
            "type": "histogram"
           }
          ],
          "histogram2d": [
           {
            "colorbar": {
             "outlinewidth": 0,
             "ticks": ""
            },
            "colorscale": [
             [
              0,
              "#0d0887"
             ],
             [
              0.1111111111111111,
              "#46039f"
             ],
             [
              0.2222222222222222,
              "#7201a8"
             ],
             [
              0.3333333333333333,
              "#9c179e"
             ],
             [
              0.4444444444444444,
              "#bd3786"
             ],
             [
              0.5555555555555556,
              "#d8576b"
             ],
             [
              0.6666666666666666,
              "#ed7953"
             ],
             [
              0.7777777777777778,
              "#fb9f3a"
             ],
             [
              0.8888888888888888,
              "#fdca26"
             ],
             [
              1,
              "#f0f921"
             ]
            ],
            "type": "histogram2d"
           }
          ],
          "histogram2dcontour": [
           {
            "colorbar": {
             "outlinewidth": 0,
             "ticks": ""
            },
            "colorscale": [
             [
              0,
              "#0d0887"
             ],
             [
              0.1111111111111111,
              "#46039f"
             ],
             [
              0.2222222222222222,
              "#7201a8"
             ],
             [
              0.3333333333333333,
              "#9c179e"
             ],
             [
              0.4444444444444444,
              "#bd3786"
             ],
             [
              0.5555555555555556,
              "#d8576b"
             ],
             [
              0.6666666666666666,
              "#ed7953"
             ],
             [
              0.7777777777777778,
              "#fb9f3a"
             ],
             [
              0.8888888888888888,
              "#fdca26"
             ],
             [
              1,
              "#f0f921"
             ]
            ],
            "type": "histogram2dcontour"
           }
          ],
          "mesh3d": [
           {
            "colorbar": {
             "outlinewidth": 0,
             "ticks": ""
            },
            "type": "mesh3d"
           }
          ],
          "parcoords": [
           {
            "line": {
             "colorbar": {
              "outlinewidth": 0,
              "ticks": ""
             }
            },
            "type": "parcoords"
           }
          ],
          "pie": [
           {
            "automargin": true,
            "type": "pie"
           }
          ],
          "scatter": [
           {
            "marker": {
             "colorbar": {
              "outlinewidth": 0,
              "ticks": ""
             }
            },
            "type": "scatter"
           }
          ],
          "scatter3d": [
           {
            "line": {
             "colorbar": {
              "outlinewidth": 0,
              "ticks": ""
             }
            },
            "marker": {
             "colorbar": {
              "outlinewidth": 0,
              "ticks": ""
             }
            },
            "type": "scatter3d"
           }
          ],
          "scattercarpet": [
           {
            "marker": {
             "colorbar": {
              "outlinewidth": 0,
              "ticks": ""
             }
            },
            "type": "scattercarpet"
           }
          ],
          "scattergeo": [
           {
            "marker": {
             "colorbar": {
              "outlinewidth": 0,
              "ticks": ""
             }
            },
            "type": "scattergeo"
           }
          ],
          "scattergl": [
           {
            "marker": {
             "colorbar": {
              "outlinewidth": 0,
              "ticks": ""
             }
            },
            "type": "scattergl"
           }
          ],
          "scattermapbox": [
           {
            "marker": {
             "colorbar": {
              "outlinewidth": 0,
              "ticks": ""
             }
            },
            "type": "scattermapbox"
           }
          ],
          "scatterpolar": [
           {
            "marker": {
             "colorbar": {
              "outlinewidth": 0,
              "ticks": ""
             }
            },
            "type": "scatterpolar"
           }
          ],
          "scatterpolargl": [
           {
            "marker": {
             "colorbar": {
              "outlinewidth": 0,
              "ticks": ""
             }
            },
            "type": "scatterpolargl"
           }
          ],
          "scatterternary": [
           {
            "marker": {
             "colorbar": {
              "outlinewidth": 0,
              "ticks": ""
             }
            },
            "type": "scatterternary"
           }
          ],
          "surface": [
           {
            "colorbar": {
             "outlinewidth": 0,
             "ticks": ""
            },
            "colorscale": [
             [
              0,
              "#0d0887"
             ],
             [
              0.1111111111111111,
              "#46039f"
             ],
             [
              0.2222222222222222,
              "#7201a8"
             ],
             [
              0.3333333333333333,
              "#9c179e"
             ],
             [
              0.4444444444444444,
              "#bd3786"
             ],
             [
              0.5555555555555556,
              "#d8576b"
             ],
             [
              0.6666666666666666,
              "#ed7953"
             ],
             [
              0.7777777777777778,
              "#fb9f3a"
             ],
             [
              0.8888888888888888,
              "#fdca26"
             ],
             [
              1,
              "#f0f921"
             ]
            ],
            "type": "surface"
           }
          ],
          "table": [
           {
            "cells": {
             "fill": {
              "color": "#EBF0F8"
             },
             "line": {
              "color": "white"
             }
            },
            "header": {
             "fill": {
              "color": "#C8D4E3"
             },
             "line": {
              "color": "white"
             }
            },
            "type": "table"
           }
          ]
         },
         "layout": {
          "annotationdefaults": {
           "arrowcolor": "#2a3f5f",
           "arrowhead": 0,
           "arrowwidth": 1
          },
          "coloraxis": {
           "colorbar": {
            "outlinewidth": 0,
            "ticks": ""
           }
          },
          "colorscale": {
           "diverging": [
            [
             0,
             "#8e0152"
            ],
            [
             0.1,
             "#c51b7d"
            ],
            [
             0.2,
             "#de77ae"
            ],
            [
             0.3,
             "#f1b6da"
            ],
            [
             0.4,
             "#fde0ef"
            ],
            [
             0.5,
             "#f7f7f7"
            ],
            [
             0.6,
             "#e6f5d0"
            ],
            [
             0.7,
             "#b8e186"
            ],
            [
             0.8,
             "#7fbc41"
            ],
            [
             0.9,
             "#4d9221"
            ],
            [
             1,
             "#276419"
            ]
           ],
           "sequential": [
            [
             0,
             "#0d0887"
            ],
            [
             0.1111111111111111,
             "#46039f"
            ],
            [
             0.2222222222222222,
             "#7201a8"
            ],
            [
             0.3333333333333333,
             "#9c179e"
            ],
            [
             0.4444444444444444,
             "#bd3786"
            ],
            [
             0.5555555555555556,
             "#d8576b"
            ],
            [
             0.6666666666666666,
             "#ed7953"
            ],
            [
             0.7777777777777778,
             "#fb9f3a"
            ],
            [
             0.8888888888888888,
             "#fdca26"
            ],
            [
             1,
             "#f0f921"
            ]
           ],
           "sequentialminus": [
            [
             0,
             "#0d0887"
            ],
            [
             0.1111111111111111,
             "#46039f"
            ],
            [
             0.2222222222222222,
             "#7201a8"
            ],
            [
             0.3333333333333333,
             "#9c179e"
            ],
            [
             0.4444444444444444,
             "#bd3786"
            ],
            [
             0.5555555555555556,
             "#d8576b"
            ],
            [
             0.6666666666666666,
             "#ed7953"
            ],
            [
             0.7777777777777778,
             "#fb9f3a"
            ],
            [
             0.8888888888888888,
             "#fdca26"
            ],
            [
             1,
             "#f0f921"
            ]
           ]
          },
          "colorway": [
           "#636efa",
           "#EF553B",
           "#00cc96",
           "#ab63fa",
           "#FFA15A",
           "#19d3f3",
           "#FF6692",
           "#B6E880",
           "#FF97FF",
           "#FECB52"
          ],
          "font": {
           "color": "#2a3f5f"
          },
          "geo": {
           "bgcolor": "white",
           "lakecolor": "white",
           "landcolor": "#E5ECF6",
           "showlakes": true,
           "showland": true,
           "subunitcolor": "white"
          },
          "hoverlabel": {
           "align": "left"
          },
          "hovermode": "closest",
          "mapbox": {
           "style": "light"
          },
          "paper_bgcolor": "white",
          "plot_bgcolor": "#E5ECF6",
          "polar": {
           "angularaxis": {
            "gridcolor": "white",
            "linecolor": "white",
            "ticks": ""
           },
           "bgcolor": "#E5ECF6",
           "radialaxis": {
            "gridcolor": "white",
            "linecolor": "white",
            "ticks": ""
           }
          },
          "scene": {
           "xaxis": {
            "backgroundcolor": "#E5ECF6",
            "gridcolor": "white",
            "gridwidth": 2,
            "linecolor": "white",
            "showbackground": true,
            "ticks": "",
            "zerolinecolor": "white"
           },
           "yaxis": {
            "backgroundcolor": "#E5ECF6",
            "gridcolor": "white",
            "gridwidth": 2,
            "linecolor": "white",
            "showbackground": true,
            "ticks": "",
            "zerolinecolor": "white"
           },
           "zaxis": {
            "backgroundcolor": "#E5ECF6",
            "gridcolor": "white",
            "gridwidth": 2,
            "linecolor": "white",
            "showbackground": true,
            "ticks": "",
            "zerolinecolor": "white"
           }
          },
          "shapedefaults": {
           "line": {
            "color": "#2a3f5f"
           }
          },
          "ternary": {
           "aaxis": {
            "gridcolor": "white",
            "linecolor": "white",
            "ticks": ""
           },
           "baxis": {
            "gridcolor": "white",
            "linecolor": "white",
            "ticks": ""
           },
           "bgcolor": "#E5ECF6",
           "caxis": {
            "gridcolor": "white",
            "linecolor": "white",
            "ticks": ""
           }
          },
          "title": {
           "x": 0.05
          },
          "xaxis": {
           "automargin": true,
           "gridcolor": "white",
           "linecolor": "white",
           "ticks": "",
           "title": {
            "standoff": 15
           },
           "zerolinecolor": "white",
           "zerolinewidth": 2
          },
          "yaxis": {
           "automargin": true,
           "gridcolor": "white",
           "linecolor": "white",
           "ticks": "",
           "title": {
            "standoff": 15
           },
           "zerolinecolor": "white",
           "zerolinewidth": 2
          }
         }
        },
        "updatemenus": [
         {
          "buttons": [
           {
            "args": [
             null,
             {
              "frame": {
               "duration": 500,
               "redraw": true
              },
              "fromcurrent": true,
              "mode": "immediate",
              "transition": {
               "duration": 500,
               "easing": "linear"
              }
             }
            ],
            "label": "&#9654;",
            "method": "animate"
           },
           {
            "args": [
             [
              null
             ],
             {
              "frame": {
               "duration": 0,
               "redraw": true
              },
              "fromcurrent": true,
              "mode": "immediate",
              "transition": {
               "duration": 0,
               "easing": "linear"
              }
             }
            ],
            "label": "&#9724;",
            "method": "animate"
           }
          ],
          "direction": "left",
          "pad": {
           "r": 10,
           "t": 70
          },
          "showactive": false,
          "type": "buttons",
          "x": 0.1,
          "xanchor": "right",
          "y": 0,
          "yanchor": "top"
         }
        ]
       }
      },
      "text/html": [
       "<div>\n",
       "        \n",
       "        \n",
       "            <div id=\"df6b5154-7179-48ee-84bd-b35994a486fe\" class=\"plotly-graph-div\" style=\"height:600px; width:100%;\"></div>\n",
       "            <script type=\"text/javascript\">\n",
       "                require([\"plotly\"], function(Plotly) {\n",
       "                    window.PLOTLYENV=window.PLOTLYENV || {};\n",
       "                    \n",
       "                if (document.getElementById(\"df6b5154-7179-48ee-84bd-b35994a486fe\")) {\n",
       "                    Plotly.newPlot(\n",
       "                        'df6b5154-7179-48ee-84bd-b35994a486fe',\n",
       "                        [{\"hovertemplate\": \"<b>%{hovertext}</b><br><br>date=8/13/20<br>total=%{marker.color}<br>school=%{text}<br>latitude=%{lat}<br>longitude=%{lon}<extra></extra>\", \"hovertext\": [\"Big Creek\", \"Brandywine\", \"Brookwood\", \"Chattahoochee\", \"Chestatee\", \"Coal Mountain\", \"Cumming\", \"Daves Creek\", \"Haw Creek\", \"Johns Creek\", \"Kelly Mill\", \"Mashburn\", \"Matt\", \"Midway\", \"Poole's Mill\", \"Sawnee\", \"Settles Bridge\", \"Sharon\", \"Shiloh Point\", \"Silver City\", \"Vickery Creek\", \"Whitlow\", \"DeSana\", \"Lakeside\", \"Liberty\", \"Little Mill\", \"North Forsyth\", \"Otwell\", \"Piney Grove\", \"Riverwatch\", \"South Forsyth\", \"Vickery Creek\", \"Alliance Academy for Innovation\", \"Denmark\", \"Forsyth Central\", \"Lambert\", \"North Forsyth\", \"South Forsyth\", \"West Forsyth\"], \"ids\": [\"Big Creek\", \"Brandywine\", \"Brookwood\", \"Chattahoochee\", \"Chestatee\", \"Coal Mountain\", \"Cumming\", \"Daves Creek\", \"Haw Creek\", \"Johns Creek\", \"Kelly Mill\", \"Mashburn\", \"Matt\", \"Midway\", \"Poole's Mill\", \"Sawnee\", \"Settles Bridge\", \"Sharon\", \"Shiloh Point\", \"Silver City\", \"Vickery Creek\", \"Whitlow\", \"DeSana\", \"Lakeside\", \"Liberty\", \"Little Mill\", \"North Forsyth\", \"Otwell\", \"Piney Grove\", \"Riverwatch\", \"South Forsyth\", \"Vickery Creek\", \"Alliance Academy for Innovation\", \"Denmark\", \"Forsyth Central\", \"Lambert\", \"North Forsyth\", \"South Forsyth\", \"West Forsyth\"], \"lat\": [34.113906, 34.1335, 34.101762, 34.239073, 34.297109000000006, 34.274361999999996, 34.22145, 34.137060999999996, 34.164334999999994, 34.065647999999996, 34.208588, 34.168931, 34.290784, 34.159086, 34.279810999999995, 34.242191999999996, 34.124171999999994, 34.104277, 34.144505, 34.328631, 34.176995, 34.187329, 34.130072, 34.165711, 34.288540000000005, 34.249992, 34.278569, 34.219535, 34.14509, 34.125074, 34.116796, 34.179534999999994, 34.219237, 34.147999, 34.217102000000004, 34.106989, 34.27811, 34.148412, 34.211249], \"legendgroup\": \"\", \"lon\": [-84.177824, -84.247383, -84.18468, -84.08623, -83.996014, -84.106103, -84.135623, -84.14256400000001, -84.09925799999999, -84.12756, -84.16658699999999, -84.105777, -84.204504, -84.234437, -84.233814, -84.17603199999999, -84.106235, -84.13597299999999, -84.176538, -84.102699, -84.224946, -84.162151, -84.23837900000001, -84.097944, -84.20521600000001, -84.020986, -84.103623, -84.13730600000001, -84.178782, -84.10967600000001, -84.152999, -84.22327299999999, -84.115669, -84.22931700000001, -84.141643, -84.13884499999999, -84.10639, -84.170303, -84.214213], \"marker\": {\"color\": [0.0, 0.0, 0.0, 0.0, 0.0, 0.0, 0.0, 0.0, 0.0, 0.0, 0.0, 0.0, 0.0, 0.0, 0.0, 0.0, 0.0, 0.0, 0.0, 0.0, 0.0, 0.0, 0.0, 0.0, 0.0, 0.0, 0.0, 0.0, 0.0, 0.0, 0.0, 0.0, 0.0, 0.0, 0.0, 1.0, 0.0, 0.0, 0.0], \"coloraxis\": \"coloraxis\", \"size\": [0.0, 0.0, 0.0, 0.0, 0.0, 0.0, 0.0, 0.0, 0.0, 0.0, 0.0, 0.0, 0.0, 0.0, 0.0, 0.0, 0.0, 0.0, 0.0, 0.0, 0.0, 0.0, 0.0, 0.0, 0.0, 0.0, 0.0, 0.0, 0.0, 0.0, 0.0, 0.0, 0.0, 0.0, 0.0, 1.0, 0.0, 0.0, 0.0], \"sizemode\": \"area\", \"sizeref\": 0.01}, \"mode\": \"markers+text\", \"name\": \"\", \"showlegend\": false, \"subplot\": \"mapbox\", \"text\": [\"Big Creek\", \"Brandywine\", \"Brookwood\", \"Chattahoochee\", \"Chestatee\", \"Coal Mountain\", \"Cumming\", \"Daves Creek\", \"Haw Creek\", \"Johns Creek\", \"Kelly Mill\", \"Mashburn\", \"Matt\", \"Midway\", \"Poole's Mill\", \"Sawnee\", \"Settles Bridge\", \"Sharon\", \"Shiloh Point\", \"Silver City\", \"Vickery Creek\", \"Whitlow\", \"DeSana\", \"Lakeside\", \"Liberty\", \"Little Mill\", \"North Forsyth\", \"Otwell\", \"Piney Grove\", \"Riverwatch\", \"South Forsyth\", \"Vickery Creek\", \"Alliance Academy for Innovation\", \"Denmark\", \"Forsyth Central\", \"Lambert\", \"North Forsyth\", \"South Forsyth\", \"West Forsyth\"], \"type\": \"scattermapbox\"}],\n",
       "                        {\"coloraxis\": {\"colorbar\": {\"title\": {\"text\": \"total\"}}, \"colorscale\": [[0.0, \"rgb(196, 230, 195)\"], [0.16666666666666666, \"rgb(150, 210, 164)\"], [0.3333333333333333, \"rgb(109, 188, 144)\"], [0.5, \"rgb(77, 162, 132)\"], [0.6666666666666666, \"rgb(54, 135, 122)\"], [0.8333333333333334, \"rgb(38, 107, 110)\"], [1.0, \"rgb(29, 79, 96)\"]]}, \"height\": 600, \"legend\": {\"itemsizing\": \"constant\", \"tracegroupgap\": 0}, \"mapbox\": {\"center\": {\"lat\": 34.221749, \"lon\": -84.135526}, \"domain\": {\"x\": [0.0, 1.0], \"y\": [0.0, 1.0]}, \"style\": \"open-street-map\", \"zoom\": 9.8}, \"margin\": {\"b\": 0, \"l\": 200, \"r\": 200, \"t\": 0}, \"sliders\": [{\"active\": 0, \"currentvalue\": {\"prefix\": \"date=\"}, \"len\": 0.9, \"pad\": {\"b\": 10, \"t\": 60}, \"steps\": [{\"args\": [[\"8/13/20\"], {\"frame\": {\"duration\": 0, \"redraw\": true}, \"fromcurrent\": true, \"mode\": \"immediate\", \"transition\": {\"duration\": 0, \"easing\": \"linear\"}}], \"label\": \"8/13/20\", \"method\": \"animate\"}, {\"args\": [[\"8/14/20\"], {\"frame\": {\"duration\": 0, \"redraw\": true}, \"fromcurrent\": true, \"mode\": \"immediate\", \"transition\": {\"duration\": 0, \"easing\": \"linear\"}}], \"label\": \"8/14/20\", \"method\": \"animate\"}, {\"args\": [[\"8/17/20\"], {\"frame\": {\"duration\": 0, \"redraw\": true}, \"fromcurrent\": true, \"mode\": \"immediate\", \"transition\": {\"duration\": 0, \"easing\": \"linear\"}}], \"label\": \"8/17/20\", \"method\": \"animate\"}, {\"args\": [[\"8/18/20\"], {\"frame\": {\"duration\": 0, \"redraw\": true}, \"fromcurrent\": true, \"mode\": \"immediate\", \"transition\": {\"duration\": 0, \"easing\": \"linear\"}}], \"label\": \"8/18/20\", \"method\": \"animate\"}, {\"args\": [[\"8/19/20\"], {\"frame\": {\"duration\": 0, \"redraw\": true}, \"fromcurrent\": true, \"mode\": \"immediate\", \"transition\": {\"duration\": 0, \"easing\": \"linear\"}}], \"label\": \"8/19/20\", \"method\": \"animate\"}, {\"args\": [[\"8/20/20\"], {\"frame\": {\"duration\": 0, \"redraw\": true}, \"fromcurrent\": true, \"mode\": \"immediate\", \"transition\": {\"duration\": 0, \"easing\": \"linear\"}}], \"label\": \"8/20/20\", \"method\": \"animate\"}, {\"args\": [[\"8/21/20\"], {\"frame\": {\"duration\": 0, \"redraw\": true}, \"fromcurrent\": true, \"mode\": \"immediate\", \"transition\": {\"duration\": 0, \"easing\": \"linear\"}}], \"label\": \"8/21/20\", \"method\": \"animate\"}], \"x\": 0.1, \"xanchor\": \"left\", \"y\": 0, \"yanchor\": \"top\"}], \"template\": {\"data\": {\"bar\": [{\"error_x\": {\"color\": \"#2a3f5f\"}, \"error_y\": {\"color\": \"#2a3f5f\"}, \"marker\": {\"line\": {\"color\": \"#E5ECF6\", \"width\": 0.5}}, \"type\": \"bar\"}], \"barpolar\": [{\"marker\": {\"line\": {\"color\": \"#E5ECF6\", \"width\": 0.5}}, \"type\": \"barpolar\"}], \"carpet\": [{\"aaxis\": {\"endlinecolor\": \"#2a3f5f\", \"gridcolor\": \"white\", \"linecolor\": \"white\", \"minorgridcolor\": \"white\", \"startlinecolor\": \"#2a3f5f\"}, \"baxis\": {\"endlinecolor\": \"#2a3f5f\", \"gridcolor\": \"white\", \"linecolor\": \"white\", \"minorgridcolor\": \"white\", \"startlinecolor\": \"#2a3f5f\"}, \"type\": \"carpet\"}], \"choropleth\": [{\"colorbar\": {\"outlinewidth\": 0, \"ticks\": \"\"}, \"type\": \"choropleth\"}], \"contour\": [{\"colorbar\": {\"outlinewidth\": 0, \"ticks\": \"\"}, \"colorscale\": [[0.0, \"#0d0887\"], [0.1111111111111111, \"#46039f\"], [0.2222222222222222, \"#7201a8\"], [0.3333333333333333, \"#9c179e\"], [0.4444444444444444, \"#bd3786\"], [0.5555555555555556, \"#d8576b\"], [0.6666666666666666, \"#ed7953\"], [0.7777777777777778, \"#fb9f3a\"], [0.8888888888888888, \"#fdca26\"], [1.0, \"#f0f921\"]], \"type\": \"contour\"}], \"contourcarpet\": [{\"colorbar\": {\"outlinewidth\": 0, \"ticks\": \"\"}, \"type\": \"contourcarpet\"}], \"heatmap\": [{\"colorbar\": {\"outlinewidth\": 0, \"ticks\": \"\"}, \"colorscale\": [[0.0, \"#0d0887\"], [0.1111111111111111, \"#46039f\"], [0.2222222222222222, \"#7201a8\"], [0.3333333333333333, \"#9c179e\"], [0.4444444444444444, \"#bd3786\"], [0.5555555555555556, \"#d8576b\"], [0.6666666666666666, \"#ed7953\"], [0.7777777777777778, \"#fb9f3a\"], [0.8888888888888888, \"#fdca26\"], [1.0, \"#f0f921\"]], \"type\": \"heatmap\"}], \"heatmapgl\": [{\"colorbar\": {\"outlinewidth\": 0, \"ticks\": \"\"}, \"colorscale\": [[0.0, \"#0d0887\"], [0.1111111111111111, \"#46039f\"], [0.2222222222222222, \"#7201a8\"], [0.3333333333333333, \"#9c179e\"], [0.4444444444444444, \"#bd3786\"], [0.5555555555555556, \"#d8576b\"], [0.6666666666666666, \"#ed7953\"], [0.7777777777777778, \"#fb9f3a\"], [0.8888888888888888, \"#fdca26\"], [1.0, \"#f0f921\"]], \"type\": \"heatmapgl\"}], \"histogram\": [{\"marker\": {\"colorbar\": {\"outlinewidth\": 0, \"ticks\": \"\"}}, \"type\": \"histogram\"}], \"histogram2d\": [{\"colorbar\": {\"outlinewidth\": 0, \"ticks\": \"\"}, \"colorscale\": [[0.0, \"#0d0887\"], [0.1111111111111111, \"#46039f\"], [0.2222222222222222, \"#7201a8\"], [0.3333333333333333, \"#9c179e\"], [0.4444444444444444, \"#bd3786\"], [0.5555555555555556, \"#d8576b\"], [0.6666666666666666, \"#ed7953\"], [0.7777777777777778, \"#fb9f3a\"], [0.8888888888888888, \"#fdca26\"], [1.0, \"#f0f921\"]], \"type\": \"histogram2d\"}], \"histogram2dcontour\": [{\"colorbar\": {\"outlinewidth\": 0, \"ticks\": \"\"}, \"colorscale\": [[0.0, \"#0d0887\"], [0.1111111111111111, \"#46039f\"], [0.2222222222222222, \"#7201a8\"], [0.3333333333333333, \"#9c179e\"], [0.4444444444444444, \"#bd3786\"], [0.5555555555555556, \"#d8576b\"], [0.6666666666666666, \"#ed7953\"], [0.7777777777777778, \"#fb9f3a\"], [0.8888888888888888, \"#fdca26\"], [1.0, \"#f0f921\"]], \"type\": \"histogram2dcontour\"}], \"mesh3d\": [{\"colorbar\": {\"outlinewidth\": 0, \"ticks\": \"\"}, \"type\": \"mesh3d\"}], \"parcoords\": [{\"line\": {\"colorbar\": {\"outlinewidth\": 0, \"ticks\": \"\"}}, \"type\": \"parcoords\"}], \"pie\": [{\"automargin\": true, \"type\": \"pie\"}], \"scatter\": [{\"marker\": {\"colorbar\": {\"outlinewidth\": 0, \"ticks\": \"\"}}, \"type\": \"scatter\"}], \"scatter3d\": [{\"line\": {\"colorbar\": {\"outlinewidth\": 0, \"ticks\": \"\"}}, \"marker\": {\"colorbar\": {\"outlinewidth\": 0, \"ticks\": \"\"}}, \"type\": \"scatter3d\"}], \"scattercarpet\": [{\"marker\": {\"colorbar\": {\"outlinewidth\": 0, \"ticks\": \"\"}}, \"type\": \"scattercarpet\"}], \"scattergeo\": [{\"marker\": {\"colorbar\": {\"outlinewidth\": 0, \"ticks\": \"\"}}, \"type\": \"scattergeo\"}], \"scattergl\": [{\"marker\": {\"colorbar\": {\"outlinewidth\": 0, \"ticks\": \"\"}}, \"type\": \"scattergl\"}], \"scattermapbox\": [{\"marker\": {\"colorbar\": {\"outlinewidth\": 0, \"ticks\": \"\"}}, \"type\": \"scattermapbox\"}], \"scatterpolar\": [{\"marker\": {\"colorbar\": {\"outlinewidth\": 0, \"ticks\": \"\"}}, \"type\": \"scatterpolar\"}], \"scatterpolargl\": [{\"marker\": {\"colorbar\": {\"outlinewidth\": 0, \"ticks\": \"\"}}, \"type\": \"scatterpolargl\"}], \"scatterternary\": [{\"marker\": {\"colorbar\": {\"outlinewidth\": 0, \"ticks\": \"\"}}, \"type\": \"scatterternary\"}], \"surface\": [{\"colorbar\": {\"outlinewidth\": 0, \"ticks\": \"\"}, \"colorscale\": [[0.0, \"#0d0887\"], [0.1111111111111111, \"#46039f\"], [0.2222222222222222, \"#7201a8\"], [0.3333333333333333, \"#9c179e\"], [0.4444444444444444, \"#bd3786\"], [0.5555555555555556, \"#d8576b\"], [0.6666666666666666, \"#ed7953\"], [0.7777777777777778, \"#fb9f3a\"], [0.8888888888888888, \"#fdca26\"], [1.0, \"#f0f921\"]], \"type\": \"surface\"}], \"table\": [{\"cells\": {\"fill\": {\"color\": \"#EBF0F8\"}, \"line\": {\"color\": \"white\"}}, \"header\": {\"fill\": {\"color\": \"#C8D4E3\"}, \"line\": {\"color\": \"white\"}}, \"type\": \"table\"}]}, \"layout\": {\"annotationdefaults\": {\"arrowcolor\": \"#2a3f5f\", \"arrowhead\": 0, \"arrowwidth\": 1}, \"coloraxis\": {\"colorbar\": {\"outlinewidth\": 0, \"ticks\": \"\"}}, \"colorscale\": {\"diverging\": [[0, \"#8e0152\"], [0.1, \"#c51b7d\"], [0.2, \"#de77ae\"], [0.3, \"#f1b6da\"], [0.4, \"#fde0ef\"], [0.5, \"#f7f7f7\"], [0.6, \"#e6f5d0\"], [0.7, \"#b8e186\"], [0.8, \"#7fbc41\"], [0.9, \"#4d9221\"], [1, \"#276419\"]], \"sequential\": [[0.0, \"#0d0887\"], [0.1111111111111111, \"#46039f\"], [0.2222222222222222, \"#7201a8\"], [0.3333333333333333, \"#9c179e\"], [0.4444444444444444, \"#bd3786\"], [0.5555555555555556, \"#d8576b\"], [0.6666666666666666, \"#ed7953\"], [0.7777777777777778, \"#fb9f3a\"], [0.8888888888888888, \"#fdca26\"], [1.0, \"#f0f921\"]], \"sequentialminus\": [[0.0, \"#0d0887\"], [0.1111111111111111, \"#46039f\"], [0.2222222222222222, \"#7201a8\"], [0.3333333333333333, \"#9c179e\"], [0.4444444444444444, \"#bd3786\"], [0.5555555555555556, \"#d8576b\"], [0.6666666666666666, \"#ed7953\"], [0.7777777777777778, \"#fb9f3a\"], [0.8888888888888888, \"#fdca26\"], [1.0, \"#f0f921\"]]}, \"colorway\": [\"#636efa\", \"#EF553B\", \"#00cc96\", \"#ab63fa\", \"#FFA15A\", \"#19d3f3\", \"#FF6692\", \"#B6E880\", \"#FF97FF\", \"#FECB52\"], \"font\": {\"color\": \"#2a3f5f\"}, \"geo\": {\"bgcolor\": \"white\", \"lakecolor\": \"white\", \"landcolor\": \"#E5ECF6\", \"showlakes\": true, \"showland\": true, \"subunitcolor\": \"white\"}, \"hoverlabel\": {\"align\": \"left\"}, \"hovermode\": \"closest\", \"mapbox\": {\"style\": \"light\"}, \"paper_bgcolor\": \"white\", \"plot_bgcolor\": \"#E5ECF6\", \"polar\": {\"angularaxis\": {\"gridcolor\": \"white\", \"linecolor\": \"white\", \"ticks\": \"\"}, \"bgcolor\": \"#E5ECF6\", \"radialaxis\": {\"gridcolor\": \"white\", \"linecolor\": \"white\", \"ticks\": \"\"}}, \"scene\": {\"xaxis\": {\"backgroundcolor\": \"#E5ECF6\", \"gridcolor\": \"white\", \"gridwidth\": 2, \"linecolor\": \"white\", \"showbackground\": true, \"ticks\": \"\", \"zerolinecolor\": \"white\"}, \"yaxis\": {\"backgroundcolor\": \"#E5ECF6\", \"gridcolor\": \"white\", \"gridwidth\": 2, \"linecolor\": \"white\", \"showbackground\": true, \"ticks\": \"\", \"zerolinecolor\": \"white\"}, \"zaxis\": {\"backgroundcolor\": \"#E5ECF6\", \"gridcolor\": \"white\", \"gridwidth\": 2, \"linecolor\": \"white\", \"showbackground\": true, \"ticks\": \"\", \"zerolinecolor\": \"white\"}}, \"shapedefaults\": {\"line\": {\"color\": \"#2a3f5f\"}}, \"ternary\": {\"aaxis\": {\"gridcolor\": \"white\", \"linecolor\": \"white\", \"ticks\": \"\"}, \"baxis\": {\"gridcolor\": \"white\", \"linecolor\": \"white\", \"ticks\": \"\"}, \"bgcolor\": \"#E5ECF6\", \"caxis\": {\"gridcolor\": \"white\", \"linecolor\": \"white\", \"ticks\": \"\"}}, \"title\": {\"x\": 0.05}, \"xaxis\": {\"automargin\": true, \"gridcolor\": \"white\", \"linecolor\": \"white\", \"ticks\": \"\", \"title\": {\"standoff\": 15}, \"zerolinecolor\": \"white\", \"zerolinewidth\": 2}, \"yaxis\": {\"automargin\": true, \"gridcolor\": \"white\", \"linecolor\": \"white\", \"ticks\": \"\", \"title\": {\"standoff\": 15}, \"zerolinecolor\": \"white\", \"zerolinewidth\": 2}}}, \"updatemenus\": [{\"buttons\": [{\"args\": [null, {\"frame\": {\"duration\": 500, \"redraw\": true}, \"fromcurrent\": true, \"mode\": \"immediate\", \"transition\": {\"duration\": 500, \"easing\": \"linear\"}}], \"label\": \"&#9654;\", \"method\": \"animate\"}, {\"args\": [[null], {\"frame\": {\"duration\": 0, \"redraw\": true}, \"fromcurrent\": true, \"mode\": \"immediate\", \"transition\": {\"duration\": 0, \"easing\": \"linear\"}}], \"label\": \"&#9724;\", \"method\": \"animate\"}], \"direction\": \"left\", \"pad\": {\"r\": 10, \"t\": 70}, \"showactive\": false, \"type\": \"buttons\", \"x\": 0.1, \"xanchor\": \"right\", \"y\": 0, \"yanchor\": \"top\"}]},\n",
       "                        {\"responsive\": true}\n",
       "                    ).then(function(){\n",
       "                            Plotly.addFrames('df6b5154-7179-48ee-84bd-b35994a486fe', [{\"data\": [{\"hovertemplate\": \"<b>%{hovertext}</b><br><br>date=8/13/20<br>total=%{marker.color}<br>school=%{text}<br>latitude=%{lat}<br>longitude=%{lon}<extra></extra>\", \"hovertext\": [\"Big Creek\", \"Brandywine\", \"Brookwood\", \"Chattahoochee\", \"Chestatee\", \"Coal Mountain\", \"Cumming\", \"Daves Creek\", \"Haw Creek\", \"Johns Creek\", \"Kelly Mill\", \"Mashburn\", \"Matt\", \"Midway\", \"Poole's Mill\", \"Sawnee\", \"Settles Bridge\", \"Sharon\", \"Shiloh Point\", \"Silver City\", \"Vickery Creek\", \"Whitlow\", \"DeSana\", \"Lakeside\", \"Liberty\", \"Little Mill\", \"North Forsyth\", \"Otwell\", \"Piney Grove\", \"Riverwatch\", \"South Forsyth\", \"Vickery Creek\", \"Alliance Academy for Innovation\", \"Denmark\", \"Forsyth Central\", \"Lambert\", \"North Forsyth\", \"South Forsyth\", \"West Forsyth\"], \"ids\": [\"Big Creek\", \"Brandywine\", \"Brookwood\", \"Chattahoochee\", \"Chestatee\", \"Coal Mountain\", \"Cumming\", \"Daves Creek\", \"Haw Creek\", \"Johns Creek\", \"Kelly Mill\", \"Mashburn\", \"Matt\", \"Midway\", \"Poole's Mill\", \"Sawnee\", \"Settles Bridge\", \"Sharon\", \"Shiloh Point\", \"Silver City\", \"Vickery Creek\", \"Whitlow\", \"DeSana\", \"Lakeside\", \"Liberty\", \"Little Mill\", \"North Forsyth\", \"Otwell\", \"Piney Grove\", \"Riverwatch\", \"South Forsyth\", \"Vickery Creek\", \"Alliance Academy for Innovation\", \"Denmark\", \"Forsyth Central\", \"Lambert\", \"North Forsyth\", \"South Forsyth\", \"West Forsyth\"], \"lat\": [34.113906, 34.1335, 34.101762, 34.239073, 34.297109000000006, 34.274361999999996, 34.22145, 34.137060999999996, 34.164334999999994, 34.065647999999996, 34.208588, 34.168931, 34.290784, 34.159086, 34.279810999999995, 34.242191999999996, 34.124171999999994, 34.104277, 34.144505, 34.328631, 34.176995, 34.187329, 34.130072, 34.165711, 34.288540000000005, 34.249992, 34.278569, 34.219535, 34.14509, 34.125074, 34.116796, 34.179534999999994, 34.219237, 34.147999, 34.217102000000004, 34.106989, 34.27811, 34.148412, 34.211249], \"legendgroup\": \"\", \"lon\": [-84.177824, -84.247383, -84.18468, -84.08623, -83.996014, -84.106103, -84.135623, -84.14256400000001, -84.09925799999999, -84.12756, -84.16658699999999, -84.105777, -84.204504, -84.234437, -84.233814, -84.17603199999999, -84.106235, -84.13597299999999, -84.176538, -84.102699, -84.224946, -84.162151, -84.23837900000001, -84.097944, -84.20521600000001, -84.020986, -84.103623, -84.13730600000001, -84.178782, -84.10967600000001, -84.152999, -84.22327299999999, -84.115669, -84.22931700000001, -84.141643, -84.13884499999999, -84.10639, -84.170303, -84.214213], \"marker\": {\"color\": [0.0, 0.0, 0.0, 0.0, 0.0, 0.0, 0.0, 0.0, 0.0, 0.0, 0.0, 0.0, 0.0, 0.0, 0.0, 0.0, 0.0, 0.0, 0.0, 0.0, 0.0, 0.0, 0.0, 0.0, 0.0, 0.0, 0.0, 0.0, 0.0, 0.0, 0.0, 0.0, 0.0, 0.0, 0.0, 1.0, 0.0, 0.0, 0.0], \"coloraxis\": \"coloraxis\", \"size\": [0.0, 0.0, 0.0, 0.0, 0.0, 0.0, 0.0, 0.0, 0.0, 0.0, 0.0, 0.0, 0.0, 0.0, 0.0, 0.0, 0.0, 0.0, 0.0, 0.0, 0.0, 0.0, 0.0, 0.0, 0.0, 0.0, 0.0, 0.0, 0.0, 0.0, 0.0, 0.0, 0.0, 0.0, 0.0, 1.0, 0.0, 0.0, 0.0], \"sizemode\": \"area\", \"sizeref\": 0.01}, \"mode\": \"markers+text\", \"name\": \"\", \"showlegend\": false, \"subplot\": \"mapbox\", \"text\": [\"Big Creek\", \"Brandywine\", \"Brookwood\", \"Chattahoochee\", \"Chestatee\", \"Coal Mountain\", \"Cumming\", \"Daves Creek\", \"Haw Creek\", \"Johns Creek\", \"Kelly Mill\", \"Mashburn\", \"Matt\", \"Midway\", \"Poole's Mill\", \"Sawnee\", \"Settles Bridge\", \"Sharon\", \"Shiloh Point\", \"Silver City\", \"Vickery Creek\", \"Whitlow\", \"DeSana\", \"Lakeside\", \"Liberty\", \"Little Mill\", \"North Forsyth\", \"Otwell\", \"Piney Grove\", \"Riverwatch\", \"South Forsyth\", \"Vickery Creek\", \"Alliance Academy for Innovation\", \"Denmark\", \"Forsyth Central\", \"Lambert\", \"North Forsyth\", \"South Forsyth\", \"West Forsyth\"], \"type\": \"scattermapbox\"}], \"name\": \"8/13/20\"}, {\"data\": [{\"hovertemplate\": \"<b>%{hovertext}</b><br><br>date=8/14/20<br>total=%{marker.color}<br>school=%{text}<br>latitude=%{lat}<br>longitude=%{lon}<extra></extra>\", \"hovertext\": [\"Big Creek\", \"Brandywine\", \"Brookwood\", \"Chattahoochee\", \"Chestatee\", \"Coal Mountain\", \"Cumming\", \"Daves Creek\", \"Haw Creek\", \"Johns Creek\", \"Kelly Mill\", \"Mashburn\", \"Matt\", \"Midway\", \"Poole's Mill\", \"Sawnee\", \"Settles Bridge\", \"Sharon\", \"Shiloh Point\", \"Silver City\", \"Vickery Creek\", \"Whitlow\", \"DeSana\", \"Lakeside\", \"Liberty\", \"Little Mill\", \"North Forsyth\", \"Otwell\", \"Piney Grove\", \"Riverwatch\", \"South Forsyth\", \"Vickery Creek\", \"Alliance Academy for Innovation\", \"Denmark\", \"Forsyth Central\", \"Lambert\", \"North Forsyth\", \"South Forsyth\", \"West Forsyth\"], \"ids\": [\"Big Creek\", \"Brandywine\", \"Brookwood\", \"Chattahoochee\", \"Chestatee\", \"Coal Mountain\", \"Cumming\", \"Daves Creek\", \"Haw Creek\", \"Johns Creek\", \"Kelly Mill\", \"Mashburn\", \"Matt\", \"Midway\", \"Poole's Mill\", \"Sawnee\", \"Settles Bridge\", \"Sharon\", \"Shiloh Point\", \"Silver City\", \"Vickery Creek\", \"Whitlow\", \"DeSana\", \"Lakeside\", \"Liberty\", \"Little Mill\", \"North Forsyth\", \"Otwell\", \"Piney Grove\", \"Riverwatch\", \"South Forsyth\", \"Vickery Creek\", \"Alliance Academy for Innovation\", \"Denmark\", \"Forsyth Central\", \"Lambert\", \"North Forsyth\", \"South Forsyth\", \"West Forsyth\"], \"lat\": [34.113906, 34.1335, 34.101762, 34.239073, 34.297109000000006, 34.274361999999996, 34.22145, 34.137060999999996, 34.164334999999994, 34.065647999999996, 34.208588, 34.168931, 34.290784, 34.159086, 34.279810999999995, 34.242191999999996, 34.124171999999994, 34.104277, 34.144505, 34.328631, 34.176995, 34.187329, 34.130072, 34.165711, 34.288540000000005, 34.249992, 34.278569, 34.219535, 34.14509, 34.125074, 34.116796, 34.179534999999994, 34.219237, 34.147999, 34.217102000000004, 34.106989, 34.27811, 34.148412, 34.211249], \"legendgroup\": \"\", \"lon\": [-84.177824, -84.247383, -84.18468, -84.08623, -83.996014, -84.106103, -84.135623, -84.14256400000001, -84.09925799999999, -84.12756, -84.16658699999999, -84.105777, -84.204504, -84.234437, -84.233814, -84.17603199999999, -84.106235, -84.13597299999999, -84.176538, -84.102699, -84.224946, -84.162151, -84.23837900000001, -84.097944, -84.20521600000001, -84.020986, -84.103623, -84.13730600000001, -84.178782, -84.10967600000001, -84.152999, -84.22327299999999, -84.115669, -84.22931700000001, -84.141643, -84.13884499999999, -84.10639, -84.170303, -84.214213], \"marker\": {\"color\": [0.0, 0.0, 0.0, 0.0, 0.0, 0.0, 0.0, 0.0, 0.0, 0.0, 0.0, 0.0, 0.0, 0.0, 0.0, 0.0, 0.0, 0.0, 0.0, 0.0, 0.0, 0.0, 0.0, 0.0, 0.0, 0.0, 0.0, 0.0, 0.0, 0.0, 0.0, 0.0, 0.0, 1.0, 0.0, 1.0, 0.0, 0.0, 1.0], \"coloraxis\": \"coloraxis\", \"size\": [0.0, 0.0, 0.0, 0.0, 0.0, 0.0, 0.0, 0.0, 0.0, 0.0, 0.0, 0.0, 0.0, 0.0, 0.0, 0.0, 0.0, 0.0, 0.0, 0.0, 0.0, 0.0, 0.0, 0.0, 0.0, 0.0, 0.0, 0.0, 0.0, 0.0, 0.0, 0.0, 0.0, 1.0, 0.0, 1.0, 0.0, 0.0, 1.0], \"sizemode\": \"area\", \"sizeref\": 0.01}, \"mode\": \"markers+text\", \"name\": \"\", \"showlegend\": false, \"subplot\": \"mapbox\", \"text\": [\"Big Creek\", \"Brandywine\", \"Brookwood\", \"Chattahoochee\", \"Chestatee\", \"Coal Mountain\", \"Cumming\", \"Daves Creek\", \"Haw Creek\", \"Johns Creek\", \"Kelly Mill\", \"Mashburn\", \"Matt\", \"Midway\", \"Poole's Mill\", \"Sawnee\", \"Settles Bridge\", \"Sharon\", \"Shiloh Point\", \"Silver City\", \"Vickery Creek\", \"Whitlow\", \"DeSana\", \"Lakeside\", \"Liberty\", \"Little Mill\", \"North Forsyth\", \"Otwell\", \"Piney Grove\", \"Riverwatch\", \"South Forsyth\", \"Vickery Creek\", \"Alliance Academy for Innovation\", \"Denmark\", \"Forsyth Central\", \"Lambert\", \"North Forsyth\", \"South Forsyth\", \"West Forsyth\"], \"type\": \"scattermapbox\"}], \"name\": \"8/14/20\"}, {\"data\": [{\"hovertemplate\": \"<b>%{hovertext}</b><br><br>date=8/17/20<br>total=%{marker.color}<br>school=%{text}<br>latitude=%{lat}<br>longitude=%{lon}<extra></extra>\", \"hovertext\": [\"Big Creek\", \"Brandywine\", \"Brookwood\", \"Chattahoochee\", \"Chestatee\", \"Coal Mountain\", \"Cumming\", \"Daves Creek\", \"Haw Creek\", \"Johns Creek\", \"Kelly Mill\", \"Mashburn\", \"Matt\", \"Midway\", \"Poole's Mill\", \"Sawnee\", \"Settles Bridge\", \"Sharon\", \"Shiloh Point\", \"Silver City\", \"Vickery Creek\", \"Whitlow\", \"DeSana\", \"Lakeside\", \"Liberty\", \"Little Mill\", \"North Forsyth\", \"Otwell\", \"Piney Grove\", \"Riverwatch\", \"South Forsyth\", \"Vickery Creek\", \"Alliance Academy for Innovation\", \"Denmark\", \"Forsyth Central\", \"Lambert\", \"North Forsyth\", \"South Forsyth\", \"West Forsyth\"], \"ids\": [\"Big Creek\", \"Brandywine\", \"Brookwood\", \"Chattahoochee\", \"Chestatee\", \"Coal Mountain\", \"Cumming\", \"Daves Creek\", \"Haw Creek\", \"Johns Creek\", \"Kelly Mill\", \"Mashburn\", \"Matt\", \"Midway\", \"Poole's Mill\", \"Sawnee\", \"Settles Bridge\", \"Sharon\", \"Shiloh Point\", \"Silver City\", \"Vickery Creek\", \"Whitlow\", \"DeSana\", \"Lakeside\", \"Liberty\", \"Little Mill\", \"North Forsyth\", \"Otwell\", \"Piney Grove\", \"Riverwatch\", \"South Forsyth\", \"Vickery Creek\", \"Alliance Academy for Innovation\", \"Denmark\", \"Forsyth Central\", \"Lambert\", \"North Forsyth\", \"South Forsyth\", \"West Forsyth\"], \"lat\": [34.113906, 34.1335, 34.101762, 34.239073, 34.297109000000006, 34.274361999999996, 34.22145, 34.137060999999996, 34.164334999999994, 34.065647999999996, 34.208588, 34.168931, 34.290784, 34.159086, 34.279810999999995, 34.242191999999996, 34.124171999999994, 34.104277, 34.144505, 34.328631, 34.176995, 34.187329, 34.130072, 34.165711, 34.288540000000005, 34.249992, 34.278569, 34.219535, 34.14509, 34.125074, 34.116796, 34.179534999999994, 34.219237, 34.147999, 34.217102000000004, 34.106989, 34.27811, 34.148412, 34.211249], \"legendgroup\": \"\", \"lon\": [-84.177824, -84.247383, -84.18468, -84.08623, -83.996014, -84.106103, -84.135623, -84.14256400000001, -84.09925799999999, -84.12756, -84.16658699999999, -84.105777, -84.204504, -84.234437, -84.233814, -84.17603199999999, -84.106235, -84.13597299999999, -84.176538, -84.102699, -84.224946, -84.162151, -84.23837900000001, -84.097944, -84.20521600000001, -84.020986, -84.103623, -84.13730600000001, -84.178782, -84.10967600000001, -84.152999, -84.22327299999999, -84.115669, -84.22931700000001, -84.141643, -84.13884499999999, -84.10639, -84.170303, -84.214213], \"marker\": {\"color\": [0.0, 0.0, 0.0, 0.0, 0.0, 0.0, 0.0, 0.0, 0.0, 0.0, 0.0, 0.0, 0.0, 0.0, 0.0, 0.0, 0.0, 0.0, 0.0, 0.0, 0.0, 0.0, 0.0, 1.0, 0.0, 1.0, 0.0, 0.0, 0.0, 0.0, 0.0, 1.0, 0.0, 1.0, 2.0, 2.0, 0.0, 0.0, 2.0], \"coloraxis\": \"coloraxis\", \"size\": [0.0, 0.0, 0.0, 0.0, 0.0, 0.0, 0.0, 0.0, 0.0, 0.0, 0.0, 0.0, 0.0, 0.0, 0.0, 0.0, 0.0, 0.0, 0.0, 0.0, 0.0, 0.0, 0.0, 1.0, 0.0, 1.0, 0.0, 0.0, 0.0, 0.0, 0.0, 1.0, 0.0, 1.0, 2.0, 2.0, 0.0, 0.0, 2.0], \"sizemode\": \"area\", \"sizeref\": 0.01}, \"mode\": \"markers+text\", \"name\": \"\", \"showlegend\": false, \"subplot\": \"mapbox\", \"text\": [\"Big Creek\", \"Brandywine\", \"Brookwood\", \"Chattahoochee\", \"Chestatee\", \"Coal Mountain\", \"Cumming\", \"Daves Creek\", \"Haw Creek\", \"Johns Creek\", \"Kelly Mill\", \"Mashburn\", \"Matt\", \"Midway\", \"Poole's Mill\", \"Sawnee\", \"Settles Bridge\", \"Sharon\", \"Shiloh Point\", \"Silver City\", \"Vickery Creek\", \"Whitlow\", \"DeSana\", \"Lakeside\", \"Liberty\", \"Little Mill\", \"North Forsyth\", \"Otwell\", \"Piney Grove\", \"Riverwatch\", \"South Forsyth\", \"Vickery Creek\", \"Alliance Academy for Innovation\", \"Denmark\", \"Forsyth Central\", \"Lambert\", \"North Forsyth\", \"South Forsyth\", \"West Forsyth\"], \"type\": \"scattermapbox\"}], \"name\": \"8/17/20\"}, {\"data\": [{\"hovertemplate\": \"<b>%{hovertext}</b><br><br>date=8/18/20<br>total=%{marker.color}<br>school=%{text}<br>latitude=%{lat}<br>longitude=%{lon}<extra></extra>\", \"hovertext\": [\"Big Creek\", \"Brandywine\", \"Brookwood\", \"Chattahoochee\", \"Chestatee\", \"Coal Mountain\", \"Cumming\", \"Daves Creek\", \"Haw Creek\", \"Johns Creek\", \"Kelly Mill\", \"Mashburn\", \"Matt\", \"Midway\", \"Poole's Mill\", \"Sawnee\", \"Settles Bridge\", \"Sharon\", \"Shiloh Point\", \"Silver City\", \"Vickery Creek\", \"Whitlow\", \"DeSana\", \"Lakeside\", \"Liberty\", \"Little Mill\", \"North Forsyth\", \"Otwell\", \"Piney Grove\", \"Riverwatch\", \"South Forsyth\", \"Vickery Creek\", \"Alliance Academy for Innovation\", \"Denmark\", \"Forsyth Central\", \"Lambert\", \"North Forsyth\", \"South Forsyth\", \"West Forsyth\"], \"ids\": [\"Big Creek\", \"Brandywine\", \"Brookwood\", \"Chattahoochee\", \"Chestatee\", \"Coal Mountain\", \"Cumming\", \"Daves Creek\", \"Haw Creek\", \"Johns Creek\", \"Kelly Mill\", \"Mashburn\", \"Matt\", \"Midway\", \"Poole's Mill\", \"Sawnee\", \"Settles Bridge\", \"Sharon\", \"Shiloh Point\", \"Silver City\", \"Vickery Creek\", \"Whitlow\", \"DeSana\", \"Lakeside\", \"Liberty\", \"Little Mill\", \"North Forsyth\", \"Otwell\", \"Piney Grove\", \"Riverwatch\", \"South Forsyth\", \"Vickery Creek\", \"Alliance Academy for Innovation\", \"Denmark\", \"Forsyth Central\", \"Lambert\", \"North Forsyth\", \"South Forsyth\", \"West Forsyth\"], \"lat\": [34.113906, 34.1335, 34.101762, 34.239073, 34.297109000000006, 34.274361999999996, 34.22145, 34.137060999999996, 34.164334999999994, 34.065647999999996, 34.208588, 34.168931, 34.290784, 34.159086, 34.279810999999995, 34.242191999999996, 34.124171999999994, 34.104277, 34.144505, 34.328631, 34.176995, 34.187329, 34.130072, 34.165711, 34.288540000000005, 34.249992, 34.278569, 34.219535, 34.14509, 34.125074, 34.116796, 34.179534999999994, 34.219237, 34.147999, 34.217102000000004, 34.106989, 34.27811, 34.148412, 34.211249], \"legendgroup\": \"\", \"lon\": [-84.177824, -84.247383, -84.18468, -84.08623, -83.996014, -84.106103, -84.135623, -84.14256400000001, -84.09925799999999, -84.12756, -84.16658699999999, -84.105777, -84.204504, -84.234437, -84.233814, -84.17603199999999, -84.106235, -84.13597299999999, -84.176538, -84.102699, -84.224946, -84.162151, -84.23837900000001, -84.097944, -84.20521600000001, -84.020986, -84.103623, -84.13730600000001, -84.178782, -84.10967600000001, -84.152999, -84.22327299999999, -84.115669, -84.22931700000001, -84.141643, -84.13884499999999, -84.10639, -84.170303, -84.214213], \"marker\": {\"color\": [0.0, 0.0, 0.0, 2.0, 0.0, 0.0, 0.0, 0.0, 0.0, 0.0, 0.0, 0.0, 0.0, 0.0, 0.0, 0.0, 0.0, 0.0, 0.0, 0.0, 0.0, 0.0, 0.0, 1.0, 0.0, 1.0, 0.0, 0.0, 0.0, 0.0, 0.0, 1.0, 0.0, 1.0, 3.0, 2.0, 0.0, 0.0, 3.0], \"coloraxis\": \"coloraxis\", \"size\": [0.0, 0.0, 0.0, 2.0, 0.0, 0.0, 0.0, 0.0, 0.0, 0.0, 0.0, 0.0, 0.0, 0.0, 0.0, 0.0, 0.0, 0.0, 0.0, 0.0, 0.0, 0.0, 0.0, 1.0, 0.0, 1.0, 0.0, 0.0, 0.0, 0.0, 0.0, 1.0, 0.0, 1.0, 3.0, 2.0, 0.0, 0.0, 3.0], \"sizemode\": \"area\", \"sizeref\": 0.01}, \"mode\": \"markers+text\", \"name\": \"\", \"showlegend\": false, \"subplot\": \"mapbox\", \"text\": [\"Big Creek\", \"Brandywine\", \"Brookwood\", \"Chattahoochee\", \"Chestatee\", \"Coal Mountain\", \"Cumming\", \"Daves Creek\", \"Haw Creek\", \"Johns Creek\", \"Kelly Mill\", \"Mashburn\", \"Matt\", \"Midway\", \"Poole's Mill\", \"Sawnee\", \"Settles Bridge\", \"Sharon\", \"Shiloh Point\", \"Silver City\", \"Vickery Creek\", \"Whitlow\", \"DeSana\", \"Lakeside\", \"Liberty\", \"Little Mill\", \"North Forsyth\", \"Otwell\", \"Piney Grove\", \"Riverwatch\", \"South Forsyth\", \"Vickery Creek\", \"Alliance Academy for Innovation\", \"Denmark\", \"Forsyth Central\", \"Lambert\", \"North Forsyth\", \"South Forsyth\", \"West Forsyth\"], \"type\": \"scattermapbox\"}], \"name\": \"8/18/20\"}, {\"data\": [{\"hovertemplate\": \"<b>%{hovertext}</b><br><br>date=8/19/20<br>total=%{marker.color}<br>school=%{text}<br>latitude=%{lat}<br>longitude=%{lon}<extra></extra>\", \"hovertext\": [\"Big Creek\", \"Brandywine\", \"Brookwood\", \"Chattahoochee\", \"Chestatee\", \"Coal Mountain\", \"Cumming\", \"Daves Creek\", \"Haw Creek\", \"Johns Creek\", \"Kelly Mill\", \"Mashburn\", \"Matt\", \"Midway\", \"Poole's Mill\", \"Sawnee\", \"Settles Bridge\", \"Sharon\", \"Shiloh Point\", \"Silver City\", \"Vickery Creek\", \"Whitlow\", \"DeSana\", \"Lakeside\", \"Liberty\", \"Little Mill\", \"North Forsyth\", \"Otwell\", \"Piney Grove\", \"Riverwatch\", \"South Forsyth\", \"Vickery Creek\", \"Alliance Academy for Innovation\", \"Denmark\", \"Forsyth Central\", \"Lambert\", \"North Forsyth\", \"South Forsyth\", \"West Forsyth\"], \"ids\": [\"Big Creek\", \"Brandywine\", \"Brookwood\", \"Chattahoochee\", \"Chestatee\", \"Coal Mountain\", \"Cumming\", \"Daves Creek\", \"Haw Creek\", \"Johns Creek\", \"Kelly Mill\", \"Mashburn\", \"Matt\", \"Midway\", \"Poole's Mill\", \"Sawnee\", \"Settles Bridge\", \"Sharon\", \"Shiloh Point\", \"Silver City\", \"Vickery Creek\", \"Whitlow\", \"DeSana\", \"Lakeside\", \"Liberty\", \"Little Mill\", \"North Forsyth\", \"Otwell\", \"Piney Grove\", \"Riverwatch\", \"South Forsyth\", \"Vickery Creek\", \"Alliance Academy for Innovation\", \"Denmark\", \"Forsyth Central\", \"Lambert\", \"North Forsyth\", \"South Forsyth\", \"West Forsyth\"], \"lat\": [34.113906, 34.1335, 34.101762, 34.239073, 34.297109000000006, 34.274361999999996, 34.22145, 34.137060999999996, 34.164334999999994, 34.065647999999996, 34.208588, 34.168931, 34.290784, 34.159086, 34.279810999999995, 34.242191999999996, 34.124171999999994, 34.104277, 34.144505, 34.328631, 34.176995, 34.187329, 34.130072, 34.165711, 34.288540000000005, 34.249992, 34.278569, 34.219535, 34.14509, 34.125074, 34.116796, 34.179534999999994, 34.219237, 34.147999, 34.217102000000004, 34.106989, 34.27811, 34.148412, 34.211249], \"legendgroup\": \"\", \"lon\": [-84.177824, -84.247383, -84.18468, -84.08623, -83.996014, -84.106103, -84.135623, -84.14256400000001, -84.09925799999999, -84.12756, -84.16658699999999, -84.105777, -84.204504, -84.234437, -84.233814, -84.17603199999999, -84.106235, -84.13597299999999, -84.176538, -84.102699, -84.224946, -84.162151, -84.23837900000001, -84.097944, -84.20521600000001, -84.020986, -84.103623, -84.13730600000001, -84.178782, -84.10967600000001, -84.152999, -84.22327299999999, -84.115669, -84.22931700000001, -84.141643, -84.13884499999999, -84.10639, -84.170303, -84.214213], \"marker\": {\"color\": [0.0, 0.0, 0.0, 2.0, 1.0, 2.0, 0.0, 0.0, 0.0, 0.0, 0.0, 0.0, 0.0, 0.0, 0.0, 0.0, 0.0, 0.0, 0.0, 0.0, 0.0, 0.0, 0.0, 1.0, 0.0, 1.0, 0.0, 0.0, 0.0, 0.0, 0.0, 1.0, 0.0, 1.0, 3.0, 3.0, 2.0, 0.0, 3.0], \"coloraxis\": \"coloraxis\", \"size\": [0.0, 0.0, 0.0, 2.0, 1.0, 2.0, 0.0, 0.0, 0.0, 0.0, 0.0, 0.0, 0.0, 0.0, 0.0, 0.0, 0.0, 0.0, 0.0, 0.0, 0.0, 0.0, 0.0, 1.0, 0.0, 1.0, 0.0, 0.0, 0.0, 0.0, 0.0, 1.0, 0.0, 1.0, 3.0, 3.0, 2.0, 0.0, 3.0], \"sizemode\": \"area\", \"sizeref\": 0.01}, \"mode\": \"markers+text\", \"name\": \"\", \"showlegend\": false, \"subplot\": \"mapbox\", \"text\": [\"Big Creek\", \"Brandywine\", \"Brookwood\", \"Chattahoochee\", \"Chestatee\", \"Coal Mountain\", \"Cumming\", \"Daves Creek\", \"Haw Creek\", \"Johns Creek\", \"Kelly Mill\", \"Mashburn\", \"Matt\", \"Midway\", \"Poole's Mill\", \"Sawnee\", \"Settles Bridge\", \"Sharon\", \"Shiloh Point\", \"Silver City\", \"Vickery Creek\", \"Whitlow\", \"DeSana\", \"Lakeside\", \"Liberty\", \"Little Mill\", \"North Forsyth\", \"Otwell\", \"Piney Grove\", \"Riverwatch\", \"South Forsyth\", \"Vickery Creek\", \"Alliance Academy for Innovation\", \"Denmark\", \"Forsyth Central\", \"Lambert\", \"North Forsyth\", \"South Forsyth\", \"West Forsyth\"], \"type\": \"scattermapbox\"}], \"name\": \"8/19/20\"}, {\"data\": [{\"hovertemplate\": \"<b>%{hovertext}</b><br><br>date=8/20/20<br>total=%{marker.color}<br>school=%{text}<br>latitude=%{lat}<br>longitude=%{lon}<extra></extra>\", \"hovertext\": [\"Big Creek\", \"Brandywine\", \"Brookwood\", \"Chattahoochee\", \"Chestatee\", \"Coal Mountain\", \"Cumming\", \"Daves Creek\", \"Haw Creek\", \"Johns Creek\", \"Kelly Mill\", \"Mashburn\", \"Matt\", \"Midway\", \"Poole's Mill\", \"Sawnee\", \"Settles Bridge\", \"Sharon\", \"Shiloh Point\", \"Silver City\", \"Vickery Creek\", \"Whitlow\", \"DeSana\", \"Lakeside\", \"Liberty\", \"Little Mill\", \"North Forsyth\", \"Otwell\", \"Piney Grove\", \"Riverwatch\", \"South Forsyth\", \"Vickery Creek\", \"Alliance Academy for Innovation\", \"Denmark\", \"Forsyth Central\", \"Lambert\", \"North Forsyth\", \"South Forsyth\", \"West Forsyth\"], \"ids\": [\"Big Creek\", \"Brandywine\", \"Brookwood\", \"Chattahoochee\", \"Chestatee\", \"Coal Mountain\", \"Cumming\", \"Daves Creek\", \"Haw Creek\", \"Johns Creek\", \"Kelly Mill\", \"Mashburn\", \"Matt\", \"Midway\", \"Poole's Mill\", \"Sawnee\", \"Settles Bridge\", \"Sharon\", \"Shiloh Point\", \"Silver City\", \"Vickery Creek\", \"Whitlow\", \"DeSana\", \"Lakeside\", \"Liberty\", \"Little Mill\", \"North Forsyth\", \"Otwell\", \"Piney Grove\", \"Riverwatch\", \"South Forsyth\", \"Vickery Creek\", \"Alliance Academy for Innovation\", \"Denmark\", \"Forsyth Central\", \"Lambert\", \"North Forsyth\", \"South Forsyth\", \"West Forsyth\"], \"lat\": [34.113906, 34.1335, 34.101762, 34.239073, 34.297109000000006, 34.274361999999996, 34.22145, 34.137060999999996, 34.164334999999994, 34.065647999999996, 34.208588, 34.168931, 34.290784, 34.159086, 34.279810999999995, 34.242191999999996, 34.124171999999994, 34.104277, 34.144505, 34.328631, 34.176995, 34.187329, 34.130072, 34.165711, 34.288540000000005, 34.249992, 34.278569, 34.219535, 34.14509, 34.125074, 34.116796, 34.179534999999994, 34.219237, 34.147999, 34.217102000000004, 34.106989, 34.27811, 34.148412, 34.211249], \"legendgroup\": \"\", \"lon\": [-84.177824, -84.247383, -84.18468, -84.08623, -83.996014, -84.106103, -84.135623, -84.14256400000001, -84.09925799999999, -84.12756, -84.16658699999999, -84.105777, -84.204504, -84.234437, -84.233814, -84.17603199999999, -84.106235, -84.13597299999999, -84.176538, -84.102699, -84.224946, -84.162151, -84.23837900000001, -84.097944, -84.20521600000001, -84.020986, -84.103623, -84.13730600000001, -84.178782, -84.10967600000001, -84.152999, -84.22327299999999, -84.115669, -84.22931700000001, -84.141643, -84.13884499999999, -84.10639, -84.170303, -84.214213], \"marker\": {\"color\": [0.0, 0.0, 0.0, 2.0, 1.0, 2.0, 0.0, 0.0, 0.0, 0.0, 0.0, 0.0, 0.0, 0.0, 1.0, 0.0, 0.0, 0.0, 0.0, 0.0, 0.0, 0.0, 0.0, 2.0, 0.0, 2.0, 1.0, 0.0, 0.0, 0.0, 0.0, 2.0, 0.0, 1.0, 3.0, 3.0, 2.0, 0.0, 4.0], \"coloraxis\": \"coloraxis\", \"size\": [0.0, 0.0, 0.0, 2.0, 1.0, 2.0, 0.0, 0.0, 0.0, 0.0, 0.0, 0.0, 0.0, 0.0, 1.0, 0.0, 0.0, 0.0, 0.0, 0.0, 0.0, 0.0, 0.0, 2.0, 0.0, 2.0, 1.0, 0.0, 0.0, 0.0, 0.0, 2.0, 0.0, 1.0, 3.0, 3.0, 2.0, 0.0, 4.0], \"sizemode\": \"area\", \"sizeref\": 0.01}, \"mode\": \"markers+text\", \"name\": \"\", \"showlegend\": false, \"subplot\": \"mapbox\", \"text\": [\"Big Creek\", \"Brandywine\", \"Brookwood\", \"Chattahoochee\", \"Chestatee\", \"Coal Mountain\", \"Cumming\", \"Daves Creek\", \"Haw Creek\", \"Johns Creek\", \"Kelly Mill\", \"Mashburn\", \"Matt\", \"Midway\", \"Poole's Mill\", \"Sawnee\", \"Settles Bridge\", \"Sharon\", \"Shiloh Point\", \"Silver City\", \"Vickery Creek\", \"Whitlow\", \"DeSana\", \"Lakeside\", \"Liberty\", \"Little Mill\", \"North Forsyth\", \"Otwell\", \"Piney Grove\", \"Riverwatch\", \"South Forsyth\", \"Vickery Creek\", \"Alliance Academy for Innovation\", \"Denmark\", \"Forsyth Central\", \"Lambert\", \"North Forsyth\", \"South Forsyth\", \"West Forsyth\"], \"type\": \"scattermapbox\"}], \"name\": \"8/20/20\"}, {\"data\": [{\"hovertemplate\": \"<b>%{hovertext}</b><br><br>date=8/21/20<br>total=%{marker.color}<br>school=%{text}<br>latitude=%{lat}<br>longitude=%{lon}<extra></extra>\", \"hovertext\": [\"Big Creek\", \"Brandywine\", \"Brookwood\", \"Chattahoochee\", \"Chestatee\", \"Coal Mountain\", \"Cumming\", \"Daves Creek\", \"Haw Creek\", \"Johns Creek\", \"Kelly Mill\", \"Mashburn\", \"Matt\", \"Midway\", \"Poole's Mill\", \"Sawnee\", \"Settles Bridge\", \"Sharon\", \"Shiloh Point\", \"Silver City\", \"Vickery Creek\", \"Whitlow\", \"DeSana\", \"Lakeside\", \"Liberty\", \"Little Mill\", \"North Forsyth\", \"Otwell\", \"Piney Grove\", \"Riverwatch\", \"South Forsyth\", \"Vickery Creek\", \"Alliance Academy for Innovation\", \"Denmark\", \"Forsyth Central\", \"Lambert\", \"North Forsyth\", \"South Forsyth\", \"West Forsyth\"], \"ids\": [\"Big Creek\", \"Brandywine\", \"Brookwood\", \"Chattahoochee\", \"Chestatee\", \"Coal Mountain\", \"Cumming\", \"Daves Creek\", \"Haw Creek\", \"Johns Creek\", \"Kelly Mill\", \"Mashburn\", \"Matt\", \"Midway\", \"Poole's Mill\", \"Sawnee\", \"Settles Bridge\", \"Sharon\", \"Shiloh Point\", \"Silver City\", \"Vickery Creek\", \"Whitlow\", \"DeSana\", \"Lakeside\", \"Liberty\", \"Little Mill\", \"North Forsyth\", \"Otwell\", \"Piney Grove\", \"Riverwatch\", \"South Forsyth\", \"Vickery Creek\", \"Alliance Academy for Innovation\", \"Denmark\", \"Forsyth Central\", \"Lambert\", \"North Forsyth\", \"South Forsyth\", \"West Forsyth\"], \"lat\": [34.113906, 34.1335, 34.101762, 34.239073, 34.297109000000006, 34.274361999999996, 34.22145, 34.137060999999996, 34.164334999999994, 34.065647999999996, 34.208588, 34.168931, 34.290784, 34.159086, 34.279810999999995, 34.242191999999996, 34.124171999999994, 34.104277, 34.144505, 34.328631, 34.176995, 34.187329, 34.130072, 34.165711, 34.288540000000005, 34.249992, 34.278569, 34.219535, 34.14509, 34.125074, 34.116796, 34.179534999999994, 34.219237, 34.147999, 34.217102000000004, 34.106989, 34.27811, 34.148412, 34.211249], \"legendgroup\": \"\", \"lon\": [-84.177824, -84.247383, -84.18468, -84.08623, -83.996014, -84.106103, -84.135623, -84.14256400000001, -84.09925799999999, -84.12756, -84.16658699999999, -84.105777, -84.204504, -84.234437, -84.233814, -84.17603199999999, -84.106235, -84.13597299999999, -84.176538, -84.102699, -84.224946, -84.162151, -84.23837900000001, -84.097944, -84.20521600000001, -84.020986, -84.103623, -84.13730600000001, -84.178782, -84.10967600000001, -84.152999, -84.22327299999999, -84.115669, -84.22931700000001, -84.141643, -84.13884499999999, -84.10639, -84.170303, -84.214213], \"marker\": {\"color\": [0.0, 0.0, 0.0, 2.0, 1.0, 2.0, 0.0, 0.0, 0.0, 0.0, 0.0, 0.0, 0.0, 0.0, 1.0, 0.0, 0.0, 0.0, 1.0, 0.0, 0.0, 0.0, 0.0, 2.0, 0.0, 2.0, 2.0, 0.0, 0.0, 0.0, 0.0, 3.0, 0.0, 2.0, 4.0, 3.0, 3.0, 0.0, 4.0], \"coloraxis\": \"coloraxis\", \"size\": [0.0, 0.0, 0.0, 2.0, 1.0, 2.0, 0.0, 0.0, 0.0, 0.0, 0.0, 0.0, 0.0, 0.0, 1.0, 0.0, 0.0, 0.0, 1.0, 0.0, 0.0, 0.0, 0.0, 2.0, 0.0, 2.0, 2.0, 0.0, 0.0, 0.0, 0.0, 3.0, 0.0, 2.0, 4.0, 3.0, 3.0, 0.0, 4.0], \"sizemode\": \"area\", \"sizeref\": 0.01}, \"mode\": \"markers+text\", \"name\": \"\", \"showlegend\": false, \"subplot\": \"mapbox\", \"text\": [\"Big Creek\", \"Brandywine\", \"Brookwood\", \"Chattahoochee\", \"Chestatee\", \"Coal Mountain\", \"Cumming\", \"Daves Creek\", \"Haw Creek\", \"Johns Creek\", \"Kelly Mill\", \"Mashburn\", \"Matt\", \"Midway\", \"Poole's Mill\", \"Sawnee\", \"Settles Bridge\", \"Sharon\", \"Shiloh Point\", \"Silver City\", \"Vickery Creek\", \"Whitlow\", \"DeSana\", \"Lakeside\", \"Liberty\", \"Little Mill\", \"North Forsyth\", \"Otwell\", \"Piney Grove\", \"Riverwatch\", \"South Forsyth\", \"Vickery Creek\", \"Alliance Academy for Innovation\", \"Denmark\", \"Forsyth Central\", \"Lambert\", \"North Forsyth\", \"South Forsyth\", \"West Forsyth\"], \"type\": \"scattermapbox\"}], \"name\": \"8/21/20\"}]);\n",
       "                        }).then(function(){\n",
       "                            \n",
       "var gd = document.getElementById('df6b5154-7179-48ee-84bd-b35994a486fe');\n",
       "var x = new MutationObserver(function (mutations, observer) {{\n",
       "        var display = window.getComputedStyle(gd).display;\n",
       "        if (!display || display === 'none') {{\n",
       "            console.log([gd, 'removed!']);\n",
       "            Plotly.purge(gd);\n",
       "            observer.disconnect();\n",
       "        }}\n",
       "}});\n",
       "\n",
       "// Listen for the removal of the full notebook cells\n",
       "var notebookContainer = gd.closest('#notebook-container');\n",
       "if (notebookContainer) {{\n",
       "    x.observe(notebookContainer, {childList: true});\n",
       "}}\n",
       "\n",
       "// Listen for the clearing of the current output cell\n",
       "var outputEl = gd.closest('.output');\n",
       "if (outputEl) {{\n",
       "    x.observe(outputEl, {childList: true});\n",
       "}}\n",
       "\n",
       "                        })\n",
       "                };\n",
       "                });\n",
       "            </script>\n",
       "        </div>"
      ]
     },
     "metadata": {},
     "output_type": "display_data"
    }
   ],
   "source": [
    "fig = px.scatter_mapbox(df_geo, \n",
    "                        lat=df_geo.latitude, \n",
    "                        lon=df_geo.longitude, \n",
    "                        animation_frame=df_geo.date,\n",
    "                        animation_group=df_geo.school,\n",
    "                        size=df_geo.total, \n",
    "                        hover_name=df_geo.school, \n",
    "                        text= df_geo.school,\n",
    "                        color=df_geo.total,\n",
    "                        color_continuous_scale=px.colors.sequential.Blugrn,\n",
    "                        center={\"lat\":34.221749,\n",
    "                                \"lon\":-84.135526},\n",
    "                        zoom=9.8, \n",
    "                        height=600)\n",
    "fig.update_layout(mapbox_style=\"open-street-map\")\n",
    "fig.update_layout(margin={\"r\":200,\"t\":0,\"l\":200,\"b\":0})\n",
    "fig.show()"
   ]
  },
  {
   "cell_type": "code",
   "execution_count": 252,
   "metadata": {},
   "outputs": [
    {
     "data": {
      "application/vnd.plotly.v1+json": {
       "config": {
        "plotlyServerURL": "https://plot.ly"
       },
       "data": [
        {
         "customdata": [
          [
           "Alliance Academy for Innovation",
           0,
           1234
          ],
          [
           "Denmark",
           2,
           2432
          ],
          [
           "Forsyth Central",
           4,
           2754
          ],
          [
           "Lambert",
           3,
           3150
          ],
          [
           "North Forsyth",
           3,
           2785
          ],
          [
           "South Forsyth",
           0,
           2437
          ],
          [
           "West Forsyth",
           4,
           2637
          ]
         ],
         "hovertemplate": "<b>%{hovertext}</b><br><br>Category=High<br>date=8/21/20<br>total=%{customdata[1]}<br>latitude=%{lat}<br>longitude=%{lon}<br>school=%{customdata[0]}<br>Total Staff & Student=%{customdata[2]}<extra></extra>",
         "hovertext": [
          "Alliance Academy for Innovation",
          "Denmark",
          "Forsyth Central",
          "Lambert",
          "North Forsyth",
          "South Forsyth",
          "West Forsyth"
         ],
         "ids": [
          "Alliance Academy for Innovation",
          "Denmark",
          "Forsyth Central",
          "Lambert",
          "North Forsyth",
          "South Forsyth",
          "West Forsyth"
         ],
         "lat": [
          34.219237,
          34.147999,
          34.217102000000004,
          34.106989,
          34.27811,
          34.148412,
          34.211249
         ],
         "legendgroup": "High",
         "lon": [
          -84.115669,
          -84.22931700000001,
          -84.141643,
          -84.13884499999999,
          -84.10639,
          -84.170303,
          -84.214213
         ],
         "marker": {
          "color": "rgb(56, 166, 165)",
          "size": [
           0,
           2,
           4,
           3,
           3,
           0,
           4
          ],
          "sizemode": "area",
          "sizeref": 0.01
         },
         "mode": "markers",
         "name": "High",
         "showlegend": true,
         "subplot": "mapbox",
         "type": "scattermapbox"
        },
        {
         "customdata": [
          [
           "Alliance Academy for Innovation",
           0,
           1234
          ],
          [
           "Denmark",
           2,
           2432
          ],
          [
           "Forsyth Central",
           4,
           2754
          ],
          [
           "Lambert",
           3,
           3150
          ],
          [
           "North Forsyth",
           3,
           2785
          ],
          [
           "South Forsyth",
           0,
           2437
          ],
          [
           "West Forsyth",
           4,
           2637
          ]
         ],
         "hovertemplate": "<b>%{hovertext}</b><br><br>Category=High<br>date=8/21/20<br>total=%{customdata[1]}<br>latitude=%{lat}<br>longitude=%{lon}<br>school=%{customdata[0]}<br>Total Staff & Student=%{customdata[2]}<extra></extra>",
         "hovertext": [
          "Alliance Academy for Innovation",
          "Denmark",
          "Forsyth Central",
          "Lambert",
          "North Forsyth",
          "South Forsyth",
          "West Forsyth"
         ],
         "ids": [
          "Alliance Academy for Innovation",
          "Denmark",
          "Forsyth Central",
          "Lambert",
          "North Forsyth",
          "South Forsyth",
          "West Forsyth"
         ],
         "lat": [
          34.219237,
          34.147999,
          34.217102000000004,
          34.106989,
          34.27811,
          34.148412,
          34.211249
         ],
         "legendgroup": "High",
         "lon": [
          -84.115669,
          -84.22931700000001,
          -84.141643,
          -84.13884499999999,
          -84.10639,
          -84.170303,
          -84.214213
         ],
         "marker": {
          "color": "rgb(56, 166, 165)",
          "size": [
           0,
           2,
           4,
           3,
           3,
           0,
           4
          ],
          "sizemode": "area",
          "sizeref": 0.01
         },
         "mode": "markers",
         "name": "High",
         "showlegend": true,
         "subplot": "mapbox",
         "type": "scattermapbox"
        },
        {
         "customdata": [
          [
           "Alliance Academy for Innovation",
           0,
           1234
          ],
          [
           "Denmark",
           2,
           2432
          ],
          [
           "Forsyth Central",
           4,
           2754
          ],
          [
           "Lambert",
           3,
           3150
          ],
          [
           "North Forsyth",
           3,
           2785
          ],
          [
           "South Forsyth",
           0,
           2437
          ],
          [
           "West Forsyth",
           4,
           2637
          ]
         ],
         "hovertemplate": "<b>%{hovertext}</b><br><br>Category=High<br>date=8/21/20<br>total=%{customdata[1]}<br>latitude=%{lat}<br>longitude=%{lon}<br>school=%{customdata[0]}<br>Total Staff & Student=%{customdata[2]}<extra></extra>",
         "hovertext": [
          "Alliance Academy for Innovation",
          "Denmark",
          "Forsyth Central",
          "Lambert",
          "North Forsyth",
          "South Forsyth",
          "West Forsyth"
         ],
         "ids": [
          "Alliance Academy for Innovation",
          "Denmark",
          "Forsyth Central",
          "Lambert",
          "North Forsyth",
          "South Forsyth",
          "West Forsyth"
         ],
         "lat": [
          34.219237,
          34.147999,
          34.217102000000004,
          34.106989,
          34.27811,
          34.148412,
          34.211249
         ],
         "legendgroup": "High",
         "lon": [
          -84.115669,
          -84.22931700000001,
          -84.141643,
          -84.13884499999999,
          -84.10639,
          -84.170303,
          -84.214213
         ],
         "marker": {
          "color": "rgb(56, 166, 165)",
          "size": [
           0,
           2,
           4,
           3,
           3,
           0,
           4
          ],
          "sizemode": "area",
          "sizeref": 0.01
         },
         "mode": "markers",
         "name": "High",
         "showlegend": true,
         "subplot": "mapbox",
         "type": "scattermapbox"
        }
       ],
       "frames": [
        {
         "data": [
          {
           "customdata": [
            [
             "Big Creek",
             0,
             706
            ],
            [
             "Brandywine",
             0,
             1357
            ],
            [
             "Brookwood",
             0,
             1078
            ],
            [
             "Chattahoochee",
             0,
             850
            ],
            [
             "Chestatee",
             0,
             1381
            ],
            [
             "Coal Mountain",
             0,
             821
            ],
            [
             "Cumming",
             0,
             1055
            ],
            [
             "Daves Creek",
             0,
             1285
            ],
            [
             "Haw Creek",
             0,
             1131
            ],
            [
             "Johns Creek",
             0,
             1103
            ],
            [
             "Kelly Mill",
             0,
             1257
            ],
            [
             "Mashburn",
             0,
             781
            ],
            [
             "Matt",
             0,
             1125
            ],
            [
             "Midway",
             0,
             961
            ],
            [
             "Poole's Mill",
             0,
             807
            ],
            [
             "Sawnee",
             0,
             1459
            ],
            [
             "Settles Bridge",
             0,
             1099
            ],
            [
             "Sharon",
             0,
             999
            ],
            [
             "Shiloh Point",
             0,
             1452
            ],
            [
             "Silver City",
             0,
             1152
            ],
            [
             "Vickery Creek",
             0,
             1394
            ],
            [
             "Whitlow",
             0,
             1464
            ]
           ],
           "hovertemplate": "<b>%{hovertext}</b><br><br>Category=Elementary<br>date=8/13/20<br>total=%{customdata[1]}<br>latitude=%{lat}<br>longitude=%{lon}<br>school=%{customdata[0]}<br>Total Staff & Student=%{customdata[2]}<extra></extra>",
           "hovertext": [
            "Big Creek",
            "Brandywine",
            "Brookwood",
            "Chattahoochee",
            "Chestatee",
            "Coal Mountain",
            "Cumming",
            "Daves Creek",
            "Haw Creek",
            "Johns Creek",
            "Kelly Mill",
            "Mashburn",
            "Matt",
            "Midway",
            "Poole's Mill",
            "Sawnee",
            "Settles Bridge",
            "Sharon",
            "Shiloh Point",
            "Silver City",
            "Vickery Creek",
            "Whitlow"
           ],
           "ids": [
            "Big Creek",
            "Brandywine",
            "Brookwood",
            "Chattahoochee",
            "Chestatee",
            "Coal Mountain",
            "Cumming",
            "Daves Creek",
            "Haw Creek",
            "Johns Creek",
            "Kelly Mill",
            "Mashburn",
            "Matt",
            "Midway",
            "Poole's Mill",
            "Sawnee",
            "Settles Bridge",
            "Sharon",
            "Shiloh Point",
            "Silver City",
            "Vickery Creek",
            "Whitlow"
           ],
           "lat": [
            34.113906,
            34.1335,
            34.101762,
            34.239073,
            34.297109000000006,
            34.274361999999996,
            34.22145,
            34.137060999999996,
            34.164334999999994,
            34.065647999999996,
            34.208588,
            34.168931,
            34.290784,
            34.159086,
            34.279810999999995,
            34.242191999999996,
            34.124171999999994,
            34.104277,
            34.144505,
            34.328631,
            34.176995,
            34.187329
           ],
           "legendgroup": "Elementary",
           "lon": [
            -84.177824,
            -84.247383,
            -84.18468,
            -84.08623,
            -83.996014,
            -84.106103,
            -84.135623,
            -84.14256400000001,
            -84.09925799999999,
            -84.12756,
            -84.16658699999999,
            -84.105777,
            -84.204504,
            -84.234437,
            -84.233814,
            -84.17603199999999,
            -84.106235,
            -84.13597299999999,
            -84.176538,
            -84.102699,
            -84.224946,
            -84.162151
           ],
           "marker": {
            "color": "rgb(95, 70, 144)",
            "size": [
             0,
             0,
             0,
             0,
             0,
             0,
             0,
             0,
             0,
             0,
             0,
             0,
             0,
             0,
             0,
             0,
             0,
             0,
             0,
             0,
             0,
             0
            ],
            "sizemode": "area",
            "sizeref": 0.01
           },
           "mode": "markers",
           "name": "Elementary",
           "showlegend": true,
           "subplot": "mapbox",
           "type": "scattermapbox"
          },
          {
           "customdata": [
            [
             "DeSana",
             0,
             1162
            ],
            [
             "Lakeside",
             0,
             1335
            ],
            [
             "Liberty",
             0,
             1340
            ],
            [
             "Little Mill",
             0,
             1032
            ],
            [
             "North Forsyth",
             0,
             1359
            ],
            [
             "Otwell",
             0,
             1649
            ],
            [
             "Piney Grove",
             0,
             1111
            ],
            [
             "Riverwatch",
             0,
             1663
            ],
            [
             "South Forsyth",
             0,
             1497
            ],
            [
             "Vickery Creek",
             0,
             1306
            ]
           ],
           "hovertemplate": "<b>%{hovertext}</b><br><br>Category=Middle<br>date=8/13/20<br>total=%{customdata[1]}<br>latitude=%{lat}<br>longitude=%{lon}<br>school=%{customdata[0]}<br>Total Staff & Student=%{customdata[2]}<extra></extra>",
           "hovertext": [
            "DeSana",
            "Lakeside",
            "Liberty",
            "Little Mill",
            "North Forsyth",
            "Otwell",
            "Piney Grove",
            "Riverwatch",
            "South Forsyth",
            "Vickery Creek"
           ],
           "ids": [
            "DeSana",
            "Lakeside",
            "Liberty",
            "Little Mill",
            "North Forsyth",
            "Otwell",
            "Piney Grove",
            "Riverwatch",
            "South Forsyth",
            "Vickery Creek"
           ],
           "lat": [
            34.130072,
            34.165711,
            34.288540000000005,
            34.249992,
            34.278569,
            34.219535,
            34.14509,
            34.125074,
            34.116796,
            34.179534999999994
           ],
           "legendgroup": "Middle",
           "lon": [
            -84.23837900000001,
            -84.097944,
            -84.20521600000001,
            -84.020986,
            -84.103623,
            -84.13730600000001,
            -84.178782,
            -84.10967600000001,
            -84.152999,
            -84.22327299999999
           ],
           "marker": {
            "color": "rgb(29, 105, 150)",
            "size": [
             0,
             0,
             0,
             0,
             0,
             0,
             0,
             0,
             0,
             0
            ],
            "sizemode": "area",
            "sizeref": 0.01
           },
           "mode": "markers",
           "name": "Middle",
           "showlegend": true,
           "subplot": "mapbox",
           "type": "scattermapbox"
          },
          {
           "customdata": [
            [
             "Alliance Academy for Innovation",
             0,
             1234
            ],
            [
             "Denmark",
             0,
             2432
            ],
            [
             "Forsyth Central",
             0,
             2754
            ],
            [
             "Lambert",
             1,
             3150
            ],
            [
             "North Forsyth",
             0,
             2785
            ],
            [
             "South Forsyth",
             0,
             2437
            ],
            [
             "West Forsyth",
             0,
             2637
            ]
           ],
           "hovertemplate": "<b>%{hovertext}</b><br><br>Category=High<br>date=8/13/20<br>total=%{customdata[1]}<br>latitude=%{lat}<br>longitude=%{lon}<br>school=%{customdata[0]}<br>Total Staff & Student=%{customdata[2]}<extra></extra>",
           "hovertext": [
            "Alliance Academy for Innovation",
            "Denmark",
            "Forsyth Central",
            "Lambert",
            "North Forsyth",
            "South Forsyth",
            "West Forsyth"
           ],
           "ids": [
            "Alliance Academy for Innovation",
            "Denmark",
            "Forsyth Central",
            "Lambert",
            "North Forsyth",
            "South Forsyth",
            "West Forsyth"
           ],
           "lat": [
            34.219237,
            34.147999,
            34.217102000000004,
            34.106989,
            34.27811,
            34.148412,
            34.211249
           ],
           "legendgroup": "High",
           "lon": [
            -84.115669,
            -84.22931700000001,
            -84.141643,
            -84.13884499999999,
            -84.10639,
            -84.170303,
            -84.214213
           ],
           "marker": {
            "color": "rgb(56, 166, 165)",
            "size": [
             0,
             0,
             0,
             1,
             0,
             0,
             0
            ],
            "sizemode": "area",
            "sizeref": 0.01
           },
           "mode": "markers",
           "name": "High",
           "showlegend": true,
           "subplot": "mapbox",
           "type": "scattermapbox"
          }
         ],
         "name": "8/13/20"
        },
        {
         "data": [
          {
           "customdata": [
            [
             "Big Creek",
             0,
             706
            ],
            [
             "Brandywine",
             0,
             1357
            ],
            [
             "Brookwood",
             0,
             1078
            ],
            [
             "Chattahoochee",
             0,
             850
            ],
            [
             "Chestatee",
             0,
             1381
            ],
            [
             "Coal Mountain",
             0,
             821
            ],
            [
             "Cumming",
             0,
             1055
            ],
            [
             "Daves Creek",
             0,
             1285
            ],
            [
             "Haw Creek",
             0,
             1131
            ],
            [
             "Johns Creek",
             0,
             1103
            ],
            [
             "Kelly Mill",
             0,
             1257
            ],
            [
             "Mashburn",
             0,
             781
            ],
            [
             "Matt",
             0,
             1125
            ],
            [
             "Midway",
             0,
             961
            ],
            [
             "Poole's Mill",
             0,
             807
            ],
            [
             "Sawnee",
             0,
             1459
            ],
            [
             "Settles Bridge",
             0,
             1099
            ],
            [
             "Sharon",
             0,
             999
            ],
            [
             "Shiloh Point",
             0,
             1452
            ],
            [
             "Silver City",
             0,
             1152
            ],
            [
             "Vickery Creek",
             0,
             1394
            ],
            [
             "Whitlow",
             0,
             1464
            ]
           ],
           "hovertemplate": "<b>%{hovertext}</b><br><br>Category=Elementary<br>date=8/14/20<br>total=%{customdata[1]}<br>latitude=%{lat}<br>longitude=%{lon}<br>school=%{customdata[0]}<br>Total Staff & Student=%{customdata[2]}<extra></extra>",
           "hovertext": [
            "Big Creek",
            "Brandywine",
            "Brookwood",
            "Chattahoochee",
            "Chestatee",
            "Coal Mountain",
            "Cumming",
            "Daves Creek",
            "Haw Creek",
            "Johns Creek",
            "Kelly Mill",
            "Mashburn",
            "Matt",
            "Midway",
            "Poole's Mill",
            "Sawnee",
            "Settles Bridge",
            "Sharon",
            "Shiloh Point",
            "Silver City",
            "Vickery Creek",
            "Whitlow"
           ],
           "ids": [
            "Big Creek",
            "Brandywine",
            "Brookwood",
            "Chattahoochee",
            "Chestatee",
            "Coal Mountain",
            "Cumming",
            "Daves Creek",
            "Haw Creek",
            "Johns Creek",
            "Kelly Mill",
            "Mashburn",
            "Matt",
            "Midway",
            "Poole's Mill",
            "Sawnee",
            "Settles Bridge",
            "Sharon",
            "Shiloh Point",
            "Silver City",
            "Vickery Creek",
            "Whitlow"
           ],
           "lat": [
            34.113906,
            34.1335,
            34.101762,
            34.239073,
            34.297109000000006,
            34.274361999999996,
            34.22145,
            34.137060999999996,
            34.164334999999994,
            34.065647999999996,
            34.208588,
            34.168931,
            34.290784,
            34.159086,
            34.279810999999995,
            34.242191999999996,
            34.124171999999994,
            34.104277,
            34.144505,
            34.328631,
            34.176995,
            34.187329
           ],
           "legendgroup": "Elementary",
           "lon": [
            -84.177824,
            -84.247383,
            -84.18468,
            -84.08623,
            -83.996014,
            -84.106103,
            -84.135623,
            -84.14256400000001,
            -84.09925799999999,
            -84.12756,
            -84.16658699999999,
            -84.105777,
            -84.204504,
            -84.234437,
            -84.233814,
            -84.17603199999999,
            -84.106235,
            -84.13597299999999,
            -84.176538,
            -84.102699,
            -84.224946,
            -84.162151
           ],
           "marker": {
            "color": "rgb(95, 70, 144)",
            "size": [
             0,
             0,
             0,
             0,
             0,
             0,
             0,
             0,
             0,
             0,
             0,
             0,
             0,
             0,
             0,
             0,
             0,
             0,
             0,
             0,
             0,
             0
            ],
            "sizemode": "area",
            "sizeref": 0.01
           },
           "mode": "markers",
           "name": "Elementary",
           "showlegend": true,
           "subplot": "mapbox",
           "type": "scattermapbox"
          },
          {
           "customdata": [
            [
             "DeSana",
             0,
             1162
            ],
            [
             "Lakeside",
             0,
             1335
            ],
            [
             "Liberty",
             0,
             1340
            ],
            [
             "Little Mill",
             0,
             1032
            ],
            [
             "North Forsyth",
             0,
             1359
            ],
            [
             "Otwell",
             0,
             1649
            ],
            [
             "Piney Grove",
             0,
             1111
            ],
            [
             "Riverwatch",
             0,
             1663
            ],
            [
             "South Forsyth",
             0,
             1497
            ],
            [
             "Vickery Creek",
             0,
             1306
            ]
           ],
           "hovertemplate": "<b>%{hovertext}</b><br><br>Category=Middle<br>date=8/14/20<br>total=%{customdata[1]}<br>latitude=%{lat}<br>longitude=%{lon}<br>school=%{customdata[0]}<br>Total Staff & Student=%{customdata[2]}<extra></extra>",
           "hovertext": [
            "DeSana",
            "Lakeside",
            "Liberty",
            "Little Mill",
            "North Forsyth",
            "Otwell",
            "Piney Grove",
            "Riverwatch",
            "South Forsyth",
            "Vickery Creek"
           ],
           "ids": [
            "DeSana",
            "Lakeside",
            "Liberty",
            "Little Mill",
            "North Forsyth",
            "Otwell",
            "Piney Grove",
            "Riverwatch",
            "South Forsyth",
            "Vickery Creek"
           ],
           "lat": [
            34.130072,
            34.165711,
            34.288540000000005,
            34.249992,
            34.278569,
            34.219535,
            34.14509,
            34.125074,
            34.116796,
            34.179534999999994
           ],
           "legendgroup": "Middle",
           "lon": [
            -84.23837900000001,
            -84.097944,
            -84.20521600000001,
            -84.020986,
            -84.103623,
            -84.13730600000001,
            -84.178782,
            -84.10967600000001,
            -84.152999,
            -84.22327299999999
           ],
           "marker": {
            "color": "rgb(29, 105, 150)",
            "size": [
             0,
             0,
             0,
             0,
             0,
             0,
             0,
             0,
             0,
             0
            ],
            "sizemode": "area",
            "sizeref": 0.01
           },
           "mode": "markers",
           "name": "Middle",
           "showlegend": true,
           "subplot": "mapbox",
           "type": "scattermapbox"
          },
          {
           "customdata": [
            [
             "Alliance Academy for Innovation",
             0,
             1234
            ],
            [
             "Denmark",
             1,
             2432
            ],
            [
             "Forsyth Central",
             0,
             2754
            ],
            [
             "Lambert",
             1,
             3150
            ],
            [
             "North Forsyth",
             0,
             2785
            ],
            [
             "South Forsyth",
             0,
             2437
            ],
            [
             "West Forsyth",
             1,
             2637
            ]
           ],
           "hovertemplate": "<b>%{hovertext}</b><br><br>Category=High<br>date=8/14/20<br>total=%{customdata[1]}<br>latitude=%{lat}<br>longitude=%{lon}<br>school=%{customdata[0]}<br>Total Staff & Student=%{customdata[2]}<extra></extra>",
           "hovertext": [
            "Alliance Academy for Innovation",
            "Denmark",
            "Forsyth Central",
            "Lambert",
            "North Forsyth",
            "South Forsyth",
            "West Forsyth"
           ],
           "ids": [
            "Alliance Academy for Innovation",
            "Denmark",
            "Forsyth Central",
            "Lambert",
            "North Forsyth",
            "South Forsyth",
            "West Forsyth"
           ],
           "lat": [
            34.219237,
            34.147999,
            34.217102000000004,
            34.106989,
            34.27811,
            34.148412,
            34.211249
           ],
           "legendgroup": "High",
           "lon": [
            -84.115669,
            -84.22931700000001,
            -84.141643,
            -84.13884499999999,
            -84.10639,
            -84.170303,
            -84.214213
           ],
           "marker": {
            "color": "rgb(56, 166, 165)",
            "size": [
             0,
             1,
             0,
             1,
             0,
             0,
             1
            ],
            "sizemode": "area",
            "sizeref": 0.01
           },
           "mode": "markers",
           "name": "High",
           "showlegend": true,
           "subplot": "mapbox",
           "type": "scattermapbox"
          }
         ],
         "name": "8/14/20"
        },
        {
         "data": [
          {
           "customdata": [
            [
             "Big Creek",
             0,
             706
            ],
            [
             "Brandywine",
             0,
             1357
            ],
            [
             "Brookwood",
             0,
             1078
            ],
            [
             "Chattahoochee",
             0,
             850
            ],
            [
             "Chestatee",
             0,
             1381
            ],
            [
             "Coal Mountain",
             0,
             821
            ],
            [
             "Cumming",
             0,
             1055
            ],
            [
             "Daves Creek",
             0,
             1285
            ],
            [
             "Haw Creek",
             0,
             1131
            ],
            [
             "Johns Creek",
             0,
             1103
            ],
            [
             "Kelly Mill",
             0,
             1257
            ],
            [
             "Mashburn",
             0,
             781
            ],
            [
             "Matt",
             0,
             1125
            ],
            [
             "Midway",
             0,
             961
            ],
            [
             "Poole's Mill",
             0,
             807
            ],
            [
             "Sawnee",
             0,
             1459
            ],
            [
             "Settles Bridge",
             0,
             1099
            ],
            [
             "Sharon",
             0,
             999
            ],
            [
             "Shiloh Point",
             0,
             1452
            ],
            [
             "Silver City",
             0,
             1152
            ],
            [
             "Vickery Creek",
             0,
             1394
            ],
            [
             "Whitlow",
             0,
             1464
            ]
           ],
           "hovertemplate": "<b>%{hovertext}</b><br><br>Category=Elementary<br>date=8/17/20<br>total=%{customdata[1]}<br>latitude=%{lat}<br>longitude=%{lon}<br>school=%{customdata[0]}<br>Total Staff & Student=%{customdata[2]}<extra></extra>",
           "hovertext": [
            "Big Creek",
            "Brandywine",
            "Brookwood",
            "Chattahoochee",
            "Chestatee",
            "Coal Mountain",
            "Cumming",
            "Daves Creek",
            "Haw Creek",
            "Johns Creek",
            "Kelly Mill",
            "Mashburn",
            "Matt",
            "Midway",
            "Poole's Mill",
            "Sawnee",
            "Settles Bridge",
            "Sharon",
            "Shiloh Point",
            "Silver City",
            "Vickery Creek",
            "Whitlow"
           ],
           "ids": [
            "Big Creek",
            "Brandywine",
            "Brookwood",
            "Chattahoochee",
            "Chestatee",
            "Coal Mountain",
            "Cumming",
            "Daves Creek",
            "Haw Creek",
            "Johns Creek",
            "Kelly Mill",
            "Mashburn",
            "Matt",
            "Midway",
            "Poole's Mill",
            "Sawnee",
            "Settles Bridge",
            "Sharon",
            "Shiloh Point",
            "Silver City",
            "Vickery Creek",
            "Whitlow"
           ],
           "lat": [
            34.113906,
            34.1335,
            34.101762,
            34.239073,
            34.297109000000006,
            34.274361999999996,
            34.22145,
            34.137060999999996,
            34.164334999999994,
            34.065647999999996,
            34.208588,
            34.168931,
            34.290784,
            34.159086,
            34.279810999999995,
            34.242191999999996,
            34.124171999999994,
            34.104277,
            34.144505,
            34.328631,
            34.176995,
            34.187329
           ],
           "legendgroup": "Elementary",
           "lon": [
            -84.177824,
            -84.247383,
            -84.18468,
            -84.08623,
            -83.996014,
            -84.106103,
            -84.135623,
            -84.14256400000001,
            -84.09925799999999,
            -84.12756,
            -84.16658699999999,
            -84.105777,
            -84.204504,
            -84.234437,
            -84.233814,
            -84.17603199999999,
            -84.106235,
            -84.13597299999999,
            -84.176538,
            -84.102699,
            -84.224946,
            -84.162151
           ],
           "marker": {
            "color": "rgb(95, 70, 144)",
            "size": [
             0,
             0,
             0,
             0,
             0,
             0,
             0,
             0,
             0,
             0,
             0,
             0,
             0,
             0,
             0,
             0,
             0,
             0,
             0,
             0,
             0,
             0
            ],
            "sizemode": "area",
            "sizeref": 0.01
           },
           "mode": "markers",
           "name": "Elementary",
           "showlegend": true,
           "subplot": "mapbox",
           "type": "scattermapbox"
          },
          {
           "customdata": [
            [
             "DeSana",
             0,
             1162
            ],
            [
             "Lakeside",
             1,
             1335
            ],
            [
             "Liberty",
             0,
             1340
            ],
            [
             "Little Mill",
             1,
             1032
            ],
            [
             "North Forsyth",
             0,
             1359
            ],
            [
             "Otwell",
             0,
             1649
            ],
            [
             "Piney Grove",
             0,
             1111
            ],
            [
             "Riverwatch",
             0,
             1663
            ],
            [
             "South Forsyth",
             0,
             1497
            ],
            [
             "Vickery Creek",
             1,
             1306
            ]
           ],
           "hovertemplate": "<b>%{hovertext}</b><br><br>Category=Middle<br>date=8/17/20<br>total=%{customdata[1]}<br>latitude=%{lat}<br>longitude=%{lon}<br>school=%{customdata[0]}<br>Total Staff & Student=%{customdata[2]}<extra></extra>",
           "hovertext": [
            "DeSana",
            "Lakeside",
            "Liberty",
            "Little Mill",
            "North Forsyth",
            "Otwell",
            "Piney Grove",
            "Riverwatch",
            "South Forsyth",
            "Vickery Creek"
           ],
           "ids": [
            "DeSana",
            "Lakeside",
            "Liberty",
            "Little Mill",
            "North Forsyth",
            "Otwell",
            "Piney Grove",
            "Riverwatch",
            "South Forsyth",
            "Vickery Creek"
           ],
           "lat": [
            34.130072,
            34.165711,
            34.288540000000005,
            34.249992,
            34.278569,
            34.219535,
            34.14509,
            34.125074,
            34.116796,
            34.179534999999994
           ],
           "legendgroup": "Middle",
           "lon": [
            -84.23837900000001,
            -84.097944,
            -84.20521600000001,
            -84.020986,
            -84.103623,
            -84.13730600000001,
            -84.178782,
            -84.10967600000001,
            -84.152999,
            -84.22327299999999
           ],
           "marker": {
            "color": "rgb(29, 105, 150)",
            "size": [
             0,
             1,
             0,
             1,
             0,
             0,
             0,
             0,
             0,
             1
            ],
            "sizemode": "area",
            "sizeref": 0.01
           },
           "mode": "markers",
           "name": "Middle",
           "showlegend": true,
           "subplot": "mapbox",
           "type": "scattermapbox"
          },
          {
           "customdata": [
            [
             "Alliance Academy for Innovation",
             0,
             1234
            ],
            [
             "Denmark",
             1,
             2432
            ],
            [
             "Forsyth Central",
             2,
             2754
            ],
            [
             "Lambert",
             2,
             3150
            ],
            [
             "North Forsyth",
             0,
             2785
            ],
            [
             "South Forsyth",
             0,
             2437
            ],
            [
             "West Forsyth",
             2,
             2637
            ]
           ],
           "hovertemplate": "<b>%{hovertext}</b><br><br>Category=High<br>date=8/17/20<br>total=%{customdata[1]}<br>latitude=%{lat}<br>longitude=%{lon}<br>school=%{customdata[0]}<br>Total Staff & Student=%{customdata[2]}<extra></extra>",
           "hovertext": [
            "Alliance Academy for Innovation",
            "Denmark",
            "Forsyth Central",
            "Lambert",
            "North Forsyth",
            "South Forsyth",
            "West Forsyth"
           ],
           "ids": [
            "Alliance Academy for Innovation",
            "Denmark",
            "Forsyth Central",
            "Lambert",
            "North Forsyth",
            "South Forsyth",
            "West Forsyth"
           ],
           "lat": [
            34.219237,
            34.147999,
            34.217102000000004,
            34.106989,
            34.27811,
            34.148412,
            34.211249
           ],
           "legendgroup": "High",
           "lon": [
            -84.115669,
            -84.22931700000001,
            -84.141643,
            -84.13884499999999,
            -84.10639,
            -84.170303,
            -84.214213
           ],
           "marker": {
            "color": "rgb(56, 166, 165)",
            "size": [
             0,
             1,
             2,
             2,
             0,
             0,
             2
            ],
            "sizemode": "area",
            "sizeref": 0.01
           },
           "mode": "markers",
           "name": "High",
           "showlegend": true,
           "subplot": "mapbox",
           "type": "scattermapbox"
          }
         ],
         "name": "8/17/20"
        },
        {
         "data": [
          {
           "customdata": [
            [
             "Big Creek",
             0,
             706
            ],
            [
             "Brandywine",
             0,
             1357
            ],
            [
             "Brookwood",
             0,
             1078
            ],
            [
             "Chattahoochee",
             2,
             850
            ],
            [
             "Chestatee",
             0,
             1381
            ],
            [
             "Coal Mountain",
             0,
             821
            ],
            [
             "Cumming",
             0,
             1055
            ],
            [
             "Daves Creek",
             0,
             1285
            ],
            [
             "Haw Creek",
             0,
             1131
            ],
            [
             "Johns Creek",
             0,
             1103
            ],
            [
             "Kelly Mill",
             0,
             1257
            ],
            [
             "Mashburn",
             0,
             781
            ],
            [
             "Matt",
             0,
             1125
            ],
            [
             "Midway",
             0,
             961
            ],
            [
             "Poole's Mill",
             0,
             807
            ],
            [
             "Sawnee",
             0,
             1459
            ],
            [
             "Settles Bridge",
             0,
             1099
            ],
            [
             "Sharon",
             0,
             999
            ],
            [
             "Shiloh Point",
             0,
             1452
            ],
            [
             "Silver City",
             0,
             1152
            ],
            [
             "Vickery Creek",
             0,
             1394
            ],
            [
             "Whitlow",
             0,
             1464
            ]
           ],
           "hovertemplate": "<b>%{hovertext}</b><br><br>Category=Elementary<br>date=8/18/20<br>total=%{customdata[1]}<br>latitude=%{lat}<br>longitude=%{lon}<br>school=%{customdata[0]}<br>Total Staff & Student=%{customdata[2]}<extra></extra>",
           "hovertext": [
            "Big Creek",
            "Brandywine",
            "Brookwood",
            "Chattahoochee",
            "Chestatee",
            "Coal Mountain",
            "Cumming",
            "Daves Creek",
            "Haw Creek",
            "Johns Creek",
            "Kelly Mill",
            "Mashburn",
            "Matt",
            "Midway",
            "Poole's Mill",
            "Sawnee",
            "Settles Bridge",
            "Sharon",
            "Shiloh Point",
            "Silver City",
            "Vickery Creek",
            "Whitlow"
           ],
           "ids": [
            "Big Creek",
            "Brandywine",
            "Brookwood",
            "Chattahoochee",
            "Chestatee",
            "Coal Mountain",
            "Cumming",
            "Daves Creek",
            "Haw Creek",
            "Johns Creek",
            "Kelly Mill",
            "Mashburn",
            "Matt",
            "Midway",
            "Poole's Mill",
            "Sawnee",
            "Settles Bridge",
            "Sharon",
            "Shiloh Point",
            "Silver City",
            "Vickery Creek",
            "Whitlow"
           ],
           "lat": [
            34.113906,
            34.1335,
            34.101762,
            34.239073,
            34.297109000000006,
            34.274361999999996,
            34.22145,
            34.137060999999996,
            34.164334999999994,
            34.065647999999996,
            34.208588,
            34.168931,
            34.290784,
            34.159086,
            34.279810999999995,
            34.242191999999996,
            34.124171999999994,
            34.104277,
            34.144505,
            34.328631,
            34.176995,
            34.187329
           ],
           "legendgroup": "Elementary",
           "lon": [
            -84.177824,
            -84.247383,
            -84.18468,
            -84.08623,
            -83.996014,
            -84.106103,
            -84.135623,
            -84.14256400000001,
            -84.09925799999999,
            -84.12756,
            -84.16658699999999,
            -84.105777,
            -84.204504,
            -84.234437,
            -84.233814,
            -84.17603199999999,
            -84.106235,
            -84.13597299999999,
            -84.176538,
            -84.102699,
            -84.224946,
            -84.162151
           ],
           "marker": {
            "color": "rgb(95, 70, 144)",
            "size": [
             0,
             0,
             0,
             2,
             0,
             0,
             0,
             0,
             0,
             0,
             0,
             0,
             0,
             0,
             0,
             0,
             0,
             0,
             0,
             0,
             0,
             0
            ],
            "sizemode": "area",
            "sizeref": 0.01
           },
           "mode": "markers",
           "name": "Elementary",
           "showlegend": true,
           "subplot": "mapbox",
           "type": "scattermapbox"
          },
          {
           "customdata": [
            [
             "DeSana",
             0,
             1162
            ],
            [
             "Lakeside",
             1,
             1335
            ],
            [
             "Liberty",
             0,
             1340
            ],
            [
             "Little Mill",
             1,
             1032
            ],
            [
             "North Forsyth",
             0,
             1359
            ],
            [
             "Otwell",
             0,
             1649
            ],
            [
             "Piney Grove",
             0,
             1111
            ],
            [
             "Riverwatch",
             0,
             1663
            ],
            [
             "South Forsyth",
             0,
             1497
            ],
            [
             "Vickery Creek",
             1,
             1306
            ]
           ],
           "hovertemplate": "<b>%{hovertext}</b><br><br>Category=Middle<br>date=8/18/20<br>total=%{customdata[1]}<br>latitude=%{lat}<br>longitude=%{lon}<br>school=%{customdata[0]}<br>Total Staff & Student=%{customdata[2]}<extra></extra>",
           "hovertext": [
            "DeSana",
            "Lakeside",
            "Liberty",
            "Little Mill",
            "North Forsyth",
            "Otwell",
            "Piney Grove",
            "Riverwatch",
            "South Forsyth",
            "Vickery Creek"
           ],
           "ids": [
            "DeSana",
            "Lakeside",
            "Liberty",
            "Little Mill",
            "North Forsyth",
            "Otwell",
            "Piney Grove",
            "Riverwatch",
            "South Forsyth",
            "Vickery Creek"
           ],
           "lat": [
            34.130072,
            34.165711,
            34.288540000000005,
            34.249992,
            34.278569,
            34.219535,
            34.14509,
            34.125074,
            34.116796,
            34.179534999999994
           ],
           "legendgroup": "Middle",
           "lon": [
            -84.23837900000001,
            -84.097944,
            -84.20521600000001,
            -84.020986,
            -84.103623,
            -84.13730600000001,
            -84.178782,
            -84.10967600000001,
            -84.152999,
            -84.22327299999999
           ],
           "marker": {
            "color": "rgb(29, 105, 150)",
            "size": [
             0,
             1,
             0,
             1,
             0,
             0,
             0,
             0,
             0,
             1
            ],
            "sizemode": "area",
            "sizeref": 0.01
           },
           "mode": "markers",
           "name": "Middle",
           "showlegend": true,
           "subplot": "mapbox",
           "type": "scattermapbox"
          },
          {
           "customdata": [
            [
             "Alliance Academy for Innovation",
             0,
             1234
            ],
            [
             "Denmark",
             1,
             2432
            ],
            [
             "Forsyth Central",
             3,
             2754
            ],
            [
             "Lambert",
             2,
             3150
            ],
            [
             "North Forsyth",
             0,
             2785
            ],
            [
             "South Forsyth",
             0,
             2437
            ],
            [
             "West Forsyth",
             3,
             2637
            ]
           ],
           "hovertemplate": "<b>%{hovertext}</b><br><br>Category=High<br>date=8/18/20<br>total=%{customdata[1]}<br>latitude=%{lat}<br>longitude=%{lon}<br>school=%{customdata[0]}<br>Total Staff & Student=%{customdata[2]}<extra></extra>",
           "hovertext": [
            "Alliance Academy for Innovation",
            "Denmark",
            "Forsyth Central",
            "Lambert",
            "North Forsyth",
            "South Forsyth",
            "West Forsyth"
           ],
           "ids": [
            "Alliance Academy for Innovation",
            "Denmark",
            "Forsyth Central",
            "Lambert",
            "North Forsyth",
            "South Forsyth",
            "West Forsyth"
           ],
           "lat": [
            34.219237,
            34.147999,
            34.217102000000004,
            34.106989,
            34.27811,
            34.148412,
            34.211249
           ],
           "legendgroup": "High",
           "lon": [
            -84.115669,
            -84.22931700000001,
            -84.141643,
            -84.13884499999999,
            -84.10639,
            -84.170303,
            -84.214213
           ],
           "marker": {
            "color": "rgb(56, 166, 165)",
            "size": [
             0,
             1,
             3,
             2,
             0,
             0,
             3
            ],
            "sizemode": "area",
            "sizeref": 0.01
           },
           "mode": "markers",
           "name": "High",
           "showlegend": true,
           "subplot": "mapbox",
           "type": "scattermapbox"
          }
         ],
         "name": "8/18/20"
        },
        {
         "data": [
          {
           "customdata": [
            [
             "Big Creek",
             0,
             706
            ],
            [
             "Brandywine",
             0,
             1357
            ],
            [
             "Brookwood",
             0,
             1078
            ],
            [
             "Chattahoochee",
             2,
             850
            ],
            [
             "Chestatee",
             1,
             1381
            ],
            [
             "Coal Mountain",
             2,
             821
            ],
            [
             "Cumming",
             0,
             1055
            ],
            [
             "Daves Creek",
             0,
             1285
            ],
            [
             "Haw Creek",
             0,
             1131
            ],
            [
             "Johns Creek",
             0,
             1103
            ],
            [
             "Kelly Mill",
             0,
             1257
            ],
            [
             "Mashburn",
             0,
             781
            ],
            [
             "Matt",
             0,
             1125
            ],
            [
             "Midway",
             0,
             961
            ],
            [
             "Poole's Mill",
             0,
             807
            ],
            [
             "Sawnee",
             0,
             1459
            ],
            [
             "Settles Bridge",
             0,
             1099
            ],
            [
             "Sharon",
             0,
             999
            ],
            [
             "Shiloh Point",
             0,
             1452
            ],
            [
             "Silver City",
             0,
             1152
            ],
            [
             "Vickery Creek",
             0,
             1394
            ],
            [
             "Whitlow",
             0,
             1464
            ]
           ],
           "hovertemplate": "<b>%{hovertext}</b><br><br>Category=Elementary<br>date=8/19/20<br>total=%{customdata[1]}<br>latitude=%{lat}<br>longitude=%{lon}<br>school=%{customdata[0]}<br>Total Staff & Student=%{customdata[2]}<extra></extra>",
           "hovertext": [
            "Big Creek",
            "Brandywine",
            "Brookwood",
            "Chattahoochee",
            "Chestatee",
            "Coal Mountain",
            "Cumming",
            "Daves Creek",
            "Haw Creek",
            "Johns Creek",
            "Kelly Mill",
            "Mashburn",
            "Matt",
            "Midway",
            "Poole's Mill",
            "Sawnee",
            "Settles Bridge",
            "Sharon",
            "Shiloh Point",
            "Silver City",
            "Vickery Creek",
            "Whitlow"
           ],
           "ids": [
            "Big Creek",
            "Brandywine",
            "Brookwood",
            "Chattahoochee",
            "Chestatee",
            "Coal Mountain",
            "Cumming",
            "Daves Creek",
            "Haw Creek",
            "Johns Creek",
            "Kelly Mill",
            "Mashburn",
            "Matt",
            "Midway",
            "Poole's Mill",
            "Sawnee",
            "Settles Bridge",
            "Sharon",
            "Shiloh Point",
            "Silver City",
            "Vickery Creek",
            "Whitlow"
           ],
           "lat": [
            34.113906,
            34.1335,
            34.101762,
            34.239073,
            34.297109000000006,
            34.274361999999996,
            34.22145,
            34.137060999999996,
            34.164334999999994,
            34.065647999999996,
            34.208588,
            34.168931,
            34.290784,
            34.159086,
            34.279810999999995,
            34.242191999999996,
            34.124171999999994,
            34.104277,
            34.144505,
            34.328631,
            34.176995,
            34.187329
           ],
           "legendgroup": "Elementary",
           "lon": [
            -84.177824,
            -84.247383,
            -84.18468,
            -84.08623,
            -83.996014,
            -84.106103,
            -84.135623,
            -84.14256400000001,
            -84.09925799999999,
            -84.12756,
            -84.16658699999999,
            -84.105777,
            -84.204504,
            -84.234437,
            -84.233814,
            -84.17603199999999,
            -84.106235,
            -84.13597299999999,
            -84.176538,
            -84.102699,
            -84.224946,
            -84.162151
           ],
           "marker": {
            "color": "rgb(95, 70, 144)",
            "size": [
             0,
             0,
             0,
             2,
             1,
             2,
             0,
             0,
             0,
             0,
             0,
             0,
             0,
             0,
             0,
             0,
             0,
             0,
             0,
             0,
             0,
             0
            ],
            "sizemode": "area",
            "sizeref": 0.01
           },
           "mode": "markers",
           "name": "Elementary",
           "showlegend": true,
           "subplot": "mapbox",
           "type": "scattermapbox"
          },
          {
           "customdata": [
            [
             "DeSana",
             0,
             1162
            ],
            [
             "Lakeside",
             1,
             1335
            ],
            [
             "Liberty",
             0,
             1340
            ],
            [
             "Little Mill",
             1,
             1032
            ],
            [
             "North Forsyth",
             0,
             1359
            ],
            [
             "Otwell",
             0,
             1649
            ],
            [
             "Piney Grove",
             0,
             1111
            ],
            [
             "Riverwatch",
             0,
             1663
            ],
            [
             "South Forsyth",
             0,
             1497
            ],
            [
             "Vickery Creek",
             1,
             1306
            ]
           ],
           "hovertemplate": "<b>%{hovertext}</b><br><br>Category=Middle<br>date=8/19/20<br>total=%{customdata[1]}<br>latitude=%{lat}<br>longitude=%{lon}<br>school=%{customdata[0]}<br>Total Staff & Student=%{customdata[2]}<extra></extra>",
           "hovertext": [
            "DeSana",
            "Lakeside",
            "Liberty",
            "Little Mill",
            "North Forsyth",
            "Otwell",
            "Piney Grove",
            "Riverwatch",
            "South Forsyth",
            "Vickery Creek"
           ],
           "ids": [
            "DeSana",
            "Lakeside",
            "Liberty",
            "Little Mill",
            "North Forsyth",
            "Otwell",
            "Piney Grove",
            "Riverwatch",
            "South Forsyth",
            "Vickery Creek"
           ],
           "lat": [
            34.130072,
            34.165711,
            34.288540000000005,
            34.249992,
            34.278569,
            34.219535,
            34.14509,
            34.125074,
            34.116796,
            34.179534999999994
           ],
           "legendgroup": "Middle",
           "lon": [
            -84.23837900000001,
            -84.097944,
            -84.20521600000001,
            -84.020986,
            -84.103623,
            -84.13730600000001,
            -84.178782,
            -84.10967600000001,
            -84.152999,
            -84.22327299999999
           ],
           "marker": {
            "color": "rgb(29, 105, 150)",
            "size": [
             0,
             1,
             0,
             1,
             0,
             0,
             0,
             0,
             0,
             1
            ],
            "sizemode": "area",
            "sizeref": 0.01
           },
           "mode": "markers",
           "name": "Middle",
           "showlegend": true,
           "subplot": "mapbox",
           "type": "scattermapbox"
          },
          {
           "customdata": [
            [
             "Alliance Academy for Innovation",
             0,
             1234
            ],
            [
             "Denmark",
             1,
             2432
            ],
            [
             "Forsyth Central",
             3,
             2754
            ],
            [
             "Lambert",
             3,
             3150
            ],
            [
             "North Forsyth",
             2,
             2785
            ],
            [
             "South Forsyth",
             0,
             2437
            ],
            [
             "West Forsyth",
             3,
             2637
            ]
           ],
           "hovertemplate": "<b>%{hovertext}</b><br><br>Category=High<br>date=8/19/20<br>total=%{customdata[1]}<br>latitude=%{lat}<br>longitude=%{lon}<br>school=%{customdata[0]}<br>Total Staff & Student=%{customdata[2]}<extra></extra>",
           "hovertext": [
            "Alliance Academy for Innovation",
            "Denmark",
            "Forsyth Central",
            "Lambert",
            "North Forsyth",
            "South Forsyth",
            "West Forsyth"
           ],
           "ids": [
            "Alliance Academy for Innovation",
            "Denmark",
            "Forsyth Central",
            "Lambert",
            "North Forsyth",
            "South Forsyth",
            "West Forsyth"
           ],
           "lat": [
            34.219237,
            34.147999,
            34.217102000000004,
            34.106989,
            34.27811,
            34.148412,
            34.211249
           ],
           "legendgroup": "High",
           "lon": [
            -84.115669,
            -84.22931700000001,
            -84.141643,
            -84.13884499999999,
            -84.10639,
            -84.170303,
            -84.214213
           ],
           "marker": {
            "color": "rgb(56, 166, 165)",
            "size": [
             0,
             1,
             3,
             3,
             2,
             0,
             3
            ],
            "sizemode": "area",
            "sizeref": 0.01
           },
           "mode": "markers",
           "name": "High",
           "showlegend": true,
           "subplot": "mapbox",
           "type": "scattermapbox"
          }
         ],
         "name": "8/19/20"
        },
        {
         "data": [
          {
           "customdata": [
            [
             "Big Creek",
             0,
             706
            ],
            [
             "Brandywine",
             0,
             1357
            ],
            [
             "Brookwood",
             0,
             1078
            ],
            [
             "Chattahoochee",
             2,
             850
            ],
            [
             "Chestatee",
             1,
             1381
            ],
            [
             "Coal Mountain",
             2,
             821
            ],
            [
             "Cumming",
             0,
             1055
            ],
            [
             "Daves Creek",
             0,
             1285
            ],
            [
             "Haw Creek",
             0,
             1131
            ],
            [
             "Johns Creek",
             0,
             1103
            ],
            [
             "Kelly Mill",
             0,
             1257
            ],
            [
             "Mashburn",
             0,
             781
            ],
            [
             "Matt",
             0,
             1125
            ],
            [
             "Midway",
             0,
             961
            ],
            [
             "Poole's Mill",
             1,
             807
            ],
            [
             "Sawnee",
             0,
             1459
            ],
            [
             "Settles Bridge",
             0,
             1099
            ],
            [
             "Sharon",
             0,
             999
            ],
            [
             "Shiloh Point",
             0,
             1452
            ],
            [
             "Silver City",
             0,
             1152
            ],
            [
             "Vickery Creek",
             0,
             1394
            ],
            [
             "Whitlow",
             0,
             1464
            ]
           ],
           "hovertemplate": "<b>%{hovertext}</b><br><br>Category=Elementary<br>date=8/20/20<br>total=%{customdata[1]}<br>latitude=%{lat}<br>longitude=%{lon}<br>school=%{customdata[0]}<br>Total Staff & Student=%{customdata[2]}<extra></extra>",
           "hovertext": [
            "Big Creek",
            "Brandywine",
            "Brookwood",
            "Chattahoochee",
            "Chestatee",
            "Coal Mountain",
            "Cumming",
            "Daves Creek",
            "Haw Creek",
            "Johns Creek",
            "Kelly Mill",
            "Mashburn",
            "Matt",
            "Midway",
            "Poole's Mill",
            "Sawnee",
            "Settles Bridge",
            "Sharon",
            "Shiloh Point",
            "Silver City",
            "Vickery Creek",
            "Whitlow"
           ],
           "ids": [
            "Big Creek",
            "Brandywine",
            "Brookwood",
            "Chattahoochee",
            "Chestatee",
            "Coal Mountain",
            "Cumming",
            "Daves Creek",
            "Haw Creek",
            "Johns Creek",
            "Kelly Mill",
            "Mashburn",
            "Matt",
            "Midway",
            "Poole's Mill",
            "Sawnee",
            "Settles Bridge",
            "Sharon",
            "Shiloh Point",
            "Silver City",
            "Vickery Creek",
            "Whitlow"
           ],
           "lat": [
            34.113906,
            34.1335,
            34.101762,
            34.239073,
            34.297109000000006,
            34.274361999999996,
            34.22145,
            34.137060999999996,
            34.164334999999994,
            34.065647999999996,
            34.208588,
            34.168931,
            34.290784,
            34.159086,
            34.279810999999995,
            34.242191999999996,
            34.124171999999994,
            34.104277,
            34.144505,
            34.328631,
            34.176995,
            34.187329
           ],
           "legendgroup": "Elementary",
           "lon": [
            -84.177824,
            -84.247383,
            -84.18468,
            -84.08623,
            -83.996014,
            -84.106103,
            -84.135623,
            -84.14256400000001,
            -84.09925799999999,
            -84.12756,
            -84.16658699999999,
            -84.105777,
            -84.204504,
            -84.234437,
            -84.233814,
            -84.17603199999999,
            -84.106235,
            -84.13597299999999,
            -84.176538,
            -84.102699,
            -84.224946,
            -84.162151
           ],
           "marker": {
            "color": "rgb(95, 70, 144)",
            "size": [
             0,
             0,
             0,
             2,
             1,
             2,
             0,
             0,
             0,
             0,
             0,
             0,
             0,
             0,
             1,
             0,
             0,
             0,
             0,
             0,
             0,
             0
            ],
            "sizemode": "area",
            "sizeref": 0.01
           },
           "mode": "markers",
           "name": "Elementary",
           "showlegend": true,
           "subplot": "mapbox",
           "type": "scattermapbox"
          },
          {
           "customdata": [
            [
             "DeSana",
             0,
             1162
            ],
            [
             "Lakeside",
             2,
             1335
            ],
            [
             "Liberty",
             0,
             1340
            ],
            [
             "Little Mill",
             2,
             1032
            ],
            [
             "North Forsyth",
             1,
             1359
            ],
            [
             "Otwell",
             0,
             1649
            ],
            [
             "Piney Grove",
             0,
             1111
            ],
            [
             "Riverwatch",
             0,
             1663
            ],
            [
             "South Forsyth",
             0,
             1497
            ],
            [
             "Vickery Creek",
             2,
             1306
            ]
           ],
           "hovertemplate": "<b>%{hovertext}</b><br><br>Category=Middle<br>date=8/20/20<br>total=%{customdata[1]}<br>latitude=%{lat}<br>longitude=%{lon}<br>school=%{customdata[0]}<br>Total Staff & Student=%{customdata[2]}<extra></extra>",
           "hovertext": [
            "DeSana",
            "Lakeside",
            "Liberty",
            "Little Mill",
            "North Forsyth",
            "Otwell",
            "Piney Grove",
            "Riverwatch",
            "South Forsyth",
            "Vickery Creek"
           ],
           "ids": [
            "DeSana",
            "Lakeside",
            "Liberty",
            "Little Mill",
            "North Forsyth",
            "Otwell",
            "Piney Grove",
            "Riverwatch",
            "South Forsyth",
            "Vickery Creek"
           ],
           "lat": [
            34.130072,
            34.165711,
            34.288540000000005,
            34.249992,
            34.278569,
            34.219535,
            34.14509,
            34.125074,
            34.116796,
            34.179534999999994
           ],
           "legendgroup": "Middle",
           "lon": [
            -84.23837900000001,
            -84.097944,
            -84.20521600000001,
            -84.020986,
            -84.103623,
            -84.13730600000001,
            -84.178782,
            -84.10967600000001,
            -84.152999,
            -84.22327299999999
           ],
           "marker": {
            "color": "rgb(29, 105, 150)",
            "size": [
             0,
             2,
             0,
             2,
             1,
             0,
             0,
             0,
             0,
             2
            ],
            "sizemode": "area",
            "sizeref": 0.01
           },
           "mode": "markers",
           "name": "Middle",
           "showlegend": true,
           "subplot": "mapbox",
           "type": "scattermapbox"
          },
          {
           "customdata": [
            [
             "Alliance Academy for Innovation",
             0,
             1234
            ],
            [
             "Denmark",
             1,
             2432
            ],
            [
             "Forsyth Central",
             3,
             2754
            ],
            [
             "Lambert",
             3,
             3150
            ],
            [
             "North Forsyth",
             2,
             2785
            ],
            [
             "South Forsyth",
             0,
             2437
            ],
            [
             "West Forsyth",
             4,
             2637
            ]
           ],
           "hovertemplate": "<b>%{hovertext}</b><br><br>Category=High<br>date=8/20/20<br>total=%{customdata[1]}<br>latitude=%{lat}<br>longitude=%{lon}<br>school=%{customdata[0]}<br>Total Staff & Student=%{customdata[2]}<extra></extra>",
           "hovertext": [
            "Alliance Academy for Innovation",
            "Denmark",
            "Forsyth Central",
            "Lambert",
            "North Forsyth",
            "South Forsyth",
            "West Forsyth"
           ],
           "ids": [
            "Alliance Academy for Innovation",
            "Denmark",
            "Forsyth Central",
            "Lambert",
            "North Forsyth",
            "South Forsyth",
            "West Forsyth"
           ],
           "lat": [
            34.219237,
            34.147999,
            34.217102000000004,
            34.106989,
            34.27811,
            34.148412,
            34.211249
           ],
           "legendgroup": "High",
           "lon": [
            -84.115669,
            -84.22931700000001,
            -84.141643,
            -84.13884499999999,
            -84.10639,
            -84.170303,
            -84.214213
           ],
           "marker": {
            "color": "rgb(56, 166, 165)",
            "size": [
             0,
             1,
             3,
             3,
             2,
             0,
             4
            ],
            "sizemode": "area",
            "sizeref": 0.01
           },
           "mode": "markers",
           "name": "High",
           "showlegend": true,
           "subplot": "mapbox",
           "type": "scattermapbox"
          }
         ],
         "name": "8/20/20"
        },
        {
         "data": [
          {
           "customdata": [
            [
             "Big Creek",
             0,
             706
            ],
            [
             "Brandywine",
             0,
             1357
            ],
            [
             "Brookwood",
             0,
             1078
            ],
            [
             "Chattahoochee",
             2,
             850
            ],
            [
             "Chestatee",
             1,
             1381
            ],
            [
             "Coal Mountain",
             2,
             821
            ],
            [
             "Cumming",
             0,
             1055
            ],
            [
             "Daves Creek",
             0,
             1285
            ],
            [
             "Haw Creek",
             0,
             1131
            ],
            [
             "Johns Creek",
             0,
             1103
            ],
            [
             "Kelly Mill",
             0,
             1257
            ],
            [
             "Mashburn",
             0,
             781
            ],
            [
             "Matt",
             0,
             1125
            ],
            [
             "Midway",
             0,
             961
            ],
            [
             "Poole's Mill",
             1,
             807
            ],
            [
             "Sawnee",
             0,
             1459
            ],
            [
             "Settles Bridge",
             0,
             1099
            ],
            [
             "Sharon",
             0,
             999
            ],
            [
             "Shiloh Point",
             1,
             1452
            ],
            [
             "Silver City",
             0,
             1152
            ],
            [
             "Vickery Creek",
             0,
             1394
            ],
            [
             "Whitlow",
             0,
             1464
            ]
           ],
           "hovertemplate": "<b>%{hovertext}</b><br><br>Category=Elementary<br>date=8/21/20<br>total=%{customdata[1]}<br>latitude=%{lat}<br>longitude=%{lon}<br>school=%{customdata[0]}<br>Total Staff & Student=%{customdata[2]}<extra></extra>",
           "hovertext": [
            "Big Creek",
            "Brandywine",
            "Brookwood",
            "Chattahoochee",
            "Chestatee",
            "Coal Mountain",
            "Cumming",
            "Daves Creek",
            "Haw Creek",
            "Johns Creek",
            "Kelly Mill",
            "Mashburn",
            "Matt",
            "Midway",
            "Poole's Mill",
            "Sawnee",
            "Settles Bridge",
            "Sharon",
            "Shiloh Point",
            "Silver City",
            "Vickery Creek",
            "Whitlow"
           ],
           "ids": [
            "Big Creek",
            "Brandywine",
            "Brookwood",
            "Chattahoochee",
            "Chestatee",
            "Coal Mountain",
            "Cumming",
            "Daves Creek",
            "Haw Creek",
            "Johns Creek",
            "Kelly Mill",
            "Mashburn",
            "Matt",
            "Midway",
            "Poole's Mill",
            "Sawnee",
            "Settles Bridge",
            "Sharon",
            "Shiloh Point",
            "Silver City",
            "Vickery Creek",
            "Whitlow"
           ],
           "lat": [
            34.113906,
            34.1335,
            34.101762,
            34.239073,
            34.297109000000006,
            34.274361999999996,
            34.22145,
            34.137060999999996,
            34.164334999999994,
            34.065647999999996,
            34.208588,
            34.168931,
            34.290784,
            34.159086,
            34.279810999999995,
            34.242191999999996,
            34.124171999999994,
            34.104277,
            34.144505,
            34.328631,
            34.176995,
            34.187329
           ],
           "legendgroup": "Elementary",
           "lon": [
            -84.177824,
            -84.247383,
            -84.18468,
            -84.08623,
            -83.996014,
            -84.106103,
            -84.135623,
            -84.14256400000001,
            -84.09925799999999,
            -84.12756,
            -84.16658699999999,
            -84.105777,
            -84.204504,
            -84.234437,
            -84.233814,
            -84.17603199999999,
            -84.106235,
            -84.13597299999999,
            -84.176538,
            -84.102699,
            -84.224946,
            -84.162151
           ],
           "marker": {
            "color": "rgb(95, 70, 144)",
            "size": [
             0,
             0,
             0,
             2,
             1,
             2,
             0,
             0,
             0,
             0,
             0,
             0,
             0,
             0,
             1,
             0,
             0,
             0,
             1,
             0,
             0,
             0
            ],
            "sizemode": "area",
            "sizeref": 0.01
           },
           "mode": "markers",
           "name": "Elementary",
           "showlegend": true,
           "subplot": "mapbox",
           "type": "scattermapbox"
          },
          {
           "customdata": [
            [
             "DeSana",
             0,
             1162
            ],
            [
             "Lakeside",
             2,
             1335
            ],
            [
             "Liberty",
             0,
             1340
            ],
            [
             "Little Mill",
             2,
             1032
            ],
            [
             "North Forsyth",
             2,
             1359
            ],
            [
             "Otwell",
             0,
             1649
            ],
            [
             "Piney Grove",
             0,
             1111
            ],
            [
             "Riverwatch",
             0,
             1663
            ],
            [
             "South Forsyth",
             0,
             1497
            ],
            [
             "Vickery Creek",
             3,
             1306
            ]
           ],
           "hovertemplate": "<b>%{hovertext}</b><br><br>Category=Middle<br>date=8/21/20<br>total=%{customdata[1]}<br>latitude=%{lat}<br>longitude=%{lon}<br>school=%{customdata[0]}<br>Total Staff & Student=%{customdata[2]}<extra></extra>",
           "hovertext": [
            "DeSana",
            "Lakeside",
            "Liberty",
            "Little Mill",
            "North Forsyth",
            "Otwell",
            "Piney Grove",
            "Riverwatch",
            "South Forsyth",
            "Vickery Creek"
           ],
           "ids": [
            "DeSana",
            "Lakeside",
            "Liberty",
            "Little Mill",
            "North Forsyth",
            "Otwell",
            "Piney Grove",
            "Riverwatch",
            "South Forsyth",
            "Vickery Creek"
           ],
           "lat": [
            34.130072,
            34.165711,
            34.288540000000005,
            34.249992,
            34.278569,
            34.219535,
            34.14509,
            34.125074,
            34.116796,
            34.179534999999994
           ],
           "legendgroup": "Middle",
           "lon": [
            -84.23837900000001,
            -84.097944,
            -84.20521600000001,
            -84.020986,
            -84.103623,
            -84.13730600000001,
            -84.178782,
            -84.10967600000001,
            -84.152999,
            -84.22327299999999
           ],
           "marker": {
            "color": "rgb(29, 105, 150)",
            "size": [
             0,
             2,
             0,
             2,
             2,
             0,
             0,
             0,
             0,
             3
            ],
            "sizemode": "area",
            "sizeref": 0.01
           },
           "mode": "markers",
           "name": "Middle",
           "showlegend": true,
           "subplot": "mapbox",
           "type": "scattermapbox"
          },
          {
           "customdata": [
            [
             "Alliance Academy for Innovation",
             0,
             1234
            ],
            [
             "Denmark",
             2,
             2432
            ],
            [
             "Forsyth Central",
             4,
             2754
            ],
            [
             "Lambert",
             3,
             3150
            ],
            [
             "North Forsyth",
             3,
             2785
            ],
            [
             "South Forsyth",
             0,
             2437
            ],
            [
             "West Forsyth",
             4,
             2637
            ]
           ],
           "hovertemplate": "<b>%{hovertext}</b><br><br>Category=High<br>date=8/21/20<br>total=%{customdata[1]}<br>latitude=%{lat}<br>longitude=%{lon}<br>school=%{customdata[0]}<br>Total Staff & Student=%{customdata[2]}<extra></extra>",
           "hovertext": [
            "Alliance Academy for Innovation",
            "Denmark",
            "Forsyth Central",
            "Lambert",
            "North Forsyth",
            "South Forsyth",
            "West Forsyth"
           ],
           "ids": [
            "Alliance Academy for Innovation",
            "Denmark",
            "Forsyth Central",
            "Lambert",
            "North Forsyth",
            "South Forsyth",
            "West Forsyth"
           ],
           "lat": [
            34.219237,
            34.147999,
            34.217102000000004,
            34.106989,
            34.27811,
            34.148412,
            34.211249
           ],
           "legendgroup": "High",
           "lon": [
            -84.115669,
            -84.22931700000001,
            -84.141643,
            -84.13884499999999,
            -84.10639,
            -84.170303,
            -84.214213
           ],
           "marker": {
            "color": "rgb(56, 166, 165)",
            "size": [
             0,
             2,
             4,
             3,
             3,
             0,
             4
            ],
            "sizemode": "area",
            "sizeref": 0.01
           },
           "mode": "markers",
           "name": "High",
           "showlegend": true,
           "subplot": "mapbox",
           "type": "scattermapbox"
          }
         ],
         "name": "8/21/20"
        }
       ],
       "layout": {
        "height": 700,
        "legend": {
         "itemsizing": "constant",
         "title": {
          "text": "Category"
         },
         "tracegroupgap": 0
        },
        "mapbox": {
         "center": {
          "lat": 34.221749,
          "lon": -84.135526
         },
         "domain": {
          "x": [
           0,
           1
          ],
          "y": [
           0,
           1
          ]
         },
         "style": "carto-positron",
         "zoom": 10
        },
        "margin": {
         "b": 0,
         "l": 0,
         "r": 0,
         "t": 100
        },
        "sliders": [
         {
          "active": 6,
          "currentvalue": {
           "prefix": "date="
          },
          "len": 0.9,
          "pad": {
           "b": 10,
           "t": 60
          },
          "steps": [
           {
            "args": [
             [
              "8/13/20"
             ],
             {
              "frame": {
               "duration": 0,
               "redraw": true
              },
              "fromcurrent": true,
              "mode": "immediate",
              "transition": {
               "duration": 0,
               "easing": "linear"
              }
             }
            ],
            "label": "8/13/20",
            "method": "animate"
           },
           {
            "args": [
             [
              "8/14/20"
             ],
             {
              "frame": {
               "duration": 0,
               "redraw": true
              },
              "fromcurrent": true,
              "mode": "immediate",
              "transition": {
               "duration": 0,
               "easing": "linear"
              }
             }
            ],
            "label": "8/14/20",
            "method": "animate"
           },
           {
            "args": [
             [
              "8/17/20"
             ],
             {
              "frame": {
               "duration": 0,
               "redraw": true
              },
              "fromcurrent": true,
              "mode": "immediate",
              "transition": {
               "duration": 0,
               "easing": "linear"
              }
             }
            ],
            "label": "8/17/20",
            "method": "animate"
           },
           {
            "args": [
             [
              "8/18/20"
             ],
             {
              "frame": {
               "duration": 0,
               "redraw": true
              },
              "fromcurrent": true,
              "mode": "immediate",
              "transition": {
               "duration": 0,
               "easing": "linear"
              }
             }
            ],
            "label": "8/18/20",
            "method": "animate"
           },
           {
            "args": [
             [
              "8/19/20"
             ],
             {
              "frame": {
               "duration": 0,
               "redraw": true
              },
              "fromcurrent": true,
              "mode": "immediate",
              "transition": {
               "duration": 0,
               "easing": "linear"
              }
             }
            ],
            "label": "8/19/20",
            "method": "animate"
           },
           {
            "args": [
             [
              "8/20/20"
             ],
             {
              "frame": {
               "duration": 0,
               "redraw": true
              },
              "fromcurrent": true,
              "mode": "immediate",
              "transition": {
               "duration": 0,
               "easing": "linear"
              }
             }
            ],
            "label": "8/20/20",
            "method": "animate"
           },
           {
            "args": [
             [
              "8/21/20"
             ],
             {
              "frame": {
               "duration": 0,
               "redraw": true
              },
              "fromcurrent": true,
              "mode": "immediate",
              "transition": {
               "duration": 0,
               "easing": "linear"
              }
             }
            ],
            "label": "8/21/20",
            "method": "animate"
           }
          ],
          "x": 0.1,
          "xanchor": "left",
          "y": 0,
          "yanchor": "top"
         }
        ],
        "template": {
         "data": {
          "bar": [
           {
            "error_x": {
             "color": "#2a3f5f"
            },
            "error_y": {
             "color": "#2a3f5f"
            },
            "marker": {
             "line": {
              "color": "#E5ECF6",
              "width": 0.5
             }
            },
            "type": "bar"
           }
          ],
          "barpolar": [
           {
            "marker": {
             "line": {
              "color": "#E5ECF6",
              "width": 0.5
             }
            },
            "type": "barpolar"
           }
          ],
          "carpet": [
           {
            "aaxis": {
             "endlinecolor": "#2a3f5f",
             "gridcolor": "white",
             "linecolor": "white",
             "minorgridcolor": "white",
             "startlinecolor": "#2a3f5f"
            },
            "baxis": {
             "endlinecolor": "#2a3f5f",
             "gridcolor": "white",
             "linecolor": "white",
             "minorgridcolor": "white",
             "startlinecolor": "#2a3f5f"
            },
            "type": "carpet"
           }
          ],
          "choropleth": [
           {
            "colorbar": {
             "outlinewidth": 0,
             "ticks": ""
            },
            "type": "choropleth"
           }
          ],
          "contour": [
           {
            "colorbar": {
             "outlinewidth": 0,
             "ticks": ""
            },
            "colorscale": [
             [
              0,
              "#0d0887"
             ],
             [
              0.1111111111111111,
              "#46039f"
             ],
             [
              0.2222222222222222,
              "#7201a8"
             ],
             [
              0.3333333333333333,
              "#9c179e"
             ],
             [
              0.4444444444444444,
              "#bd3786"
             ],
             [
              0.5555555555555556,
              "#d8576b"
             ],
             [
              0.6666666666666666,
              "#ed7953"
             ],
             [
              0.7777777777777778,
              "#fb9f3a"
             ],
             [
              0.8888888888888888,
              "#fdca26"
             ],
             [
              1,
              "#f0f921"
             ]
            ],
            "type": "contour"
           }
          ],
          "contourcarpet": [
           {
            "colorbar": {
             "outlinewidth": 0,
             "ticks": ""
            },
            "type": "contourcarpet"
           }
          ],
          "heatmap": [
           {
            "colorbar": {
             "outlinewidth": 0,
             "ticks": ""
            },
            "colorscale": [
             [
              0,
              "#0d0887"
             ],
             [
              0.1111111111111111,
              "#46039f"
             ],
             [
              0.2222222222222222,
              "#7201a8"
             ],
             [
              0.3333333333333333,
              "#9c179e"
             ],
             [
              0.4444444444444444,
              "#bd3786"
             ],
             [
              0.5555555555555556,
              "#d8576b"
             ],
             [
              0.6666666666666666,
              "#ed7953"
             ],
             [
              0.7777777777777778,
              "#fb9f3a"
             ],
             [
              0.8888888888888888,
              "#fdca26"
             ],
             [
              1,
              "#f0f921"
             ]
            ],
            "type": "heatmap"
           }
          ],
          "heatmapgl": [
           {
            "colorbar": {
             "outlinewidth": 0,
             "ticks": ""
            },
            "colorscale": [
             [
              0,
              "#0d0887"
             ],
             [
              0.1111111111111111,
              "#46039f"
             ],
             [
              0.2222222222222222,
              "#7201a8"
             ],
             [
              0.3333333333333333,
              "#9c179e"
             ],
             [
              0.4444444444444444,
              "#bd3786"
             ],
             [
              0.5555555555555556,
              "#d8576b"
             ],
             [
              0.6666666666666666,
              "#ed7953"
             ],
             [
              0.7777777777777778,
              "#fb9f3a"
             ],
             [
              0.8888888888888888,
              "#fdca26"
             ],
             [
              1,
              "#f0f921"
             ]
            ],
            "type": "heatmapgl"
           }
          ],
          "histogram": [
           {
            "marker": {
             "colorbar": {
              "outlinewidth": 0,
              "ticks": ""
             }
            },
            "type": "histogram"
           }
          ],
          "histogram2d": [
           {
            "colorbar": {
             "outlinewidth": 0,
             "ticks": ""
            },
            "colorscale": [
             [
              0,
              "#0d0887"
             ],
             [
              0.1111111111111111,
              "#46039f"
             ],
             [
              0.2222222222222222,
              "#7201a8"
             ],
             [
              0.3333333333333333,
              "#9c179e"
             ],
             [
              0.4444444444444444,
              "#bd3786"
             ],
             [
              0.5555555555555556,
              "#d8576b"
             ],
             [
              0.6666666666666666,
              "#ed7953"
             ],
             [
              0.7777777777777778,
              "#fb9f3a"
             ],
             [
              0.8888888888888888,
              "#fdca26"
             ],
             [
              1,
              "#f0f921"
             ]
            ],
            "type": "histogram2d"
           }
          ],
          "histogram2dcontour": [
           {
            "colorbar": {
             "outlinewidth": 0,
             "ticks": ""
            },
            "colorscale": [
             [
              0,
              "#0d0887"
             ],
             [
              0.1111111111111111,
              "#46039f"
             ],
             [
              0.2222222222222222,
              "#7201a8"
             ],
             [
              0.3333333333333333,
              "#9c179e"
             ],
             [
              0.4444444444444444,
              "#bd3786"
             ],
             [
              0.5555555555555556,
              "#d8576b"
             ],
             [
              0.6666666666666666,
              "#ed7953"
             ],
             [
              0.7777777777777778,
              "#fb9f3a"
             ],
             [
              0.8888888888888888,
              "#fdca26"
             ],
             [
              1,
              "#f0f921"
             ]
            ],
            "type": "histogram2dcontour"
           }
          ],
          "mesh3d": [
           {
            "colorbar": {
             "outlinewidth": 0,
             "ticks": ""
            },
            "type": "mesh3d"
           }
          ],
          "parcoords": [
           {
            "line": {
             "colorbar": {
              "outlinewidth": 0,
              "ticks": ""
             }
            },
            "type": "parcoords"
           }
          ],
          "pie": [
           {
            "automargin": true,
            "type": "pie"
           }
          ],
          "scatter": [
           {
            "marker": {
             "colorbar": {
              "outlinewidth": 0,
              "ticks": ""
             }
            },
            "type": "scatter"
           }
          ],
          "scatter3d": [
           {
            "line": {
             "colorbar": {
              "outlinewidth": 0,
              "ticks": ""
             }
            },
            "marker": {
             "colorbar": {
              "outlinewidth": 0,
              "ticks": ""
             }
            },
            "type": "scatter3d"
           }
          ],
          "scattercarpet": [
           {
            "marker": {
             "colorbar": {
              "outlinewidth": 0,
              "ticks": ""
             }
            },
            "type": "scattercarpet"
           }
          ],
          "scattergeo": [
           {
            "marker": {
             "colorbar": {
              "outlinewidth": 0,
              "ticks": ""
             }
            },
            "type": "scattergeo"
           }
          ],
          "scattergl": [
           {
            "marker": {
             "colorbar": {
              "outlinewidth": 0,
              "ticks": ""
             }
            },
            "type": "scattergl"
           }
          ],
          "scattermapbox": [
           {
            "marker": {
             "colorbar": {
              "outlinewidth": 0,
              "ticks": ""
             }
            },
            "type": "scattermapbox"
           }
          ],
          "scatterpolar": [
           {
            "marker": {
             "colorbar": {
              "outlinewidth": 0,
              "ticks": ""
             }
            },
            "type": "scatterpolar"
           }
          ],
          "scatterpolargl": [
           {
            "marker": {
             "colorbar": {
              "outlinewidth": 0,
              "ticks": ""
             }
            },
            "type": "scatterpolargl"
           }
          ],
          "scatterternary": [
           {
            "marker": {
             "colorbar": {
              "outlinewidth": 0,
              "ticks": ""
             }
            },
            "type": "scatterternary"
           }
          ],
          "surface": [
           {
            "colorbar": {
             "outlinewidth": 0,
             "ticks": ""
            },
            "colorscale": [
             [
              0,
              "#0d0887"
             ],
             [
              0.1111111111111111,
              "#46039f"
             ],
             [
              0.2222222222222222,
              "#7201a8"
             ],
             [
              0.3333333333333333,
              "#9c179e"
             ],
             [
              0.4444444444444444,
              "#bd3786"
             ],
             [
              0.5555555555555556,
              "#d8576b"
             ],
             [
              0.6666666666666666,
              "#ed7953"
             ],
             [
              0.7777777777777778,
              "#fb9f3a"
             ],
             [
              0.8888888888888888,
              "#fdca26"
             ],
             [
              1,
              "#f0f921"
             ]
            ],
            "type": "surface"
           }
          ],
          "table": [
           {
            "cells": {
             "fill": {
              "color": "#EBF0F8"
             },
             "line": {
              "color": "white"
             }
            },
            "header": {
             "fill": {
              "color": "#C8D4E3"
             },
             "line": {
              "color": "white"
             }
            },
            "type": "table"
           }
          ]
         },
         "layout": {
          "annotationdefaults": {
           "arrowcolor": "#2a3f5f",
           "arrowhead": 0,
           "arrowwidth": 1
          },
          "coloraxis": {
           "colorbar": {
            "outlinewidth": 0,
            "ticks": ""
           }
          },
          "colorscale": {
           "diverging": [
            [
             0,
             "#8e0152"
            ],
            [
             0.1,
             "#c51b7d"
            ],
            [
             0.2,
             "#de77ae"
            ],
            [
             0.3,
             "#f1b6da"
            ],
            [
             0.4,
             "#fde0ef"
            ],
            [
             0.5,
             "#f7f7f7"
            ],
            [
             0.6,
             "#e6f5d0"
            ],
            [
             0.7,
             "#b8e186"
            ],
            [
             0.8,
             "#7fbc41"
            ],
            [
             0.9,
             "#4d9221"
            ],
            [
             1,
             "#276419"
            ]
           ],
           "sequential": [
            [
             0,
             "#0d0887"
            ],
            [
             0.1111111111111111,
             "#46039f"
            ],
            [
             0.2222222222222222,
             "#7201a8"
            ],
            [
             0.3333333333333333,
             "#9c179e"
            ],
            [
             0.4444444444444444,
             "#bd3786"
            ],
            [
             0.5555555555555556,
             "#d8576b"
            ],
            [
             0.6666666666666666,
             "#ed7953"
            ],
            [
             0.7777777777777778,
             "#fb9f3a"
            ],
            [
             0.8888888888888888,
             "#fdca26"
            ],
            [
             1,
             "#f0f921"
            ]
           ],
           "sequentialminus": [
            [
             0,
             "#0d0887"
            ],
            [
             0.1111111111111111,
             "#46039f"
            ],
            [
             0.2222222222222222,
             "#7201a8"
            ],
            [
             0.3333333333333333,
             "#9c179e"
            ],
            [
             0.4444444444444444,
             "#bd3786"
            ],
            [
             0.5555555555555556,
             "#d8576b"
            ],
            [
             0.6666666666666666,
             "#ed7953"
            ],
            [
             0.7777777777777778,
             "#fb9f3a"
            ],
            [
             0.8888888888888888,
             "#fdca26"
            ],
            [
             1,
             "#f0f921"
            ]
           ]
          },
          "colorway": [
           "#636efa",
           "#EF553B",
           "#00cc96",
           "#ab63fa",
           "#FFA15A",
           "#19d3f3",
           "#FF6692",
           "#B6E880",
           "#FF97FF",
           "#FECB52"
          ],
          "font": {
           "color": "#2a3f5f"
          },
          "geo": {
           "bgcolor": "white",
           "lakecolor": "white",
           "landcolor": "#E5ECF6",
           "showlakes": true,
           "showland": true,
           "subunitcolor": "white"
          },
          "hoverlabel": {
           "align": "left"
          },
          "hovermode": "closest",
          "mapbox": {
           "style": "light"
          },
          "paper_bgcolor": "white",
          "plot_bgcolor": "#E5ECF6",
          "polar": {
           "angularaxis": {
            "gridcolor": "white",
            "linecolor": "white",
            "ticks": ""
           },
           "bgcolor": "#E5ECF6",
           "radialaxis": {
            "gridcolor": "white",
            "linecolor": "white",
            "ticks": ""
           }
          },
          "scene": {
           "xaxis": {
            "backgroundcolor": "#E5ECF6",
            "gridcolor": "white",
            "gridwidth": 2,
            "linecolor": "white",
            "showbackground": true,
            "ticks": "",
            "zerolinecolor": "white"
           },
           "yaxis": {
            "backgroundcolor": "#E5ECF6",
            "gridcolor": "white",
            "gridwidth": 2,
            "linecolor": "white",
            "showbackground": true,
            "ticks": "",
            "zerolinecolor": "white"
           },
           "zaxis": {
            "backgroundcolor": "#E5ECF6",
            "gridcolor": "white",
            "gridwidth": 2,
            "linecolor": "white",
            "showbackground": true,
            "ticks": "",
            "zerolinecolor": "white"
           }
          },
          "shapedefaults": {
           "line": {
            "color": "#2a3f5f"
           }
          },
          "ternary": {
           "aaxis": {
            "gridcolor": "white",
            "linecolor": "white",
            "ticks": ""
           },
           "baxis": {
            "gridcolor": "white",
            "linecolor": "white",
            "ticks": ""
           },
           "bgcolor": "#E5ECF6",
           "caxis": {
            "gridcolor": "white",
            "linecolor": "white",
            "ticks": ""
           }
          },
          "title": {
           "x": 0.05
          },
          "xaxis": {
           "automargin": true,
           "gridcolor": "white",
           "linecolor": "white",
           "ticks": "",
           "title": {
            "standoff": 15
           },
           "zerolinecolor": "white",
           "zerolinewidth": 2
          },
          "yaxis": {
           "automargin": true,
           "gridcolor": "white",
           "linecolor": "white",
           "ticks": "",
           "title": {
            "standoff": 15
           },
           "zerolinecolor": "white",
           "zerolinewidth": 2
          }
         }
        },
        "title": {
         "font": {
          "color": "black",
          "size": 26
         },
         "text": "Reported COVID-19 cases in Forsyth County Schools",
         "x": 0.5,
         "xanchor": "center"
        },
        "updatemenus": [
         {
          "buttons": [
           {
            "args": [
             null,
             {
              "frame": {
               "duration": 500,
               "redraw": true
              },
              "fromcurrent": true,
              "mode": "immediate",
              "transition": {
               "duration": 500,
               "easing": "linear"
              }
             }
            ],
            "label": "&#9654;",
            "method": "animate"
           },
           {
            "args": [
             [
              null
             ],
             {
              "frame": {
               "duration": 0,
               "redraw": true
              },
              "fromcurrent": true,
              "mode": "immediate",
              "transition": {
               "duration": 0,
               "easing": "linear"
              }
             }
            ],
            "label": "&#9724;",
            "method": "animate"
           }
          ],
          "direction": "left",
          "pad": {
           "r": 10,
           "t": 70
          },
          "showactive": false,
          "type": "buttons",
          "x": 0.1,
          "xanchor": "right",
          "y": 0,
          "yanchor": "top"
         }
        ]
       }
      },
      "text/html": [
       "<div>\n",
       "        \n",
       "        \n",
       "            <div id=\"34e98241-d03f-4620-94ab-018af6b2c9fd\" class=\"plotly-graph-div\" style=\"height:700px; width:100%;\"></div>\n",
       "            <script type=\"text/javascript\">\n",
       "                require([\"plotly\"], function(Plotly) {\n",
       "                    window.PLOTLYENV=window.PLOTLYENV || {};\n",
       "                    \n",
       "                if (document.getElementById(\"34e98241-d03f-4620-94ab-018af6b2c9fd\")) {\n",
       "                    Plotly.newPlot(\n",
       "                        '34e98241-d03f-4620-94ab-018af6b2c9fd',\n",
       "                        [{\"customdata\": [[\"Alliance Academy for Innovation\", 0.0, 1234.0], [\"Denmark\", 2.0, 2432.0], [\"Forsyth Central\", 4.0, 2754.0], [\"Lambert\", 3.0, 3150.0], [\"North Forsyth\", 3.0, 2785.0], [\"South Forsyth\", 0.0, 2437.0], [\"West Forsyth\", 4.0, 2637.0]], \"hovertemplate\": \"<b>%{hovertext}</b><br><br>Category=High<br>date=8/21/20<br>total=%{customdata[1]}<br>latitude=%{lat}<br>longitude=%{lon}<br>school=%{customdata[0]}<br>Total Staff & Student=%{customdata[2]}<extra></extra>\", \"hovertext\": [\"Alliance Academy for Innovation\", \"Denmark\", \"Forsyth Central\", \"Lambert\", \"North Forsyth\", \"South Forsyth\", \"West Forsyth\"], \"ids\": [\"Alliance Academy for Innovation\", \"Denmark\", \"Forsyth Central\", \"Lambert\", \"North Forsyth\", \"South Forsyth\", \"West Forsyth\"], \"lat\": [34.219237, 34.147999, 34.217102000000004, 34.106989, 34.27811, 34.148412, 34.211249], \"legendgroup\": \"High\", \"lon\": [-84.115669, -84.22931700000001, -84.141643, -84.13884499999999, -84.10639, -84.170303, -84.214213], \"marker\": {\"color\": \"rgb(56, 166, 165)\", \"size\": [0.0, 2.0, 4.0, 3.0, 3.0, 0.0, 4.0], \"sizemode\": \"area\", \"sizeref\": 0.01}, \"mode\": \"markers\", \"name\": \"High\", \"showlegend\": true, \"subplot\": \"mapbox\", \"type\": \"scattermapbox\"}, {\"customdata\": [[\"Alliance Academy for Innovation\", 0.0, 1234.0], [\"Denmark\", 2.0, 2432.0], [\"Forsyth Central\", 4.0, 2754.0], [\"Lambert\", 3.0, 3150.0], [\"North Forsyth\", 3.0, 2785.0], [\"South Forsyth\", 0.0, 2437.0], [\"West Forsyth\", 4.0, 2637.0]], \"hovertemplate\": \"<b>%{hovertext}</b><br><br>Category=High<br>date=8/21/20<br>total=%{customdata[1]}<br>latitude=%{lat}<br>longitude=%{lon}<br>school=%{customdata[0]}<br>Total Staff & Student=%{customdata[2]}<extra></extra>\", \"hovertext\": [\"Alliance Academy for Innovation\", \"Denmark\", \"Forsyth Central\", \"Lambert\", \"North Forsyth\", \"South Forsyth\", \"West Forsyth\"], \"ids\": [\"Alliance Academy for Innovation\", \"Denmark\", \"Forsyth Central\", \"Lambert\", \"North Forsyth\", \"South Forsyth\", \"West Forsyth\"], \"lat\": [34.219237, 34.147999, 34.217102000000004, 34.106989, 34.27811, 34.148412, 34.211249], \"legendgroup\": \"High\", \"lon\": [-84.115669, -84.22931700000001, -84.141643, -84.13884499999999, -84.10639, -84.170303, -84.214213], \"marker\": {\"color\": \"rgb(56, 166, 165)\", \"size\": [0.0, 2.0, 4.0, 3.0, 3.0, 0.0, 4.0], \"sizemode\": \"area\", \"sizeref\": 0.01}, \"mode\": \"markers\", \"name\": \"High\", \"showlegend\": true, \"subplot\": \"mapbox\", \"type\": \"scattermapbox\"}, {\"customdata\": [[\"Alliance Academy for Innovation\", 0.0, 1234.0], [\"Denmark\", 2.0, 2432.0], [\"Forsyth Central\", 4.0, 2754.0], [\"Lambert\", 3.0, 3150.0], [\"North Forsyth\", 3.0, 2785.0], [\"South Forsyth\", 0.0, 2437.0], [\"West Forsyth\", 4.0, 2637.0]], \"hovertemplate\": \"<b>%{hovertext}</b><br><br>Category=High<br>date=8/21/20<br>total=%{customdata[1]}<br>latitude=%{lat}<br>longitude=%{lon}<br>school=%{customdata[0]}<br>Total Staff & Student=%{customdata[2]}<extra></extra>\", \"hovertext\": [\"Alliance Academy for Innovation\", \"Denmark\", \"Forsyth Central\", \"Lambert\", \"North Forsyth\", \"South Forsyth\", \"West Forsyth\"], \"ids\": [\"Alliance Academy for Innovation\", \"Denmark\", \"Forsyth Central\", \"Lambert\", \"North Forsyth\", \"South Forsyth\", \"West Forsyth\"], \"lat\": [34.219237, 34.147999, 34.217102000000004, 34.106989, 34.27811, 34.148412, 34.211249], \"legendgroup\": \"High\", \"lon\": [-84.115669, -84.22931700000001, -84.141643, -84.13884499999999, -84.10639, -84.170303, -84.214213], \"marker\": {\"color\": \"rgb(56, 166, 165)\", \"size\": [0.0, 2.0, 4.0, 3.0, 3.0, 0.0, 4.0], \"sizemode\": \"area\", \"sizeref\": 0.01}, \"mode\": \"markers\", \"name\": \"High\", \"showlegend\": true, \"subplot\": \"mapbox\", \"type\": \"scattermapbox\"}],\n",
       "                        {\"height\": 700, \"legend\": {\"itemsizing\": \"constant\", \"title\": {\"text\": \"Category\"}, \"tracegroupgap\": 0}, \"mapbox\": {\"center\": {\"lat\": 34.221749, \"lon\": -84.135526}, \"domain\": {\"x\": [0.0, 1.0], \"y\": [0.0, 1.0]}, \"style\": \"carto-positron\", \"zoom\": 10}, \"margin\": {\"b\": 0, \"l\": 0, \"r\": 0, \"t\": 100}, \"sliders\": [{\"active\": 6, \"currentvalue\": {\"prefix\": \"date=\"}, \"len\": 0.9, \"pad\": {\"b\": 10, \"t\": 60}, \"steps\": [{\"args\": [[\"8/13/20\"], {\"frame\": {\"duration\": 0, \"redraw\": true}, \"fromcurrent\": true, \"mode\": \"immediate\", \"transition\": {\"duration\": 0, \"easing\": \"linear\"}}], \"label\": \"8/13/20\", \"method\": \"animate\"}, {\"args\": [[\"8/14/20\"], {\"frame\": {\"duration\": 0, \"redraw\": true}, \"fromcurrent\": true, \"mode\": \"immediate\", \"transition\": {\"duration\": 0, \"easing\": \"linear\"}}], \"label\": \"8/14/20\", \"method\": \"animate\"}, {\"args\": [[\"8/17/20\"], {\"frame\": {\"duration\": 0, \"redraw\": true}, \"fromcurrent\": true, \"mode\": \"immediate\", \"transition\": {\"duration\": 0, \"easing\": \"linear\"}}], \"label\": \"8/17/20\", \"method\": \"animate\"}, {\"args\": [[\"8/18/20\"], {\"frame\": {\"duration\": 0, \"redraw\": true}, \"fromcurrent\": true, \"mode\": \"immediate\", \"transition\": {\"duration\": 0, \"easing\": \"linear\"}}], \"label\": \"8/18/20\", \"method\": \"animate\"}, {\"args\": [[\"8/19/20\"], {\"frame\": {\"duration\": 0, \"redraw\": true}, \"fromcurrent\": true, \"mode\": \"immediate\", \"transition\": {\"duration\": 0, \"easing\": \"linear\"}}], \"label\": \"8/19/20\", \"method\": \"animate\"}, {\"args\": [[\"8/20/20\"], {\"frame\": {\"duration\": 0, \"redraw\": true}, \"fromcurrent\": true, \"mode\": \"immediate\", \"transition\": {\"duration\": 0, \"easing\": \"linear\"}}], \"label\": \"8/20/20\", \"method\": \"animate\"}, {\"args\": [[\"8/21/20\"], {\"frame\": {\"duration\": 0, \"redraw\": true}, \"fromcurrent\": true, \"mode\": \"immediate\", \"transition\": {\"duration\": 0, \"easing\": \"linear\"}}], \"label\": \"8/21/20\", \"method\": \"animate\"}], \"x\": 0.1, \"xanchor\": \"left\", \"y\": 0, \"yanchor\": \"top\"}], \"template\": {\"data\": {\"bar\": [{\"error_x\": {\"color\": \"#2a3f5f\"}, \"error_y\": {\"color\": \"#2a3f5f\"}, \"marker\": {\"line\": {\"color\": \"#E5ECF6\", \"width\": 0.5}}, \"type\": \"bar\"}], \"barpolar\": [{\"marker\": {\"line\": {\"color\": \"#E5ECF6\", \"width\": 0.5}}, \"type\": \"barpolar\"}], \"carpet\": [{\"aaxis\": {\"endlinecolor\": \"#2a3f5f\", \"gridcolor\": \"white\", \"linecolor\": \"white\", \"minorgridcolor\": \"white\", \"startlinecolor\": \"#2a3f5f\"}, \"baxis\": {\"endlinecolor\": \"#2a3f5f\", \"gridcolor\": \"white\", \"linecolor\": \"white\", \"minorgridcolor\": \"white\", \"startlinecolor\": \"#2a3f5f\"}, \"type\": \"carpet\"}], \"choropleth\": [{\"colorbar\": {\"outlinewidth\": 0, \"ticks\": \"\"}, \"type\": \"choropleth\"}], \"contour\": [{\"colorbar\": {\"outlinewidth\": 0, \"ticks\": \"\"}, \"colorscale\": [[0.0, \"#0d0887\"], [0.1111111111111111, \"#46039f\"], [0.2222222222222222, \"#7201a8\"], [0.3333333333333333, \"#9c179e\"], [0.4444444444444444, \"#bd3786\"], [0.5555555555555556, \"#d8576b\"], [0.6666666666666666, \"#ed7953\"], [0.7777777777777778, \"#fb9f3a\"], [0.8888888888888888, \"#fdca26\"], [1.0, \"#f0f921\"]], \"type\": \"contour\"}], \"contourcarpet\": [{\"colorbar\": {\"outlinewidth\": 0, \"ticks\": \"\"}, \"type\": \"contourcarpet\"}], \"heatmap\": [{\"colorbar\": {\"outlinewidth\": 0, \"ticks\": \"\"}, \"colorscale\": [[0.0, \"#0d0887\"], [0.1111111111111111, \"#46039f\"], [0.2222222222222222, \"#7201a8\"], [0.3333333333333333, \"#9c179e\"], [0.4444444444444444, \"#bd3786\"], [0.5555555555555556, \"#d8576b\"], [0.6666666666666666, \"#ed7953\"], [0.7777777777777778, \"#fb9f3a\"], [0.8888888888888888, \"#fdca26\"], [1.0, \"#f0f921\"]], \"type\": \"heatmap\"}], \"heatmapgl\": [{\"colorbar\": {\"outlinewidth\": 0, \"ticks\": \"\"}, \"colorscale\": [[0.0, \"#0d0887\"], [0.1111111111111111, \"#46039f\"], [0.2222222222222222, \"#7201a8\"], [0.3333333333333333, \"#9c179e\"], [0.4444444444444444, \"#bd3786\"], [0.5555555555555556, \"#d8576b\"], [0.6666666666666666, \"#ed7953\"], [0.7777777777777778, \"#fb9f3a\"], [0.8888888888888888, \"#fdca26\"], [1.0, \"#f0f921\"]], \"type\": \"heatmapgl\"}], \"histogram\": [{\"marker\": {\"colorbar\": {\"outlinewidth\": 0, \"ticks\": \"\"}}, \"type\": \"histogram\"}], \"histogram2d\": [{\"colorbar\": {\"outlinewidth\": 0, \"ticks\": \"\"}, \"colorscale\": [[0.0, \"#0d0887\"], [0.1111111111111111, \"#46039f\"], [0.2222222222222222, \"#7201a8\"], [0.3333333333333333, \"#9c179e\"], [0.4444444444444444, \"#bd3786\"], [0.5555555555555556, \"#d8576b\"], [0.6666666666666666, \"#ed7953\"], [0.7777777777777778, \"#fb9f3a\"], [0.8888888888888888, \"#fdca26\"], [1.0, \"#f0f921\"]], \"type\": \"histogram2d\"}], \"histogram2dcontour\": [{\"colorbar\": {\"outlinewidth\": 0, \"ticks\": \"\"}, \"colorscale\": [[0.0, \"#0d0887\"], [0.1111111111111111, \"#46039f\"], [0.2222222222222222, \"#7201a8\"], [0.3333333333333333, \"#9c179e\"], [0.4444444444444444, \"#bd3786\"], [0.5555555555555556, \"#d8576b\"], [0.6666666666666666, \"#ed7953\"], [0.7777777777777778, \"#fb9f3a\"], [0.8888888888888888, \"#fdca26\"], [1.0, \"#f0f921\"]], \"type\": \"histogram2dcontour\"}], \"mesh3d\": [{\"colorbar\": {\"outlinewidth\": 0, \"ticks\": \"\"}, \"type\": \"mesh3d\"}], \"parcoords\": [{\"line\": {\"colorbar\": {\"outlinewidth\": 0, \"ticks\": \"\"}}, \"type\": \"parcoords\"}], \"pie\": [{\"automargin\": true, \"type\": \"pie\"}], \"scatter\": [{\"marker\": {\"colorbar\": {\"outlinewidth\": 0, \"ticks\": \"\"}}, \"type\": \"scatter\"}], \"scatter3d\": [{\"line\": {\"colorbar\": {\"outlinewidth\": 0, \"ticks\": \"\"}}, \"marker\": {\"colorbar\": {\"outlinewidth\": 0, \"ticks\": \"\"}}, \"type\": \"scatter3d\"}], \"scattercarpet\": [{\"marker\": {\"colorbar\": {\"outlinewidth\": 0, \"ticks\": \"\"}}, \"type\": \"scattercarpet\"}], \"scattergeo\": [{\"marker\": {\"colorbar\": {\"outlinewidth\": 0, \"ticks\": \"\"}}, \"type\": \"scattergeo\"}], \"scattergl\": [{\"marker\": {\"colorbar\": {\"outlinewidth\": 0, \"ticks\": \"\"}}, \"type\": \"scattergl\"}], \"scattermapbox\": [{\"marker\": {\"colorbar\": {\"outlinewidth\": 0, \"ticks\": \"\"}}, \"type\": \"scattermapbox\"}], \"scatterpolar\": [{\"marker\": {\"colorbar\": {\"outlinewidth\": 0, \"ticks\": \"\"}}, \"type\": \"scatterpolar\"}], \"scatterpolargl\": [{\"marker\": {\"colorbar\": {\"outlinewidth\": 0, \"ticks\": \"\"}}, \"type\": \"scatterpolargl\"}], \"scatterternary\": [{\"marker\": {\"colorbar\": {\"outlinewidth\": 0, \"ticks\": \"\"}}, \"type\": \"scatterternary\"}], \"surface\": [{\"colorbar\": {\"outlinewidth\": 0, \"ticks\": \"\"}, \"colorscale\": [[0.0, \"#0d0887\"], [0.1111111111111111, \"#46039f\"], [0.2222222222222222, \"#7201a8\"], [0.3333333333333333, \"#9c179e\"], [0.4444444444444444, \"#bd3786\"], [0.5555555555555556, \"#d8576b\"], [0.6666666666666666, \"#ed7953\"], [0.7777777777777778, \"#fb9f3a\"], [0.8888888888888888, \"#fdca26\"], [1.0, \"#f0f921\"]], \"type\": \"surface\"}], \"table\": [{\"cells\": {\"fill\": {\"color\": \"#EBF0F8\"}, \"line\": {\"color\": \"white\"}}, \"header\": {\"fill\": {\"color\": \"#C8D4E3\"}, \"line\": {\"color\": \"white\"}}, \"type\": \"table\"}]}, \"layout\": {\"annotationdefaults\": {\"arrowcolor\": \"#2a3f5f\", \"arrowhead\": 0, \"arrowwidth\": 1}, \"coloraxis\": {\"colorbar\": {\"outlinewidth\": 0, \"ticks\": \"\"}}, \"colorscale\": {\"diverging\": [[0, \"#8e0152\"], [0.1, \"#c51b7d\"], [0.2, \"#de77ae\"], [0.3, \"#f1b6da\"], [0.4, \"#fde0ef\"], [0.5, \"#f7f7f7\"], [0.6, \"#e6f5d0\"], [0.7, \"#b8e186\"], [0.8, \"#7fbc41\"], [0.9, \"#4d9221\"], [1, \"#276419\"]], \"sequential\": [[0.0, \"#0d0887\"], [0.1111111111111111, \"#46039f\"], [0.2222222222222222, \"#7201a8\"], [0.3333333333333333, \"#9c179e\"], [0.4444444444444444, \"#bd3786\"], [0.5555555555555556, \"#d8576b\"], [0.6666666666666666, \"#ed7953\"], [0.7777777777777778, \"#fb9f3a\"], [0.8888888888888888, \"#fdca26\"], [1.0, \"#f0f921\"]], \"sequentialminus\": [[0.0, \"#0d0887\"], [0.1111111111111111, \"#46039f\"], [0.2222222222222222, \"#7201a8\"], [0.3333333333333333, \"#9c179e\"], [0.4444444444444444, \"#bd3786\"], [0.5555555555555556, \"#d8576b\"], [0.6666666666666666, \"#ed7953\"], [0.7777777777777778, \"#fb9f3a\"], [0.8888888888888888, \"#fdca26\"], [1.0, \"#f0f921\"]]}, \"colorway\": [\"#636efa\", \"#EF553B\", \"#00cc96\", \"#ab63fa\", \"#FFA15A\", \"#19d3f3\", \"#FF6692\", \"#B6E880\", \"#FF97FF\", \"#FECB52\"], \"font\": {\"color\": \"#2a3f5f\"}, \"geo\": {\"bgcolor\": \"white\", \"lakecolor\": \"white\", \"landcolor\": \"#E5ECF6\", \"showlakes\": true, \"showland\": true, \"subunitcolor\": \"white\"}, \"hoverlabel\": {\"align\": \"left\"}, \"hovermode\": \"closest\", \"mapbox\": {\"style\": \"light\"}, \"paper_bgcolor\": \"white\", \"plot_bgcolor\": \"#E5ECF6\", \"polar\": {\"angularaxis\": {\"gridcolor\": \"white\", \"linecolor\": \"white\", \"ticks\": \"\"}, \"bgcolor\": \"#E5ECF6\", \"radialaxis\": {\"gridcolor\": \"white\", \"linecolor\": \"white\", \"ticks\": \"\"}}, \"scene\": {\"xaxis\": {\"backgroundcolor\": \"#E5ECF6\", \"gridcolor\": \"white\", \"gridwidth\": 2, \"linecolor\": \"white\", \"showbackground\": true, \"ticks\": \"\", \"zerolinecolor\": \"white\"}, \"yaxis\": {\"backgroundcolor\": \"#E5ECF6\", \"gridcolor\": \"white\", \"gridwidth\": 2, \"linecolor\": \"white\", \"showbackground\": true, \"ticks\": \"\", \"zerolinecolor\": \"white\"}, \"zaxis\": {\"backgroundcolor\": \"#E5ECF6\", \"gridcolor\": \"white\", \"gridwidth\": 2, \"linecolor\": \"white\", \"showbackground\": true, \"ticks\": \"\", \"zerolinecolor\": \"white\"}}, \"shapedefaults\": {\"line\": {\"color\": \"#2a3f5f\"}}, \"ternary\": {\"aaxis\": {\"gridcolor\": \"white\", \"linecolor\": \"white\", \"ticks\": \"\"}, \"baxis\": {\"gridcolor\": \"white\", \"linecolor\": \"white\", \"ticks\": \"\"}, \"bgcolor\": \"#E5ECF6\", \"caxis\": {\"gridcolor\": \"white\", \"linecolor\": \"white\", \"ticks\": \"\"}}, \"title\": {\"x\": 0.05}, \"xaxis\": {\"automargin\": true, \"gridcolor\": \"white\", \"linecolor\": \"white\", \"ticks\": \"\", \"title\": {\"standoff\": 15}, \"zerolinecolor\": \"white\", \"zerolinewidth\": 2}, \"yaxis\": {\"automargin\": true, \"gridcolor\": \"white\", \"linecolor\": \"white\", \"ticks\": \"\", \"title\": {\"standoff\": 15}, \"zerolinecolor\": \"white\", \"zerolinewidth\": 2}}}, \"title\": {\"font\": {\"color\": \"black\", \"size\": 26}, \"text\": \"Reported COVID-19 cases in Forsyth County Schools\", \"x\": 0.5, \"xanchor\": \"center\"}, \"updatemenus\": [{\"buttons\": [{\"args\": [null, {\"frame\": {\"duration\": 500, \"redraw\": true}, \"fromcurrent\": true, \"mode\": \"immediate\", \"transition\": {\"duration\": 500, \"easing\": \"linear\"}}], \"label\": \"&#9654;\", \"method\": \"animate\"}, {\"args\": [[null], {\"frame\": {\"duration\": 0, \"redraw\": true}, \"fromcurrent\": true, \"mode\": \"immediate\", \"transition\": {\"duration\": 0, \"easing\": \"linear\"}}], \"label\": \"&#9724;\", \"method\": \"animate\"}], \"direction\": \"left\", \"pad\": {\"r\": 10, \"t\": 70}, \"showactive\": false, \"type\": \"buttons\", \"x\": 0.1, \"xanchor\": \"right\", \"y\": 0, \"yanchor\": \"top\"}]},\n",
       "                        {\"responsive\": true}\n",
       "                    ).then(function(){\n",
       "                            Plotly.addFrames('34e98241-d03f-4620-94ab-018af6b2c9fd', [{\"data\": [{\"customdata\": [[\"Big Creek\", 0.0, 706.0], [\"Brandywine\", 0.0, 1357.0], [\"Brookwood\", 0.0, 1078.0], [\"Chattahoochee\", 0.0, 850.0], [\"Chestatee\", 0.0, 1381.0], [\"Coal Mountain\", 0.0, 821.0], [\"Cumming\", 0.0, 1055.0], [\"Daves Creek\", 0.0, 1285.0], [\"Haw Creek\", 0.0, 1131.0], [\"Johns Creek\", 0.0, 1103.0], [\"Kelly Mill\", 0.0, 1257.0], [\"Mashburn\", 0.0, 781.0], [\"Matt\", 0.0, 1125.0], [\"Midway\", 0.0, 961.0], [\"Poole's Mill\", 0.0, 807.0], [\"Sawnee\", 0.0, 1459.0], [\"Settles Bridge\", 0.0, 1099.0], [\"Sharon\", 0.0, 999.0], [\"Shiloh Point\", 0.0, 1452.0], [\"Silver City\", 0.0, 1152.0], [\"Vickery Creek\", 0.0, 1394.0], [\"Whitlow\", 0.0, 1464.0]], \"hovertemplate\": \"<b>%{hovertext}</b><br><br>Category=Elementary<br>date=8/13/20<br>total=%{customdata[1]}<br>latitude=%{lat}<br>longitude=%{lon}<br>school=%{customdata[0]}<br>Total Staff & Student=%{customdata[2]}<extra></extra>\", \"hovertext\": [\"Big Creek\", \"Brandywine\", \"Brookwood\", \"Chattahoochee\", \"Chestatee\", \"Coal Mountain\", \"Cumming\", \"Daves Creek\", \"Haw Creek\", \"Johns Creek\", \"Kelly Mill\", \"Mashburn\", \"Matt\", \"Midway\", \"Poole's Mill\", \"Sawnee\", \"Settles Bridge\", \"Sharon\", \"Shiloh Point\", \"Silver City\", \"Vickery Creek\", \"Whitlow\"], \"ids\": [\"Big Creek\", \"Brandywine\", \"Brookwood\", \"Chattahoochee\", \"Chestatee\", \"Coal Mountain\", \"Cumming\", \"Daves Creek\", \"Haw Creek\", \"Johns Creek\", \"Kelly Mill\", \"Mashburn\", \"Matt\", \"Midway\", \"Poole's Mill\", \"Sawnee\", \"Settles Bridge\", \"Sharon\", \"Shiloh Point\", \"Silver City\", \"Vickery Creek\", \"Whitlow\"], \"lat\": [34.113906, 34.1335, 34.101762, 34.239073, 34.297109000000006, 34.274361999999996, 34.22145, 34.137060999999996, 34.164334999999994, 34.065647999999996, 34.208588, 34.168931, 34.290784, 34.159086, 34.279810999999995, 34.242191999999996, 34.124171999999994, 34.104277, 34.144505, 34.328631, 34.176995, 34.187329], \"legendgroup\": \"Elementary\", \"lon\": [-84.177824, -84.247383, -84.18468, -84.08623, -83.996014, -84.106103, -84.135623, -84.14256400000001, -84.09925799999999, -84.12756, -84.16658699999999, -84.105777, -84.204504, -84.234437, -84.233814, -84.17603199999999, -84.106235, -84.13597299999999, -84.176538, -84.102699, -84.224946, -84.162151], \"marker\": {\"color\": \"rgb(95, 70, 144)\", \"size\": [0.0, 0.0, 0.0, 0.0, 0.0, 0.0, 0.0, 0.0, 0.0, 0.0, 0.0, 0.0, 0.0, 0.0, 0.0, 0.0, 0.0, 0.0, 0.0, 0.0, 0.0, 0.0], \"sizemode\": \"area\", \"sizeref\": 0.01}, \"mode\": \"markers\", \"name\": \"Elementary\", \"showlegend\": true, \"subplot\": \"mapbox\", \"type\": \"scattermapbox\"}, {\"customdata\": [[\"DeSana\", 0.0, 1162.0], [\"Lakeside\", 0.0, 1335.0], [\"Liberty\", 0.0, 1340.0], [\"Little Mill\", 0.0, 1032.0], [\"North Forsyth\", 0.0, 1359.0], [\"Otwell\", 0.0, 1649.0], [\"Piney Grove\", 0.0, 1111.0], [\"Riverwatch\", 0.0, 1663.0], [\"South Forsyth\", 0.0, 1497.0], [\"Vickery Creek\", 0.0, 1306.0]], \"hovertemplate\": \"<b>%{hovertext}</b><br><br>Category=Middle<br>date=8/13/20<br>total=%{customdata[1]}<br>latitude=%{lat}<br>longitude=%{lon}<br>school=%{customdata[0]}<br>Total Staff & Student=%{customdata[2]}<extra></extra>\", \"hovertext\": [\"DeSana\", \"Lakeside\", \"Liberty\", \"Little Mill\", \"North Forsyth\", \"Otwell\", \"Piney Grove\", \"Riverwatch\", \"South Forsyth\", \"Vickery Creek\"], \"ids\": [\"DeSana\", \"Lakeside\", \"Liberty\", \"Little Mill\", \"North Forsyth\", \"Otwell\", \"Piney Grove\", \"Riverwatch\", \"South Forsyth\", \"Vickery Creek\"], \"lat\": [34.130072, 34.165711, 34.288540000000005, 34.249992, 34.278569, 34.219535, 34.14509, 34.125074, 34.116796, 34.179534999999994], \"legendgroup\": \"Middle\", \"lon\": [-84.23837900000001, -84.097944, -84.20521600000001, -84.020986, -84.103623, -84.13730600000001, -84.178782, -84.10967600000001, -84.152999, -84.22327299999999], \"marker\": {\"color\": \"rgb(29, 105, 150)\", \"size\": [0.0, 0.0, 0.0, 0.0, 0.0, 0.0, 0.0, 0.0, 0.0, 0.0], \"sizemode\": \"area\", \"sizeref\": 0.01}, \"mode\": \"markers\", \"name\": \"Middle\", \"showlegend\": true, \"subplot\": \"mapbox\", \"type\": \"scattermapbox\"}, {\"customdata\": [[\"Alliance Academy for Innovation\", 0.0, 1234.0], [\"Denmark\", 0.0, 2432.0], [\"Forsyth Central\", 0.0, 2754.0], [\"Lambert\", 1.0, 3150.0], [\"North Forsyth\", 0.0, 2785.0], [\"South Forsyth\", 0.0, 2437.0], [\"West Forsyth\", 0.0, 2637.0]], \"hovertemplate\": \"<b>%{hovertext}</b><br><br>Category=High<br>date=8/13/20<br>total=%{customdata[1]}<br>latitude=%{lat}<br>longitude=%{lon}<br>school=%{customdata[0]}<br>Total Staff & Student=%{customdata[2]}<extra></extra>\", \"hovertext\": [\"Alliance Academy for Innovation\", \"Denmark\", \"Forsyth Central\", \"Lambert\", \"North Forsyth\", \"South Forsyth\", \"West Forsyth\"], \"ids\": [\"Alliance Academy for Innovation\", \"Denmark\", \"Forsyth Central\", \"Lambert\", \"North Forsyth\", \"South Forsyth\", \"West Forsyth\"], \"lat\": [34.219237, 34.147999, 34.217102000000004, 34.106989, 34.27811, 34.148412, 34.211249], \"legendgroup\": \"High\", \"lon\": [-84.115669, -84.22931700000001, -84.141643, -84.13884499999999, -84.10639, -84.170303, -84.214213], \"marker\": {\"color\": \"rgb(56, 166, 165)\", \"size\": [0.0, 0.0, 0.0, 1.0, 0.0, 0.0, 0.0], \"sizemode\": \"area\", \"sizeref\": 0.01}, \"mode\": \"markers\", \"name\": \"High\", \"showlegend\": true, \"subplot\": \"mapbox\", \"type\": \"scattermapbox\"}], \"name\": \"8/13/20\"}, {\"data\": [{\"customdata\": [[\"Big Creek\", 0.0, 706.0], [\"Brandywine\", 0.0, 1357.0], [\"Brookwood\", 0.0, 1078.0], [\"Chattahoochee\", 0.0, 850.0], [\"Chestatee\", 0.0, 1381.0], [\"Coal Mountain\", 0.0, 821.0], [\"Cumming\", 0.0, 1055.0], [\"Daves Creek\", 0.0, 1285.0], [\"Haw Creek\", 0.0, 1131.0], [\"Johns Creek\", 0.0, 1103.0], [\"Kelly Mill\", 0.0, 1257.0], [\"Mashburn\", 0.0, 781.0], [\"Matt\", 0.0, 1125.0], [\"Midway\", 0.0, 961.0], [\"Poole's Mill\", 0.0, 807.0], [\"Sawnee\", 0.0, 1459.0], [\"Settles Bridge\", 0.0, 1099.0], [\"Sharon\", 0.0, 999.0], [\"Shiloh Point\", 0.0, 1452.0], [\"Silver City\", 0.0, 1152.0], [\"Vickery Creek\", 0.0, 1394.0], [\"Whitlow\", 0.0, 1464.0]], \"hovertemplate\": \"<b>%{hovertext}</b><br><br>Category=Elementary<br>date=8/14/20<br>total=%{customdata[1]}<br>latitude=%{lat}<br>longitude=%{lon}<br>school=%{customdata[0]}<br>Total Staff & Student=%{customdata[2]}<extra></extra>\", \"hovertext\": [\"Big Creek\", \"Brandywine\", \"Brookwood\", \"Chattahoochee\", \"Chestatee\", \"Coal Mountain\", \"Cumming\", \"Daves Creek\", \"Haw Creek\", \"Johns Creek\", \"Kelly Mill\", \"Mashburn\", \"Matt\", \"Midway\", \"Poole's Mill\", \"Sawnee\", \"Settles Bridge\", \"Sharon\", \"Shiloh Point\", \"Silver City\", \"Vickery Creek\", \"Whitlow\"], \"ids\": [\"Big Creek\", \"Brandywine\", \"Brookwood\", \"Chattahoochee\", \"Chestatee\", \"Coal Mountain\", \"Cumming\", \"Daves Creek\", \"Haw Creek\", \"Johns Creek\", \"Kelly Mill\", \"Mashburn\", \"Matt\", \"Midway\", \"Poole's Mill\", \"Sawnee\", \"Settles Bridge\", \"Sharon\", \"Shiloh Point\", \"Silver City\", \"Vickery Creek\", \"Whitlow\"], \"lat\": [34.113906, 34.1335, 34.101762, 34.239073, 34.297109000000006, 34.274361999999996, 34.22145, 34.137060999999996, 34.164334999999994, 34.065647999999996, 34.208588, 34.168931, 34.290784, 34.159086, 34.279810999999995, 34.242191999999996, 34.124171999999994, 34.104277, 34.144505, 34.328631, 34.176995, 34.187329], \"legendgroup\": \"Elementary\", \"lon\": [-84.177824, -84.247383, -84.18468, -84.08623, -83.996014, -84.106103, -84.135623, -84.14256400000001, -84.09925799999999, -84.12756, -84.16658699999999, -84.105777, -84.204504, -84.234437, -84.233814, -84.17603199999999, -84.106235, -84.13597299999999, -84.176538, -84.102699, -84.224946, -84.162151], \"marker\": {\"color\": \"rgb(95, 70, 144)\", \"size\": [0.0, 0.0, 0.0, 0.0, 0.0, 0.0, 0.0, 0.0, 0.0, 0.0, 0.0, 0.0, 0.0, 0.0, 0.0, 0.0, 0.0, 0.0, 0.0, 0.0, 0.0, 0.0], \"sizemode\": \"area\", \"sizeref\": 0.01}, \"mode\": \"markers\", \"name\": \"Elementary\", \"showlegend\": true, \"subplot\": \"mapbox\", \"type\": \"scattermapbox\"}, {\"customdata\": [[\"DeSana\", 0.0, 1162.0], [\"Lakeside\", 0.0, 1335.0], [\"Liberty\", 0.0, 1340.0], [\"Little Mill\", 0.0, 1032.0], [\"North Forsyth\", 0.0, 1359.0], [\"Otwell\", 0.0, 1649.0], [\"Piney Grove\", 0.0, 1111.0], [\"Riverwatch\", 0.0, 1663.0], [\"South Forsyth\", 0.0, 1497.0], [\"Vickery Creek\", 0.0, 1306.0]], \"hovertemplate\": \"<b>%{hovertext}</b><br><br>Category=Middle<br>date=8/14/20<br>total=%{customdata[1]}<br>latitude=%{lat}<br>longitude=%{lon}<br>school=%{customdata[0]}<br>Total Staff & Student=%{customdata[2]}<extra></extra>\", \"hovertext\": [\"DeSana\", \"Lakeside\", \"Liberty\", \"Little Mill\", \"North Forsyth\", \"Otwell\", \"Piney Grove\", \"Riverwatch\", \"South Forsyth\", \"Vickery Creek\"], \"ids\": [\"DeSana\", \"Lakeside\", \"Liberty\", \"Little Mill\", \"North Forsyth\", \"Otwell\", \"Piney Grove\", \"Riverwatch\", \"South Forsyth\", \"Vickery Creek\"], \"lat\": [34.130072, 34.165711, 34.288540000000005, 34.249992, 34.278569, 34.219535, 34.14509, 34.125074, 34.116796, 34.179534999999994], \"legendgroup\": \"Middle\", \"lon\": [-84.23837900000001, -84.097944, -84.20521600000001, -84.020986, -84.103623, -84.13730600000001, -84.178782, -84.10967600000001, -84.152999, -84.22327299999999], \"marker\": {\"color\": \"rgb(29, 105, 150)\", \"size\": [0.0, 0.0, 0.0, 0.0, 0.0, 0.0, 0.0, 0.0, 0.0, 0.0], \"sizemode\": \"area\", \"sizeref\": 0.01}, \"mode\": \"markers\", \"name\": \"Middle\", \"showlegend\": true, \"subplot\": \"mapbox\", \"type\": \"scattermapbox\"}, {\"customdata\": [[\"Alliance Academy for Innovation\", 0.0, 1234.0], [\"Denmark\", 1.0, 2432.0], [\"Forsyth Central\", 0.0, 2754.0], [\"Lambert\", 1.0, 3150.0], [\"North Forsyth\", 0.0, 2785.0], [\"South Forsyth\", 0.0, 2437.0], [\"West Forsyth\", 1.0, 2637.0]], \"hovertemplate\": \"<b>%{hovertext}</b><br><br>Category=High<br>date=8/14/20<br>total=%{customdata[1]}<br>latitude=%{lat}<br>longitude=%{lon}<br>school=%{customdata[0]}<br>Total Staff & Student=%{customdata[2]}<extra></extra>\", \"hovertext\": [\"Alliance Academy for Innovation\", \"Denmark\", \"Forsyth Central\", \"Lambert\", \"North Forsyth\", \"South Forsyth\", \"West Forsyth\"], \"ids\": [\"Alliance Academy for Innovation\", \"Denmark\", \"Forsyth Central\", \"Lambert\", \"North Forsyth\", \"South Forsyth\", \"West Forsyth\"], \"lat\": [34.219237, 34.147999, 34.217102000000004, 34.106989, 34.27811, 34.148412, 34.211249], \"legendgroup\": \"High\", \"lon\": [-84.115669, -84.22931700000001, -84.141643, -84.13884499999999, -84.10639, -84.170303, -84.214213], \"marker\": {\"color\": \"rgb(56, 166, 165)\", \"size\": [0.0, 1.0, 0.0, 1.0, 0.0, 0.0, 1.0], \"sizemode\": \"area\", \"sizeref\": 0.01}, \"mode\": \"markers\", \"name\": \"High\", \"showlegend\": true, \"subplot\": \"mapbox\", \"type\": \"scattermapbox\"}], \"name\": \"8/14/20\"}, {\"data\": [{\"customdata\": [[\"Big Creek\", 0.0, 706.0], [\"Brandywine\", 0.0, 1357.0], [\"Brookwood\", 0.0, 1078.0], [\"Chattahoochee\", 0.0, 850.0], [\"Chestatee\", 0.0, 1381.0], [\"Coal Mountain\", 0.0, 821.0], [\"Cumming\", 0.0, 1055.0], [\"Daves Creek\", 0.0, 1285.0], [\"Haw Creek\", 0.0, 1131.0], [\"Johns Creek\", 0.0, 1103.0], [\"Kelly Mill\", 0.0, 1257.0], [\"Mashburn\", 0.0, 781.0], [\"Matt\", 0.0, 1125.0], [\"Midway\", 0.0, 961.0], [\"Poole's Mill\", 0.0, 807.0], [\"Sawnee\", 0.0, 1459.0], [\"Settles Bridge\", 0.0, 1099.0], [\"Sharon\", 0.0, 999.0], [\"Shiloh Point\", 0.0, 1452.0], [\"Silver City\", 0.0, 1152.0], [\"Vickery Creek\", 0.0, 1394.0], [\"Whitlow\", 0.0, 1464.0]], \"hovertemplate\": \"<b>%{hovertext}</b><br><br>Category=Elementary<br>date=8/17/20<br>total=%{customdata[1]}<br>latitude=%{lat}<br>longitude=%{lon}<br>school=%{customdata[0]}<br>Total Staff & Student=%{customdata[2]}<extra></extra>\", \"hovertext\": [\"Big Creek\", \"Brandywine\", \"Brookwood\", \"Chattahoochee\", \"Chestatee\", \"Coal Mountain\", \"Cumming\", \"Daves Creek\", \"Haw Creek\", \"Johns Creek\", \"Kelly Mill\", \"Mashburn\", \"Matt\", \"Midway\", \"Poole's Mill\", \"Sawnee\", \"Settles Bridge\", \"Sharon\", \"Shiloh Point\", \"Silver City\", \"Vickery Creek\", \"Whitlow\"], \"ids\": [\"Big Creek\", \"Brandywine\", \"Brookwood\", \"Chattahoochee\", \"Chestatee\", \"Coal Mountain\", \"Cumming\", \"Daves Creek\", \"Haw Creek\", \"Johns Creek\", \"Kelly Mill\", \"Mashburn\", \"Matt\", \"Midway\", \"Poole's Mill\", \"Sawnee\", \"Settles Bridge\", \"Sharon\", \"Shiloh Point\", \"Silver City\", \"Vickery Creek\", \"Whitlow\"], \"lat\": [34.113906, 34.1335, 34.101762, 34.239073, 34.297109000000006, 34.274361999999996, 34.22145, 34.137060999999996, 34.164334999999994, 34.065647999999996, 34.208588, 34.168931, 34.290784, 34.159086, 34.279810999999995, 34.242191999999996, 34.124171999999994, 34.104277, 34.144505, 34.328631, 34.176995, 34.187329], \"legendgroup\": \"Elementary\", \"lon\": [-84.177824, -84.247383, -84.18468, -84.08623, -83.996014, -84.106103, -84.135623, -84.14256400000001, -84.09925799999999, -84.12756, -84.16658699999999, -84.105777, -84.204504, -84.234437, -84.233814, -84.17603199999999, -84.106235, -84.13597299999999, -84.176538, -84.102699, -84.224946, -84.162151], \"marker\": {\"color\": \"rgb(95, 70, 144)\", \"size\": [0.0, 0.0, 0.0, 0.0, 0.0, 0.0, 0.0, 0.0, 0.0, 0.0, 0.0, 0.0, 0.0, 0.0, 0.0, 0.0, 0.0, 0.0, 0.0, 0.0, 0.0, 0.0], \"sizemode\": \"area\", \"sizeref\": 0.01}, \"mode\": \"markers\", \"name\": \"Elementary\", \"showlegend\": true, \"subplot\": \"mapbox\", \"type\": \"scattermapbox\"}, {\"customdata\": [[\"DeSana\", 0.0, 1162.0], [\"Lakeside\", 1.0, 1335.0], [\"Liberty\", 0.0, 1340.0], [\"Little Mill\", 1.0, 1032.0], [\"North Forsyth\", 0.0, 1359.0], [\"Otwell\", 0.0, 1649.0], [\"Piney Grove\", 0.0, 1111.0], [\"Riverwatch\", 0.0, 1663.0], [\"South Forsyth\", 0.0, 1497.0], [\"Vickery Creek\", 1.0, 1306.0]], \"hovertemplate\": \"<b>%{hovertext}</b><br><br>Category=Middle<br>date=8/17/20<br>total=%{customdata[1]}<br>latitude=%{lat}<br>longitude=%{lon}<br>school=%{customdata[0]}<br>Total Staff & Student=%{customdata[2]}<extra></extra>\", \"hovertext\": [\"DeSana\", \"Lakeside\", \"Liberty\", \"Little Mill\", \"North Forsyth\", \"Otwell\", \"Piney Grove\", \"Riverwatch\", \"South Forsyth\", \"Vickery Creek\"], \"ids\": [\"DeSana\", \"Lakeside\", \"Liberty\", \"Little Mill\", \"North Forsyth\", \"Otwell\", \"Piney Grove\", \"Riverwatch\", \"South Forsyth\", \"Vickery Creek\"], \"lat\": [34.130072, 34.165711, 34.288540000000005, 34.249992, 34.278569, 34.219535, 34.14509, 34.125074, 34.116796, 34.179534999999994], \"legendgroup\": \"Middle\", \"lon\": [-84.23837900000001, -84.097944, -84.20521600000001, -84.020986, -84.103623, -84.13730600000001, -84.178782, -84.10967600000001, -84.152999, -84.22327299999999], \"marker\": {\"color\": \"rgb(29, 105, 150)\", \"size\": [0.0, 1.0, 0.0, 1.0, 0.0, 0.0, 0.0, 0.0, 0.0, 1.0], \"sizemode\": \"area\", \"sizeref\": 0.01}, \"mode\": \"markers\", \"name\": \"Middle\", \"showlegend\": true, \"subplot\": \"mapbox\", \"type\": \"scattermapbox\"}, {\"customdata\": [[\"Alliance Academy for Innovation\", 0.0, 1234.0], [\"Denmark\", 1.0, 2432.0], [\"Forsyth Central\", 2.0, 2754.0], [\"Lambert\", 2.0, 3150.0], [\"North Forsyth\", 0.0, 2785.0], [\"South Forsyth\", 0.0, 2437.0], [\"West Forsyth\", 2.0, 2637.0]], \"hovertemplate\": \"<b>%{hovertext}</b><br><br>Category=High<br>date=8/17/20<br>total=%{customdata[1]}<br>latitude=%{lat}<br>longitude=%{lon}<br>school=%{customdata[0]}<br>Total Staff & Student=%{customdata[2]}<extra></extra>\", \"hovertext\": [\"Alliance Academy for Innovation\", \"Denmark\", \"Forsyth Central\", \"Lambert\", \"North Forsyth\", \"South Forsyth\", \"West Forsyth\"], \"ids\": [\"Alliance Academy for Innovation\", \"Denmark\", \"Forsyth Central\", \"Lambert\", \"North Forsyth\", \"South Forsyth\", \"West Forsyth\"], \"lat\": [34.219237, 34.147999, 34.217102000000004, 34.106989, 34.27811, 34.148412, 34.211249], \"legendgroup\": \"High\", \"lon\": [-84.115669, -84.22931700000001, -84.141643, -84.13884499999999, -84.10639, -84.170303, -84.214213], \"marker\": {\"color\": \"rgb(56, 166, 165)\", \"size\": [0.0, 1.0, 2.0, 2.0, 0.0, 0.0, 2.0], \"sizemode\": \"area\", \"sizeref\": 0.01}, \"mode\": \"markers\", \"name\": \"High\", \"showlegend\": true, \"subplot\": \"mapbox\", \"type\": \"scattermapbox\"}], \"name\": \"8/17/20\"}, {\"data\": [{\"customdata\": [[\"Big Creek\", 0.0, 706.0], [\"Brandywine\", 0.0, 1357.0], [\"Brookwood\", 0.0, 1078.0], [\"Chattahoochee\", 2.0, 850.0], [\"Chestatee\", 0.0, 1381.0], [\"Coal Mountain\", 0.0, 821.0], [\"Cumming\", 0.0, 1055.0], [\"Daves Creek\", 0.0, 1285.0], [\"Haw Creek\", 0.0, 1131.0], [\"Johns Creek\", 0.0, 1103.0], [\"Kelly Mill\", 0.0, 1257.0], [\"Mashburn\", 0.0, 781.0], [\"Matt\", 0.0, 1125.0], [\"Midway\", 0.0, 961.0], [\"Poole's Mill\", 0.0, 807.0], [\"Sawnee\", 0.0, 1459.0], [\"Settles Bridge\", 0.0, 1099.0], [\"Sharon\", 0.0, 999.0], [\"Shiloh Point\", 0.0, 1452.0], [\"Silver City\", 0.0, 1152.0], [\"Vickery Creek\", 0.0, 1394.0], [\"Whitlow\", 0.0, 1464.0]], \"hovertemplate\": \"<b>%{hovertext}</b><br><br>Category=Elementary<br>date=8/18/20<br>total=%{customdata[1]}<br>latitude=%{lat}<br>longitude=%{lon}<br>school=%{customdata[0]}<br>Total Staff & Student=%{customdata[2]}<extra></extra>\", \"hovertext\": [\"Big Creek\", \"Brandywine\", \"Brookwood\", \"Chattahoochee\", \"Chestatee\", \"Coal Mountain\", \"Cumming\", \"Daves Creek\", \"Haw Creek\", \"Johns Creek\", \"Kelly Mill\", \"Mashburn\", \"Matt\", \"Midway\", \"Poole's Mill\", \"Sawnee\", \"Settles Bridge\", \"Sharon\", \"Shiloh Point\", \"Silver City\", \"Vickery Creek\", \"Whitlow\"], \"ids\": [\"Big Creek\", \"Brandywine\", \"Brookwood\", \"Chattahoochee\", \"Chestatee\", \"Coal Mountain\", \"Cumming\", \"Daves Creek\", \"Haw Creek\", \"Johns Creek\", \"Kelly Mill\", \"Mashburn\", \"Matt\", \"Midway\", \"Poole's Mill\", \"Sawnee\", \"Settles Bridge\", \"Sharon\", \"Shiloh Point\", \"Silver City\", \"Vickery Creek\", \"Whitlow\"], \"lat\": [34.113906, 34.1335, 34.101762, 34.239073, 34.297109000000006, 34.274361999999996, 34.22145, 34.137060999999996, 34.164334999999994, 34.065647999999996, 34.208588, 34.168931, 34.290784, 34.159086, 34.279810999999995, 34.242191999999996, 34.124171999999994, 34.104277, 34.144505, 34.328631, 34.176995, 34.187329], \"legendgroup\": \"Elementary\", \"lon\": [-84.177824, -84.247383, -84.18468, -84.08623, -83.996014, -84.106103, -84.135623, -84.14256400000001, -84.09925799999999, -84.12756, -84.16658699999999, -84.105777, -84.204504, -84.234437, -84.233814, -84.17603199999999, -84.106235, -84.13597299999999, -84.176538, -84.102699, -84.224946, -84.162151], \"marker\": {\"color\": \"rgb(95, 70, 144)\", \"size\": [0.0, 0.0, 0.0, 2.0, 0.0, 0.0, 0.0, 0.0, 0.0, 0.0, 0.0, 0.0, 0.0, 0.0, 0.0, 0.0, 0.0, 0.0, 0.0, 0.0, 0.0, 0.0], \"sizemode\": \"area\", \"sizeref\": 0.01}, \"mode\": \"markers\", \"name\": \"Elementary\", \"showlegend\": true, \"subplot\": \"mapbox\", \"type\": \"scattermapbox\"}, {\"customdata\": [[\"DeSana\", 0.0, 1162.0], [\"Lakeside\", 1.0, 1335.0], [\"Liberty\", 0.0, 1340.0], [\"Little Mill\", 1.0, 1032.0], [\"North Forsyth\", 0.0, 1359.0], [\"Otwell\", 0.0, 1649.0], [\"Piney Grove\", 0.0, 1111.0], [\"Riverwatch\", 0.0, 1663.0], [\"South Forsyth\", 0.0, 1497.0], [\"Vickery Creek\", 1.0, 1306.0]], \"hovertemplate\": \"<b>%{hovertext}</b><br><br>Category=Middle<br>date=8/18/20<br>total=%{customdata[1]}<br>latitude=%{lat}<br>longitude=%{lon}<br>school=%{customdata[0]}<br>Total Staff & Student=%{customdata[2]}<extra></extra>\", \"hovertext\": [\"DeSana\", \"Lakeside\", \"Liberty\", \"Little Mill\", \"North Forsyth\", \"Otwell\", \"Piney Grove\", \"Riverwatch\", \"South Forsyth\", \"Vickery Creek\"], \"ids\": [\"DeSana\", \"Lakeside\", \"Liberty\", \"Little Mill\", \"North Forsyth\", \"Otwell\", \"Piney Grove\", \"Riverwatch\", \"South Forsyth\", \"Vickery Creek\"], \"lat\": [34.130072, 34.165711, 34.288540000000005, 34.249992, 34.278569, 34.219535, 34.14509, 34.125074, 34.116796, 34.179534999999994], \"legendgroup\": \"Middle\", \"lon\": [-84.23837900000001, -84.097944, -84.20521600000001, -84.020986, -84.103623, -84.13730600000001, -84.178782, -84.10967600000001, -84.152999, -84.22327299999999], \"marker\": {\"color\": \"rgb(29, 105, 150)\", \"size\": [0.0, 1.0, 0.0, 1.0, 0.0, 0.0, 0.0, 0.0, 0.0, 1.0], \"sizemode\": \"area\", \"sizeref\": 0.01}, \"mode\": \"markers\", \"name\": \"Middle\", \"showlegend\": true, \"subplot\": \"mapbox\", \"type\": \"scattermapbox\"}, {\"customdata\": [[\"Alliance Academy for Innovation\", 0.0, 1234.0], [\"Denmark\", 1.0, 2432.0], [\"Forsyth Central\", 3.0, 2754.0], [\"Lambert\", 2.0, 3150.0], [\"North Forsyth\", 0.0, 2785.0], [\"South Forsyth\", 0.0, 2437.0], [\"West Forsyth\", 3.0, 2637.0]], \"hovertemplate\": \"<b>%{hovertext}</b><br><br>Category=High<br>date=8/18/20<br>total=%{customdata[1]}<br>latitude=%{lat}<br>longitude=%{lon}<br>school=%{customdata[0]}<br>Total Staff & Student=%{customdata[2]}<extra></extra>\", \"hovertext\": [\"Alliance Academy for Innovation\", \"Denmark\", \"Forsyth Central\", \"Lambert\", \"North Forsyth\", \"South Forsyth\", \"West Forsyth\"], \"ids\": [\"Alliance Academy for Innovation\", \"Denmark\", \"Forsyth Central\", \"Lambert\", \"North Forsyth\", \"South Forsyth\", \"West Forsyth\"], \"lat\": [34.219237, 34.147999, 34.217102000000004, 34.106989, 34.27811, 34.148412, 34.211249], \"legendgroup\": \"High\", \"lon\": [-84.115669, -84.22931700000001, -84.141643, -84.13884499999999, -84.10639, -84.170303, -84.214213], \"marker\": {\"color\": \"rgb(56, 166, 165)\", \"size\": [0.0, 1.0, 3.0, 2.0, 0.0, 0.0, 3.0], \"sizemode\": \"area\", \"sizeref\": 0.01}, \"mode\": \"markers\", \"name\": \"High\", \"showlegend\": true, \"subplot\": \"mapbox\", \"type\": \"scattermapbox\"}], \"name\": \"8/18/20\"}, {\"data\": [{\"customdata\": [[\"Big Creek\", 0.0, 706.0], [\"Brandywine\", 0.0, 1357.0], [\"Brookwood\", 0.0, 1078.0], [\"Chattahoochee\", 2.0, 850.0], [\"Chestatee\", 1.0, 1381.0], [\"Coal Mountain\", 2.0, 821.0], [\"Cumming\", 0.0, 1055.0], [\"Daves Creek\", 0.0, 1285.0], [\"Haw Creek\", 0.0, 1131.0], [\"Johns Creek\", 0.0, 1103.0], [\"Kelly Mill\", 0.0, 1257.0], [\"Mashburn\", 0.0, 781.0], [\"Matt\", 0.0, 1125.0], [\"Midway\", 0.0, 961.0], [\"Poole's Mill\", 0.0, 807.0], [\"Sawnee\", 0.0, 1459.0], [\"Settles Bridge\", 0.0, 1099.0], [\"Sharon\", 0.0, 999.0], [\"Shiloh Point\", 0.0, 1452.0], [\"Silver City\", 0.0, 1152.0], [\"Vickery Creek\", 0.0, 1394.0], [\"Whitlow\", 0.0, 1464.0]], \"hovertemplate\": \"<b>%{hovertext}</b><br><br>Category=Elementary<br>date=8/19/20<br>total=%{customdata[1]}<br>latitude=%{lat}<br>longitude=%{lon}<br>school=%{customdata[0]}<br>Total Staff & Student=%{customdata[2]}<extra></extra>\", \"hovertext\": [\"Big Creek\", \"Brandywine\", \"Brookwood\", \"Chattahoochee\", \"Chestatee\", \"Coal Mountain\", \"Cumming\", \"Daves Creek\", \"Haw Creek\", \"Johns Creek\", \"Kelly Mill\", \"Mashburn\", \"Matt\", \"Midway\", \"Poole's Mill\", \"Sawnee\", \"Settles Bridge\", \"Sharon\", \"Shiloh Point\", \"Silver City\", \"Vickery Creek\", \"Whitlow\"], \"ids\": [\"Big Creek\", \"Brandywine\", \"Brookwood\", \"Chattahoochee\", \"Chestatee\", \"Coal Mountain\", \"Cumming\", \"Daves Creek\", \"Haw Creek\", \"Johns Creek\", \"Kelly Mill\", \"Mashburn\", \"Matt\", \"Midway\", \"Poole's Mill\", \"Sawnee\", \"Settles Bridge\", \"Sharon\", \"Shiloh Point\", \"Silver City\", \"Vickery Creek\", \"Whitlow\"], \"lat\": [34.113906, 34.1335, 34.101762, 34.239073, 34.297109000000006, 34.274361999999996, 34.22145, 34.137060999999996, 34.164334999999994, 34.065647999999996, 34.208588, 34.168931, 34.290784, 34.159086, 34.279810999999995, 34.242191999999996, 34.124171999999994, 34.104277, 34.144505, 34.328631, 34.176995, 34.187329], \"legendgroup\": \"Elementary\", \"lon\": [-84.177824, -84.247383, -84.18468, -84.08623, -83.996014, -84.106103, -84.135623, -84.14256400000001, -84.09925799999999, -84.12756, -84.16658699999999, -84.105777, -84.204504, -84.234437, -84.233814, -84.17603199999999, -84.106235, -84.13597299999999, -84.176538, -84.102699, -84.224946, -84.162151], \"marker\": {\"color\": \"rgb(95, 70, 144)\", \"size\": [0.0, 0.0, 0.0, 2.0, 1.0, 2.0, 0.0, 0.0, 0.0, 0.0, 0.0, 0.0, 0.0, 0.0, 0.0, 0.0, 0.0, 0.0, 0.0, 0.0, 0.0, 0.0], \"sizemode\": \"area\", \"sizeref\": 0.01}, \"mode\": \"markers\", \"name\": \"Elementary\", \"showlegend\": true, \"subplot\": \"mapbox\", \"type\": \"scattermapbox\"}, {\"customdata\": [[\"DeSana\", 0.0, 1162.0], [\"Lakeside\", 1.0, 1335.0], [\"Liberty\", 0.0, 1340.0], [\"Little Mill\", 1.0, 1032.0], [\"North Forsyth\", 0.0, 1359.0], [\"Otwell\", 0.0, 1649.0], [\"Piney Grove\", 0.0, 1111.0], [\"Riverwatch\", 0.0, 1663.0], [\"South Forsyth\", 0.0, 1497.0], [\"Vickery Creek\", 1.0, 1306.0]], \"hovertemplate\": \"<b>%{hovertext}</b><br><br>Category=Middle<br>date=8/19/20<br>total=%{customdata[1]}<br>latitude=%{lat}<br>longitude=%{lon}<br>school=%{customdata[0]}<br>Total Staff & Student=%{customdata[2]}<extra></extra>\", \"hovertext\": [\"DeSana\", \"Lakeside\", \"Liberty\", \"Little Mill\", \"North Forsyth\", \"Otwell\", \"Piney Grove\", \"Riverwatch\", \"South Forsyth\", \"Vickery Creek\"], \"ids\": [\"DeSana\", \"Lakeside\", \"Liberty\", \"Little Mill\", \"North Forsyth\", \"Otwell\", \"Piney Grove\", \"Riverwatch\", \"South Forsyth\", \"Vickery Creek\"], \"lat\": [34.130072, 34.165711, 34.288540000000005, 34.249992, 34.278569, 34.219535, 34.14509, 34.125074, 34.116796, 34.179534999999994], \"legendgroup\": \"Middle\", \"lon\": [-84.23837900000001, -84.097944, -84.20521600000001, -84.020986, -84.103623, -84.13730600000001, -84.178782, -84.10967600000001, -84.152999, -84.22327299999999], \"marker\": {\"color\": \"rgb(29, 105, 150)\", \"size\": [0.0, 1.0, 0.0, 1.0, 0.0, 0.0, 0.0, 0.0, 0.0, 1.0], \"sizemode\": \"area\", \"sizeref\": 0.01}, \"mode\": \"markers\", \"name\": \"Middle\", \"showlegend\": true, \"subplot\": \"mapbox\", \"type\": \"scattermapbox\"}, {\"customdata\": [[\"Alliance Academy for Innovation\", 0.0, 1234.0], [\"Denmark\", 1.0, 2432.0], [\"Forsyth Central\", 3.0, 2754.0], [\"Lambert\", 3.0, 3150.0], [\"North Forsyth\", 2.0, 2785.0], [\"South Forsyth\", 0.0, 2437.0], [\"West Forsyth\", 3.0, 2637.0]], \"hovertemplate\": \"<b>%{hovertext}</b><br><br>Category=High<br>date=8/19/20<br>total=%{customdata[1]}<br>latitude=%{lat}<br>longitude=%{lon}<br>school=%{customdata[0]}<br>Total Staff & Student=%{customdata[2]}<extra></extra>\", \"hovertext\": [\"Alliance Academy for Innovation\", \"Denmark\", \"Forsyth Central\", \"Lambert\", \"North Forsyth\", \"South Forsyth\", \"West Forsyth\"], \"ids\": [\"Alliance Academy for Innovation\", \"Denmark\", \"Forsyth Central\", \"Lambert\", \"North Forsyth\", \"South Forsyth\", \"West Forsyth\"], \"lat\": [34.219237, 34.147999, 34.217102000000004, 34.106989, 34.27811, 34.148412, 34.211249], \"legendgroup\": \"High\", \"lon\": [-84.115669, -84.22931700000001, -84.141643, -84.13884499999999, -84.10639, -84.170303, -84.214213], \"marker\": {\"color\": \"rgb(56, 166, 165)\", \"size\": [0.0, 1.0, 3.0, 3.0, 2.0, 0.0, 3.0], \"sizemode\": \"area\", \"sizeref\": 0.01}, \"mode\": \"markers\", \"name\": \"High\", \"showlegend\": true, \"subplot\": \"mapbox\", \"type\": \"scattermapbox\"}], \"name\": \"8/19/20\"}, {\"data\": [{\"customdata\": [[\"Big Creek\", 0.0, 706.0], [\"Brandywine\", 0.0, 1357.0], [\"Brookwood\", 0.0, 1078.0], [\"Chattahoochee\", 2.0, 850.0], [\"Chestatee\", 1.0, 1381.0], [\"Coal Mountain\", 2.0, 821.0], [\"Cumming\", 0.0, 1055.0], [\"Daves Creek\", 0.0, 1285.0], [\"Haw Creek\", 0.0, 1131.0], [\"Johns Creek\", 0.0, 1103.0], [\"Kelly Mill\", 0.0, 1257.0], [\"Mashburn\", 0.0, 781.0], [\"Matt\", 0.0, 1125.0], [\"Midway\", 0.0, 961.0], [\"Poole's Mill\", 1.0, 807.0], [\"Sawnee\", 0.0, 1459.0], [\"Settles Bridge\", 0.0, 1099.0], [\"Sharon\", 0.0, 999.0], [\"Shiloh Point\", 0.0, 1452.0], [\"Silver City\", 0.0, 1152.0], [\"Vickery Creek\", 0.0, 1394.0], [\"Whitlow\", 0.0, 1464.0]], \"hovertemplate\": \"<b>%{hovertext}</b><br><br>Category=Elementary<br>date=8/20/20<br>total=%{customdata[1]}<br>latitude=%{lat}<br>longitude=%{lon}<br>school=%{customdata[0]}<br>Total Staff & Student=%{customdata[2]}<extra></extra>\", \"hovertext\": [\"Big Creek\", \"Brandywine\", \"Brookwood\", \"Chattahoochee\", \"Chestatee\", \"Coal Mountain\", \"Cumming\", \"Daves Creek\", \"Haw Creek\", \"Johns Creek\", \"Kelly Mill\", \"Mashburn\", \"Matt\", \"Midway\", \"Poole's Mill\", \"Sawnee\", \"Settles Bridge\", \"Sharon\", \"Shiloh Point\", \"Silver City\", \"Vickery Creek\", \"Whitlow\"], \"ids\": [\"Big Creek\", \"Brandywine\", \"Brookwood\", \"Chattahoochee\", \"Chestatee\", \"Coal Mountain\", \"Cumming\", \"Daves Creek\", \"Haw Creek\", \"Johns Creek\", \"Kelly Mill\", \"Mashburn\", \"Matt\", \"Midway\", \"Poole's Mill\", \"Sawnee\", \"Settles Bridge\", \"Sharon\", \"Shiloh Point\", \"Silver City\", \"Vickery Creek\", \"Whitlow\"], \"lat\": [34.113906, 34.1335, 34.101762, 34.239073, 34.297109000000006, 34.274361999999996, 34.22145, 34.137060999999996, 34.164334999999994, 34.065647999999996, 34.208588, 34.168931, 34.290784, 34.159086, 34.279810999999995, 34.242191999999996, 34.124171999999994, 34.104277, 34.144505, 34.328631, 34.176995, 34.187329], \"legendgroup\": \"Elementary\", \"lon\": [-84.177824, -84.247383, -84.18468, -84.08623, -83.996014, -84.106103, -84.135623, -84.14256400000001, -84.09925799999999, -84.12756, -84.16658699999999, -84.105777, -84.204504, -84.234437, -84.233814, -84.17603199999999, -84.106235, -84.13597299999999, -84.176538, -84.102699, -84.224946, -84.162151], \"marker\": {\"color\": \"rgb(95, 70, 144)\", \"size\": [0.0, 0.0, 0.0, 2.0, 1.0, 2.0, 0.0, 0.0, 0.0, 0.0, 0.0, 0.0, 0.0, 0.0, 1.0, 0.0, 0.0, 0.0, 0.0, 0.0, 0.0, 0.0], \"sizemode\": \"area\", \"sizeref\": 0.01}, \"mode\": \"markers\", \"name\": \"Elementary\", \"showlegend\": true, \"subplot\": \"mapbox\", \"type\": \"scattermapbox\"}, {\"customdata\": [[\"DeSana\", 0.0, 1162.0], [\"Lakeside\", 2.0, 1335.0], [\"Liberty\", 0.0, 1340.0], [\"Little Mill\", 2.0, 1032.0], [\"North Forsyth\", 1.0, 1359.0], [\"Otwell\", 0.0, 1649.0], [\"Piney Grove\", 0.0, 1111.0], [\"Riverwatch\", 0.0, 1663.0], [\"South Forsyth\", 0.0, 1497.0], [\"Vickery Creek\", 2.0, 1306.0]], \"hovertemplate\": \"<b>%{hovertext}</b><br><br>Category=Middle<br>date=8/20/20<br>total=%{customdata[1]}<br>latitude=%{lat}<br>longitude=%{lon}<br>school=%{customdata[0]}<br>Total Staff & Student=%{customdata[2]}<extra></extra>\", \"hovertext\": [\"DeSana\", \"Lakeside\", \"Liberty\", \"Little Mill\", \"North Forsyth\", \"Otwell\", \"Piney Grove\", \"Riverwatch\", \"South Forsyth\", \"Vickery Creek\"], \"ids\": [\"DeSana\", \"Lakeside\", \"Liberty\", \"Little Mill\", \"North Forsyth\", \"Otwell\", \"Piney Grove\", \"Riverwatch\", \"South Forsyth\", \"Vickery Creek\"], \"lat\": [34.130072, 34.165711, 34.288540000000005, 34.249992, 34.278569, 34.219535, 34.14509, 34.125074, 34.116796, 34.179534999999994], \"legendgroup\": \"Middle\", \"lon\": [-84.23837900000001, -84.097944, -84.20521600000001, -84.020986, -84.103623, -84.13730600000001, -84.178782, -84.10967600000001, -84.152999, -84.22327299999999], \"marker\": {\"color\": \"rgb(29, 105, 150)\", \"size\": [0.0, 2.0, 0.0, 2.0, 1.0, 0.0, 0.0, 0.0, 0.0, 2.0], \"sizemode\": \"area\", \"sizeref\": 0.01}, \"mode\": \"markers\", \"name\": \"Middle\", \"showlegend\": true, \"subplot\": \"mapbox\", \"type\": \"scattermapbox\"}, {\"customdata\": [[\"Alliance Academy for Innovation\", 0.0, 1234.0], [\"Denmark\", 1.0, 2432.0], [\"Forsyth Central\", 3.0, 2754.0], [\"Lambert\", 3.0, 3150.0], [\"North Forsyth\", 2.0, 2785.0], [\"South Forsyth\", 0.0, 2437.0], [\"West Forsyth\", 4.0, 2637.0]], \"hovertemplate\": \"<b>%{hovertext}</b><br><br>Category=High<br>date=8/20/20<br>total=%{customdata[1]}<br>latitude=%{lat}<br>longitude=%{lon}<br>school=%{customdata[0]}<br>Total Staff & Student=%{customdata[2]}<extra></extra>\", \"hovertext\": [\"Alliance Academy for Innovation\", \"Denmark\", \"Forsyth Central\", \"Lambert\", \"North Forsyth\", \"South Forsyth\", \"West Forsyth\"], \"ids\": [\"Alliance Academy for Innovation\", \"Denmark\", \"Forsyth Central\", \"Lambert\", \"North Forsyth\", \"South Forsyth\", \"West Forsyth\"], \"lat\": [34.219237, 34.147999, 34.217102000000004, 34.106989, 34.27811, 34.148412, 34.211249], \"legendgroup\": \"High\", \"lon\": [-84.115669, -84.22931700000001, -84.141643, -84.13884499999999, -84.10639, -84.170303, -84.214213], \"marker\": {\"color\": \"rgb(56, 166, 165)\", \"size\": [0.0, 1.0, 3.0, 3.0, 2.0, 0.0, 4.0], \"sizemode\": \"area\", \"sizeref\": 0.01}, \"mode\": \"markers\", \"name\": \"High\", \"showlegend\": true, \"subplot\": \"mapbox\", \"type\": \"scattermapbox\"}], \"name\": \"8/20/20\"}, {\"data\": [{\"customdata\": [[\"Big Creek\", 0.0, 706.0], [\"Brandywine\", 0.0, 1357.0], [\"Brookwood\", 0.0, 1078.0], [\"Chattahoochee\", 2.0, 850.0], [\"Chestatee\", 1.0, 1381.0], [\"Coal Mountain\", 2.0, 821.0], [\"Cumming\", 0.0, 1055.0], [\"Daves Creek\", 0.0, 1285.0], [\"Haw Creek\", 0.0, 1131.0], [\"Johns Creek\", 0.0, 1103.0], [\"Kelly Mill\", 0.0, 1257.0], [\"Mashburn\", 0.0, 781.0], [\"Matt\", 0.0, 1125.0], [\"Midway\", 0.0, 961.0], [\"Poole's Mill\", 1.0, 807.0], [\"Sawnee\", 0.0, 1459.0], [\"Settles Bridge\", 0.0, 1099.0], [\"Sharon\", 0.0, 999.0], [\"Shiloh Point\", 1.0, 1452.0], [\"Silver City\", 0.0, 1152.0], [\"Vickery Creek\", 0.0, 1394.0], [\"Whitlow\", 0.0, 1464.0]], \"hovertemplate\": \"<b>%{hovertext}</b><br><br>Category=Elementary<br>date=8/21/20<br>total=%{customdata[1]}<br>latitude=%{lat}<br>longitude=%{lon}<br>school=%{customdata[0]}<br>Total Staff & Student=%{customdata[2]}<extra></extra>\", \"hovertext\": [\"Big Creek\", \"Brandywine\", \"Brookwood\", \"Chattahoochee\", \"Chestatee\", \"Coal Mountain\", \"Cumming\", \"Daves Creek\", \"Haw Creek\", \"Johns Creek\", \"Kelly Mill\", \"Mashburn\", \"Matt\", \"Midway\", \"Poole's Mill\", \"Sawnee\", \"Settles Bridge\", \"Sharon\", \"Shiloh Point\", \"Silver City\", \"Vickery Creek\", \"Whitlow\"], \"ids\": [\"Big Creek\", \"Brandywine\", \"Brookwood\", \"Chattahoochee\", \"Chestatee\", \"Coal Mountain\", \"Cumming\", \"Daves Creek\", \"Haw Creek\", \"Johns Creek\", \"Kelly Mill\", \"Mashburn\", \"Matt\", \"Midway\", \"Poole's Mill\", \"Sawnee\", \"Settles Bridge\", \"Sharon\", \"Shiloh Point\", \"Silver City\", \"Vickery Creek\", \"Whitlow\"], \"lat\": [34.113906, 34.1335, 34.101762, 34.239073, 34.297109000000006, 34.274361999999996, 34.22145, 34.137060999999996, 34.164334999999994, 34.065647999999996, 34.208588, 34.168931, 34.290784, 34.159086, 34.279810999999995, 34.242191999999996, 34.124171999999994, 34.104277, 34.144505, 34.328631, 34.176995, 34.187329], \"legendgroup\": \"Elementary\", \"lon\": [-84.177824, -84.247383, -84.18468, -84.08623, -83.996014, -84.106103, -84.135623, -84.14256400000001, -84.09925799999999, -84.12756, -84.16658699999999, -84.105777, -84.204504, -84.234437, -84.233814, -84.17603199999999, -84.106235, -84.13597299999999, -84.176538, -84.102699, -84.224946, -84.162151], \"marker\": {\"color\": \"rgb(95, 70, 144)\", \"size\": [0.0, 0.0, 0.0, 2.0, 1.0, 2.0, 0.0, 0.0, 0.0, 0.0, 0.0, 0.0, 0.0, 0.0, 1.0, 0.0, 0.0, 0.0, 1.0, 0.0, 0.0, 0.0], \"sizemode\": \"area\", \"sizeref\": 0.01}, \"mode\": \"markers\", \"name\": \"Elementary\", \"showlegend\": true, \"subplot\": \"mapbox\", \"type\": \"scattermapbox\"}, {\"customdata\": [[\"DeSana\", 0.0, 1162.0], [\"Lakeside\", 2.0, 1335.0], [\"Liberty\", 0.0, 1340.0], [\"Little Mill\", 2.0, 1032.0], [\"North Forsyth\", 2.0, 1359.0], [\"Otwell\", 0.0, 1649.0], [\"Piney Grove\", 0.0, 1111.0], [\"Riverwatch\", 0.0, 1663.0], [\"South Forsyth\", 0.0, 1497.0], [\"Vickery Creek\", 3.0, 1306.0]], \"hovertemplate\": \"<b>%{hovertext}</b><br><br>Category=Middle<br>date=8/21/20<br>total=%{customdata[1]}<br>latitude=%{lat}<br>longitude=%{lon}<br>school=%{customdata[0]}<br>Total Staff & Student=%{customdata[2]}<extra></extra>\", \"hovertext\": [\"DeSana\", \"Lakeside\", \"Liberty\", \"Little Mill\", \"North Forsyth\", \"Otwell\", \"Piney Grove\", \"Riverwatch\", \"South Forsyth\", \"Vickery Creek\"], \"ids\": [\"DeSana\", \"Lakeside\", \"Liberty\", \"Little Mill\", \"North Forsyth\", \"Otwell\", \"Piney Grove\", \"Riverwatch\", \"South Forsyth\", \"Vickery Creek\"], \"lat\": [34.130072, 34.165711, 34.288540000000005, 34.249992, 34.278569, 34.219535, 34.14509, 34.125074, 34.116796, 34.179534999999994], \"legendgroup\": \"Middle\", \"lon\": [-84.23837900000001, -84.097944, -84.20521600000001, -84.020986, -84.103623, -84.13730600000001, -84.178782, -84.10967600000001, -84.152999, -84.22327299999999], \"marker\": {\"color\": \"rgb(29, 105, 150)\", \"size\": [0.0, 2.0, 0.0, 2.0, 2.0, 0.0, 0.0, 0.0, 0.0, 3.0], \"sizemode\": \"area\", \"sizeref\": 0.01}, \"mode\": \"markers\", \"name\": \"Middle\", \"showlegend\": true, \"subplot\": \"mapbox\", \"type\": \"scattermapbox\"}, {\"customdata\": [[\"Alliance Academy for Innovation\", 0.0, 1234.0], [\"Denmark\", 2.0, 2432.0], [\"Forsyth Central\", 4.0, 2754.0], [\"Lambert\", 3.0, 3150.0], [\"North Forsyth\", 3.0, 2785.0], [\"South Forsyth\", 0.0, 2437.0], [\"West Forsyth\", 4.0, 2637.0]], \"hovertemplate\": \"<b>%{hovertext}</b><br><br>Category=High<br>date=8/21/20<br>total=%{customdata[1]}<br>latitude=%{lat}<br>longitude=%{lon}<br>school=%{customdata[0]}<br>Total Staff & Student=%{customdata[2]}<extra></extra>\", \"hovertext\": [\"Alliance Academy for Innovation\", \"Denmark\", \"Forsyth Central\", \"Lambert\", \"North Forsyth\", \"South Forsyth\", \"West Forsyth\"], \"ids\": [\"Alliance Academy for Innovation\", \"Denmark\", \"Forsyth Central\", \"Lambert\", \"North Forsyth\", \"South Forsyth\", \"West Forsyth\"], \"lat\": [34.219237, 34.147999, 34.217102000000004, 34.106989, 34.27811, 34.148412, 34.211249], \"legendgroup\": \"High\", \"lon\": [-84.115669, -84.22931700000001, -84.141643, -84.13884499999999, -84.10639, -84.170303, -84.214213], \"marker\": {\"color\": \"rgb(56, 166, 165)\", \"size\": [0.0, 2.0, 4.0, 3.0, 3.0, 0.0, 4.0], \"sizemode\": \"area\", \"sizeref\": 0.01}, \"mode\": \"markers\", \"name\": \"High\", \"showlegend\": true, \"subplot\": \"mapbox\", \"type\": \"scattermapbox\"}], \"name\": \"8/21/20\"}]);\n",
       "                        }).then(function(){\n",
       "                            \n",
       "var gd = document.getElementById('34e98241-d03f-4620-94ab-018af6b2c9fd');\n",
       "var x = new MutationObserver(function (mutations, observer) {{\n",
       "        var display = window.getComputedStyle(gd).display;\n",
       "        if (!display || display === 'none') {{\n",
       "            console.log([gd, 'removed!']);\n",
       "            Plotly.purge(gd);\n",
       "            observer.disconnect();\n",
       "        }}\n",
       "}});\n",
       "\n",
       "// Listen for the removal of the full notebook cells\n",
       "var notebookContainer = gd.closest('#notebook-container');\n",
       "if (notebookContainer) {{\n",
       "    x.observe(notebookContainer, {childList: true});\n",
       "}}\n",
       "\n",
       "// Listen for the clearing of the current output cell\n",
       "var outputEl = gd.closest('.output');\n",
       "if (outputEl) {{\n",
       "    x.observe(outputEl, {childList: true});\n",
       "}}\n",
       "\n",
       "                        })\n",
       "                };\n",
       "                });\n",
       "            </script>\n",
       "        </div>"
      ]
     },
     "metadata": {},
     "output_type": "display_data"
    }
   ],
   "source": [
    "fig = px.scatter_mapbox(df_geo, \n",
    "                        lat=\"latitude\", \n",
    "                        lon=\"longitude\",\n",
    "                        animation_frame = 'date', \n",
    "                        animation_group = 'school', \n",
    "                        color=\"Category\",\n",
    "                        size=\"total\",\n",
    "                        color_discrete_sequence=px.colors.qualitative.Prism,\n",
    "                        center={\"lat\":34.221749,\n",
    "                                \"lon\":-84.135526},\n",
    "                        zoom=10,\n",
    "                        height=700,\n",
    "                        hover_name='school', \n",
    "                        hover_data = ['school', 'total', 'Total Staff & Student'])\n",
    "fig.update_layout(mapbox_style=\"carto-positron\")\n",
    "fig.update_layout(margin={\"r\":0,\"t\":100,\"l\":0,\"b\":0},\n",
    "                  title=dict(\n",
    "                      text='Reported COVID-19 cases in Forsyth County Schools',\n",
    "                      font=dict(\n",
    "                          color='black',\n",
    "                          size=26),\n",
    "                          xanchor=\"center\",\n",
    "                          x=0.5))\n",
    "fig.layout.sliders[0]['active'] = len(fig.frames) - 1\n",
    "fig.update_traces(fig.frames[-1].data[-1])\n",
    "\n",
    "fig.show()"
   ]
  },
  {
   "cell_type": "code",
   "execution_count": null,
   "metadata": {},
   "outputs": [],
   "source": []
  }
 ],
 "metadata": {
  "kernelspec": {
   "display_name": "Python 3",
   "language": "python",
   "name": "python3"
  },
  "language_info": {
   "codemirror_mode": {
    "name": "ipython",
    "version": 3
   },
   "file_extension": ".py",
   "mimetype": "text/x-python",
   "name": "python",
   "nbconvert_exporter": "python",
   "pygments_lexer": "ipython3",
   "version": "3.8.3"
  }
 },
 "nbformat": 4,
 "nbformat_minor": 1
}
